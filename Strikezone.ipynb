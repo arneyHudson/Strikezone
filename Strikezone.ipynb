{
 "cells": [
  {
   "cell_type": "code",
   "execution_count": 1,
   "id": "7b96acf9",
   "metadata": {},
   "outputs": [],
   "source": [
    "#pip install openpyxl plotly"
   ]
  },
  {
   "cell_type": "code",
   "execution_count": 2,
   "id": "a36be3ea",
   "metadata": {},
   "outputs": [],
   "source": [
    "import pandas as pd\n",
    "import matplotlib.pyplot as plt\n",
    "import matplotlib.patches as patches\n",
    "from plotly import graph_objects as go"
   ]
  },
  {
   "cell_type": "code",
   "execution_count": 3,
   "id": "1ec1ceb5",
   "metadata": {},
   "outputs": [],
   "source": [
    "# Constants\n",
    "STRIKE_ZONE = {'x_min': -8.5, 'x_max': 8.5, 'y_min': 19.47, 'y_max': 40.53}\n",
    "BUFFER = 2\n",
    "BALL_RADIUS = 1.47\n",
    "EXPECTED_COLUMNS = {'PlateLocSide', 'PlateLocHeight'}"
   ]
  },
  {
   "cell_type": "code",
   "execution_count": 4,
   "id": "8094ea16",
   "metadata": {},
   "outputs": [],
   "source": [
    "def find_header_row(df_raw):\n",
    "    for i in range(len(df_raw)):\n",
    "        row = df_raw.iloc[i]\n",
    "        if all(isinstance(val, str) for val in row.dropna()) and EXPECTED_COLUMNS.issubset(set(row.dropna().values)):\n",
    "            return i\n",
    "    raise ValueError(\"Could not find a valid header row containing PlateLocSide and PlateLocHeight.\")\n",
    "\n",
    "def is_in_zone(x, y, zone, radius=BALL_RADIUS):\n",
    "    return (zone['x_min'] - radius <= x <= zone['x_max'] + radius) and \\\n",
    "           (zone['y_min'] - radius <= y <= zone['y_max'] + radius)\n",
    "\n",
    "def process_pitch_data(filepath):\n",
    "    df_raw = pd.read_excel(filepath, sheet_name=\"PitchLocations\", header=None)\n",
    "    header_row = find_header_row(df_raw)\n",
    "    df = pd.read_excel(filepath, sheet_name=\"PitchLocations\", skiprows=header_row)\n",
    "\n",
    "    # Drop rows missing coordinates\n",
    "    df = df.dropna(subset=[\"PlateLocSide\", \"PlateLocHeight\"])\n",
    "\n",
    "    # Compute pitch zones\n",
    "    df['raw_strike'] = df.apply(lambda row: is_in_zone(row['PlateLocSide'], row['PlateLocHeight'], STRIKE_ZONE), axis=1)\n",
    "    df['buffer_pitch'] = df.apply(lambda row: not row['raw_strike'] and is_in_zone(\n",
    "        row['PlateLocSide'], row['PlateLocHeight'], {\n",
    "            'x_min': STRIKE_ZONE['x_min'] - BUFFER,\n",
    "            'x_max': STRIKE_ZONE['x_max'] + BUFFER,\n",
    "            'y_min': STRIKE_ZONE['y_min'] - BUFFER,\n",
    "            'y_max': STRIKE_ZONE['y_max'] + BUFFER\n",
    "        }), axis=1)\n",
    "    return df\n",
    "\n",
    "def plot_strike_zone(pitches):\n",
    "    fig, ax = plt.subplots(figsize=(6, 9))\n",
    "\n",
    "    strike_rect = patches.Rectangle(\n",
    "        (STRIKE_ZONE['x_min'], STRIKE_ZONE['y_min']),\n",
    "        STRIKE_ZONE['x_max'] - STRIKE_ZONE['x_min'],\n",
    "        STRIKE_ZONE['y_max'] - STRIKE_ZONE['y_min'],\n",
    "        linewidth=2, edgecolor='black', facecolor='none', label='Strike Zone'\n",
    "    )\n",
    "    buffer_rect = patches.Rectangle(\n",
    "        (STRIKE_ZONE['x_min'] - BUFFER, STRIKE_ZONE['y_min'] - BUFFER),\n",
    "        STRIKE_ZONE['x_max'] - STRIKE_ZONE['x_min'] + 2 * BUFFER,\n",
    "        STRIKE_ZONE['y_max'] - STRIKE_ZONE['y_min'] + 2 * BUFFER,\n",
    "        linewidth=1, edgecolor='gray', linestyle='--', facecolor='none', label='Buffer Zone'\n",
    "    )\n",
    "    ax.add_patch(strike_rect)\n",
    "    ax.add_patch(buffer_rect)\n",
    "\n",
    "    for _, row in pitches.iterrows():\n",
    "        if row['raw_strike']:\n",
    "            color = 'green'\n",
    "        elif row['buffer_pitch']:\n",
    "            color = 'orange'\n",
    "        else:\n",
    "            color = 'red'\n",
    "        ax.plot(row['PlateLocSide'], row['PlateLocHeight'], 'o', color=color)\n",
    "\n",
    "    ax.set_xlim(-15, 15)\n",
    "    ax.set_ylim(10, 50)\n",
    "    ax.set_xlabel(\"Horizontal Position (inches)\")\n",
    "    ax.set_ylabel(\"Vertical Position (inches)\")\n",
    "    ax.set_title(\"Trackman Pitch Location Plot\")\n",
    "    ax.legend()\n",
    "    plt.grid(True)\n",
    "    plt.show()\n"
   ]
  },
  {
   "cell_type": "code",
   "execution_count": 5,
   "id": "cd6b4b9c",
   "metadata": {},
   "outputs": [],
   "source": [
    "file_path = \"C:/Users/hudos/Downloads/Hudson ARNEY Pitch Analysis (2).xlsm\"\n",
    "pitches = process_pitch_data(file_path)"
   ]
  },
  {
   "cell_type": "code",
   "execution_count": 6,
   "id": "16c4589b",
   "metadata": {},
   "outputs": [],
   "source": [
    "#plot_strike_zone(pitches)"
   ]
  },
  {
   "cell_type": "code",
   "execution_count": 7,
   "id": "ca7823de",
   "metadata": {},
   "outputs": [],
   "source": [
    "LEFT_BATTER_IMG = \"C:/Users/hudos/Downloads/lefty-batter.png\"\n",
    "RIGHT_BATTER_IMG = LEFT_BATTER_IMG"
   ]
  },
  {
   "cell_type": "code",
   "execution_count": 8,
   "id": "4ca7593e",
   "metadata": {},
   "outputs": [],
   "source": [
    "def plot_strike_zone_interactive(pitches):\n",
    "    fig = go.Figure()\n",
    "\n",
    "    # Strike zone\n",
    "    fig.add_shape(\n",
    "        type=\"rect\",\n",
    "        x0=STRIKE_ZONE['x_min'], x1=STRIKE_ZONE['x_max'],\n",
    "        y0=STRIKE_ZONE['y_min'], y1=STRIKE_ZONE['y_max'],\n",
    "        line=dict(color=\"black\", width=2),\n",
    "        name=\"Strike Zone\"\n",
    "    )\n",
    "\n",
    "    # Buffer zone\n",
    "    fig.add_shape(\n",
    "        type=\"rect\",\n",
    "        x0=STRIKE_ZONE['x_min'] - BUFFER, x1=STRIKE_ZONE['x_max'] + BUFFER,\n",
    "        y0=STRIKE_ZONE['y_min'] - BUFFER, y1=STRIKE_ZONE['y_max'] + BUFFER,\n",
    "        line=dict(color=\"gray\", dash=\"dash\"),\n",
    "        name=\"Buffer Zone\"\n",
    "    )\n",
    "\n",
    "    # Determine color by umpire call\n",
    "    def get_color(pitch_call):\n",
    "        if isinstance(pitch_call, str) and \"ballcalled\" in pitch_call.lower():\n",
    "            return \"green\"\n",
    "        elif isinstance(pitch_call, str) and \"strikecalled\" in pitch_call.lower():\n",
    "            return \"red\"\n",
    "        return \"gray\"\n",
    "\n",
    "    # Add pitch circles and hover\n",
    "    for _, row in pitches.iterrows():\n",
    "        x, y = row['PlateLocSide'], row['PlateLocHeight']\n",
    "        color = get_color(row.get('Pitch Called'))\n",
    "\n",
    "        fig.add_shape(\n",
    "            type=\"circle\",\n",
    "            xref=\"x\", yref=\"y\",\n",
    "            x0=x - BALL_RADIUS, x1=x + BALL_RADIUS,\n",
    "            y0=y - BALL_RADIUS, y1=y + BALL_RADIUS,\n",
    "            fillcolor=color, line_color=color, opacity=0.7\n",
    "        )\n",
    "\n",
    "        fig.add_trace(go.Scatter(\n",
    "            x=[x], y=[y],\n",
    "            mode='markers',\n",
    "            marker=dict(size=5, color='rgba(0,0,0,0)'),\n",
    "            hoverinfo='text',\n",
    "            text=(\n",
    "                f\"Pitch #{row.get('PitchNo', 'N/A')}<br>\"\n",
    "                f\"Called: {row.get('Pitch Called', 'N/A')}<br>\"\n",
    "                f\"Batter: {row.get('Batter Side', 'N/A')}<br>\"\n",
    "                f\"X: {x:.2f}\\\"<br>Y: {y:.2f}\\\"\"\n",
    "            ),\n",
    "            showlegend=False\n",
    "        ))\n",
    "\n",
    "    # Detect batter side for image\n",
    "    batter_sides = set(pitches['Batter Side'].dropna().str.lower())\n",
    "    if 'left' in batter_sides:\n",
    "        fig.add_layout_image(\n",
    "            dict(\n",
    "                source=LEFT_BATTER_IMG,\n",
    "                xref=\"x\", yref=\"y\",\n",
    "                x=-13, y=45,\n",
    "                sizex=6, sizey=30,\n",
    "                xanchor=\"center\", yanchor=\"top\",\n",
    "                layer=\"below\"\n",
    "            )\n",
    "        )\n",
    "    if 'right' in batter_sides:\n",
    "        fig.add_layout_image(\n",
    "            dict(\n",
    "                source=RIGHT_BATTER_IMG,\n",
    "                xref=\"x\", yref=\"y\",\n",
    "                x=13, y=45,\n",
    "                sizex=6, sizey=30,\n",
    "                xanchor=\"center\", yanchor=\"top\",\n",
    "                layer=\"below\"\n",
    "            )\n",
    "        )\n",
    "\n",
    "    fig.update_layout(\n",
    "        width=700,\n",
    "        height=900,\n",
    "        title=\"Trackman Interactive Strike Zone\",\n",
    "        xaxis=dict(title=\"Horizontal Position (inches)\", range=[-15, 15]),\n",
    "        yaxis=dict(title=\"Vertical Position (inches)\", range=[10, 50]),\n",
    "    )\n",
    "\n",
    "    fig.show()"
   ]
  },
  {
   "cell_type": "code",
   "execution_count": 9,
   "id": "59069776",
   "metadata": {},
   "outputs": [
    {
     "data": {
      "application/vnd.plotly.v1+json": {
       "config": {
        "plotlyServerURL": "https://plot.ly"
       },
       "data": [
        {
         "hoverinfo": "text",
         "marker": {
          "color": "rgba(0,0,0,0)",
          "size": 5
         },
         "mode": "markers",
         "showlegend": false,
         "text": "Pitch #1<br>Called: BallCalled<br>Batter: Right<br>X: -10.52\"<br>Y: 53.46\"",
         "type": "scatter",
         "x": [
          -10.521840000000001
         ],
         "y": [
          53.460840000000005
         ]
        },
        {
         "hoverinfo": "text",
         "marker": {
          "color": "rgba(0,0,0,0)",
          "size": 5
         },
         "mode": "markers",
         "showlegend": false,
         "text": "Pitch #2<br>Called: BallCalled - Walk<br>Batter: Right<br>X: -23.47\"<br>Y: 39.02\"",
         "type": "scatter",
         "x": [
          -23.46648
         ],
         "y": [
          39.01812
         ]
        },
        {
         "hoverinfo": "text",
         "marker": {
          "color": "rgba(0,0,0,0)",
          "size": 5
         },
         "mode": "markers",
         "showlegend": false,
         "text": "Pitch #3<br>Called: BallCalled<br>Batter: Right<br>X: -9.62\"<br>Y: 44.11\"",
         "type": "scatter",
         "x": [
          -9.61764
         ],
         "y": [
          44.11248
         ]
        },
        {
         "hoverinfo": "text",
         "marker": {
          "color": "rgba(0,0,0,0)",
          "size": 5
         },
         "mode": "markers",
         "showlegend": false,
         "text": "Pitch #6<br>Called: BallCalled<br>Batter: Right<br>X: -21.63\"<br>Y: 11.25\"",
         "type": "scatter",
         "x": [
          -21.63372
         ],
         "y": [
          11.246039999999999
         ]
        },
        {
         "hoverinfo": "text",
         "marker": {
          "color": "rgba(0,0,0,0)",
          "size": 5
         },
         "mode": "markers",
         "showlegend": false,
         "text": "Pitch #11<br>Called: BallCalled<br>Batter: Left<br>X: 18.65\"<br>Y: 21.09\"",
         "type": "scatter",
         "x": [
          18.65364
         ],
         "y": [
          21.09348
         ]
        },
        {
         "hoverinfo": "text",
         "marker": {
          "color": "rgba(0,0,0,0)",
          "size": 5
         },
         "mode": "markers",
         "showlegend": false,
         "text": "Pitch #12<br>Called: StrikeCalled - Strikeout<br>Batter: Left<br>X: -11.79\"<br>Y: 17.87\"",
         "type": "scatter",
         "x": [
          -11.79036
         ],
         "y": [
          17.86584
         ]
        },
        {
         "hoverinfo": "text",
         "marker": {
          "color": "rgba(0,0,0,0)",
          "size": 5
         },
         "mode": "markers",
         "showlegend": false,
         "text": "Pitch #13<br>Called: StrikeCalled<br>Batter: Right<br>X: -9.70\"<br>Y: 34.88\"",
         "type": "scatter",
         "x": [
          -9.70032
         ],
         "y": [
          34.87932
         ]
        },
        {
         "hoverinfo": "text",
         "marker": {
          "color": "rgba(0,0,0,0)",
          "size": 5
         },
         "mode": "markers",
         "showlegend": false,
         "text": "Pitch #15<br>Called: BallCalled<br>Batter: Right<br>X: 15.36\"<br>Y: 31.66\"",
         "type": "scatter",
         "x": [
          15.360120000000002
         ],
         "y": [
          31.65972
         ]
        },
        {
         "hoverinfo": "text",
         "marker": {
          "color": "rgba(0,0,0,0)",
          "size": 5
         },
         "mode": "markers",
         "showlegend": false,
         "text": "Pitch #18<br>Called: BallCalled<br>Batter: Left<br>X: 16.88\"<br>Y: 17.87\"",
         "type": "scatter",
         "x": [
          16.88316
         ],
         "y": [
          17.86512
         ]
        },
        {
         "hoverinfo": "text",
         "marker": {
          "color": "rgba(0,0,0,0)",
          "size": 5
         },
         "mode": "markers",
         "showlegend": false,
         "text": "Pitch #19<br>Called: StrikeCalled<br>Batter: Left<br>X: 2.00\"<br>Y: 40.83\"",
         "type": "scatter",
         "x": [
          2.00448
         ],
         "y": [
          40.82688
         ]
        },
        {
         "hoverinfo": "text",
         "marker": {
          "color": "rgba(0,0,0,0)",
          "size": 5
         },
         "mode": "markers",
         "showlegend": false,
         "text": "Pitch #22<br>Called: StrikeCalled<br>Batter: Right<br>X: -4.46\"<br>Y: 27.37\"",
         "type": "scatter",
         "x": [
          -4.46124
         ],
         "y": [
          27.370559999999998
         ]
        },
        {
         "hoverinfo": "text",
         "marker": {
          "color": "rgba(0,0,0,0)",
          "size": 5
         },
         "mode": "markers",
         "showlegend": false,
         "text": "Pitch #24<br>Called: StrikeCalled - Strikeout<br>Batter: Right<br>X: -5.94\"<br>Y: 37.23\"",
         "type": "scatter",
         "x": [
          -5.93868
         ],
         "y": [
          37.23084
         ]
        },
        {
         "hoverinfo": "text",
         "marker": {
          "color": "rgba(0,0,0,0)",
          "size": 5
         },
         "mode": "markers",
         "showlegend": false,
         "text": "Pitch #30<br>Called: BallCalled<br>Batter: Left<br>X: 16.90\"<br>Y: 33.58\"",
         "type": "scatter",
         "x": [
          16.90332
         ],
         "y": [
          33.583560000000006
         ]
        },
        {
         "hoverinfo": "text",
         "marker": {
          "color": "rgba(0,0,0,0)",
          "size": 5
         },
         "mode": "markers",
         "showlegend": false,
         "text": "Pitch #31<br>Called: BallCalled<br>Batter: Left<br>X: 7.68\"<br>Y: 14.34\"",
         "type": "scatter",
         "x": [
          7.67532
         ],
         "y": [
          14.337600000000002
         ]
        },
        {
         "hoverinfo": "text",
         "marker": {
          "color": "rgba(0,0,0,0)",
          "size": 5
         },
         "mode": "markers",
         "showlegend": false,
         "text": "Pitch #33<br>Called: BallCalled<br>Batter: Left<br>X: 25.94\"<br>Y: 57.48\"",
         "type": "scatter",
         "x": [
          25.94112
         ],
         "y": [
          57.4764
         ]
        },
        {
         "hoverinfo": "text",
         "marker": {
          "color": "rgba(0,0,0,0)",
          "size": 5
         },
         "mode": "markers",
         "showlegend": false,
         "text": "Pitch #34<br>Called: BallCalled - Walk<br>Batter: Left<br>X: -0.79\"<br>Y: 13.75\"",
         "type": "scatter",
         "x": [
          -0.78528
         ],
         "y": [
          13.74732
         ]
        },
        {
         "hoverinfo": "text",
         "marker": {
          "color": "rgba(0,0,0,0)",
          "size": 5
         },
         "mode": "markers",
         "showlegend": false,
         "text": "Pitch #35<br>Called: BallCalled<br>Batter: Right<br>X: -14.90\"<br>Y: 16.49\"",
         "type": "scatter",
         "x": [
          -14.8968
         ],
         "y": [
          16.491
         ]
        },
        {
         "hoverinfo": "text",
         "marker": {
          "color": "rgba(0,0,0,0)",
          "size": 5
         },
         "mode": "markers",
         "showlegend": false,
         "text": "Pitch #36<br>Called: StrikeCalled<br>Batter: Right<br>X: -6.91\"<br>Y: 16.02\"",
         "type": "scatter",
         "x": [
          -6.909
         ],
         "y": [
          16.022280000000002
         ]
        },
        {
         "hoverinfo": "text",
         "marker": {
          "color": "rgba(0,0,0,0)",
          "size": 5
         },
         "mode": "markers",
         "showlegend": false,
         "text": "Pitch #37<br>Called: StrikeCalled<br>Batter: Right<br>X: 10.62\"<br>Y: 32.04\"",
         "type": "scatter",
         "x": [
          10.61652
         ],
         "y": [
          32.036280000000005
         ]
        },
        {
         "hoverinfo": "text",
         "marker": {
          "color": "rgba(0,0,0,0)",
          "size": 5
         },
         "mode": "markers",
         "showlegend": false,
         "text": "Pitch #38<br>Called: BallCalled<br>Batter: Right<br>X: -16.74\"<br>Y: 14.80\"",
         "type": "scatter",
         "x": [
          -16.744799999999998
         ],
         "y": [
          14.79552
         ]
        },
        {
         "hoverinfo": "text",
         "marker": {
          "color": "rgba(0,0,0,0)",
          "size": 5
         },
         "mode": "markers",
         "showlegend": false,
         "text": "Pitch #42<br>Called: BallCalled<br>Batter: Right<br>X: -19.54\"<br>Y: 14.30\"",
         "type": "scatter",
         "x": [
          -19.5444
         ],
         "y": [
          14.3016
         ]
        },
        {
         "hoverinfo": "text",
         "marker": {
          "color": "rgba(0,0,0,0)",
          "size": 5
         },
         "mode": "markers",
         "showlegend": false,
         "text": "Pitch #43<br>Called: StrikeCalled - Strikeout<br>Batter: Right<br>X: -12.56\"<br>Y: 26.25\"",
         "type": "scatter",
         "x": [
          -12.5646
         ],
         "y": [
          26.252039999999997
         ]
        },
        {
         "hoverinfo": "text",
         "marker": {
          "color": "rgba(0,0,0,0)",
          "size": 5
         },
         "mode": "markers",
         "showlegend": false,
         "text": "Pitch #44<br>Called: StrikeCalled<br>Batter: Right<br>X: -1.15\"<br>Y: 39.34\"",
         "type": "scatter",
         "x": [
          -1.15056
         ],
         "y": [
          39.342
         ]
        },
        {
         "hoverinfo": "text",
         "marker": {
          "color": "rgba(0,0,0,0)",
          "size": 5
         },
         "mode": "markers",
         "showlegend": false,
         "text": "Pitch #49<br>Called: StrikeCalled<br>Batter: Right<br>X: -10.90\"<br>Y: 22.89\"",
         "type": "scatter",
         "x": [
          -10.89876
         ],
         "y": [
          22.89168
         ]
        },
        {
         "hoverinfo": "text",
         "marker": {
          "color": "rgba(0,0,0,0)",
          "size": 5
         },
         "mode": "markers",
         "showlegend": false,
         "text": "Pitch #50<br>Called: BallCalled<br>Batter: Right<br>X: -12.89\"<br>Y: 29.35\"",
         "type": "scatter",
         "x": [
          -12.88956
         ],
         "y": [
          29.345280000000002
         ]
        },
        {
         "hoverinfo": "text",
         "marker": {
          "color": "rgba(0,0,0,0)",
          "size": 5
         },
         "mode": "markers",
         "showlegend": false,
         "text": "Pitch #51<br>Called: BallCalled<br>Batter: Right<br>X: -12.72\"<br>Y: 51.78\"",
         "type": "scatter",
         "x": [
          -12.72372
         ],
         "y": [
          51.77712
         ]
        },
        {
         "hoverinfo": "text",
         "marker": {
          "color": "rgba(0,0,0,0)",
          "size": 5
         },
         "mode": "markers",
         "showlegend": false,
         "text": "Pitch #52<br>Called: StrikeCalled<br>Batter: Right<br>X: -13.84\"<br>Y: 30.88\"",
         "type": "scatter",
         "x": [
          -13.8408
         ],
         "y": [
          30.87576
         ]
        },
        {
         "hoverinfo": "text",
         "marker": {
          "color": "rgba(0,0,0,0)",
          "size": 5
         },
         "mode": "markers",
         "showlegend": false,
         "text": "Pitch #54<br>Called: StrikeCalled<br>Batter: Left<br>X: 3.45\"<br>Y: 22.20\"",
         "type": "scatter",
         "x": [
          3.4477200000000003
         ],
         "y": [
          22.199759999999998
         ]
        },
        {
         "hoverinfo": "text",
         "marker": {
          "color": "rgba(0,0,0,0)",
          "size": 5
         },
         "mode": "markers",
         "showlegend": false,
         "text": "Pitch #56<br>Called: BallCalled<br>Batter: Left<br>X: 22.06\"<br>Y: 26.95\"",
         "type": "scatter",
         "x": [
          22.0572
         ],
         "y": [
          26.951999999999998
         ]
        },
        {
         "hoverinfo": "text",
         "marker": {
          "color": "rgba(0,0,0,0)",
          "size": 5
         },
         "mode": "markers",
         "showlegend": false,
         "text": "Pitch #57<br>Called: BallCalled<br>Batter: Left<br>X: 2.80\"<br>Y: 7.04\"",
         "type": "scatter",
         "x": [
          2.8028399999999998
         ],
         "y": [
          7.0404
         ]
        },
        {
         "hoverinfo": "text",
         "marker": {
          "color": "rgba(0,0,0,0)",
          "size": 5
         },
         "mode": "markers",
         "showlegend": false,
         "text": "Pitch #58<br>Called: BallCalled<br>Batter: Left<br>X: 17.73\"<br>Y: 22.84\"",
         "type": "scatter",
         "x": [
          17.729039999999998
         ],
         "y": [
          22.83552
         ]
        },
        {
         "hoverinfo": "text",
         "marker": {
          "color": "rgba(0,0,0,0)",
          "size": 5
         },
         "mode": "markers",
         "showlegend": false,
         "text": "Pitch #60<br>Called: StrikeCalled<br>Batter: Right<br>X: 6.10\"<br>Y: 21.54\"",
         "type": "scatter",
         "x": [
          6.09924
         ],
         "y": [
          21.53568
         ]
        },
        {
         "hoverinfo": "text",
         "marker": {
          "color": "rgba(0,0,0,0)",
          "size": 5
         },
         "mode": "markers",
         "showlegend": false,
         "text": "Pitch #61<br>Called: StrikeCalled<br>Batter: Right<br>X: 2.87\"<br>Y: 19.45\"",
         "type": "scatter",
         "x": [
          2.87256
         ],
         "y": [
          19.44756
         ]
        },
        {
         "hoverinfo": "text",
         "marker": {
          "color": "rgba(0,0,0,0)",
          "size": 5
         },
         "mode": "markers",
         "showlegend": false,
         "text": "Pitch #62<br>Called: StrikeCalled - Strikeout<br>Batter: Right<br>X: -12.25\"<br>Y: 25.18\"",
         "type": "scatter",
         "x": [
          -12.25104
         ],
         "y": [
          25.1832
         ]
        },
        {
         "hoverinfo": "text",
         "marker": {
          "color": "rgba(0,0,0,0)",
          "size": 5
         },
         "mode": "markers",
         "showlegend": false,
         "text": "Pitch #64<br>Called: BallCalled<br>Batter: Left<br>X: 7.58\"<br>Y: 7.89\"",
         "type": "scatter",
         "x": [
          7.5820799999999995
         ],
         "y": [
          7.8852
         ]
        },
        {
         "hoverinfo": "text",
         "marker": {
          "color": "rgba(0,0,0,0)",
          "size": 5
         },
         "mode": "markers",
         "showlegend": false,
         "text": "Pitch #69<br>Called: BallCalled<br>Batter: Right<br>X: -14.65\"<br>Y: 42.71\"",
         "type": "scatter",
         "x": [
          -14.648760000000001
         ],
         "y": [
          42.71088
         ]
        },
        {
         "hoverinfo": "text",
         "marker": {
          "color": "rgba(0,0,0,0)",
          "size": 5
         },
         "mode": "markers",
         "showlegend": false,
         "text": "Pitch #71<br>Called: BallCalled<br>Batter: Left<br>X: 13.01\"<br>Y: 18.25\"",
         "type": "scatter",
         "x": [
          13.010760000000001
         ],
         "y": [
          18.25128
         ]
        },
        {
         "hoverinfo": "text",
         "marker": {
          "color": "rgba(0,0,0,0)",
          "size": 5
         },
         "mode": "markers",
         "showlegend": false,
         "text": "Pitch #73<br>Called: BallCalled<br>Batter: Right<br>X: -15.60\"<br>Y: 20.84\"",
         "type": "scatter",
         "x": [
          -15.59676
         ],
         "y": [
          20.84136
         ]
        },
        {
         "hoverinfo": "text",
         "marker": {
          "color": "rgba(0,0,0,0)",
          "size": 5
         },
         "mode": "markers",
         "showlegend": false,
         "text": "Pitch #74<br>Called: BallCalled<br>Batter: Right<br>X: 13.21\"<br>Y: 17.56\"",
         "type": "scatter",
         "x": [
          13.213440000000002
         ],
         "y": [
          17.56452
         ]
        },
        {
         "hoverinfo": "text",
         "marker": {
          "color": "rgba(0,0,0,0)",
          "size": 5
         },
         "mode": "markers",
         "showlegend": false,
         "text": "Pitch #75<br>Called: BallCalled<br>Batter: Right<br>X: -18.61\"<br>Y: 28.51\"",
         "type": "scatter",
         "x": [
          -18.60684
         ],
         "y": [
          28.50816
         ]
        },
        {
         "hoverinfo": "text",
         "marker": {
          "color": "rgba(0,0,0,0)",
          "size": 5
         },
         "mode": "markers",
         "showlegend": false,
         "text": "Pitch #76<br>Called: BallCalled - Walk<br>Batter: Right<br>X: -12.47\"<br>Y: 45.69\"",
         "type": "scatter",
         "x": [
          -12.4698
         ],
         "y": [
          45.68868
         ]
        },
        {
         "hoverinfo": "text",
         "marker": {
          "color": "rgba(0,0,0,0)",
          "size": 5
         },
         "mode": "markers",
         "showlegend": false,
         "text": "Pitch #79<br>Called: BallCalled<br>Batter: Right<br>X: -27.24\"<br>Y: 29.34\"",
         "type": "scatter",
         "x": [
          -27.24156
         ],
         "y": [
          29.33748
         ]
        },
        {
         "hoverinfo": "text",
         "marker": {
          "color": "rgba(0,0,0,0)",
          "size": 5
         },
         "mode": "markers",
         "showlegend": false,
         "text": "Pitch #82<br>Called: BallCalled<br>Batter: Right<br>X: -21.25\"<br>Y: 22.50\"",
         "type": "scatter",
         "x": [
          -21.25188
         ],
         "y": [
          22.49916
         ]
        },
        {
         "hoverinfo": "text",
         "marker": {
          "color": "rgba(0,0,0,0)",
          "size": 5
         },
         "mode": "markers",
         "showlegend": false,
         "text": "Pitch #83<br>Called: BallCalled<br>Batter: Right<br>X: -12.48\"<br>Y: 6.64\"",
         "type": "scatter",
         "x": [
          -12.48216
         ],
         "y": [
          6.6378
         ]
        },
        {
         "hoverinfo": "text",
         "marker": {
          "color": "rgba(0,0,0,0)",
          "size": 5
         },
         "mode": "markers",
         "showlegend": false,
         "text": "Pitch #84<br>Called: StrikeCalled<br>Batter: Right<br>X: -12.56\"<br>Y: 39.20\"",
         "type": "scatter",
         "x": [
          -12.56232
         ],
         "y": [
          39.201359999999994
         ]
        },
        {
         "hoverinfo": "text",
         "marker": {
          "color": "rgba(0,0,0,0)",
          "size": 5
         },
         "mode": "markers",
         "showlegend": false,
         "text": "Pitch #85<br>Called: BallCalled<br>Batter: Right<br>X: -21.90\"<br>Y: 19.76\"",
         "type": "scatter",
         "x": [
          -21.90108
         ],
         "y": [
          19.76076
         ]
        },
        {
         "hoverinfo": "text",
         "marker": {
          "color": "rgba(0,0,0,0)",
          "size": 5
         },
         "mode": "markers",
         "showlegend": false,
         "text": "Pitch #86<br>Called: BallCalled - Walk<br>Batter: Right<br>X: -26.24\"<br>Y: 9.51\"",
         "type": "scatter",
         "x": [
          -26.243159999999996
         ],
         "y": [
          9.50628
         ]
        },
        {
         "hoverinfo": "text",
         "marker": {
          "color": "rgba(0,0,0,0)",
          "size": 5
         },
         "mode": "markers",
         "showlegend": false,
         "text": "Pitch #87<br>Called: StrikeCalled<br>Batter: Right<br>X: -10.80\"<br>Y: 18.41\"",
         "type": "scatter",
         "x": [
          -10.7964
         ],
         "y": [
          18.40764
         ]
        },
        {
         "hoverinfo": "text",
         "marker": {
          "color": "rgba(0,0,0,0)",
          "size": 5
         },
         "mode": "markers",
         "showlegend": false,
         "text": "Pitch #88<br>Called: StrikeCalled<br>Batter: Right<br>X: 7.86\"<br>Y: 39.81\"",
         "type": "scatter",
         "x": [
          7.8557999999999995
         ],
         "y": [
          39.8136
         ]
        },
        {
         "hoverinfo": "text",
         "marker": {
          "color": "rgba(0,0,0,0)",
          "size": 5
         },
         "mode": "markers",
         "showlegend": false,
         "text": "Pitch #91<br>Called: BallCalled<br>Batter: Right<br>X: 2.70\"<br>Y: 8.62\"",
         "type": "scatter",
         "x": [
          2.70144
         ],
         "y": [
          8.61792
         ]
        },
        {
         "hoverinfo": "text",
         "marker": {
          "color": "rgba(0,0,0,0)",
          "size": 5
         },
         "mode": "markers",
         "showlegend": false,
         "text": "Pitch #92<br>Called: BallCalled<br>Batter: Right<br>X: -10.40\"<br>Y: 5.83\"",
         "type": "scatter",
         "x": [
          -10.39572
         ],
         "y": [
          5.832599999999999
         ]
        },
        {
         "hoverinfo": "text",
         "marker": {
          "color": "rgba(0,0,0,0)",
          "size": 5
         },
         "mode": "markers",
         "showlegend": false,
         "text": "Pitch #93<br>Called: BallCalled<br>Batter: Right<br>X: -15.42\"<br>Y: 22.53\"",
         "type": "scatter",
         "x": [
          -15.423480000000001
         ],
         "y": [
          22.53192
         ]
        },
        {
         "hoverinfo": "text",
         "marker": {
          "color": "rgba(0,0,0,0)",
          "size": 5
         },
         "mode": "markers",
         "showlegend": false,
         "text": "Pitch #95<br>Called: StrikeCalled<br>Batter: Right<br>X: -5.19\"<br>Y: 20.28\"",
         "type": "scatter",
         "x": [
          -5.1876
         ],
         "y": [
          20.277720000000002
         ]
        },
        {
         "hoverinfo": "text",
         "marker": {
          "color": "rgba(0,0,0,0)",
          "size": 5
         },
         "mode": "markers",
         "showlegend": false,
         "text": "Pitch #97<br>Called: BallCalled<br>Batter: Right<br>X: 18.52\"<br>Y: 29.98\"",
         "type": "scatter",
         "x": [
          18.5214
         ],
         "y": [
          29.98464
         ]
        },
        {
         "hoverinfo": "text",
         "marker": {
          "color": "rgba(0,0,0,0)",
          "size": 5
         },
         "mode": "markers",
         "showlegend": false,
         "text": "Pitch #98<br>Called: BallCalled<br>Batter: Right<br>X: -26.97\"<br>Y: 13.77\"",
         "type": "scatter",
         "x": [
          -26.97492
         ],
         "y": [
          13.766160000000001
         ]
        },
        {
         "hoverinfo": "text",
         "marker": {
          "color": "rgba(0,0,0,0)",
          "size": 5
         },
         "mode": "markers",
         "showlegend": false,
         "text": "Pitch #100<br>Called: BallCalled<br>Batter: Right<br>X: 22.37\"<br>Y: 38.71\"",
         "type": "scatter",
         "x": [
          22.37124
         ],
         "y": [
          38.71344
         ]
        },
        {
         "hoverinfo": "text",
         "marker": {
          "color": "rgba(0,0,0,0)",
          "size": 5
         },
         "mode": "markers",
         "showlegend": false,
         "text": "Pitch #102<br>Called: BallCalled<br>Batter: Left<br>X: 18.75\"<br>Y: 28.99\"",
         "type": "scatter",
         "x": [
          18.75144
         ],
         "y": [
          28.98888
         ]
        },
        {
         "hoverinfo": "text",
         "marker": {
          "color": "rgba(0,0,0,0)",
          "size": 5
         },
         "mode": "markers",
         "showlegend": false,
         "text": "Pitch #103<br>Called: StrikeCalled<br>Batter: Left<br>X: 13.36\"<br>Y: 38.48\"",
         "type": "scatter",
         "x": [
          13.35852
         ],
         "y": [
          38.4846
         ]
        },
        {
         "hoverinfo": "text",
         "marker": {
          "color": "rgba(0,0,0,0)",
          "size": 5
         },
         "mode": "markers",
         "showlegend": false,
         "text": "Pitch #105<br>Called: BallCalled<br>Batter: Left<br>X: 22.85\"<br>Y: 42.54\"",
         "type": "scatter",
         "x": [
          22.84932
         ],
         "y": [
          42.54492
         ]
        },
        {
         "hoverinfo": "text",
         "marker": {
          "color": "rgba(0,0,0,0)",
          "size": 5
         },
         "mode": "markers",
         "showlegend": false,
         "text": "Pitch #107<br>Called: BallCalled<br>Batter: Left<br>X: 31.42\"<br>Y: 46.72\"",
         "type": "scatter",
         "x": [
          31.424879999999998
         ],
         "y": [
          46.719120000000004
         ]
        },
        {
         "hoverinfo": "text",
         "marker": {
          "color": "rgba(0,0,0,0)",
          "size": 5
         },
         "mode": "markers",
         "showlegend": false,
         "text": "Pitch #109<br>Called: BallCalled - Walk<br>Batter: Left<br>X: 16.41\"<br>Y: 23.89\"",
         "type": "scatter",
         "x": [
          16.41288
         ],
         "y": [
          23.89068
         ]
        },
        {
         "hoverinfo": "text",
         "marker": {
          "color": "rgba(0,0,0,0)",
          "size": 5
         },
         "mode": "markers",
         "showlegend": false,
         "text": "Pitch #110<br>Called: BallCalled<br>Batter: Right<br>X: -15.87\"<br>Y: 5.19\"",
         "type": "scatter",
         "x": [
          -15.86832
         ],
         "y": [
          5.1864
         ]
        },
        {
         "hoverinfo": "text",
         "marker": {
          "color": "rgba(0,0,0,0)",
          "size": 5
         },
         "mode": "markers",
         "showlegend": false,
         "text": "Pitch #111<br>Called: BallCalled<br>Batter: Right<br>X: -24.48\"<br>Y: 34.18\"",
         "type": "scatter",
         "x": [
          -24.484679999999997
         ],
         "y": [
          34.17792
         ]
        },
        {
         "hoverinfo": "text",
         "marker": {
          "color": "rgba(0,0,0,0)",
          "size": 5
         },
         "mode": "markers",
         "showlegend": false,
         "text": "Pitch #113<br>Called: StrikeCalled<br>Batter: Right<br>X: 0.12\"<br>Y: 23.74\"",
         "type": "scatter",
         "x": [
          0.11544
         ],
         "y": [
          23.73576
         ]
        },
        {
         "hoverinfo": "text",
         "marker": {
          "color": "rgba(0,0,0,0)",
          "size": 5
         },
         "mode": "markers",
         "showlegend": false,
         "text": "Pitch #114<br>Called: StrikeCalled<br>Batter: Right<br>X: -15.23\"<br>Y: 31.28\"",
         "type": "scatter",
         "x": [
          -15.22932
         ],
         "y": [
          31.275959999999998
         ]
        },
        {
         "hoverinfo": "text",
         "marker": {
          "color": "rgba(0,0,0,0)",
          "size": 5
         },
         "mode": "markers",
         "showlegend": false,
         "text": "Pitch #117<br>Called: BallCalled<br>Batter: Right<br>X: 7.59\"<br>Y: 41.12\"",
         "type": "scatter",
         "x": [
          7.5872399999999995
         ],
         "y": [
          41.11668
         ]
        },
        {
         "hoverinfo": "text",
         "marker": {
          "color": "rgba(0,0,0,0)",
          "size": 5
         },
         "mode": "markers",
         "showlegend": false,
         "text": "Pitch #119<br>Called: BallCalled<br>Batter: Left<br>X: 23.67\"<br>Y: 32.88\"",
         "type": "scatter",
         "x": [
          23.674439999999997
         ],
         "y": [
          32.88384
         ]
        },
        {
         "hoverinfo": "text",
         "marker": {
          "color": "rgba(0,0,0,0)",
          "size": 5
         },
         "mode": "markers",
         "showlegend": false,
         "text": "Pitch #120<br>Called: BallCalled<br>Batter: Left<br>X: -2.61\"<br>Y: 17.60\"",
         "type": "scatter",
         "x": [
          -2.60664
         ],
         "y": [
          17.602800000000002
         ]
        },
        {
         "hoverinfo": "text",
         "marker": {
          "color": "rgba(0,0,0,0)",
          "size": 5
         },
         "mode": "markers",
         "showlegend": false,
         "text": "Pitch #121<br>Called: StrikeCalled<br>Batter: Left<br>X: 0.51\"<br>Y: 30.04\"",
         "type": "scatter",
         "x": [
          0.5075999999999999
         ],
         "y": [
          30.039839999999998
         ]
        },
        {
         "hoverinfo": "text",
         "marker": {
          "color": "rgba(0,0,0,0)",
          "size": 5
         },
         "mode": "markers",
         "showlegend": false,
         "text": "Pitch #123<br>Called: BallCalled<br>Batter: Right<br>X: 12.20\"<br>Y: 11.05\"",
         "type": "scatter",
         "x": [
          12.204839999999999
         ],
         "y": [
          11.05092
         ]
        },
        {
         "hoverinfo": "text",
         "marker": {
          "color": "rgba(0,0,0,0)",
          "size": 5
         },
         "mode": "markers",
         "showlegend": false,
         "text": "Pitch #124<br>Called: StrikeCalled<br>Batter: Right<br>X: 4.38\"<br>Y: 23.08\"",
         "type": "scatter",
         "x": [
          4.384320000000001
         ],
         "y": [
          23.076
         ]
        },
        {
         "hoverinfo": "text",
         "marker": {
          "color": "rgba(0,0,0,0)",
          "size": 5
         },
         "mode": "markers",
         "showlegend": false,
         "text": "Pitch #125<br>Called: BallCalled<br>Batter: Right<br>X: -9.61\"<br>Y: 43.74\"",
         "type": "scatter",
         "x": [
          -9.60936
         ],
         "y": [
          43.73724
         ]
        },
        {
         "hoverinfo": "text",
         "marker": {
          "color": "rgba(0,0,0,0)",
          "size": 5
         },
         "mode": "markers",
         "showlegend": false,
         "text": "Pitch #127<br>Called: BallCalled<br>Batter: Right<br>X: -38.21\"<br>Y: 47.71\"",
         "type": "scatter",
         "x": [
          -38.207280000000004
         ],
         "y": [
          47.70756
         ]
        },
        {
         "hoverinfo": "text",
         "marker": {
          "color": "rgba(0,0,0,0)",
          "size": 5
         },
         "mode": "markers",
         "showlegend": false,
         "text": "Pitch #128<br>Called: BallCalled<br>Batter: Right<br>X: 0.28\"<br>Y: 55.39\"",
         "type": "scatter",
         "x": [
          0.28236
         ],
         "y": [
          55.389
         ]
        },
        {
         "hoverinfo": "text",
         "marker": {
          "color": "rgba(0,0,0,0)",
          "size": 5
         },
         "mode": "markers",
         "showlegend": false,
         "text": "Pitch #130<br>Called: StrikeCalled<br>Batter: Right<br>X: 10.87\"<br>Y: 26.22\"",
         "type": "scatter",
         "x": [
          10.86732
         ],
         "y": [
          26.22408
         ]
        },
        {
         "hoverinfo": "text",
         "marker": {
          "color": "rgba(0,0,0,0)",
          "size": 5
         },
         "mode": "markers",
         "showlegend": false,
         "text": "Pitch #131<br>Called: BallCalled<br>Batter: Right<br>X: -17.97\"<br>Y: 36.77\"",
         "type": "scatter",
         "x": [
          -17.96832
         ],
         "y": [
          36.7662
         ]
        },
        {
         "hoverinfo": "text",
         "marker": {
          "color": "rgba(0,0,0,0)",
          "size": 5
         },
         "mode": "markers",
         "showlegend": false,
         "text": "Pitch #133<br>Called: StrikeCalled<br>Batter: Right<br>X: 11.02\"<br>Y: 32.41\"",
         "type": "scatter",
         "x": [
          11.01924
         ],
         "y": [
          32.4078
         ]
        },
        {
         "hoverinfo": "text",
         "marker": {
          "color": "rgba(0,0,0,0)",
          "size": 5
         },
         "mode": "markers",
         "showlegend": false,
         "text": "Pitch #134<br>Called: BallCalled<br>Batter: Right<br>X: -12.73\"<br>Y: 20.29\"",
         "type": "scatter",
         "x": [
          -12.7284
         ],
         "y": [
          20.28936
         ]
        },
        {
         "hoverinfo": "text",
         "marker": {
          "color": "rgba(0,0,0,0)",
          "size": 5
         },
         "mode": "markers",
         "showlegend": false,
         "text": "Pitch #139<br>Called: BallCalled<br>Batter: Right<br>X: 17.50\"<br>Y: 42.15\"",
         "type": "scatter",
         "x": [
          17.49984
         ],
         "y": [
          42.14964
         ]
        },
        {
         "hoverinfo": "text",
         "marker": {
          "color": "rgba(0,0,0,0)",
          "size": 5
         },
         "mode": "markers",
         "showlegend": false,
         "text": "Pitch #140<br>Called: StrikeCalled<br>Batter: Right<br>X: 0.53\"<br>Y: 19.63\"",
         "type": "scatter",
         "x": [
          0.52536
         ],
         "y": [
          19.62672
         ]
        },
        {
         "hoverinfo": "text",
         "marker": {
          "color": "rgba(0,0,0,0)",
          "size": 5
         },
         "mode": "markers",
         "showlegend": false,
         "text": "Pitch #141<br>Called: BallCalled<br>Batter: Right<br>X: -0.90\"<br>Y: 16.35\"",
         "type": "scatter",
         "x": [
          -0.8982
         ],
         "y": [
          16.35
         ]
        },
        {
         "hoverinfo": "text",
         "marker": {
          "color": "rgba(0,0,0,0)",
          "size": 5
         },
         "mode": "markers",
         "showlegend": false,
         "text": "Pitch #142<br>Called: BallCalled<br>Batter: Right<br>X: -5.89\"<br>Y: 59.44\"",
         "type": "scatter",
         "x": [
          -5.88624
         ],
         "y": [
          59.441880000000005
         ]
        },
        {
         "hoverinfo": "text",
         "marker": {
          "color": "rgba(0,0,0,0)",
          "size": 5
         },
         "mode": "markers",
         "showlegend": false,
         "text": "Pitch #143<br>Called: BallCalled - Walk<br>Batter: Right<br>X: -17.33\"<br>Y: 65.45\"",
         "type": "scatter",
         "x": [
          -17.33412
         ],
         "y": [
          65.45388
         ]
        },
        {
         "hoverinfo": "text",
         "marker": {
          "color": "rgba(0,0,0,0)",
          "size": 5
         },
         "mode": "markers",
         "showlegend": false,
         "text": "Pitch #144<br>Called: StrikeCalled<br>Batter: Right<br>X: -7.26\"<br>Y: 25.39\"",
         "type": "scatter",
         "x": [
          -7.26024
         ],
         "y": [
          25.39056
         ]
        },
        {
         "hoverinfo": "text",
         "marker": {
          "color": "rgba(0,0,0,0)",
          "size": 5
         },
         "mode": "markers",
         "showlegend": false,
         "text": "Pitch #147<br>Called: BallCalled<br>Batter: Right<br>X: -14.11\"<br>Y: 42.00\"",
         "type": "scatter",
         "x": [
          -14.111880000000001
         ],
         "y": [
          41.997840000000004
         ]
        },
        {
         "hoverinfo": "text",
         "marker": {
          "color": "rgba(0,0,0,0)",
          "size": 5
         },
         "mode": "markers",
         "showlegend": false,
         "text": "Pitch #148<br>Called: BallCalled<br>Batter: Right<br>X: -11.89\"<br>Y: 42.09\"",
         "type": "scatter",
         "x": [
          -11.89032
         ],
         "y": [
          42.08508
         ]
        },
        {
         "hoverinfo": "text",
         "marker": {
          "color": "rgba(0,0,0,0)",
          "size": 5
         },
         "mode": "markers",
         "showlegend": false,
         "text": "Pitch #149<br>Called: BallCalled<br>Batter: Right<br>X: -32.25\"<br>Y: 31.74\"",
         "type": "scatter",
         "x": [
          -32.24676
         ],
         "y": [
          31.743
         ]
        },
        {
         "hoverinfo": "text",
         "marker": {
          "color": "rgba(0,0,0,0)",
          "size": 5
         },
         "mode": "markers",
         "showlegend": false,
         "text": "Pitch #150<br>Called: StrikeCalled<br>Batter: Right<br>X: -10.81\"<br>Y: 28.30\"",
         "type": "scatter",
         "x": [
          -10.811160000000001
         ],
         "y": [
          28.29576
         ]
        },
        {
         "hoverinfo": "text",
         "marker": {
          "color": "rgba(0,0,0,0)",
          "size": 5
         },
         "mode": "markers",
         "showlegend": false,
         "text": "Pitch #151<br>Called: StrikeCalled<br>Batter: Right<br>X: 0.94\"<br>Y: 28.67\"",
         "type": "scatter",
         "x": [
          0.94116
         ],
         "y": [
          28.670160000000003
         ]
        },
        {
         "hoverinfo": "text",
         "marker": {
          "color": "rgba(0,0,0,0)",
          "size": 5
         },
         "mode": "markers",
         "showlegend": false,
         "text": "Pitch #152<br>Called: BallCalled - Walk<br>Batter: Right<br>X: -2.99\"<br>Y: 41.60\"",
         "type": "scatter",
         "x": [
          -2.9928
         ],
         "y": [
          41.59644
         ]
        },
        {
         "hoverinfo": "text",
         "marker": {
          "color": "rgba(0,0,0,0)",
          "size": 5
         },
         "mode": "markers",
         "showlegend": false,
         "text": "Pitch #153<br>Called: StrikeCalled<br>Batter: Right<br>X: -5.09\"<br>Y: 22.21\"",
         "type": "scatter",
         "x": [
          -5.09424
         ],
         "y": [
          22.20624
         ]
        },
        {
         "hoverinfo": "text",
         "marker": {
          "color": "rgba(0,0,0,0)",
          "size": 5
         },
         "mode": "markers",
         "showlegend": false,
         "text": "Pitch #154<br>Called: StrikeCalled<br>Batter: Right<br>X: 1.16\"<br>Y: 32.13\"",
         "type": "scatter",
         "x": [
          1.16448
         ],
         "y": [
          32.1336
         ]
        },
        {
         "hoverinfo": "text",
         "marker": {
          "color": "rgba(0,0,0,0)",
          "size": 5
         },
         "mode": "markers",
         "showlegend": false,
         "text": "Pitch #155<br>Called: BallCalled<br>Batter: Right<br>X: 6.14\"<br>Y: 11.04\"",
         "type": "scatter",
         "x": [
          6.14016
         ],
         "y": [
          11.04108
         ]
        },
        {
         "hoverinfo": "text",
         "marker": {
          "color": "rgba(0,0,0,0)",
          "size": 5
         },
         "mode": "markers",
         "showlegend": false,
         "text": "Pitch #157<br>Called: BallCalled<br>Batter: Left<br>X: 26.24\"<br>Y: 22.40\"",
         "type": "scatter",
         "x": [
          26.241
         ],
         "y": [
          22.40196
         ]
        },
        {
         "hoverinfo": "text",
         "marker": {
          "color": "rgba(0,0,0,0)",
          "size": 5
         },
         "mode": "markers",
         "showlegend": false,
         "text": "Pitch #158<br>Called: StrikeCalled<br>Batter: Left<br>X: 3.30\"<br>Y: 34.35\"",
         "type": "scatter",
         "x": [
          3.29868
         ],
         "y": [
          34.35264
         ]
        },
        {
         "hoverinfo": "text",
         "marker": {
          "color": "rgba(0,0,0,0)",
          "size": 5
         },
         "mode": "markers",
         "showlegend": false,
         "text": "Pitch #159<br>Called: BallCalled<br>Batter: Left<br>X: 20.00\"<br>Y: 17.23\"",
         "type": "scatter",
         "x": [
          19.99752
         ],
         "y": [
          17.227800000000002
         ]
        },
        {
         "hoverinfo": "text",
         "marker": {
          "color": "rgba(0,0,0,0)",
          "size": 5
         },
         "mode": "markers",
         "showlegend": false,
         "text": "Pitch #160<br>Called: BallCalled<br>Batter: Left<br>X: 8.02\"<br>Y: 16.49\"",
         "type": "scatter",
         "x": [
          8.01636
         ],
         "y": [
          16.49028
         ]
        },
        {
         "hoverinfo": "text",
         "marker": {
          "color": "rgba(0,0,0,0)",
          "size": 5
         },
         "mode": "markers",
         "showlegend": false,
         "text": "Pitch #162<br>Called: BallCalled<br>Batter: Right<br>X: -31.09\"<br>Y: 33.22\"",
         "type": "scatter",
         "x": [
          -31.09488
         ],
         "y": [
          33.22476
         ]
        },
        {
         "hoverinfo": "text",
         "marker": {
          "color": "rgba(0,0,0,0)",
          "size": 5
         },
         "mode": "markers",
         "showlegend": false,
         "text": "Pitch #165<br>Called: StrikeCalled<br>Batter: Left<br>X: 11.27\"<br>Y: 30.50\"",
         "type": "scatter",
         "x": [
          11.26716
         ],
         "y": [
          30.49944
         ]
        },
        {
         "hoverinfo": "text",
         "marker": {
          "color": "rgba(0,0,0,0)",
          "size": 5
         },
         "mode": "markers",
         "showlegend": false,
         "text": "Pitch #166<br>Called: StrikeCalled<br>Batter: Left<br>X: 4.90\"<br>Y: 34.74\"",
         "type": "scatter",
         "x": [
          4.9038
         ],
         "y": [
          34.74084
         ]
        },
        {
         "hoverinfo": "text",
         "marker": {
          "color": "rgba(0,0,0,0)",
          "size": 5
         },
         "mode": "markers",
         "showlegend": false,
         "text": "Pitch #167<br>Called: BallCalled<br>Batter: Left<br>X: 9.40\"<br>Y: 6.15\"",
         "type": "scatter",
         "x": [
          9.39504
         ],
         "y": [
          6.147959999999999
         ]
        },
        {
         "hoverinfo": "text",
         "marker": {
          "color": "rgba(0,0,0,0)",
          "size": 5
         },
         "mode": "markers",
         "showlegend": false,
         "text": "Pitch #172<br>Called: StrikeCalled<br>Batter: Left<br>X: -4.16\"<br>Y: 39.42\"",
         "type": "scatter",
         "x": [
          -4.16364
         ],
         "y": [
          39.418440000000004
         ]
        },
        {
         "hoverinfo": "text",
         "marker": {
          "color": "rgba(0,0,0,0)",
          "size": 5
         },
         "mode": "markers",
         "showlegend": false,
         "text": "Pitch #173<br>Called: StrikeCalled<br>Batter: Left<br>X: 12.07\"<br>Y: 37.91\"",
         "type": "scatter",
         "x": [
          12.07404
         ],
         "y": [
          37.9146
         ]
        },
        {
         "hoverinfo": "text",
         "marker": {
          "color": "rgba(0,0,0,0)",
          "size": 5
         },
         "mode": "markers",
         "showlegend": false,
         "text": "Pitch #174<br>Called: StrikeCalled - Strikeout<br>Batter: Left<br>X: 0.66\"<br>Y: 10.22\"",
         "type": "scatter",
         "x": [
          0.6624
         ],
         "y": [
          10.22052
         ]
        },
        {
         "hoverinfo": "text",
         "marker": {
          "color": "rgba(0,0,0,0)",
          "size": 5
         },
         "mode": "markers",
         "showlegend": false,
         "text": "Pitch #175<br>Called: BallCalled<br>Batter: Right<br>X: -9.94\"<br>Y: 45.29\"",
         "type": "scatter",
         "x": [
          -9.94032
         ],
         "y": [
          45.288
         ]
        },
        {
         "hoverinfo": "text",
         "marker": {
          "color": "rgba(0,0,0,0)",
          "size": 5
         },
         "mode": "markers",
         "showlegend": false,
         "text": "Pitch #176<br>Called: BallCalled<br>Batter: Right<br>X: 7.24\"<br>Y: 59.85\"",
         "type": "scatter",
         "x": [
          7.24404
         ],
         "y": [
          59.85119999999999
         ]
        },
        {
         "hoverinfo": "text",
         "marker": {
          "color": "rgba(0,0,0,0)",
          "size": 5
         },
         "mode": "markers",
         "showlegend": false,
         "text": "Pitch #177<br>Called: BallCalled<br>Batter: Right<br>X: -16.95\"<br>Y: 32.33\"",
         "type": "scatter",
         "x": [
          -16.95024
         ],
         "y": [
          32.332679999999996
         ]
        },
        {
         "hoverinfo": "text",
         "marker": {
          "color": "rgba(0,0,0,0)",
          "size": 5
         },
         "mode": "markers",
         "showlegend": false,
         "text": "Pitch #178<br>Called: StrikeCalled<br>Batter: Right<br>X: -2.47\"<br>Y: 32.51\"",
         "type": "scatter",
         "x": [
          -2.4679200000000003
         ],
         "y": [
          32.50608
         ]
        },
        {
         "hoverinfo": "text",
         "marker": {
          "color": "rgba(0,0,0,0)",
          "size": 5
         },
         "mode": "markers",
         "showlegend": false,
         "text": "Pitch #179<br>Called: StrikeCalled<br>Batter: Right<br>X: -2.02\"<br>Y: 35.89\"",
         "type": "scatter",
         "x": [
          -2.0178
         ],
         "y": [
          35.88588
         ]
        },
        {
         "hoverinfo": "text",
         "marker": {
          "color": "rgba(0,0,0,0)",
          "size": 5
         },
         "mode": "markers",
         "showlegend": false,
         "text": "Pitch #181<br>Called: BallCalled<br>Batter: Right<br>X: -6.28\"<br>Y: 45.66\"",
         "type": "scatter",
         "x": [
          -6.27516
         ],
         "y": [
          45.65652
         ]
        },
        {
         "hoverinfo": "text",
         "marker": {
          "color": "rgba(0,0,0,0)",
          "size": 5
         },
         "mode": "markers",
         "showlegend": false,
         "text": "Pitch #183<br>Called: BallCalled<br>Batter: Right<br>X: 17.69\"<br>Y: 26.38\"",
         "type": "scatter",
         "x": [
          17.6886
         ],
         "y": [
          26.37912
         ]
        },
        {
         "hoverinfo": "text",
         "marker": {
          "color": "rgba(0,0,0,0)",
          "size": 5
         },
         "mode": "markers",
         "showlegend": false,
         "text": "Pitch #186<br>Called: BallCalled<br>Batter: Right<br>X: 1.35\"<br>Y: 11.07\"",
         "type": "scatter",
         "x": [
          1.35192
         ],
         "y": [
          11.07204
         ]
        },
        {
         "hoverinfo": "text",
         "marker": {
          "color": "rgba(0,0,0,0)",
          "size": 5
         },
         "mode": "markers",
         "showlegend": false,
         "text": "Pitch #187<br>Called: BallCalled<br>Batter: Right<br>X: 15.76\"<br>Y: 31.59\"",
         "type": "scatter",
         "x": [
          15.75564
         ],
         "y": [
          31.591679999999997
         ]
        },
        {
         "hoverinfo": "text",
         "marker": {
          "color": "rgba(0,0,0,0)",
          "size": 5
         },
         "mode": "markers",
         "showlegend": false,
         "text": "Pitch #188<br>Called: BallCalled<br>Batter: Right<br>X: -17.07\"<br>Y: 65.62\"",
         "type": "scatter",
         "x": [
          -17.07072
         ],
         "y": [
          65.6196
         ]
        },
        {
         "hoverinfo": "text",
         "marker": {
          "color": "rgba(0,0,0,0)",
          "size": 5
         },
         "mode": "markers",
         "showlegend": false,
         "text": "Pitch #189<br>Called: BallCalled - Walk<br>Batter: Right<br>X: -16.81\"<br>Y: 52.37\"",
         "type": "scatter",
         "x": [
          -16.81104
         ],
         "y": [
          52.366440000000004
         ]
        },
        {
         "hoverinfo": "text",
         "marker": {
          "color": "rgba(0,0,0,0)",
          "size": 5
         },
         "mode": "markers",
         "showlegend": false,
         "text": "Pitch #190<br>Called: BallCalled<br>Batter: Right<br>X: 9.09\"<br>Y: 45.50\"",
         "type": "scatter",
         "x": [
          9.088799999999999
         ],
         "y": [
          45.50208
         ]
        },
        {
         "hoverinfo": "text",
         "marker": {
          "color": "rgba(0,0,0,0)",
          "size": 5
         },
         "mode": "markers",
         "showlegend": false,
         "text": "Pitch #191<br>Called: BallCalled<br>Batter: Right<br>X: -25.24\"<br>Y: 18.75\"",
         "type": "scatter",
         "x": [
          -25.238280000000003
         ],
         "y": [
          18.74928
         ]
        },
        {
         "hoverinfo": "text",
         "marker": {
          "color": "rgba(0,0,0,0)",
          "size": 5
         },
         "mode": "markers",
         "showlegend": false,
         "text": "Pitch #193<br>Called: StrikeCalled<br>Batter: Right<br>X: -10.83\"<br>Y: 24.34\"",
         "type": "scatter",
         "x": [
          -10.829039999999999
         ],
         "y": [
          24.34488
         ]
        },
        {
         "hoverinfo": "text",
         "marker": {
          "color": "rgba(0,0,0,0)",
          "size": 5
         },
         "mode": "markers",
         "showlegend": false,
         "text": "Pitch #195<br>Called: BallCalled<br>Batter: Right<br>X: 17.77\"<br>Y: 11.34\"",
         "type": "scatter",
         "x": [
          17.76612
         ],
         "y": [
          11.34276
         ]
        },
        {
         "hoverinfo": "text",
         "marker": {
          "color": "rgba(0,0,0,0)",
          "size": 5
         },
         "mode": "markers",
         "showlegend": false,
         "text": "Pitch #196<br>Called: BallCalled<br>Batter: Right<br>X: -12.17\"<br>Y: 41.93\"",
         "type": "scatter",
         "x": [
          -12.16992
         ],
         "y": [
          41.9274
         ]
        },
        {
         "hoverinfo": "text",
         "marker": {
          "color": "rgba(0,0,0,0)",
          "size": 5
         },
         "mode": "markers",
         "showlegend": false,
         "text": "Pitch #197<br>Called: BallCalled<br>Batter: Right<br>X: 12.75\"<br>Y: 21.29\"",
         "type": "scatter",
         "x": [
          12.75336
         ],
         "y": [
          21.28932
         ]
        },
        {
         "hoverinfo": "text",
         "marker": {
          "color": "rgba(0,0,0,0)",
          "size": 5
         },
         "mode": "markers",
         "showlegend": false,
         "text": "Pitch #198<br>Called: BallCalled - Walk<br>Batter: Right<br>X: -16.45\"<br>Y: 35.69\"",
         "type": "scatter",
         "x": [
          -16.45236
         ],
         "y": [
          35.6886
         ]
        },
        {
         "hoverinfo": "text",
         "marker": {
          "color": "rgba(0,0,0,0)",
          "size": 5
         },
         "mode": "markers",
         "showlegend": false,
         "text": "Pitch #199<br>Called: BallCalled<br>Batter: Right<br>X: -13.64\"<br>Y: 11.66\"",
         "type": "scatter",
         "x": [
          -13.64256
         ],
         "y": [
          11.65992
         ]
        },
        {
         "hoverinfo": "text",
         "marker": {
          "color": "rgba(0,0,0,0)",
          "size": 5
         },
         "mode": "markers",
         "showlegend": false,
         "text": "Pitch #202<br>Called: BallCalled<br>Batter: Right<br>X: 8.09\"<br>Y: 6.94\"",
         "type": "scatter",
         "x": [
          8.08932
         ],
         "y": [
          6.94332
         ]
        },
        {
         "hoverinfo": "text",
         "marker": {
          "color": "rgba(0,0,0,0)",
          "size": 5
         },
         "mode": "markers",
         "showlegend": false,
         "text": "Pitch #204<br>Called: BallCalled<br>Batter: Right<br>X: -7.02\"<br>Y: 9.45\"",
         "type": "scatter",
         "x": [
          -7.021199999999999
         ],
         "y": [
          9.4464
         ]
        },
        {
         "hoverinfo": "text",
         "marker": {
          "color": "rgba(0,0,0,0)",
          "size": 5
         },
         "mode": "markers",
         "showlegend": false,
         "text": "Pitch #205<br>Called: StrikeCalled<br>Batter: Right<br>X: -8.82\"<br>Y: 25.59\"",
         "type": "scatter",
         "x": [
          -8.819519999999999
         ],
         "y": [
          25.591320000000003
         ]
        },
        {
         "hoverinfo": "text",
         "marker": {
          "color": "rgba(0,0,0,0)",
          "size": 5
         },
         "mode": "markers",
         "showlegend": false,
         "text": "Pitch #208<br>Called: BallCalled<br>Batter: Right<br>X: -19.87\"<br>Y: 43.94\"",
         "type": "scatter",
         "x": [
          -19.866120000000002
         ],
         "y": [
          43.93632
         ]
        },
        {
         "hoverinfo": "text",
         "marker": {
          "color": "rgba(0,0,0,0)",
          "size": 5
         },
         "mode": "markers",
         "showlegend": false,
         "text": "Pitch #210<br>Called: BallCalled<br>Batter: Right<br>X: -31.84\"<br>Y: 30.21\"",
         "type": "scatter",
         "x": [
          -31.83672
         ],
         "y": [
          30.20976
         ]
        },
        {
         "hoverinfo": "text",
         "marker": {
          "color": "rgba(0,0,0,0)",
          "size": 5
         },
         "mode": "markers",
         "showlegend": false,
         "text": "Pitch #211<br>Called: BallCalled<br>Batter: Right<br>X: -13.89\"<br>Y: 9.27\"",
         "type": "scatter",
         "x": [
          -13.88712
         ],
         "y": [
          9.27372
         ]
        },
        {
         "hoverinfo": "text",
         "marker": {
          "color": "rgba(0,0,0,0)",
          "size": 5
         },
         "mode": "markers",
         "showlegend": false,
         "text": "Pitch #212<br>Called: BallCalled - Walk<br>Batter: Right<br>X: -13.61\"<br>Y: 3.22\"",
         "type": "scatter",
         "x": [
          -13.61364
         ],
         "y": [
          3.2178
         ]
        },
        {
         "hoverinfo": "text",
         "marker": {
          "color": "rgba(0,0,0,0)",
          "size": 5
         },
         "mode": "markers",
         "showlegend": false,
         "text": "Pitch #214<br>Called: BallCalled<br>Batter: Right<br>X: -22.40\"<br>Y: 30.87\"",
         "type": "scatter",
         "x": [
          -22.40028
         ],
         "y": [
          30.874919999999996
         ]
        },
        {
         "hoverinfo": "text",
         "marker": {
          "color": "rgba(0,0,0,0)",
          "size": 5
         },
         "mode": "markers",
         "showlegend": false,
         "text": "Pitch #216<br>Called: BallCalled<br>Batter: Right<br>X: 21.03\"<br>Y: 21.99\"",
         "type": "scatter",
         "x": [
          21.03408
         ],
         "y": [
          21.99324
         ]
        },
        {
         "hoverinfo": "text",
         "marker": {
          "color": "rgba(0,0,0,0)",
          "size": 5
         },
         "mode": "markers",
         "showlegend": false,
         "text": "Pitch #218<br>Called: BallCalled<br>Batter: Right<br>X: 12.04\"<br>Y: 52.43\"",
         "type": "scatter",
         "x": [
          12.038039999999999
         ],
         "y": [
          52.434239999999996
         ]
        },
        {
         "hoverinfo": "text",
         "marker": {
          "color": "rgba(0,0,0,0)",
          "size": 5
         },
         "mode": "markers",
         "showlegend": false,
         "text": "Pitch #219<br>Called: BallCalled<br>Batter: Right<br>X: -14.36\"<br>Y: 7.84\"",
         "type": "scatter",
         "x": [
          -14.35716
         ],
         "y": [
          7.8368400000000005
         ]
        },
        {
         "hoverinfo": "text",
         "marker": {
          "color": "rgba(0,0,0,0)",
          "size": 5
         },
         "mode": "markers",
         "showlegend": false,
         "text": "Pitch #220<br>Called: BallCalled<br>Batter: Right<br>X: -27.29\"<br>Y: -7.26\"",
         "type": "scatter",
         "x": [
          -27.29316
         ],
         "y": [
          -7.260120000000001
         ]
        },
        {
         "hoverinfo": "text",
         "marker": {
          "color": "rgba(0,0,0,0)",
          "size": 5
         },
         "mode": "markers",
         "showlegend": false,
         "text": "Pitch #221<br>Called: BallCalled - Walk<br>Batter: Right<br>X: 1.23\"<br>Y: 48.78\"",
         "type": "scatter",
         "x": [
          1.23492
         ],
         "y": [
          48.77628
         ]
        },
        {
         "hoverinfo": "text",
         "marker": {
          "color": "rgba(0,0,0,0)",
          "size": 5
         },
         "mode": "markers",
         "showlegend": false,
         "text": "Pitch #228<br>Called: BallCalled<br>Batter: Right<br>X: -5.96\"<br>Y: 13.37\"",
         "type": "scatter",
         "x": [
          -5.96004
         ],
         "y": [
          13.373759999999999
         ]
        },
        {
         "hoverinfo": "text",
         "marker": {
          "color": "rgba(0,0,0,0)",
          "size": 5
         },
         "mode": "markers",
         "showlegend": false,
         "text": "Pitch #231<br>Called: BallCalled<br>Batter: Right<br>X: -22.74\"<br>Y: 40.01\"",
         "type": "scatter",
         "x": [
          -22.7382
         ],
         "y": [
          40.01496
         ]
        },
        {
         "hoverinfo": "text",
         "marker": {
          "color": "rgba(0,0,0,0)",
          "size": 5
         },
         "mode": "markers",
         "showlegend": false,
         "text": "Pitch #233<br>Called: StrikeCalled<br>Batter: Left<br>X: -6.17\"<br>Y: 17.56\"",
         "type": "scatter",
         "x": [
          -6.16716
         ],
         "y": [
          17.55672
         ]
        },
        {
         "hoverinfo": "text",
         "marker": {
          "color": "rgba(0,0,0,0)",
          "size": 5
         },
         "mode": "markers",
         "showlegend": false,
         "text": "Pitch #234<br>Called: BallCalled<br>Batter: Left<br>X: 20.19\"<br>Y: 25.29\"",
         "type": "scatter",
         "x": [
          20.19372
         ],
         "y": [
          25.288919999999997
         ]
        },
        {
         "hoverinfo": "text",
         "marker": {
          "color": "rgba(0,0,0,0)",
          "size": 5
         },
         "mode": "markers",
         "showlegend": false,
         "text": "Pitch #235<br>Called: BallCalled<br>Batter: Left<br>X: 45.22\"<br>Y: -3.91\"",
         "type": "scatter",
         "x": [
          45.2154
         ],
         "y": [
          -3.91392
         ]
        },
        {
         "hoverinfo": "text",
         "marker": {
          "color": "rgba(0,0,0,0)",
          "size": 5
         },
         "mode": "markers",
         "showlegend": false,
         "text": "Pitch #236<br>Called: BallCalled<br>Batter: Left<br>X: 1.72\"<br>Y: 53.05\"",
         "type": "scatter",
         "x": [
          1.72296
         ],
         "y": [
          53.04996
         ]
        },
        {
         "hoverinfo": "text",
         "marker": {
          "color": "rgba(0,0,0,0)",
          "size": 5
         },
         "mode": "markers",
         "showlegend": false,
         "text": "Pitch #237<br>Called: BallCalled - Walk<br>Batter: Left<br>X: -15.60\"<br>Y: 47.27\"",
         "type": "scatter",
         "x": [
          -15.59976
         ],
         "y": [
          47.26896
         ]
        },
        {
         "hoverinfo": "text",
         "marker": {
          "color": "rgba(0,0,0,0)",
          "size": 5
         },
         "mode": "markers",
         "showlegend": false,
         "text": "Pitch #238<br>Called: BallCalled<br>Batter: Left<br>X: -12.80\"<br>Y: 39.70\"",
         "type": "scatter",
         "x": [
          -12.79608
         ],
         "y": [
          39.69708
         ]
        },
        {
         "hoverinfo": "text",
         "marker": {
          "color": "rgba(0,0,0,0)",
          "size": 5
         },
         "mode": "markers",
         "showlegend": false,
         "text": "Pitch #239<br>Called: StrikeCalled<br>Batter: Left<br>X: 5.93\"<br>Y: 20.66\"",
         "type": "scatter",
         "x": [
          5.9256
         ],
         "y": [
          20.664
         ]
        },
        {
         "hoverinfo": "text",
         "marker": {
          "color": "rgba(0,0,0,0)",
          "size": 5
         },
         "mode": "markers",
         "showlegend": false,
         "text": "Pitch #240<br>Called: StrikeCalled<br>Batter: Left<br>X: 6.77\"<br>Y: 28.54\"",
         "type": "scatter",
         "x": [
          6.7661999999999995
         ],
         "y": [
          28.538159999999998
         ]
        },
        {
         "hoverinfo": "text",
         "marker": {
          "color": "rgba(0,0,0,0)",
          "size": 5
         },
         "mode": "markers",
         "showlegend": false,
         "text": "Pitch #241<br>Called: StrikeCalled - Strikeout<br>Batter: Left<br>X: 8.33\"<br>Y: 33.73\"",
         "type": "scatter",
         "x": [
          8.334119999999999
         ],
         "y": [
          33.732839999999996
         ]
        },
        {
         "hoverinfo": "text",
         "marker": {
          "color": "rgba(0,0,0,0)",
          "size": 5
         },
         "mode": "markers",
         "showlegend": false,
         "text": "Pitch #242<br>Called: StrikeCalled<br>Batter: Right<br>X: -12.30\"<br>Y: 38.12\"",
         "type": "scatter",
         "x": [
          -12.302760000000001
         ],
         "y": [
          38.11692
         ]
        },
        {
         "hoverinfo": "text",
         "marker": {
          "color": "rgba(0,0,0,0)",
          "size": 5
         },
         "mode": "markers",
         "showlegend": false,
         "text": "Pitch #243<br>Called: StrikeCalled<br>Batter: Right<br>X: -1.02\"<br>Y: 21.12\"",
         "type": "scatter",
         "x": [
          -1.02132
         ],
         "y": [
          21.12072
         ]
        },
        {
         "hoverinfo": "text",
         "marker": {
          "color": "rgba(0,0,0,0)",
          "size": 5
         },
         "mode": "markers",
         "showlegend": false,
         "text": "Pitch #245<br>Called: StrikeCalled - Strikeout<br>Batter: Right<br>X: -18.34\"<br>Y: 36.29\"",
         "type": "scatter",
         "x": [
          -18.342
         ],
         "y": [
          36.28644
         ]
        },
        {
         "hoverinfo": "text",
         "marker": {
          "color": "rgba(0,0,0,0)",
          "size": 5
         },
         "mode": "markers",
         "showlegend": false,
         "text": "Pitch #246<br>Called: BallCalled<br>Batter: Left<br>X: 42.95\"<br>Y: 36.09\"",
         "type": "scatter",
         "x": [
          42.95172
         ],
         "y": [
          36.09048
         ]
        },
        {
         "hoverinfo": "text",
         "marker": {
          "color": "rgba(0,0,0,0)",
          "size": 5
         },
         "mode": "markers",
         "showlegend": false,
         "text": "Pitch #247<br>Called: BallCalled<br>Batter: Left<br>X: -3.24\"<br>Y: -9.39\"",
         "type": "scatter",
         "x": [
          -3.2374799999999997
         ],
         "y": [
          -9.392520000000001
         ]
        },
        {
         "hoverinfo": "text",
         "marker": {
          "color": "rgba(0,0,0,0)",
          "size": 5
         },
         "mode": "markers",
         "showlegend": false,
         "text": "Pitch #249<br>Called: BallCalled<br>Batter: Left<br>X: 0.24\"<br>Y: 13.95\"",
         "type": "scatter",
         "x": [
          0.23808
         ],
         "y": [
          13.953600000000002
         ]
        },
        {
         "hoverinfo": "text",
         "marker": {
          "color": "rgba(0,0,0,0)",
          "size": 5
         },
         "mode": "markers",
         "showlegend": false,
         "text": "Pitch #250<br>Called: BallCalled - Walk<br>Batter: Left<br>X: 16.42\"<br>Y: 10.76\"",
         "type": "scatter",
         "x": [
          16.4226
         ],
         "y": [
          10.756920000000001
         ]
        },
        {
         "hoverinfo": "text",
         "marker": {
          "color": "rgba(0,0,0,0)",
          "size": 5
         },
         "mode": "markers",
         "showlegend": false,
         "text": "Pitch #251<br>Called: BallCalled<br>Batter: Right<br>X: -19.68\"<br>Y: 24.04\"",
         "type": "scatter",
         "x": [
          -19.68216
         ],
         "y": [
          24.04332
         ]
        },
        {
         "hoverinfo": "text",
         "marker": {
          "color": "rgba(0,0,0,0)",
          "size": 5
         },
         "mode": "markers",
         "showlegend": false,
         "text": "Pitch #252<br>Called: StrikeCalled<br>Batter: Right<br>X: -5.76\"<br>Y: 24.13\"",
         "type": "scatter",
         "x": [
          -5.76252
         ],
         "y": [
          24.13152
         ]
        },
        {
         "hoverinfo": "text",
         "marker": {
          "color": "rgba(0,0,0,0)",
          "size": 5
         },
         "mode": "markers",
         "showlegend": false,
         "text": "Pitch #254<br>Called: StrikeCalled - Strikeout<br>Batter: Right<br>X: -6.77\"<br>Y: 42.21\"",
         "type": "scatter",
         "x": [
          -6.766439999999999
         ],
         "y": [
          42.21432
         ]
        },
        {
         "hoverinfo": "text",
         "marker": {
          "color": "rgba(0,0,0,0)",
          "size": 5
         },
         "mode": "markers",
         "showlegend": false,
         "text": "Pitch #255<br>Called: BallCalled<br>Batter: Left<br>X: 32.60\"<br>Y: 29.50\"",
         "type": "scatter",
         "x": [
          32.60304
         ],
         "y": [
          29.498639999999998
         ]
        },
        {
         "hoverinfo": "text",
         "marker": {
          "color": "rgba(0,0,0,0)",
          "size": 5
         },
         "mode": "markers",
         "showlegend": false,
         "text": "Pitch #257<br>Called: BallCalled<br>Batter: Left<br>X: 21.75\"<br>Y: 34.43\"",
         "type": "scatter",
         "x": [
          21.75384
         ],
         "y": [
          34.42752
         ]
        },
        {
         "hoverinfo": "text",
         "marker": {
          "color": "rgba(0,0,0,0)",
          "size": 5
         },
         "mode": "markers",
         "showlegend": false,
         "text": "Pitch #258<br>Called: BallCalled<br>Batter: Left<br>X: -8.48\"<br>Y: 51.13\"",
         "type": "scatter",
         "x": [
          -8.475719999999999
         ],
         "y": [
          51.1266
         ]
        },
        {
         "hoverinfo": "text",
         "marker": {
          "color": "rgba(0,0,0,0)",
          "size": 5
         },
         "mode": "markers",
         "showlegend": false,
         "text": "Pitch #260<br>Called: BallCalled - Walk<br>Batter: Left<br>X: 24.41\"<br>Y: 45.80\"",
         "type": "scatter",
         "x": [
          24.412800000000004
         ],
         "y": [
          45.7956
         ]
        },
        {
         "hoverinfo": "text",
         "marker": {
          "color": "rgba(0,0,0,0)",
          "size": 5
         },
         "mode": "markers",
         "showlegend": false,
         "text": "Pitch #267<br>Called: BallCalled<br>Batter: Right<br>X: -16.69\"<br>Y: 26.05\"",
         "type": "scatter",
         "x": [
          -16.688519999999997
         ],
         "y": [
          26.05068
         ]
        },
        {
         "hoverinfo": "text",
         "marker": {
          "color": "rgba(0,0,0,0)",
          "size": 5
         },
         "mode": "markers",
         "showlegend": false,
         "text": "Pitch #269<br>Called: BallCalled<br>Batter: Right<br>X: -20.96\"<br>Y: -4.00\"",
         "type": "scatter",
         "x": [
          -20.9646
         ],
         "y": [
          -3.99768
         ]
        },
        {
         "hoverinfo": "text",
         "marker": {
          "color": "rgba(0,0,0,0)",
          "size": 5
         },
         "mode": "markers",
         "showlegend": false,
         "text": "Pitch #270<br>Called: StrikeCalled<br>Batter: Right<br>X: -12.94\"<br>Y: 33.34\"",
         "type": "scatter",
         "x": [
          -12.936480000000001
         ],
         "y": [
          33.3354
         ]
        },
        {
         "hoverinfo": "text",
         "marker": {
          "color": "rgba(0,0,0,0)",
          "size": 5
         },
         "mode": "markers",
         "showlegend": false,
         "text": "Pitch #271<br>Called: BallCalled<br>Batter: Right<br>X: -14.41\"<br>Y: 20.57\"",
         "type": "scatter",
         "x": [
          -14.409239999999999
         ],
         "y": [
          20.571959999999997
         ]
        },
        {
         "hoverinfo": "text",
         "marker": {
          "color": "rgba(0,0,0,0)",
          "size": 5
         },
         "mode": "markers",
         "showlegend": false,
         "text": "Pitch #273<br>Called: BallCalled<br>Batter: Right<br>X: -11.50\"<br>Y: 13.73\"",
         "type": "scatter",
         "x": [
          -11.5044
         ],
         "y": [
          13.725000000000001
         ]
        },
        {
         "hoverinfo": "text",
         "marker": {
          "color": "rgba(0,0,0,0)",
          "size": 5
         },
         "mode": "markers",
         "showlegend": false,
         "text": "Pitch #275<br>Called: BallCalled<br>Batter: Right<br>X: -19.15\"<br>Y: 13.85\"",
         "type": "scatter",
         "x": [
          -19.14564
         ],
         "y": [
          13.85232
         ]
        },
        {
         "hoverinfo": "text",
         "marker": {
          "color": "rgba(0,0,0,0)",
          "size": 5
         },
         "mode": "markers",
         "showlegend": false,
         "text": "Pitch #278<br>Called: StrikeCalled<br>Batter: Right<br>X: -5.39\"<br>Y: 36.72\"",
         "type": "scatter",
         "x": [
          -5.3872800000000005
         ],
         "y": [
          36.7194
         ]
        },
        {
         "hoverinfo": "text",
         "marker": {
          "color": "rgba(0,0,0,0)",
          "size": 5
         },
         "mode": "markers",
         "showlegend": false,
         "text": "Pitch #279<br>Called: StrikeCalled<br>Batter: Right<br>X: 4.67\"<br>Y: 34.98\"",
         "type": "scatter",
         "x": [
          4.67448
         ],
         "y": [
          34.97688
         ]
        },
        {
         "hoverinfo": "text",
         "marker": {
          "color": "rgba(0,0,0,0)",
          "size": 5
         },
         "mode": "markers",
         "showlegend": false,
         "text": "Pitch #280<br>Called: BallCalled<br>Batter: Right<br>X: -38.65\"<br>Y: 38.76\"",
         "type": "scatter",
         "x": [
          -38.653079999999996
         ],
         "y": [
          38.756280000000004
         ]
        },
        {
         "hoverinfo": "text",
         "marker": {
          "color": "rgba(0,0,0,0)",
          "size": 5
         },
         "mode": "markers",
         "showlegend": false,
         "text": "Pitch #281<br>Called: StrikeCalled - Strikeout<br>Batter: Right<br>X: -1.74\"<br>Y: 38.98\"",
         "type": "scatter",
         "x": [
          -1.7436000000000003
         ],
         "y": [
          38.97804
         ]
        },
        {
         "hoverinfo": "text",
         "marker": {
          "color": "rgba(0,0,0,0)",
          "size": 5
         },
         "mode": "markers",
         "showlegend": false,
         "text": "Pitch #283<br>Called: BallCalled<br>Batter: Right<br>X: -12.63\"<br>Y: 48.74\"",
         "type": "scatter",
         "x": [
          -12.62964
         ],
         "y": [
          48.741839999999996
         ]
        },
        {
         "hoverinfo": "text",
         "marker": {
          "color": "rgba(0,0,0,0)",
          "size": 5
         },
         "mode": "markers",
         "showlegend": false,
         "text": "Pitch #284<br>Called: StrikeCalled<br>Batter: Right<br>X: -7.35\"<br>Y: 31.13\"",
         "type": "scatter",
         "x": [
          -7.351319999999999
         ],
         "y": [
          31.13256
         ]
        },
        {
         "hoverinfo": "text",
         "marker": {
          "color": "rgba(0,0,0,0)",
          "size": 5
         },
         "mode": "markers",
         "showlegend": false,
         "text": "Pitch #285<br>Called: BallCalled<br>Batter: Right<br>X: -25.23\"<br>Y: 25.18\"",
         "type": "scatter",
         "x": [
          -25.227359999999997
         ],
         "y": [
          25.179720000000003
         ]
        },
        {
         "hoverinfo": "text",
         "marker": {
          "color": "rgba(0,0,0,0)",
          "size": 5
         },
         "mode": "markers",
         "showlegend": false,
         "text": "Pitch #286<br>Called: BallCalled<br>Batter: Right<br>X: -20.54\"<br>Y: 7.30\"",
         "type": "scatter",
         "x": [
          -20.544600000000003
         ],
         "y": [
          7.29588
         ]
        },
        {
         "hoverinfo": "text",
         "marker": {
          "color": "rgba(0,0,0,0)",
          "size": 5
         },
         "mode": "markers",
         "showlegend": false,
         "text": "Pitch #287<br>Called: BallCalled - Walk<br>Batter: Right<br>X: -14.69\"<br>Y: 63.14\"",
         "type": "scatter",
         "x": [
          -14.69472
         ],
         "y": [
          63.144239999999996
         ]
        },
        {
         "hoverinfo": "text",
         "marker": {
          "color": "rgba(0,0,0,0)",
          "size": 5
         },
         "mode": "markers",
         "showlegend": false,
         "text": "Pitch #288<br>Called: BallCalled<br>Batter: Left<br>X: 8.79\"<br>Y: 17.60\"",
         "type": "scatter",
         "x": [
          8.78712
         ],
         "y": [
          17.602439999999998
         ]
        },
        {
         "hoverinfo": "text",
         "marker": {
          "color": "rgba(0,0,0,0)",
          "size": 5
         },
         "mode": "markers",
         "showlegend": false,
         "text": "Pitch #290<br>Called: BallCalled<br>Batter: Left<br>X: 13.48\"<br>Y: 17.85\"",
         "type": "scatter",
         "x": [
          13.47672
         ],
         "y": [
          17.85468
         ]
        },
        {
         "hoverinfo": "text",
         "marker": {
          "color": "rgba(0,0,0,0)",
          "size": 5
         },
         "mode": "markers",
         "showlegend": false,
         "text": "Pitch #291<br>Called: BallCalled<br>Batter: Left<br>X: -18.32\"<br>Y: 39.74\"",
         "type": "scatter",
         "x": [
          -18.317999999999998
         ],
         "y": [
          39.73944
         ]
        },
        {
         "hoverinfo": "text",
         "marker": {
          "color": "rgba(0,0,0,0)",
          "size": 5
         },
         "mode": "markers",
         "showlegend": false,
         "text": "Pitch #292<br>Called: BallCalled - Walk<br>Batter: Left<br>X: 18.80\"<br>Y: 42.96\"",
         "type": "scatter",
         "x": [
          18.80124
         ],
         "y": [
          42.9576
         ]
        },
        {
         "hoverinfo": "text",
         "marker": {
          "color": "rgba(0,0,0,0)",
          "size": 5
         },
         "mode": "markers",
         "showlegend": false,
         "text": "Pitch #294<br>Called: StrikeCalled<br>Batter: Left<br>X: -2.70\"<br>Y: 22.86\"",
         "type": "scatter",
         "x": [
          -2.70228
         ],
         "y": [
          22.85544
         ]
        },
        {
         "hoverinfo": "text",
         "marker": {
          "color": "rgba(0,0,0,0)",
          "size": 5
         },
         "mode": "markers",
         "showlegend": false,
         "text": "Pitch #296<br>Called: BallCalled<br>Batter: Right<br>X: -7.29\"<br>Y: 11.87\"",
         "type": "scatter",
         "x": [
          -7.288679999999999
         ],
         "y": [
          11.86584
         ]
        },
        {
         "hoverinfo": "text",
         "marker": {
          "color": "rgba(0,0,0,0)",
          "size": 5
         },
         "mode": "markers",
         "showlegend": false,
         "text": "Pitch #297<br>Called: StrikeCalled<br>Batter: Right<br>X: -8.25\"<br>Y: 19.94\"",
         "type": "scatter",
         "x": [
          -8.254439999999999
         ],
         "y": [
          19.94124
         ]
        },
        {
         "hoverinfo": "text",
         "marker": {
          "color": "rgba(0,0,0,0)",
          "size": 5
         },
         "mode": "markers",
         "showlegend": false,
         "text": "Pitch #298<br>Called: BallCalled<br>Batter: Right<br>X: -22.78\"<br>Y: 24.39\"",
         "type": "scatter",
         "x": [
          -22.78188
         ],
         "y": [
          24.38736
         ]
        },
        {
         "hoverinfo": "text",
         "marker": {
          "color": "rgba(0,0,0,0)",
          "size": 5
         },
         "mode": "markers",
         "showlegend": false,
         "text": "Pitch #299<br>Called: StrikeCalled<br>Batter: Right<br>X: -4.58\"<br>Y: 18.83\"",
         "type": "scatter",
         "x": [
          -4.57512
         ],
         "y": [
          18.83472
         ]
        },
        {
         "hoverinfo": "text",
         "marker": {
          "color": "rgba(0,0,0,0)",
          "size": 5
         },
         "mode": "markers",
         "showlegend": false,
         "text": "Pitch #300<br>Called: BallCalled<br>Batter: Right<br>X: -26.86\"<br>Y: 18.21\"",
         "type": "scatter",
         "x": [
          -26.85528
         ],
         "y": [
          18.210479999999997
         ]
        },
        {
         "hoverinfo": "text",
         "marker": {
          "color": "rgba(0,0,0,0)",
          "size": 5
         },
         "mode": "markers",
         "showlegend": false,
         "text": "Pitch #301<br>Called: BallCalled - Walk<br>Batter: Right<br>X: -10.44\"<br>Y: 8.76\"",
         "type": "scatter",
         "x": [
          -10.44252
         ],
         "y": [
          8.7642
         ]
        },
        {
         "hoverinfo": "text",
         "marker": {
          "color": "rgba(0,0,0,0)",
          "size": 5
         },
         "mode": "markers",
         "showlegend": false,
         "text": "Pitch #1<br>Called: BallCalled<br>Batter: Left<br>X: 1.12\"<br>Y: 46.22\"",
         "type": "scatter",
         "x": [
          1.11852
         ],
         "y": [
          46.221000000000004
         ]
        },
        {
         "hoverinfo": "text",
         "marker": {
          "color": "rgba(0,0,0,0)",
          "size": 5
         },
         "mode": "markers",
         "showlegend": false,
         "text": "Pitch #2<br>Called: StrikeCalled<br>Batter: Left<br>X: 10.88\"<br>Y: 38.23\"",
         "type": "scatter",
         "x": [
          10.8762
         ],
         "y": [
          38.234159999999996
         ]
        },
        {
         "hoverinfo": "text",
         "marker": {
          "color": "rgba(0,0,0,0)",
          "size": 5
         },
         "mode": "markers",
         "showlegend": false,
         "text": "Pitch #3<br>Called: BallCalled<br>Batter: Left<br>X: 19.35\"<br>Y: 36.95\"",
         "type": "scatter",
         "x": [
          19.34544
         ],
         "y": [
          36.9528
         ]
        },
        {
         "hoverinfo": "text",
         "marker": {
          "color": "rgba(0,0,0,0)",
          "size": 5
         },
         "mode": "markers",
         "showlegend": false,
         "text": "Pitch #5<br>Called: BallCalled<br>Batter: Left<br>X: 9.78\"<br>Y: 23.48\"",
         "type": "scatter",
         "x": [
          9.77832
         ],
         "y": [
          23.47512
         ]
        },
        {
         "hoverinfo": "text",
         "marker": {
          "color": "rgba(0,0,0,0)",
          "size": 5
         },
         "mode": "markers",
         "showlegend": false,
         "text": "Pitch #7<br>Called: BallCalled<br>Batter: Left<br>X: 17.74\"<br>Y: 19.38\"",
         "type": "scatter",
         "x": [
          17.73528
         ],
         "y": [
          19.3806
         ]
        },
        {
         "hoverinfo": "text",
         "marker": {
          "color": "rgba(0,0,0,0)",
          "size": 5
         },
         "mode": "markers",
         "showlegend": false,
         "text": "Pitch #8<br>Called: StrikeCalled<br>Batter: Left<br>X: 7.50\"<br>Y: 39.52\"",
         "type": "scatter",
         "x": [
          7.50372
         ],
         "y": [
          39.51744
         ]
        },
        {
         "hoverinfo": "text",
         "marker": {
          "color": "rgba(0,0,0,0)",
          "size": 5
         },
         "mode": "markers",
         "showlegend": false,
         "text": "Pitch #9<br>Called: StrikeCalled<br>Batter: Left<br>X: 7.81\"<br>Y: 36.02\"",
         "type": "scatter",
         "x": [
          7.809000000000001
         ],
         "y": [
          36.01728
         ]
        },
        {
         "hoverinfo": "text",
         "marker": {
          "color": "rgba(0,0,0,0)",
          "size": 5
         },
         "mode": "markers",
         "showlegend": false,
         "text": "Pitch #13<br>Called: BallCalled<br>Batter: Right<br>X: -11.96\"<br>Y: 72.51\"",
         "type": "scatter",
         "x": [
          -11.96016
         ],
         "y": [
          72.51168
         ]
        },
        {
         "hoverinfo": "text",
         "marker": {
          "color": "rgba(0,0,0,0)",
          "size": 5
         },
         "mode": "markers",
         "showlegend": false,
         "text": "Pitch #14<br>Called: BallCalled<br>Batter: Right<br>X: -12.51\"<br>Y: 38.82\"",
         "type": "scatter",
         "x": [
          -12.51144
         ],
         "y": [
          38.824079999999995
         ]
        },
        {
         "hoverinfo": "text",
         "marker": {
          "color": "rgba(0,0,0,0)",
          "size": 5
         },
         "mode": "markers",
         "showlegend": false,
         "text": "Pitch #17<br>Called: StrikeCalled<br>Batter: Right<br>X: 10.08\"<br>Y: 31.27\"",
         "type": "scatter",
         "x": [
          10.081199999999999
         ],
         "y": [
          31.27176
         ]
        },
        {
         "hoverinfo": "text",
         "marker": {
          "color": "rgba(0,0,0,0)",
          "size": 5
         },
         "mode": "markers",
         "showlegend": false,
         "text": "Pitch #18<br>Called: BallCalled<br>Batter: Right<br>X: 2.00\"<br>Y: 74.40\"",
         "type": "scatter",
         "x": [
          2.0046
         ],
         "y": [
          74.3952
         ]
        },
        {
         "hoverinfo": "text",
         "marker": {
          "color": "rgba(0,0,0,0)",
          "size": 5
         },
         "mode": "markers",
         "showlegend": false,
         "text": "Pitch #19<br>Called: StrikeCalled - Strikeout<br>Batter: Right<br>X: -12.84\"<br>Y: 24.88\"",
         "type": "scatter",
         "x": [
          -12.83916
         ],
         "y": [
          24.877319999999997
         ]
        },
        {
         "hoverinfo": "text",
         "marker": {
          "color": "rgba(0,0,0,0)",
          "size": 5
         },
         "mode": "markers",
         "showlegend": false,
         "text": "Pitch #22<br>Called: BallCalled<br>Batter: Left<br>X: 8.82\"<br>Y: 19.24\"",
         "type": "scatter",
         "x": [
          8.82024
         ],
         "y": [
          19.24284
         ]
        },
        {
         "hoverinfo": "text",
         "marker": {
          "color": "rgba(0,0,0,0)",
          "size": 5
         },
         "mode": "markers",
         "showlegend": false,
         "text": "Pitch #25<br>Called: StrikeCalled<br>Batter: Right<br>X: 11.97\"<br>Y: 22.46\"",
         "type": "scatter",
         "x": [
          11.97456
         ],
         "y": [
          22.46004
         ]
        },
        {
         "hoverinfo": "text",
         "marker": {
          "color": "rgba(0,0,0,0)",
          "size": 5
         },
         "mode": "markers",
         "showlegend": false,
         "text": "Pitch #29<br>Called: BallCalled<br>Batter: Right<br>X: -7.16\"<br>Y: 82.07\"",
         "type": "scatter",
         "x": [
          -7.15728
         ],
         "y": [
          82.07388
         ]
        },
        {
         "hoverinfo": "text",
         "marker": {
          "color": "rgba(0,0,0,0)",
          "size": 5
         },
         "mode": "markers",
         "showlegend": false,
         "text": "Pitch #30<br>Called: BallCalled<br>Batter: Right<br>X: -19.23\"<br>Y: 50.43\"",
         "type": "scatter",
         "x": [
          -19.2294
         ],
         "y": [
          50.433119999999995
         ]
        },
        {
         "hoverinfo": "text",
         "marker": {
          "color": "rgba(0,0,0,0)",
          "size": 5
         },
         "mode": "markers",
         "showlegend": false,
         "text": "Pitch #32<br>Called: StrikeCalled<br>Batter: Left<br>X: -9.74\"<br>Y: 35.42\"",
         "type": "scatter",
         "x": [
          -9.74412
         ],
         "y": [
          35.42004
         ]
        },
        {
         "hoverinfo": "text",
         "marker": {
          "color": "rgba(0,0,0,0)",
          "size": 5
         },
         "mode": "markers",
         "showlegend": false,
         "text": "Pitch #34<br>Called: BallCalled<br>Batter: Left<br>X: 22.28\"<br>Y: 22.23\"",
         "type": "scatter",
         "x": [
          22.2762
         ],
         "y": [
          22.23432
         ]
        },
        {
         "hoverinfo": "text",
         "marker": {
          "color": "rgba(0,0,0,0)",
          "size": 5
         },
         "mode": "markers",
         "showlegend": false,
         "text": "Pitch #37<br>Called: BallCalled<br>Batter: Right<br>X: 15.57\"<br>Y: -0.20\"",
         "type": "scatter",
         "x": [
          15.56952
         ],
         "y": [
          -0.19763999999999998
         ]
        },
        {
         "hoverinfo": "text",
         "marker": {
          "color": "rgba(0,0,0,0)",
          "size": 5
         },
         "mode": "markers",
         "showlegend": false,
         "text": "Pitch #39<br>Called: BallCalled<br>Batter: Right<br>X: -13.33\"<br>Y: 14.95\"",
         "type": "scatter",
         "x": [
          -13.32504
         ],
         "y": [
          14.947680000000002
         ]
        },
        {
         "hoverinfo": "text",
         "marker": {
          "color": "rgba(0,0,0,0)",
          "size": 5
         },
         "mode": "markers",
         "showlegend": false,
         "text": "Pitch #41<br>Called: BallCalled<br>Batter: Right<br>X: -2.63\"<br>Y: 46.31\"",
         "type": "scatter",
         "x": [
          -2.63184
         ],
         "y": [
          46.30524
         ]
        },
        {
         "hoverinfo": "text",
         "marker": {
          "color": "rgba(0,0,0,0)",
          "size": 5
         },
         "mode": "markers",
         "showlegend": false,
         "text": "Pitch #46<br>Called: BallCalled<br>Batter: Left<br>X: -14.44\"<br>Y: 23.22\"",
         "type": "scatter",
         "x": [
          -14.440559999999998
         ],
         "y": [
          23.22384
         ]
        },
        {
         "hoverinfo": "text",
         "marker": {
          "color": "rgba(0,0,0,0)",
          "size": 5
         },
         "mode": "markers",
         "showlegend": false,
         "text": "Pitch #48<br>Called: BallCalled<br>Batter: Right<br>X: -9.69\"<br>Y: 24.40\"",
         "type": "scatter",
         "x": [
          -9.691320000000001
         ],
         "y": [
          24.39936
         ]
        },
        {
         "hoverinfo": "text",
         "marker": {
          "color": "rgba(0,0,0,0)",
          "size": 5
         },
         "mode": "markers",
         "showlegend": false,
         "text": "Pitch #49<br>Called: StrikeCalled<br>Batter: Right<br>X: -3.37\"<br>Y: 38.54\"",
         "type": "scatter",
         "x": [
          -3.3744
         ],
         "y": [
          38.54484
         ]
        },
        {
         "hoverinfo": "text",
         "marker": {
          "color": "rgba(0,0,0,0)",
          "size": 5
         },
         "mode": "markers",
         "showlegend": false,
         "text": "Pitch #51<br>Called: StrikeCalled<br>Batter: Left<br>X: 1.32\"<br>Y: 22.03\"",
         "type": "scatter",
         "x": [
          1.31748
         ],
         "y": [
          22.02516
         ]
        },
        {
         "hoverinfo": "text",
         "marker": {
          "color": "rgba(0,0,0,0)",
          "size": 5
         },
         "mode": "markers",
         "showlegend": false,
         "text": "Pitch #52<br>Called: BallCalled<br>Batter: Left<br>X: 18.48\"<br>Y: 0.43\"",
         "type": "scatter",
         "x": [
          18.48372
         ],
         "y": [
          0.43235999999999997
         ]
        },
        {
         "hoverinfo": "text",
         "marker": {
          "color": "rgba(0,0,0,0)",
          "size": 5
         },
         "mode": "markers",
         "showlegend": false,
         "text": "Pitch #57<br>Called: BallCalled<br>Batter: Left<br>X: 1.16\"<br>Y: 22.08\"",
         "type": "scatter",
         "x": [
          1.16448
         ],
         "y": [
          22.07568
         ]
        },
        {
         "hoverinfo": "text",
         "marker": {
          "color": "rgba(0,0,0,0)",
          "size": 5
         },
         "mode": "markers",
         "showlegend": false,
         "text": "Pitch #58<br>Called: BallCalled<br>Batter: Left<br>X: -7.92\"<br>Y: 34.68\"",
         "type": "scatter",
         "x": [
          -7.92384
         ],
         "y": [
          34.678799999999995
         ]
        },
        {
         "hoverinfo": "text",
         "marker": {
          "color": "rgba(0,0,0,0)",
          "size": 5
         },
         "mode": "markers",
         "showlegend": false,
         "text": "Pitch #60<br>Called: BallCalled<br>Batter: Left<br>X: -0.42\"<br>Y: 22.37\"",
         "type": "scatter",
         "x": [
          -0.42324000000000006
         ],
         "y": [
          22.374119999999998
         ]
        },
        {
         "hoverinfo": "text",
         "marker": {
          "color": "rgba(0,0,0,0)",
          "size": 5
         },
         "mode": "markers",
         "showlegend": false,
         "text": "Pitch #62<br>Called: StrikeCalled<br>Batter: Right<br>X: -8.78\"<br>Y: 35.39\"",
         "type": "scatter",
         "x": [
          -8.78376
         ],
         "y": [
          35.39076
         ]
        },
        {
         "hoverinfo": "text",
         "marker": {
          "color": "rgba(0,0,0,0)",
          "size": 5
         },
         "mode": "markers",
         "showlegend": false,
         "text": "Pitch #64<br>Called: BallCalled<br>Batter: Right<br>X: -18.48\"<br>Y: 20.51\"",
         "type": "scatter",
         "x": [
          -18.47712
         ],
         "y": [
          20.5086
         ]
        },
        {
         "hoverinfo": "text",
         "marker": {
          "color": "rgba(0,0,0,0)",
          "size": 5
         },
         "mode": "markers",
         "showlegend": false,
         "text": "Pitch #66<br>Called: StrikeCalled<br>Batter: Right<br>X: 5.84\"<br>Y: 24.82\"",
         "type": "scatter",
         "x": [
          5.83884
         ],
         "y": [
          24.82296
         ]
        },
        {
         "hoverinfo": "text",
         "marker": {
          "color": "rgba(0,0,0,0)",
          "size": 5
         },
         "mode": "markers",
         "showlegend": false,
         "text": "Pitch #67<br>Called: BallCalled<br>Batter: Right<br>X: -17.60\"<br>Y: 27.98\"",
         "type": "scatter",
         "x": [
          -17.59716
         ],
         "y": [
          27.982319999999998
         ]
        },
        {
         "hoverinfo": "text",
         "marker": {
          "color": "rgba(0,0,0,0)",
          "size": 5
         },
         "mode": "markers",
         "showlegend": false,
         "text": "Pitch #68<br>Called: StrikeCalled - StolenBase<br>Batter: Right<br>X: -2.83\"<br>Y: 29.48\"",
         "type": "scatter",
         "x": [
          -2.82984
         ],
         "y": [
          29.481
         ]
        },
        {
         "hoverinfo": "text",
         "marker": {
          "color": "rgba(0,0,0,0)",
          "size": 5
         },
         "mode": "markers",
         "showlegend": false,
         "text": "Pitch #70<br>Called: StrikeCalled<br>Batter: Right<br>X: 6.38\"<br>Y: 31.93\"",
         "type": "scatter",
         "x": [
          6.375119999999999
         ],
         "y": [
          31.933080000000004
         ]
        },
        {
         "hoverinfo": "text",
         "marker": {
          "color": "rgba(0,0,0,0)",
          "size": 5
         },
         "mode": "markers",
         "showlegend": false,
         "text": "Pitch #71<br>Called: BallCalled<br>Batter: Right<br>X: -32.12\"<br>Y: 32.40\"",
         "type": "scatter",
         "x": [
          -32.11992
         ],
         "y": [
          32.40384
         ]
        },
        {
         "hoverinfo": "text",
         "marker": {
          "color": "rgba(0,0,0,0)",
          "size": 5
         },
         "mode": "markers",
         "showlegend": false,
         "text": "Pitch #72<br>Called: BallCalled<br>Batter: Right<br>X: -15.92\"<br>Y: 23.38\"",
         "type": "scatter",
         "x": [
          -15.917760000000001
         ],
         "y": [
          23.38128
         ]
        },
        {
         "hoverinfo": "text",
         "marker": {
          "color": "rgba(0,0,0,0)",
          "size": 5
         },
         "mode": "markers",
         "showlegend": false,
         "text": "Pitch #73<br>Called: BallCalled<br>Batter: Right<br>X: 0.72\"<br>Y: 47.23\"",
         "type": "scatter",
         "x": [
          0.72
         ],
         "y": [
          47.227199999999996
         ]
        },
        {
         "hoverinfo": "text",
         "marker": {
          "color": "rgba(0,0,0,0)",
          "size": 5
         },
         "mode": "markers",
         "showlegend": false,
         "text": "Pitch #74<br>Called: BallCalled - Walk<br>Batter: Right<br>X: -18.25\"<br>Y: 12.68\"",
         "type": "scatter",
         "x": [
          -18.246
         ],
         "y": [
          12.68196
         ]
        },
        {
         "hoverinfo": "text",
         "marker": {
          "color": "rgba(0,0,0,0)",
          "size": 5
         },
         "mode": "markers",
         "showlegend": false,
         "text": "Pitch #75<br>Called: BallCalled<br>Batter: Left<br>X: 14.25\"<br>Y: 45.54\"",
         "type": "scatter",
         "x": [
          14.2542
         ],
         "y": [
          45.53808
         ]
        },
        {
         "hoverinfo": "text",
         "marker": {
          "color": "rgba(0,0,0,0)",
          "size": 5
         },
         "mode": "markers",
         "showlegend": false,
         "text": "Pitch #76<br>Called: BallCalled<br>Batter: Left<br>X: 19.38\"<br>Y: 30.54\"",
         "type": "scatter",
         "x": [
          19.38168
         ],
         "y": [
          30.54084
         ]
        },
        {
         "hoverinfo": "text",
         "marker": {
          "color": "rgba(0,0,0,0)",
          "size": 5
         },
         "mode": "markers",
         "showlegend": false,
         "text": "Pitch #77<br>Called: StrikeCalled<br>Batter: Left<br>X: 1.56\"<br>Y: 31.92\"",
         "type": "scatter",
         "x": [
          1.5642
         ],
         "y": [
          31.91556
         ]
        },
        {
         "hoverinfo": "text",
         "marker": {
          "color": "rgba(0,0,0,0)",
          "size": 5
         },
         "mode": "markers",
         "showlegend": false,
         "text": "Pitch #79<br>Called: BallCalled<br>Batter: Left<br>X: 25.85\"<br>Y: 36.60\"",
         "type": "scatter",
         "x": [
          25.845840000000003
         ],
         "y": [
          36.60252
         ]
        },
        {
         "hoverinfo": "text",
         "marker": {
          "color": "rgba(0,0,0,0)",
          "size": 5
         },
         "mode": "markers",
         "showlegend": false,
         "text": "Pitch #81<br>Called: BallCalled<br>Batter: Left<br>X: -5.55\"<br>Y: 23.08\"",
         "type": "scatter",
         "x": [
          -5.55108
         ],
         "y": [
          23.078159999999997
         ]
        },
        {
         "hoverinfo": "text",
         "marker": {
          "color": "rgba(0,0,0,0)",
          "size": 5
         },
         "mode": "markers",
         "showlegend": false,
         "text": "Pitch #82<br>Called: BallCalled<br>Batter: Left<br>X: 0.42\"<br>Y: 40.59\"",
         "type": "scatter",
         "x": [
          0.41700000000000004
         ],
         "y": [
          40.58748
         ]
        },
        {
         "hoverinfo": "text",
         "marker": {
          "color": "rgba(0,0,0,0)",
          "size": 5
         },
         "mode": "markers",
         "showlegend": false,
         "text": "Pitch #85<br>Called: BallCalled<br>Batter: Right<br>X: 16.45\"<br>Y: 36.48\"",
         "type": "scatter",
         "x": [
          16.44504
         ],
         "y": [
          36.48144
         ]
        },
        {
         "hoverinfo": "text",
         "marker": {
          "color": "rgba(0,0,0,0)",
          "size": 5
         },
         "mode": "markers",
         "showlegend": false,
         "text": "Pitch #86<br>Called: BallCalled<br>Batter: Right<br>X: 12.96\"<br>Y: 30.53\"",
         "type": "scatter",
         "x": [
          12.95712
         ],
         "y": [
          30.52956
         ]
        },
        {
         "hoverinfo": "text",
         "marker": {
          "color": "rgba(0,0,0,0)",
          "size": 5
         },
         "mode": "markers",
         "showlegend": false,
         "text": "Pitch #87<br>Called: StrikeCalled<br>Batter: Right<br>X: -4.07\"<br>Y: 31.16\"",
         "type": "scatter",
         "x": [
          -4.0662
         ],
         "y": [
          31.156200000000002
         ]
        },
        {
         "hoverinfo": "text",
         "marker": {
          "color": "rgba(0,0,0,0)",
          "size": 5
         },
         "mode": "markers",
         "showlegend": false,
         "text": "Pitch #89<br>Called: BallCalled<br>Batter: Right<br>X: -16.58\"<br>Y: 45.87\"",
         "type": "scatter",
         "x": [
          -16.5798
         ],
         "y": [
          45.87456
         ]
        },
        {
         "hoverinfo": "text",
         "marker": {
          "color": "rgba(0,0,0,0)",
          "size": 5
         },
         "mode": "markers",
         "showlegend": false,
         "text": "Pitch #93<br>Called: BallCalled<br>Batter: Right<br>X: -13.39\"<br>Y: 23.15\"",
         "type": "scatter",
         "x": [
          -13.391160000000001
         ],
         "y": [
          23.14512
         ]
        },
        {
         "hoverinfo": "text",
         "marker": {
          "color": "rgba(0,0,0,0)",
          "size": 5
         },
         "mode": "markers",
         "showlegend": false,
         "text": "Pitch #94<br>Called: BallCalled<br>Batter: Right<br>X: -12.68\"<br>Y: 37.93\"",
         "type": "scatter",
         "x": [
          -12.67632
         ],
         "y": [
          37.92552
         ]
        },
        {
         "hoverinfo": "text",
         "marker": {
          "color": "rgba(0,0,0,0)",
          "size": 5
         },
         "mode": "markers",
         "showlegend": false,
         "text": "Pitch #95<br>Called: StrikeCalled<br>Batter: Right<br>X: -12.95\"<br>Y: 30.17\"",
         "type": "scatter",
         "x": [
          -12.946560000000002
         ],
         "y": [
          30.17028
         ]
        },
        {
         "hoverinfo": "text",
         "marker": {
          "color": "rgba(0,0,0,0)",
          "size": 5
         },
         "mode": "markers",
         "showlegend": false,
         "text": "Pitch #96<br>Called: BallCalled<br>Batter: Right<br>X: -3.95\"<br>Y: 21.02\"",
         "type": "scatter",
         "x": [
          -3.9507600000000003
         ],
         "y": [
          21.02448
         ]
        },
        {
         "hoverinfo": "text",
         "marker": {
          "color": "rgba(0,0,0,0)",
          "size": 5
         },
         "mode": "markers",
         "showlegend": false,
         "text": "Pitch #98<br>Called: StrikeCalled - Strikeout<br>Batter: Right<br>X: -7.57\"<br>Y: 31.94\"",
         "type": "scatter",
         "x": [
          -7.5746400000000005
         ],
         "y": [
          31.94316
         ]
        },
        {
         "hoverinfo": "text",
         "marker": {
          "color": "rgba(0,0,0,0)",
          "size": 5
         },
         "mode": "markers",
         "showlegend": false,
         "text": "Pitch #99<br>Called: StrikeCalled<br>Batter: Left<br>X: 2.97\"<br>Y: 42.28\"",
         "type": "scatter",
         "x": [
          2.97216
         ],
         "y": [
          42.28056
         ]
        },
        {
         "hoverinfo": "text",
         "marker": {
          "color": "rgba(0,0,0,0)",
          "size": 5
         },
         "mode": "markers",
         "showlegend": false,
         "text": "Pitch #102<br>Called: BallCalled<br>Batter: Right<br>X: 16.17\"<br>Y: 30.89\"",
         "type": "scatter",
         "x": [
          16.16928
         ],
         "y": [
          30.8922
         ]
        },
        {
         "hoverinfo": "text",
         "marker": {
          "color": "rgba(0,0,0,0)",
          "size": 5
         },
         "mode": "markers",
         "showlegend": false,
         "text": "Pitch #103<br>Called: StrikeCalled<br>Batter: Right<br>X: 2.78\"<br>Y: 25.36\"",
         "type": "scatter",
         "x": [
          2.7762000000000002
         ],
         "y": [
          25.358999999999998
         ]
        },
        {
         "hoverinfo": "text",
         "marker": {
          "color": "rgba(0,0,0,0)",
          "size": 5
         },
         "mode": "markers",
         "showlegend": false,
         "text": "Pitch #104<br>Called: BallCalled<br>Batter: Right<br>X: -21.99\"<br>Y: 22.62\"",
         "type": "scatter",
         "x": [
          -21.98544
         ],
         "y": [
          22.61964
         ]
        },
        {
         "hoverinfo": "text",
         "marker": {
          "color": "rgba(0,0,0,0)",
          "size": 5
         },
         "mode": "markers",
         "showlegend": false,
         "text": "Pitch #106<br>Called: BallCalled - StolenBase<br>Batter: Right<br>X: -21.78\"<br>Y: 26.27\"",
         "type": "scatter",
         "x": [
          -21.781080000000003
         ],
         "y": [
          26.26776
         ]
        },
        {
         "hoverinfo": "text",
         "marker": {
          "color": "rgba(0,0,0,0)",
          "size": 5
         },
         "mode": "markers",
         "showlegend": false,
         "text": "Pitch #117<br>Called: BallCalled<br>Batter: Right<br>X: 7.96\"<br>Y: 24.14\"",
         "type": "scatter",
         "x": [
          7.9591199999999995
         ],
         "y": [
          24.1434
         ]
        },
        {
         "hoverinfo": "text",
         "marker": {
          "color": "rgba(0,0,0,0)",
          "size": 5
         },
         "mode": "markers",
         "showlegend": false,
         "text": "Pitch #119<br>Called: BallCalled<br>Batter: Left<br>X: -27.58\"<br>Y: 32.24\"",
         "type": "scatter",
         "x": [
          -27.58392
         ],
         "y": [
          32.23644
         ]
        },
        {
         "hoverinfo": "text",
         "marker": {
          "color": "rgba(0,0,0,0)",
          "size": 5
         },
         "mode": "markers",
         "showlegend": false,
         "text": "Pitch #120<br>Called: BallCalled<br>Batter: Left<br>X: -8.65\"<br>Y: 44.85\"",
         "type": "scatter",
         "x": [
          -8.649840000000001
         ],
         "y": [
          44.84736
         ]
        },
        {
         "hoverinfo": "text",
         "marker": {
          "color": "rgba(0,0,0,0)",
          "size": 5
         },
         "mode": "markers",
         "showlegend": false,
         "text": "Pitch #121<br>Called: BallCalled<br>Batter: Left<br>X: 1.72\"<br>Y: 21.08\"",
         "type": "scatter",
         "x": [
          1.7212800000000001
         ],
         "y": [
          21.077280000000002
         ]
        },
        {
         "hoverinfo": "text",
         "marker": {
          "color": "rgba(0,0,0,0)",
          "size": 5
         },
         "mode": "markers",
         "showlegend": false,
         "text": "Pitch #122<br>Called: StrikeCalled<br>Batter: Left<br>X: -7.06\"<br>Y: 41.29\"",
         "type": "scatter",
         "x": [
          -7.062479999999999
         ],
         "y": [
          41.290800000000004
         ]
        },
        {
         "hoverinfo": "text",
         "marker": {
          "color": "rgba(0,0,0,0)",
          "size": 5
         },
         "mode": "markers",
         "showlegend": false,
         "text": "Pitch #125<br>Called: BallCalled<br>Batter: Right<br>X: -16.89\"<br>Y: 40.61\"",
         "type": "scatter",
         "x": [
          -16.89348
         ],
         "y": [
          40.611239999999995
         ]
        },
        {
         "hoverinfo": "text",
         "marker": {
          "color": "rgba(0,0,0,0)",
          "size": 5
         },
         "mode": "markers",
         "showlegend": false,
         "text": "Pitch #126<br>Called: BallCalled<br>Batter: Right<br>X: -12.05\"<br>Y: 43.38\"",
         "type": "scatter",
         "x": [
          -12.051840000000002
         ],
         "y": [
          43.38372
         ]
        },
        {
         "hoverinfo": "text",
         "marker": {
          "color": "rgba(0,0,0,0)",
          "size": 5
         },
         "mode": "markers",
         "showlegend": false,
         "text": "Pitch #128<br>Called: StrikeCalled<br>Batter: Left<br>X: 1.11\"<br>Y: 35.24\"",
         "type": "scatter",
         "x": [
          1.10952
         ],
         "y": [
          35.24304
         ]
        },
        {
         "hoverinfo": "text",
         "marker": {
          "color": "rgba(0,0,0,0)",
          "size": 5
         },
         "mode": "markers",
         "showlegend": false,
         "text": "Pitch #129<br>Called: BallCalled<br>Batter: Left<br>X: 28.86\"<br>Y: 13.51\"",
         "type": "scatter",
         "x": [
          28.855919999999998
         ],
         "y": [
          13.50852
         ]
        },
        {
         "hoverinfo": "text",
         "marker": {
          "color": "rgba(0,0,0,0)",
          "size": 5
         },
         "mode": "markers",
         "showlegend": false,
         "text": "Pitch #130<br>Called: BallCalled<br>Batter: Left<br>X: 16.12\"<br>Y: 22.28\"",
         "type": "scatter",
         "x": [
          16.122
         ],
         "y": [
          22.27944
         ]
        },
        {
         "hoverinfo": "text",
         "marker": {
          "color": "rgba(0,0,0,0)",
          "size": 5
         },
         "mode": "markers",
         "showlegend": false,
         "text": "Pitch #131<br>Called: StrikeCalled<br>Batter: Left<br>X: -0.27\"<br>Y: 38.49\"",
         "type": "scatter",
         "x": [
          -0.27072
         ],
         "y": [
          38.4888
         ]
        },
        {
         "hoverinfo": "text",
         "marker": {
          "color": "rgba(0,0,0,0)",
          "size": 5
         },
         "mode": "markers",
         "showlegend": false,
         "text": "Pitch #132<br>Called: BallCalled<br>Batter: Left<br>X: 19.66\"<br>Y: 29.14\"",
         "type": "scatter",
         "x": [
          19.6602
         ],
         "y": [
          29.136480000000002
         ]
        },
        {
         "hoverinfo": "text",
         "marker": {
          "color": "rgba(0,0,0,0)",
          "size": 5
         },
         "mode": "markers",
         "showlegend": false,
         "text": "Pitch #134<br>Called: BallCalled<br>Batter: Left<br>X: -2.54\"<br>Y: 45.91\"",
         "type": "scatter",
         "x": [
          -2.53692
         ],
         "y": [
          45.90864
         ]
        },
        {
         "hoverinfo": "text",
         "marker": {
          "color": "rgba(0,0,0,0)",
          "size": 5
         },
         "mode": "markers",
         "showlegend": false,
         "text": "Pitch #135<br>Called: StrikeCalled<br>Batter: Left<br>X: 0.48\"<br>Y: 39.24\"",
         "type": "scatter",
         "x": [
          0.48012
         ],
         "y": [
          39.2442
         ]
        },
        {
         "hoverinfo": "text",
         "marker": {
          "color": "rgba(0,0,0,0)",
          "size": 5
         },
         "mode": "markers",
         "showlegend": false,
         "text": "Pitch #137<br>Called: BallCalled<br>Batter: Left<br>X: 9.52\"<br>Y: 27.67\"",
         "type": "scatter",
         "x": [
          9.51528
         ],
         "y": [
          27.67176
         ]
        },
        {
         "hoverinfo": "text",
         "marker": {
          "color": "rgba(0,0,0,0)",
          "size": 5
         },
         "mode": "markers",
         "showlegend": false,
         "text": "Pitch #139<br>Called: BallCalled<br>Batter: Left<br>X: 7.62\"<br>Y: 43.16\"",
         "type": "scatter",
         "x": [
          7.61628
         ],
         "y": [
          43.157880000000006
         ]
        },
        {
         "hoverinfo": "text",
         "marker": {
          "color": "rgba(0,0,0,0)",
          "size": 5
         },
         "mode": "markers",
         "showlegend": false,
         "text": "Pitch #140<br>Called: BallCalled - Walk<br>Batter: Left<br>X: -13.16\"<br>Y: 52.56\"",
         "type": "scatter",
         "x": [
          -13.15908
         ],
         "y": [
          52.55904
         ]
        },
        {
         "hoverinfo": "text",
         "marker": {
          "color": "rgba(0,0,0,0)",
          "size": 5
         },
         "mode": "markers",
         "showlegend": false,
         "text": "Pitch #142<br>Called: BallCalled<br>Batter: Right<br>X: -5.83\"<br>Y: 45.56\"",
         "type": "scatter",
         "x": [
          -5.83284
         ],
         "y": [
          45.56076
         ]
        },
        {
         "hoverinfo": "text",
         "marker": {
          "color": "rgba(0,0,0,0)",
          "size": 5
         },
         "mode": "markers",
         "showlegend": false,
         "text": "Pitch #145<br>Called: BallCalled<br>Batter: Right<br>X: -10.49\"<br>Y: 47.05\"",
         "type": "scatter",
         "x": [
          -10.49208
         ],
         "y": [
          47.047079999999994
         ]
        },
        {
         "hoverinfo": "text",
         "marker": {
          "color": "rgba(0,0,0,0)",
          "size": 5
         },
         "mode": "markers",
         "showlegend": false,
         "text": "Pitch #147<br>Called: StrikeCalled<br>Batter: Right<br>X: 5.67\"<br>Y: 39.59\"",
         "type": "scatter",
         "x": [
          5.6746799999999995
         ],
         "y": [
          39.59448
         ]
        },
        {
         "hoverinfo": "text",
         "marker": {
          "color": "rgba(0,0,0,0)",
          "size": 5
         },
         "mode": "markers",
         "showlegend": false,
         "text": "Pitch #149<br>Called: BallCalled<br>Batter: Right<br>X: 9.91\"<br>Y: 46.19\"",
         "type": "scatter",
         "x": [
          9.911999999999999
         ],
         "y": [
          46.19124
         ]
        },
        {
         "hoverinfo": "text",
         "marker": {
          "color": "rgba(0,0,0,0)",
          "size": 5
         },
         "mode": "markers",
         "showlegend": false,
         "text": "Pitch #151<br>Called: BallCalled<br>Batter: Left<br>X: 6.81\"<br>Y: 19.24\"",
         "type": "scatter",
         "x": [
          6.80652
         ],
         "y": [
          19.23924
         ]
        },
        {
         "hoverinfo": "text",
         "marker": {
          "color": "rgba(0,0,0,0)",
          "size": 5
         },
         "mode": "markers",
         "showlegend": false,
         "text": "Pitch #152<br>Called: BallCalled<br>Batter: Left<br>X: 8.89\"<br>Y: 57.76\"",
         "type": "scatter",
         "x": [
          8.885760000000001
         ],
         "y": [
          57.756479999999996
         ]
        },
        {
         "hoverinfo": "text",
         "marker": {
          "color": "rgba(0,0,0,0)",
          "size": 5
         },
         "mode": "markers",
         "showlegend": false,
         "text": "Pitch #153<br>Called: BallCalled<br>Batter: Left<br>X: 19.06\"<br>Y: 12.68\"",
         "type": "scatter",
         "x": [
          19.060920000000003
         ],
         "y": [
          12.67632
         ]
        },
        {
         "hoverinfo": "text",
         "marker": {
          "color": "rgba(0,0,0,0)",
          "size": 5
         },
         "mode": "markers",
         "showlegend": false,
         "text": "Pitch #154<br>Called: BallCalled - Walk<br>Batter: Left<br>X: 12.39\"<br>Y: 13.35\"",
         "type": "scatter",
         "x": [
          12.38916
         ],
         "y": [
          13.354199999999999
         ]
        },
        {
         "hoverinfo": "text",
         "marker": {
          "color": "rgba(0,0,0,0)",
          "size": 5
         },
         "mode": "markers",
         "showlegend": false,
         "text": "Pitch #155<br>Called: BallCalled<br>Batter: Right<br>X: 12.60\"<br>Y: 33.90\"",
         "type": "scatter",
         "x": [
          12.599879999999999
         ],
         "y": [
          33.89988
         ]
        },
        {
         "hoverinfo": "text",
         "marker": {
          "color": "rgba(0,0,0,0)",
          "size": 5
         },
         "mode": "markers",
         "showlegend": false,
         "text": "Pitch #156<br>Called: BallCalled<br>Batter: Right<br>X: 16.39\"<br>Y: 5.22\"",
         "type": "scatter",
         "x": [
          16.38768
         ],
         "y": [
          5.2223999999999995
         ]
        },
        {
         "hoverinfo": "text",
         "marker": {
          "color": "rgba(0,0,0,0)",
          "size": 5
         },
         "mode": "markers",
         "showlegend": false,
         "text": "Pitch #157<br>Called: StrikeCalled<br>Batter: Right<br>X: -3.92\"<br>Y: 26.29\"",
         "type": "scatter",
         "x": [
          -3.92436
         ],
         "y": [
          26.290080000000003
         ]
        },
        {
         "hoverinfo": "text",
         "marker": {
          "color": "rgba(0,0,0,0)",
          "size": 5
         },
         "mode": "markers",
         "showlegend": false,
         "text": "Pitch #158<br>Called: StrikeCalled<br>Batter: Right<br>X: 1.66\"<br>Y: 27.04\"",
         "type": "scatter",
         "x": [
          1.65996
         ],
         "y": [
          27.0396
         ]
        },
        {
         "hoverinfo": "text",
         "marker": {
          "color": "rgba(0,0,0,0)",
          "size": 5
         },
         "mode": "markers",
         "showlegend": false,
         "text": "Pitch #160<br>Called: BallCalled<br>Batter: Right<br>X: 7.09\"<br>Y: 49.05\"",
         "type": "scatter",
         "x": [
          7.094399999999999
         ],
         "y": [
          49.04939999999999
         ]
        },
        {
         "hoverinfo": "text",
         "marker": {
          "color": "rgba(0,0,0,0)",
          "size": 5
         },
         "mode": "markers",
         "showlegend": false,
         "text": "Pitch #164<br>Called: StrikeCalled<br>Batter: Left<br>X: -5.65\"<br>Y: 38.84\"",
         "type": "scatter",
         "x": [
          -5.6506799999999995
         ],
         "y": [
          38.83932
         ]
        },
        {
         "hoverinfo": "text",
         "marker": {
          "color": "rgba(0,0,0,0)",
          "size": 5
         },
         "mode": "markers",
         "showlegend": false,
         "text": "Pitch #166<br>Called: BallCalled<br>Batter: Left<br>X: -7.55\"<br>Y: 9.28\"",
         "type": "scatter",
         "x": [
          -7.554600000000001
         ],
         "y": [
          9.27936
         ]
        },
        {
         "hoverinfo": "text",
         "marker": {
          "color": "rgba(0,0,0,0)",
          "size": 5
         },
         "mode": "markers",
         "showlegend": false,
         "text": "Pitch #167<br>Called: BallCalled<br>Batter: Left<br>X: 2.51\"<br>Y: 58.17\"",
         "type": "scatter",
         "x": [
          2.51232
         ],
         "y": [
          58.17168
         ]
        },
        {
         "hoverinfo": "text",
         "marker": {
          "color": "rgba(0,0,0,0)",
          "size": 5
         },
         "mode": "markers",
         "showlegend": false,
         "text": "Pitch #169<br>Called: BallCalled<br>Batter: Left<br>X: -14.46\"<br>Y: -15.22\"",
         "type": "scatter",
         "x": [
          -14.45976
         ],
         "y": [
          -15.215160000000001
         ]
        },
        {
         "hoverinfo": "text",
         "marker": {
          "color": "rgba(0,0,0,0)",
          "size": 5
         },
         "mode": "markers",
         "showlegend": false,
         "text": "Pitch #171<br>Called: BallCalled - Walk<br>Batter: Left<br>X: 1.11\"<br>Y: 40.64\"",
         "type": "scatter",
         "x": [
          1.10664
         ],
         "y": [
          40.6434
         ]
        },
        {
         "hoverinfo": "text",
         "marker": {
          "color": "rgba(0,0,0,0)",
          "size": 5
         },
         "mode": "markers",
         "showlegend": false,
         "text": "Pitch #172<br>Called: BallCalled<br>Batter: Left<br>X: 13.69\"<br>Y: 21.31\"",
         "type": "scatter",
         "x": [
          13.690559999999998
         ],
         "y": [
          21.31344
         ]
        },
        {
         "hoverinfo": "text",
         "marker": {
          "color": "rgba(0,0,0,0)",
          "size": 5
         },
         "mode": "markers",
         "showlegend": false,
         "text": "Pitch #173<br>Called: BallCalled<br>Batter: Left<br>X: -18.76\"<br>Y: 56.20\"",
         "type": "scatter",
         "x": [
          -18.75684
         ],
         "y": [
          56.19876
         ]
        },
        {
         "hoverinfo": "text",
         "marker": {
          "color": "rgba(0,0,0,0)",
          "size": 5
         },
         "mode": "markers",
         "showlegend": false,
         "text": "Pitch #174<br>Called: BallCalled<br>Batter: Left<br>X: -0.03\"<br>Y: 56.73\"",
         "type": "scatter",
         "x": [
          -0.03372
         ],
         "y": [
          56.72676
         ]
        },
        {
         "hoverinfo": "text",
         "marker": {
          "color": "rgba(0,0,0,0)",
          "size": 5
         },
         "mode": "markers",
         "showlegend": false,
         "text": "Pitch #175<br>Called: StrikeCalled<br>Batter: Left<br>X: -3.21\"<br>Y: 38.61\"",
         "type": "scatter",
         "x": [
          -3.21396
         ],
         "y": [
          38.6076
         ]
        },
        {
         "hoverinfo": "text",
         "marker": {
          "color": "rgba(0,0,0,0)",
          "size": 5
         },
         "mode": "markers",
         "showlegend": false,
         "text": "Pitch #176<br>Called: StrikeCalled<br>Batter: Left<br>X: -2.75\"<br>Y: 26.02\"",
         "type": "scatter",
         "x": [
          -2.7468
         ],
         "y": [
          26.015280000000004
         ]
        },
        {
         "hoverinfo": "text",
         "marker": {
          "color": "rgba(0,0,0,0)",
          "size": 5
         },
         "mode": "markers",
         "showlegend": false,
         "text": "Pitch #178<br>Called: BallCalled<br>Batter: Left<br>X: -12.58\"<br>Y: 43.98\"",
         "type": "scatter",
         "x": [
          -12.57924
         ],
         "y": [
          43.98144
         ]
        },
        {
         "hoverinfo": "text",
         "marker": {
          "color": "rgba(0,0,0,0)",
          "size": 5
         },
         "mode": "markers",
         "showlegend": false,
         "text": "Pitch #179<br>Called: StrikeCalled<br>Batter: Left<br>X: -3.75\"<br>Y: 29.09\"",
         "type": "scatter",
         "x": [
          -3.75324
         ],
         "y": [
          29.094720000000002
         ]
        },
        {
         "hoverinfo": "text",
         "marker": {
          "color": "rgba(0,0,0,0)",
          "size": 5
         },
         "mode": "markers",
         "showlegend": false,
         "text": "Pitch #180<br>Called: BallCalled<br>Batter: Left<br>X: 21.31\"<br>Y: 35.62\"",
         "type": "scatter",
         "x": [
          21.314639999999997
         ],
         "y": [
          35.61996
         ]
        },
        {
         "hoverinfo": "text",
         "marker": {
          "color": "rgba(0,0,0,0)",
          "size": 5
         },
         "mode": "markers",
         "showlegend": false,
         "text": "Pitch #181<br>Called: BallCalled<br>Batter: Left<br>X: -14.61\"<br>Y: 32.26\"",
         "type": "scatter",
         "x": [
          -14.61156
         ],
         "y": [
          32.256479999999996
         ]
        },
        {
         "hoverinfo": "text",
         "marker": {
          "color": "rgba(0,0,0,0)",
          "size": 5
         },
         "mode": "markers",
         "showlegend": false,
         "text": "Pitch #182<br>Called: StrikeCalled<br>Batter: Left<br>X: -4.82\"<br>Y: 22.09\"",
         "type": "scatter",
         "x": [
          -4.82424
         ],
         "y": [
          22.09488
         ]
        },
        {
         "hoverinfo": "text",
         "marker": {
          "color": "rgba(0,0,0,0)",
          "size": 5
         },
         "mode": "markers",
         "showlegend": false,
         "text": "Pitch #183<br>Called: BallCalled - Walk<br>Batter: Left<br>X: -6.64\"<br>Y: 18.62\"",
         "type": "scatter",
         "x": [
          -6.63528
         ],
         "y": [
          18.61884
         ]
        },
        {
         "hoverinfo": "text",
         "marker": {
          "color": "rgba(0,0,0,0)",
          "size": 5
         },
         "mode": "markers",
         "showlegend": false,
         "text": "Pitch #188<br>Called: BallCalled - StolenBase<br>Batter: Right<br>X: -11.66\"<br>Y: 66.55\"",
         "type": "scatter",
         "x": [
          -11.65908
         ],
         "y": [
          66.54768
         ]
        },
        {
         "hoverinfo": "text",
         "marker": {
          "color": "rgba(0,0,0,0)",
          "size": 5
         },
         "mode": "markers",
         "showlegend": false,
         "text": "Pitch #189<br>Called: StrikeCalled - Strikeout<br>Batter: Right<br>X: -11.02\"<br>Y: 38.65\"",
         "type": "scatter",
         "x": [
          -11.019359999999999
         ],
         "y": [
          38.64588
         ]
        },
        {
         "hoverinfo": "text",
         "marker": {
          "color": "rgba(0,0,0,0)",
          "size": 5
         },
         "mode": "markers",
         "showlegend": false,
         "text": "Pitch #190<br>Called: StrikeCalled<br>Batter: Left<br>X: -0.27\"<br>Y: 44.05\"",
         "type": "scatter",
         "x": [
          -0.26628
         ],
         "y": [
          44.04624
         ]
        },
        {
         "hoverinfo": "text",
         "marker": {
          "color": "rgba(0,0,0,0)",
          "size": 5
         },
         "mode": "markers",
         "showlegend": false,
         "text": "Pitch #191<br>Called: BallCalled<br>Batter: Left<br>X: -2.59\"<br>Y: 48.85\"",
         "type": "scatter",
         "x": [
          -2.59224
         ],
         "y": [
          48.852239999999995
         ]
        },
        {
         "hoverinfo": "text",
         "marker": {
          "color": "rgba(0,0,0,0)",
          "size": 5
         },
         "mode": "markers",
         "showlegend": false,
         "text": "Pitch #192<br>Called: StrikeCalled<br>Batter: Left<br>X: 10.27\"<br>Y: 40.23\"",
         "type": "scatter",
         "x": [
          10.2708
         ],
         "y": [
          40.2258
         ]
        },
        {
         "hoverinfo": "text",
         "marker": {
          "color": "rgba(0,0,0,0)",
          "size": 5
         },
         "mode": "markers",
         "showlegend": false,
         "text": "Pitch #193<br>Called: BallCalled<br>Batter: Left<br>X: 23.43\"<br>Y: 35.97\"",
         "type": "scatter",
         "x": [
          23.43132
         ],
         "y": [
          35.97264
         ]
        },
        {
         "hoverinfo": "text",
         "marker": {
          "color": "rgba(0,0,0,0)",
          "size": 5
         },
         "mode": "markers",
         "showlegend": false,
         "text": "Pitch #195<br>Called: BallCalled<br>Batter: Left<br>X: 16.62\"<br>Y: -0.75\"",
         "type": "scatter",
         "x": [
          16.62444
         ],
         "y": [
          -0.7514399999999999
         ]
        },
        {
         "hoverinfo": "text",
         "marker": {
          "color": "rgba(0,0,0,0)",
          "size": 5
         },
         "mode": "markers",
         "showlegend": false,
         "text": "Pitch #199<br>Called: BallCalled<br>Batter: Right<br>X: -9.90\"<br>Y: 63.67\"",
         "type": "scatter",
         "x": [
          -9.89556
         ],
         "y": [
          63.67392
         ]
        },
        {
         "hoverinfo": "text",
         "marker": {
          "color": "rgba(0,0,0,0)",
          "size": 5
         },
         "mode": "markers",
         "showlegend": false,
         "text": "Pitch #201<br>Called: BallCalled<br>Batter: Right<br>X: -14.97\"<br>Y: 91.56\"",
         "type": "scatter",
         "x": [
          -14.9712
         ],
         "y": [
          91.56371999999999
         ]
        },
        {
         "hoverinfo": "text",
         "marker": {
          "color": "rgba(0,0,0,0)",
          "size": 5
         },
         "mode": "markers",
         "showlegend": false,
         "text": "Pitch #203<br>Called: BallCalled<br>Batter: Right<br>X: -9.34\"<br>Y: 53.50\"",
         "type": "scatter",
         "x": [
          -9.341280000000001
         ],
         "y": [
          53.50104
         ]
        },
        {
         "hoverinfo": "text",
         "marker": {
          "color": "rgba(0,0,0,0)",
          "size": 5
         },
         "mode": "markers",
         "showlegend": false,
         "text": "Pitch #204<br>Called: StrikeCalled<br>Batter: Right<br>X: -10.85\"<br>Y: 43.15\"",
         "type": "scatter",
         "x": [
          -10.84956
         ],
         "y": [
          43.15044
         ]
        },
        {
         "hoverinfo": "text",
         "marker": {
          "color": "rgba(0,0,0,0)",
          "size": 5
         },
         "mode": "markers",
         "showlegend": false,
         "text": "Pitch #207<br>Called: BallCalled<br>Batter: Right<br>X: 8.71\"<br>Y: 49.46\"",
         "type": "scatter",
         "x": [
          8.70744
         ],
         "y": [
          49.45716
         ]
        },
        {
         "hoverinfo": "text",
         "marker": {
          "color": "rgba(0,0,0,0)",
          "size": 5
         },
         "mode": "markers",
         "showlegend": false,
         "text": "Pitch #209<br>Called: StrikeCalled<br>Batter: Left<br>X: 4.63\"<br>Y: 27.15\"",
         "type": "scatter",
         "x": [
          4.63344
         ],
         "y": [
          27.147
         ]
        },
        {
         "hoverinfo": "text",
         "marker": {
          "color": "rgba(0,0,0,0)",
          "size": 5
         },
         "mode": "markers",
         "showlegend": false,
         "text": "Pitch #210<br>Called: BallCalled<br>Batter: Left<br>X: -8.94\"<br>Y: 18.97\"",
         "type": "scatter",
         "x": [
          -8.93712
         ],
         "y": [
          18.973080000000003
         ]
        },
        {
         "hoverinfo": "text",
         "marker": {
          "color": "rgba(0,0,0,0)",
          "size": 5
         },
         "mode": "markers",
         "showlegend": false,
         "text": "Pitch #211<br>Called: BallCalled<br>Batter: Left<br>X: 1.89\"<br>Y: 64.02\"",
         "type": "scatter",
         "x": [
          1.88808
         ],
         "y": [
          64.02083999999999
         ]
        },
        {
         "hoverinfo": "text",
         "marker": {
          "color": "rgba(0,0,0,0)",
          "size": 5
         },
         "mode": "markers",
         "showlegend": false,
         "text": "Pitch #212<br>Called: StrikeCalled<br>Batter: Left<br>X: -5.74\"<br>Y: 37.85\"",
         "type": "scatter",
         "x": [
          -5.7351600000000005
         ],
         "y": [
          37.852560000000004
         ]
        },
        {
         "hoverinfo": "text",
         "marker": {
          "color": "rgba(0,0,0,0)",
          "size": 5
         },
         "mode": "markers",
         "showlegend": false,
         "text": "Pitch #214<br>Called: StrikeCalled<br>Batter: Right<br>X: -12.14\"<br>Y: 33.61\"",
         "type": "scatter",
         "x": [
          -12.13596
         ],
         "y": [
          33.6054
         ]
        },
        {
         "hoverinfo": "text",
         "marker": {
          "color": "rgba(0,0,0,0)",
          "size": 5
         },
         "mode": "markers",
         "showlegend": false,
         "text": "Pitch #218<br>Called: StrikeCalled<br>Batter: Left<br>X: -2.57\"<br>Y: 28.10\"",
         "type": "scatter",
         "x": [
          -2.57496
         ],
         "y": [
          28.099559999999997
         ]
        },
        {
         "hoverinfo": "text",
         "marker": {
          "color": "rgba(0,0,0,0)",
          "size": 5
         },
         "mode": "markers",
         "showlegend": false,
         "text": "Pitch #219<br>Called: BallCalled<br>Batter: Left<br>X: -17.32\"<br>Y: 21.41\"",
         "type": "scatter",
         "x": [
          -17.31864
         ],
         "y": [
          21.40968
         ]
        },
        {
         "hoverinfo": "text",
         "marker": {
          "color": "rgba(0,0,0,0)",
          "size": 5
         },
         "mode": "markers",
         "showlegend": false,
         "text": "Pitch #220<br>Called: BallCalled<br>Batter: Left<br>X: 2.20\"<br>Y: 47.33\"",
         "type": "scatter",
         "x": [
          2.1980399999999998
         ],
         "y": [
          47.32884
         ]
        },
        {
         "hoverinfo": "text",
         "marker": {
          "color": "rgba(0,0,0,0)",
          "size": 5
         },
         "mode": "markers",
         "showlegend": false,
         "text": "Pitch #221<br>Called: BallCalled<br>Batter: Left<br>X: 12.08\"<br>Y: 23.52\"",
         "type": "scatter",
         "x": [
          12.08004
         ],
         "y": [
          23.5194
         ]
        },
        {
         "hoverinfo": "text",
         "marker": {
          "color": "rgba(0,0,0,0)",
          "size": 5
         },
         "mode": "markers",
         "showlegend": false,
         "text": "Pitch #223<br>Called: BallCalled - Walk<br>Batter: Left<br>X: -3.59\"<br>Y: 55.13\"",
         "type": "scatter",
         "x": [
          -3.58932
         ],
         "y": [
          55.1346
         ]
        },
        {
         "hoverinfo": "text",
         "marker": {
          "color": "rgba(0,0,0,0)",
          "size": 5
         },
         "mode": "markers",
         "showlegend": false,
         "text": "Pitch #225<br>Called: BallCalled<br>Batter: Right<br>X: -19.81\"<br>Y: 27.30\"",
         "type": "scatter",
         "x": [
          -19.81152
         ],
         "y": [
          27.299999999999997
         ]
        },
        {
         "hoverinfo": "text",
         "marker": {
          "color": "rgba(0,0,0,0)",
          "size": 5
         },
         "mode": "markers",
         "showlegend": false,
         "text": "Pitch #226<br>Called: StrikeCalled<br>Batter: Right<br>X: -6.75\"<br>Y: 36.24\"",
         "type": "scatter",
         "x": [
          -6.75204
         ],
         "y": [
          36.24168
         ]
        },
        {
         "hoverinfo": "text",
         "marker": {
          "color": "rgba(0,0,0,0)",
          "size": 5
         },
         "mode": "markers",
         "showlegend": false,
         "text": "Pitch #227<br>Called: BallCalled<br>Batter: Right<br>X: -4.81\"<br>Y: 48.80\"",
         "type": "scatter",
         "x": [
          -4.8132
         ],
         "y": [
          48.80124
         ]
        },
        {
         "hoverinfo": "text",
         "marker": {
          "color": "rgba(0,0,0,0)",
          "size": 5
         },
         "mode": "markers",
         "showlegend": false,
         "text": "Pitch #229<br>Called: StrikeCalled<br>Batter: Right<br>X: 0.91\"<br>Y: 17.41\"",
         "type": "scatter",
         "x": [
          0.9050400000000001
         ],
         "y": [
          17.411160000000002
         ]
        },
        {
         "hoverinfo": "text",
         "marker": {
          "color": "rgba(0,0,0,0)",
          "size": 5
         },
         "mode": "markers",
         "showlegend": false,
         "text": "Pitch #230<br>Called: BallCalled<br>Batter: Right<br>X: 16.34\"<br>Y: 38.85\"",
         "type": "scatter",
         "x": [
          16.3428
         ],
         "y": [
          38.85324
         ]
        },
        {
         "hoverinfo": "text",
         "marker": {
          "color": "rgba(0,0,0,0)",
          "size": 5
         },
         "mode": "markers",
         "showlegend": false,
         "text": "Pitch #232<br>Called: BallCalled<br>Batter: Right<br>X: -12.15\"<br>Y: 14.83\"",
         "type": "scatter",
         "x": [
          -12.148319999999998
         ],
         "y": [
          14.833919999999999
         ]
        },
        {
         "hoverinfo": "text",
         "marker": {
          "color": "rgba(0,0,0,0)",
          "size": 5
         },
         "mode": "markers",
         "showlegend": false,
         "text": "Pitch #235<br>Called: BallCalled<br>Batter: Right<br>X: 20.30\"<br>Y: 40.32\"",
         "type": "scatter",
         "x": [
          20.30004
         ],
         "y": [
          40.316159999999996
         ]
        },
        {
         "hoverinfo": "text",
         "marker": {
          "color": "rgba(0,0,0,0)",
          "size": 5
         },
         "mode": "markers",
         "showlegend": false,
         "text": "Pitch #237<br>Called: BallCalled<br>Batter: Right<br>X: 1.85\"<br>Y: 49.54\"",
         "type": "scatter",
         "x": [
          1.84728
         ],
         "y": [
          49.536719999999995
         ]
        },
        {
         "hoverinfo": "text",
         "marker": {
          "color": "rgba(0,0,0,0)",
          "size": 5
         },
         "mode": "markers",
         "showlegend": false,
         "text": "Pitch #239<br>Called: BallCalled<br>Batter: Left<br>X: 15.04\"<br>Y: 20.52\"",
         "type": "scatter",
         "x": [
          15.03624
         ],
         "y": [
          20.520719999999997
         ]
        },
        {
         "hoverinfo": "text",
         "marker": {
          "color": "rgba(0,0,0,0)",
          "size": 5
         },
         "mode": "markers",
         "showlegend": false,
         "text": "Pitch #241<br>Called: BallCalled<br>Batter: Left<br>X: -3.04\"<br>Y: 18.34\"",
         "type": "scatter",
         "x": [
          -3.0378
         ],
         "y": [
          18.3432
         ]
        },
        {
         "hoverinfo": "text",
         "marker": {
          "color": "rgba(0,0,0,0)",
          "size": 5
         },
         "mode": "markers",
         "showlegend": false,
         "text": "Pitch #242<br>Called: BallCalled<br>Batter: Left<br>X: -5.73\"<br>Y: 17.40\"",
         "type": "scatter",
         "x": [
          -5.73312
         ],
         "y": [
          17.4042
         ]
        },
        {
         "hoverinfo": "text",
         "marker": {
          "color": "rgba(0,0,0,0)",
          "size": 5
         },
         "mode": "markers",
         "showlegend": false,
         "text": "Pitch #244<br>Called: BallCalled<br>Batter: Left<br>X: 19.57\"<br>Y: 45.22\"",
         "type": "scatter",
         "x": [
          19.56804
         ],
         "y": [
          45.222120000000004
         ]
        },
        {
         "hoverinfo": "text",
         "marker": {
          "color": "rgba(0,0,0,0)",
          "size": 5
         },
         "mode": "markers",
         "showlegend": false,
         "text": "Pitch #245<br>Called: StrikeCalled<br>Batter: Left<br>X: 15.17\"<br>Y: 40.77\"",
         "type": "scatter",
         "x": [
          15.16524
         ],
         "y": [
          40.76748
         ]
        },
        {
         "hoverinfo": "text",
         "marker": {
          "color": "rgba(0,0,0,0)",
          "size": 5
         },
         "mode": "markers",
         "showlegend": false,
         "text": "Pitch #246<br>Called: StrikeCalled<br>Batter: Left<br>X: -4.67\"<br>Y: 32.79\"",
         "type": "scatter",
         "x": [
          -4.67052
         ],
         "y": [
          32.79156
         ]
        },
        {
         "hoverinfo": "text",
         "marker": {
          "color": "rgba(0,0,0,0)",
          "size": 5
         },
         "mode": "markers",
         "showlegend": false,
         "text": "Pitch #247<br>Called: BallCalled<br>Batter: Left<br>X: -17.38\"<br>Y: 48.93\"",
         "type": "scatter",
         "x": [
          -17.376240000000003
         ],
         "y": [
          48.92976
         ]
        },
        {
         "hoverinfo": "text",
         "marker": {
          "color": "rgba(0,0,0,0)",
          "size": 5
         },
         "mode": "markers",
         "showlegend": false,
         "text": "Pitch #248<br>Called: BallCalled<br>Batter: Left<br>X: 12.64\"<br>Y: 55.94\"",
         "type": "scatter",
         "x": [
          12.642959999999999
         ],
         "y": [
          55.9422
         ]
        },
        {
         "hoverinfo": "text",
         "marker": {
          "color": "rgba(0,0,0,0)",
          "size": 5
         },
         "mode": "markers",
         "showlegend": false,
         "text": "Pitch #251<br>Called: BallCalled<br>Batter: Right<br>X: -10.39\"<br>Y: 51.22\"",
         "type": "scatter",
         "x": [
          -10.39116
         ],
         "y": [
          51.219719999999995
         ]
        },
        {
         "hoverinfo": "text",
         "marker": {
          "color": "rgba(0,0,0,0)",
          "size": 5
         },
         "mode": "markers",
         "showlegend": false,
         "text": "Pitch #256<br>Called: BallCalled<br>Batter: Left<br>X: 12.09\"<br>Y: 53.84\"",
         "type": "scatter",
         "x": [
          12.08628
         ],
         "y": [
          53.83668
         ]
        },
        {
         "hoverinfo": "text",
         "marker": {
          "color": "rgba(0,0,0,0)",
          "size": 5
         },
         "mode": "markers",
         "showlegend": false,
         "text": "Pitch #259<br>Called: StrikeCalled<br>Batter: Right<br>X: -1.08\"<br>Y: 26.25\"",
         "type": "scatter",
         "x": [
          -1.0762800000000001
         ],
         "y": [
          26.253480000000003
         ]
        },
        {
         "hoverinfo": "text",
         "marker": {
          "color": "rgba(0,0,0,0)",
          "size": 5
         },
         "mode": "markers",
         "showlegend": false,
         "text": "Pitch #261<br>Called: StrikeCalled<br>Batter: Left<br>X: 14.00\"<br>Y: 39.73\"",
         "type": "scatter",
         "x": [
          14.00028
         ],
         "y": [
          39.72636
         ]
        },
        {
         "hoverinfo": "text",
         "marker": {
          "color": "rgba(0,0,0,0)",
          "size": 5
         },
         "mode": "markers",
         "showlegend": false,
         "text": "Pitch #264<br>Called: BallCalled<br>Batter: Left<br>X: 21.82\"<br>Y: 38.29\"",
         "type": "scatter",
         "x": [
          21.82032
         ],
         "y": [
          38.29092
         ]
        },
        {
         "hoverinfo": "text",
         "marker": {
          "color": "rgba(0,0,0,0)",
          "size": 5
         },
         "mode": "markers",
         "showlegend": false,
         "text": "Pitch #266<br>Called: BallCalled<br>Batter: Left<br>X: 0.62\"<br>Y: 58.87\"",
         "type": "scatter",
         "x": [
          0.6242399999999999
         ],
         "y": [
          58.86936
         ]
        },
        {
         "hoverinfo": "text",
         "marker": {
          "color": "rgba(0,0,0,0)",
          "size": 5
         },
         "mode": "markers",
         "showlegend": false,
         "text": "Pitch #267<br>Called: BallCalled<br>Batter: Left<br>X: 6.84\"<br>Y: 14.52\"",
         "type": "scatter",
         "x": [
          6.841200000000001
         ],
         "y": [
          14.515799999999999
         ]
        },
        {
         "hoverinfo": "text",
         "marker": {
          "color": "rgba(0,0,0,0)",
          "size": 5
         },
         "mode": "markers",
         "showlegend": false,
         "text": "Pitch #268<br>Called: BallCalled<br>Batter: Left<br>X: 21.79\"<br>Y: 53.28\"",
         "type": "scatter",
         "x": [
          21.78996
         ],
         "y": [
          53.28372
         ]
        },
        {
         "hoverinfo": "text",
         "marker": {
          "color": "rgba(0,0,0,0)",
          "size": 5
         },
         "mode": "markers",
         "showlegend": false,
         "text": "Pitch #269<br>Called: StrikeCalled<br>Batter: Left<br>X: -0.37\"<br>Y: 25.38\"",
         "type": "scatter",
         "x": [
          -0.36792
         ],
         "y": [
          25.37628
         ]
        },
        {
         "hoverinfo": "text",
         "marker": {
          "color": "rgba(0,0,0,0)",
          "size": 5
         },
         "mode": "markers",
         "showlegend": false,
         "text": "Pitch #270<br>Called: BallCalled - Walk<br>Batter: Left<br>X: 5.51\"<br>Y: 55.16\"",
         "type": "scatter",
         "x": [
          5.5092
         ],
         "y": [
          55.164840000000005
         ]
        },
        {
         "hoverinfo": "text",
         "marker": {
          "color": "rgba(0,0,0,0)",
          "size": 5
         },
         "mode": "markers",
         "showlegend": false,
         "text": "Pitch #271<br>Called: StrikeCalled<br>Batter: Right<br>X: 7.94\"<br>Y: 34.13\"",
         "type": "scatter",
         "x": [
          7.939080000000001
         ],
         "y": [
          34.13364
         ]
        },
        {
         "hoverinfo": "text",
         "marker": {
          "color": "rgba(0,0,0,0)",
          "size": 5
         },
         "mode": "markers",
         "showlegend": false,
         "text": "Pitch #273<br>Called: BallCalled<br>Batter: Right<br>X: -24.55\"<br>Y: 5.32\"",
         "type": "scatter",
         "x": [
          -24.55368
         ],
         "y": [
          5.324999999999999
         ]
        },
        {
         "hoverinfo": "text",
         "marker": {
          "color": "rgba(0,0,0,0)",
          "size": 5
         },
         "mode": "markers",
         "showlegend": false,
         "text": "Pitch #274<br>Called: BallCalled<br>Batter: Right<br>X: -16.43\"<br>Y: 28.40\"",
         "type": "scatter",
         "x": [
          -16.4268
         ],
         "y": [
          28.40484
         ]
        },
        {
         "hoverinfo": "text",
         "marker": {
          "color": "rgba(0,0,0,0)",
          "size": 5
         },
         "mode": "markers",
         "showlegend": false,
         "text": "Pitch #276<br>Called: StrikeCalled<br>Batter: Left<br>X: -5.73\"<br>Y: 37.78\"",
         "type": "scatter",
         "x": [
          -5.72832
         ],
         "y": [
          37.7832
         ]
        },
        {
         "hoverinfo": "text",
         "marker": {
          "color": "rgba(0,0,0,0)",
          "size": 5
         },
         "mode": "markers",
         "showlegend": false,
         "text": "Pitch #277<br>Called: StrikeCalled<br>Batter: Left<br>X: 6.71\"<br>Y: 40.64\"",
         "type": "scatter",
         "x": [
          6.713280000000001
         ],
         "y": [
          40.64148
         ]
        },
        {
         "hoverinfo": "text",
         "marker": {
          "color": "rgba(0,0,0,0)",
          "size": 5
         },
         "mode": "markers",
         "showlegend": false,
         "text": "Pitch #278<br>Called: BallCalled<br>Batter: Left<br>X: 23.52\"<br>Y: 46.80\"",
         "type": "scatter",
         "x": [
          23.51868
         ],
         "y": [
          46.79748
         ]
        },
        {
         "hoverinfo": "text",
         "marker": {
          "color": "rgba(0,0,0,0)",
          "size": 5
         },
         "mode": "markers",
         "showlegend": false,
         "text": "Pitch #279<br>Called: BallCalled<br>Batter: Left<br>X: 8.89\"<br>Y: 43.63\"",
         "type": "scatter",
         "x": [
          8.88936
         ],
         "y": [
          43.625280000000004
         ]
        },
        {
         "hoverinfo": "text",
         "marker": {
          "color": "rgba(0,0,0,0)",
          "size": 5
         },
         "mode": "markers",
         "showlegend": false,
         "text": "Pitch #282<br>Called: StrikeCalled<br>Batter: Left<br>X: 8.01\"<br>Y: 31.22\"",
         "type": "scatter",
         "x": [
          8.00628
         ],
         "y": [
          31.22328
         ]
        },
        {
         "hoverinfo": "text",
         "marker": {
          "color": "rgba(0,0,0,0)",
          "size": 5
         },
         "mode": "markers",
         "showlegend": false,
         "text": "Pitch #284<br>Called: BallCalled<br>Batter: Left<br>X: 21.33\"<br>Y: 48.56\"",
         "type": "scatter",
         "x": [
          21.32544
         ],
         "y": [
          48.558
         ]
        },
        {
         "hoverinfo": "text",
         "marker": {
          "color": "rgba(0,0,0,0)",
          "size": 5
         },
         "mode": "markers",
         "showlegend": false,
         "text": "Pitch #286<br>Called: StrikeCalled<br>Batter: Left<br>X: -0.76\"<br>Y: 23.53\"",
         "type": "scatter",
         "x": [
          -0.7579199999999999
         ],
         "y": [
          23.53056
         ]
        },
        {
         "hoverinfo": "text",
         "marker": {
          "color": "rgba(0,0,0,0)",
          "size": 5
         },
         "mode": "markers",
         "showlegend": false,
         "text": "Pitch #288<br>Called: StrikeCalled<br>Batter: Right<br>X: -9.97\"<br>Y: 32.60\"",
         "type": "scatter",
         "x": [
          -9.96864
         ],
         "y": [
          32.603519999999996
         ]
        },
        {
         "hoverinfo": "text",
         "marker": {
          "color": "rgba(0,0,0,0)",
          "size": 5
         },
         "mode": "markers",
         "showlegend": false,
         "text": "Pitch #289<br>Called: BallCalled<br>Batter: Right<br>X: -23.59\"<br>Y: 20.92\"",
         "type": "scatter",
         "x": [
          -23.59212
         ],
         "y": [
          20.92308
         ]
        },
        {
         "hoverinfo": "text",
         "marker": {
          "color": "rgba(0,0,0,0)",
          "size": 5
         },
         "mode": "markers",
         "showlegend": false,
         "text": "Pitch #291<br>Called: BallCalled<br>Batter: Right<br>X: -10.08\"<br>Y: 15.71\"",
         "type": "scatter",
         "x": [
          -10.076880000000001
         ],
         "y": [
          15.71328
         ]
        },
        {
         "hoverinfo": "text",
         "marker": {
          "color": "rgba(0,0,0,0)",
          "size": 5
         },
         "mode": "markers",
         "showlegend": false,
         "text": "Pitch #295<br>Called: StrikeCalled<br>Batter: Right<br>X: -4.45\"<br>Y: 31.01\"",
         "type": "scatter",
         "x": [
          -4.44948
         ],
         "y": [
          31.010759999999998
         ]
        },
        {
         "hoverinfo": "text",
         "marker": {
          "color": "rgba(0,0,0,0)",
          "size": 5
         },
         "mode": "markers",
         "showlegend": false,
         "text": "Pitch #296<br>Called: BallCalled<br>Batter: Right<br>X: -18.49\"<br>Y: 35.96\"",
         "type": "scatter",
         "x": [
          -18.48876
         ],
         "y": [
          35.958239999999996
         ]
        },
        {
         "hoverinfo": "text",
         "marker": {
          "color": "rgba(0,0,0,0)",
          "size": 5
         },
         "mode": "markers",
         "showlegend": false,
         "text": "Pitch #1<br>Called: BallCalled<br>Batter: Left<br>X: 15.60\"<br>Y: 21.89\"",
         "type": "scatter",
         "x": [
          15.602159999999998
         ],
         "y": [
          21.89424
         ]
        },
        {
         "hoverinfo": "text",
         "marker": {
          "color": "rgba(0,0,0,0)",
          "size": 5
         },
         "mode": "markers",
         "showlegend": false,
         "text": "Pitch #2<br>Called: StrikeCalled<br>Batter: Left<br>X: -0.95\"<br>Y: 39.63\"",
         "type": "scatter",
         "x": [
          -0.9545999999999999
         ],
         "y": [
          39.63216
         ]
        },
        {
         "hoverinfo": "text",
         "marker": {
          "color": "rgba(0,0,0,0)",
          "size": 5
         },
         "mode": "markers",
         "showlegend": false,
         "text": "Pitch #3<br>Called: BallCalled<br>Batter: Left<br>X: 6.08\"<br>Y: 45.62\"",
         "type": "scatter",
         "x": [
          6.08484
         ],
         "y": [
          45.62244
         ]
        },
        {
         "hoverinfo": "text",
         "marker": {
          "color": "rgba(0,0,0,0)",
          "size": 5
         },
         "mode": "markers",
         "showlegend": false,
         "text": "Pitch #4<br>Called: StrikeCalled<br>Batter: Left<br>X: 5.12\"<br>Y: 36.27\"",
         "type": "scatter",
         "x": [
          5.1204
         ],
         "y": [
          36.272760000000005
         ]
        },
        {
         "hoverinfo": "text",
         "marker": {
          "color": "rgba(0,0,0,0)",
          "size": 5
         },
         "mode": "markers",
         "showlegend": false,
         "text": "Pitch #5<br>Called: StrikeCalled - Strikeout<br>Batter: Left<br>X: 3.39\"<br>Y: 38.60\"",
         "type": "scatter",
         "x": [
          3.3940799999999998
         ],
         "y": [
          38.59836
         ]
        },
        {
         "hoverinfo": "text",
         "marker": {
          "color": "rgba(0,0,0,0)",
          "size": 5
         },
         "mode": "markers",
         "showlegend": false,
         "text": "Pitch #8<br>Called: BallCalled<br>Batter: Right<br>X: -5.11\"<br>Y: 7.78\"",
         "type": "scatter",
         "x": [
          -5.11404
         ],
         "y": [
          7.78116
         ]
        },
        {
         "hoverinfo": "text",
         "marker": {
          "color": "rgba(0,0,0,0)",
          "size": 5
         },
         "mode": "markers",
         "showlegend": false,
         "text": "Pitch #12<br>Called: StrikeCalled<br>Batter: Right<br>X: -3.14\"<br>Y: 29.77\"",
         "type": "scatter",
         "x": [
          -3.1415999999999995
         ],
         "y": [
          29.77344
         ]
        },
        {
         "hoverinfo": "text",
         "marker": {
          "color": "rgba(0,0,0,0)",
          "size": 5
         },
         "mode": "markers",
         "showlegend": false,
         "text": "Pitch #13<br>Called: BallCalled<br>Batter: Right<br>X: -19.10\"<br>Y: 29.51\"",
         "type": "scatter",
         "x": [
          -19.10028
         ],
         "y": [
          29.50704
         ]
        },
        {
         "hoverinfo": "text",
         "marker": {
          "color": "rgba(0,0,0,0)",
          "size": 5
         },
         "mode": "markers",
         "showlegend": false,
         "text": "Pitch #16<br>Called: BallCalled<br>Batter: Right<br>X: 40.51\"<br>Y: 51.69\"",
         "type": "scatter",
         "x": [
          40.51404
         ],
         "y": [
          51.686280000000004
         ]
        },
        {
         "hoverinfo": "text",
         "marker": {
          "color": "rgba(0,0,0,0)",
          "size": 5
         },
         "mode": "markers",
         "showlegend": false,
         "text": "Pitch #17<br>Called: StrikeCalled<br>Batter: Right<br>X: 2.68\"<br>Y: 27.44\"",
         "type": "scatter",
         "x": [
          2.67948
         ],
         "y": [
          27.444360000000003
         ]
        },
        {
         "hoverinfo": "text",
         "marker": {
          "color": "rgba(0,0,0,0)",
          "size": 5
         },
         "mode": "markers",
         "showlegend": false,
         "text": "Pitch #22<br>Called: BallCalled<br>Batter: Right<br>X: 14.09\"<br>Y: 7.52\"",
         "type": "scatter",
         "x": [
          14.09412
         ],
         "y": [
          7.521000000000001
         ]
        },
        {
         "hoverinfo": "text",
         "marker": {
          "color": "rgba(0,0,0,0)",
          "size": 5
         },
         "mode": "markers",
         "showlegend": false,
         "text": "Pitch #23<br>Called: BallCalled<br>Batter: Right<br>X: -9.29\"<br>Y: 40.17\"",
         "type": "scatter",
         "x": [
          -9.29064
         ],
         "y": [
          40.17456
         ]
        },
        {
         "hoverinfo": "text",
         "marker": {
          "color": "rgba(0,0,0,0)",
          "size": 5
         },
         "mode": "markers",
         "showlegend": false,
         "text": "Pitch #24<br>Called: BallCalled<br>Batter: Right<br>X: -9.28\"<br>Y: 44.94\"",
         "type": "scatter",
         "x": [
          -9.28488
         ],
         "y": [
          44.93724
         ]
        },
        {
         "hoverinfo": "text",
         "marker": {
          "color": "rgba(0,0,0,0)",
          "size": 5
         },
         "mode": "markers",
         "showlegend": false,
         "text": "Pitch #25<br>Called: BallCalled - Walk<br>Batter: Right<br>X: -5.62\"<br>Y: 45.06\"",
         "type": "scatter",
         "x": [
          -5.61888
         ],
         "y": [
          45.06276
         ]
        },
        {
         "hoverinfo": "text",
         "marker": {
          "color": "rgba(0,0,0,0)",
          "size": 5
         },
         "mode": "markers",
         "showlegend": false,
         "text": "Pitch #26<br>Called: StrikeCalled<br>Batter: Right<br>X: -1.44\"<br>Y: 21.76\"",
         "type": "scatter",
         "x": [
          -1.44036
         ],
         "y": [
          21.76344
         ]
        },
        {
         "hoverinfo": "text",
         "marker": {
          "color": "rgba(0,0,0,0)",
          "size": 5
         },
         "mode": "markers",
         "showlegend": false,
         "text": "Pitch #27<br>Called: BallCalled<br>Batter: Right<br>X: 8.20\"<br>Y: 55.81\"",
         "type": "scatter",
         "x": [
          8.20368
         ],
         "y": [
          55.80972
         ]
        },
        {
         "hoverinfo": "text",
         "marker": {
          "color": "rgba(0,0,0,0)",
          "size": 5
         },
         "mode": "markers",
         "showlegend": false,
         "text": "Pitch #29<br>Called: BallCalled<br>Batter: Right<br>X: 4.95\"<br>Y: 43.93\"",
         "type": "scatter",
         "x": [
          4.9536
         ],
         "y": [
          43.926
         ]
        },
        {
         "hoverinfo": "text",
         "marker": {
          "color": "rgba(0,0,0,0)",
          "size": 5
         },
         "mode": "markers",
         "showlegend": false,
         "text": "Pitch #35<br>Called: StrikeCalled - Strikeout<br>Batter: Right<br>X: 6.45\"<br>Y: 22.89\"",
         "type": "scatter",
         "x": [
          6.4454400000000005
         ],
         "y": [
          22.89
         ]
        },
        {
         "hoverinfo": "text",
         "marker": {
          "color": "rgba(0,0,0,0)",
          "size": 5
         },
         "mode": "markers",
         "showlegend": false,
         "text": "Pitch #36<br>Called: BallCalled<br>Batter: Right<br>X: 17.05\"<br>Y: 15.40\"",
         "type": "scatter",
         "x": [
          17.05452
         ],
         "y": [
          15.39624
         ]
        },
        {
         "hoverinfo": "text",
         "marker": {
          "color": "rgba(0,0,0,0)",
          "size": 5
         },
         "mode": "markers",
         "showlegend": false,
         "text": "Pitch #37<br>Called: StrikeCalled<br>Batter: Right<br>X: 9.05\"<br>Y: 31.17\"",
         "type": "scatter",
         "x": [
          9.0528
         ],
         "y": [
          31.17492
         ]
        },
        {
         "hoverinfo": "text",
         "marker": {
          "color": "rgba(0,0,0,0)",
          "size": 5
         },
         "mode": "markers",
         "showlegend": false,
         "text": "Pitch #39<br>Called: StrikeCalled - Strikeout<br>Batter: Right<br>X: -5.74\"<br>Y: 11.69\"",
         "type": "scatter",
         "x": [
          -5.73852
         ],
         "y": [
          11.693760000000001
         ]
        },
        {
         "hoverinfo": "text",
         "marker": {
          "color": "rgba(0,0,0,0)",
          "size": 5
         },
         "mode": "markers",
         "showlegend": false,
         "text": "Pitch #40<br>Called: BallCalled<br>Batter: Right<br>X: -9.43\"<br>Y: 47.64\"",
         "type": "scatter",
         "x": [
          -9.434280000000001
         ],
         "y": [
          47.64264
         ]
        },
        {
         "hoverinfo": "text",
         "marker": {
          "color": "rgba(0,0,0,0)",
          "size": 5
         },
         "mode": "markers",
         "showlegend": false,
         "text": "Pitch #42<br>Called: StrikeCalled<br>Batter: Right<br>X: -6.72\"<br>Y: 37.03\"",
         "type": "scatter",
         "x": [
          -6.72132
         ],
         "y": [
          37.02984
         ]
        },
        {
         "hoverinfo": "text",
         "marker": {
          "color": "rgba(0,0,0,0)",
          "size": 5
         },
         "mode": "markers",
         "showlegend": false,
         "text": "Pitch #43<br>Called: BallCalled<br>Batter: Right<br>X: -23.58\"<br>Y: 31.06\"",
         "type": "scatter",
         "x": [
          -23.5848
         ],
         "y": [
          31.063560000000003
         ]
        },
        {
         "hoverinfo": "text",
         "marker": {
          "color": "rgba(0,0,0,0)",
          "size": 5
         },
         "mode": "markers",
         "showlegend": false,
         "text": "Pitch #45<br>Called: StrikeCalled<br>Batter: Right<br>X: -0.70\"<br>Y: 30.67\"",
         "type": "scatter",
         "x": [
          -0.6978
         ],
         "y": [
          30.666600000000003
         ]
        },
        {
         "hoverinfo": "text",
         "marker": {
          "color": "rgba(0,0,0,0)",
          "size": 5
         },
         "mode": "markers",
         "showlegend": false,
         "text": "Pitch #48<br>Called: BallCalled<br>Batter: Right<br>X: -6.77\"<br>Y: 21.95\"",
         "type": "scatter",
         "x": [
          -6.76524
         ],
         "y": [
          21.94524
         ]
        },
        {
         "hoverinfo": "text",
         "marker": {
          "color": "rgba(0,0,0,0)",
          "size": 5
         },
         "mode": "markers",
         "showlegend": false,
         "text": "Pitch #49<br>Called: BallCalled<br>Batter: Right<br>X: -12.97\"<br>Y: 35.44\"",
         "type": "scatter",
         "x": [
          -12.97176
         ],
         "y": [
          35.4444
         ]
        },
        {
         "hoverinfo": "text",
         "marker": {
          "color": "rgba(0,0,0,0)",
          "size": 5
         },
         "mode": "markers",
         "showlegend": false,
         "text": "Pitch #51<br>Called: BallCalled<br>Batter: Right<br>X: -17.58\"<br>Y: 64.77\"",
         "type": "scatter",
         "x": [
          -17.5788
         ],
         "y": [
          64.77
         ]
        },
        {
         "hoverinfo": "text",
         "marker": {
          "color": "rgba(0,0,0,0)",
          "size": 5
         },
         "mode": "markers",
         "showlegend": false,
         "text": "Pitch #52<br>Called: BallCalled<br>Batter: Right<br>X: -5.32\"<br>Y: 17.31\"",
         "type": "scatter",
         "x": [
          -5.32416
         ],
         "y": [
          17.3058
         ]
        },
        {
         "hoverinfo": "text",
         "marker": {
          "color": "rgba(0,0,0,0)",
          "size": 5
         },
         "mode": "markers",
         "showlegend": false,
         "text": "Pitch #53<br>Called: BallCalled<br>Batter: Right<br>X: -14.16\"<br>Y: 32.11\"",
         "type": "scatter",
         "x": [
          -14.163239999999998
         ],
         "y": [
          32.1054
         ]
        },
        {
         "hoverinfo": "text",
         "marker": {
          "color": "rgba(0,0,0,0)",
          "size": 5
         },
         "mode": "markers",
         "showlegend": false,
         "text": "Pitch #54<br>Called: StrikeCalled<br>Batter: Right<br>X: 7.77\"<br>Y: 39.17\"",
         "type": "scatter",
         "x": [
          7.774800000000001
         ],
         "y": [
          39.168839999999996
         ]
        },
        {
         "hoverinfo": "text",
         "marker": {
          "color": "rgba(0,0,0,0)",
          "size": 5
         },
         "mode": "markers",
         "showlegend": false,
         "text": "Pitch #57<br>Called: StrikeCalled - Strikeout<br>Batter: Right<br>X: -6.69\"<br>Y: 36.81\"",
         "type": "scatter",
         "x": [
          -6.6852
         ],
         "y": [
          36.812160000000006
         ]
        },
        {
         "hoverinfo": "text",
         "marker": {
          "color": "rgba(0,0,0,0)",
          "size": 5
         },
         "mode": "markers",
         "showlegend": false,
         "text": "Pitch #58<br>Called: BallCalled<br>Batter: Right<br>X: -14.88\"<br>Y: 68.39\"",
         "type": "scatter",
         "x": [
          -14.87724
         ],
         "y": [
          68.38716
         ]
        },
        {
         "hoverinfo": "text",
         "marker": {
          "color": "rgba(0,0,0,0)",
          "size": 5
         },
         "mode": "markers",
         "showlegend": false,
         "text": "Pitch #60<br>Called: BallCalled<br>Batter: Left<br>X: 10.45\"<br>Y: 19.87\"",
         "type": "scatter",
         "x": [
          10.445160000000001
         ],
         "y": [
          19.86528
         ]
        },
        {
         "hoverinfo": "text",
         "marker": {
          "color": "rgba(0,0,0,0)",
          "size": 5
         },
         "mode": "markers",
         "showlegend": false,
         "text": "Pitch #62<br>Called: BallCalled<br>Batter: Right<br>X: 11.54\"<br>Y: 50.11\"",
         "type": "scatter",
         "x": [
          11.543759999999999
         ],
         "y": [
          50.10636
         ]
        },
        {
         "hoverinfo": "text",
         "marker": {
          "color": "rgba(0,0,0,0)",
          "size": 5
         },
         "mode": "markers",
         "showlegend": false,
         "text": "Pitch #64<br>Called: StrikeCalled<br>Batter: Left<br>X: 7.81\"<br>Y: 40.98\"",
         "type": "scatter",
         "x": [
          7.814159999999999
         ],
         "y": [
          40.97748
         ]
        },
        {
         "hoverinfo": "text",
         "marker": {
          "color": "rgba(0,0,0,0)",
          "size": 5
         },
         "mode": "markers",
         "showlegend": false,
         "text": "Pitch #65<br>Called: BallCalled<br>Batter: Left<br>X: 9.86\"<br>Y: 12.24\"",
         "type": "scatter",
         "x": [
          9.863760000000001
         ],
         "y": [
          12.236159999999998
         ]
        },
        {
         "hoverinfo": "text",
         "marker": {
          "color": "rgba(0,0,0,0)",
          "size": 5
         },
         "mode": "markers",
         "showlegend": false,
         "text": "Pitch #67<br>Called: BallCalled<br>Batter: Left<br>X: -7.13\"<br>Y: 25.82\"",
         "type": "scatter",
         "x": [
          -7.1286
         ],
         "y": [
          25.82304
         ]
        },
        {
         "hoverinfo": "text",
         "marker": {
          "color": "rgba(0,0,0,0)",
          "size": 5
         },
         "mode": "markers",
         "showlegend": false,
         "text": "Pitch #72<br>Called: BallCalled<br>Batter: Left<br>X: -11.35\"<br>Y: 8.28\"",
         "type": "scatter",
         "x": [
          -11.345880000000001
         ],
         "y": [
          8.28156
         ]
        },
        {
         "hoverinfo": "text",
         "marker": {
          "color": "rgba(0,0,0,0)",
          "size": 5
         },
         "mode": "markers",
         "showlegend": false,
         "text": "Pitch #74<br>Called: BallCalled<br>Batter: Right<br>X: -13.22\"<br>Y: 17.66\"",
         "type": "scatter",
         "x": [
          -13.215599999999998
         ],
         "y": [
          17.6628
         ]
        },
        {
         "hoverinfo": "text",
         "marker": {
          "color": "rgba(0,0,0,0)",
          "size": 5
         },
         "mode": "markers",
         "showlegend": false,
         "text": "Pitch #76<br>Called: BallCalled<br>Batter: Right<br>X: 9.88\"<br>Y: 46.16\"",
         "type": "scatter",
         "x": [
          9.884640000000001
         ],
         "y": [
          46.15932
         ]
        },
        {
         "hoverinfo": "text",
         "marker": {
          "color": "rgba(0,0,0,0)",
          "size": 5
         },
         "mode": "markers",
         "showlegend": false,
         "text": "Pitch #78<br>Called: BallCalled<br>Batter: Right<br>X: 6.35\"<br>Y: 1.52\"",
         "type": "scatter",
         "x": [
          6.345600000000001
         ],
         "y": [
          1.52004
         ]
        },
        {
         "hoverinfo": "text",
         "marker": {
          "color": "rgba(0,0,0,0)",
          "size": 5
         },
         "mode": "markers",
         "showlegend": false,
         "text": "Pitch #80<br>Called: BallCalled<br>Batter: Right<br>X: -16.41\"<br>Y: 53.49\"",
         "type": "scatter",
         "x": [
          -16.4118
         ],
         "y": [
          53.49288
         ]
        },
        {
         "hoverinfo": "text",
         "marker": {
          "color": "rgba(0,0,0,0)",
          "size": 5
         },
         "mode": "markers",
         "showlegend": false,
         "text": "Pitch #81<br>Called: BallCalled<br>Batter: Right<br>X: 0.47\"<br>Y: 14.20\"",
         "type": "scatter",
         "x": [
          0.47184000000000004
         ],
         "y": [
          14.196000000000002
         ]
        },
        {
         "hoverinfo": "text",
         "marker": {
          "color": "rgba(0,0,0,0)",
          "size": 5
         },
         "mode": "markers",
         "showlegend": false,
         "text": "Pitch #82<br>Called: BallCalled<br>Batter: Right<br>X: 12.29\"<br>Y: 31.12\"",
         "type": "scatter",
         "x": [
          12.2904
         ],
         "y": [
          31.119480000000003
         ]
        },
        {
         "hoverinfo": "text",
         "marker": {
          "color": "rgba(0,0,0,0)",
          "size": 5
         },
         "mode": "markers",
         "showlegend": false,
         "text": "Pitch #83<br>Called: BallCalled - Walk<br>Batter: Right<br>X: -10.23\"<br>Y: 23.80\"",
         "type": "scatter",
         "x": [
          -10.23396
         ],
         "y": [
          23.79672
         ]
        },
        {
         "hoverinfo": "text",
         "marker": {
          "color": "rgba(0,0,0,0)",
          "size": 5
         },
         "mode": "markers",
         "showlegend": false,
         "text": "Pitch #86<br>Called: BallCalled<br>Batter: Left<br>X: 24.14\"<br>Y: 44.02\"",
         "type": "scatter",
         "x": [
          24.141840000000002
         ],
         "y": [
          44.01588
         ]
        },
        {
         "hoverinfo": "text",
         "marker": {
          "color": "rgba(0,0,0,0)",
          "size": 5
         },
         "mode": "markers",
         "showlegend": false,
         "text": "Pitch #89<br>Called: BallCalled<br>Batter: Right<br>X: -13.85\"<br>Y: 26.19\"",
         "type": "scatter",
         "x": [
          -13.851120000000002
         ],
         "y": [
          26.193360000000002
         ]
        },
        {
         "hoverinfo": "text",
         "marker": {
          "color": "rgba(0,0,0,0)",
          "size": 5
         },
         "mode": "markers",
         "showlegend": false,
         "text": "Pitch #91<br>Called: StrikeCalled<br>Batter: Right<br>X: -6.50\"<br>Y: 31.15\"",
         "type": "scatter",
         "x": [
          -6.498959999999999
         ],
         "y": [
          31.148880000000002
         ]
        },
        {
         "hoverinfo": "text",
         "marker": {
          "color": "rgba(0,0,0,0)",
          "size": 5
         },
         "mode": "markers",
         "showlegend": false,
         "text": "Pitch #94<br>Called: BallCalled<br>Batter: Right<br>X: -1.26\"<br>Y: 47.39\"",
         "type": "scatter",
         "x": [
          -1.26384
         ],
         "y": [
          47.3856
         ]
        },
        {
         "hoverinfo": "text",
         "marker": {
          "color": "rgba(0,0,0,0)",
          "size": 5
         },
         "mode": "markers",
         "showlegend": false,
         "text": "Pitch #95<br>Called: StrikeCalled<br>Batter: Right<br>X: -10.43\"<br>Y: 27.79\"",
         "type": "scatter",
         "x": [
          -10.4298
         ],
         "y": [
          27.78696
         ]
        },
        {
         "hoverinfo": "text",
         "marker": {
          "color": "rgba(0,0,0,0)",
          "size": 5
         },
         "mode": "markers",
         "showlegend": false,
         "text": "Pitch #98<br>Called: BallCalled<br>Batter: Right<br>X: -10.72\"<br>Y: 8.09\"",
         "type": "scatter",
         "x": [
          -10.723199999999999
         ],
         "y": [
          8.091479999999999
         ]
        },
        {
         "hoverinfo": "text",
         "marker": {
          "color": "rgba(0,0,0,0)",
          "size": 5
         },
         "mode": "markers",
         "showlegend": false,
         "text": "Pitch #99<br>Called: BallCalled<br>Batter: Right<br>X: -18.05\"<br>Y: 52.78\"",
         "type": "scatter",
         "x": [
          -18.04836
         ],
         "y": [
          52.78344
         ]
        },
        {
         "hoverinfo": "text",
         "marker": {
          "color": "rgba(0,0,0,0)",
          "size": 5
         },
         "mode": "markers",
         "showlegend": false,
         "text": "Pitch #102<br>Called: BallCalled<br>Batter: Right<br>X: 3.90\"<br>Y: 55.66\"",
         "type": "scatter",
         "x": [
          3.90072
         ],
         "y": [
          55.65635999999999
         ]
        },
        {
         "hoverinfo": "text",
         "marker": {
          "color": "rgba(0,0,0,0)",
          "size": 5
         },
         "mode": "markers",
         "showlegend": false,
         "text": "Pitch #104<br>Called: StrikeCalled<br>Batter: Left<br>X: 1.14\"<br>Y: 21.79\"",
         "type": "scatter",
         "x": [
          1.14072
         ],
         "y": [
          21.79044
         ]
        },
        {
         "hoverinfo": "text",
         "marker": {
          "color": "rgba(0,0,0,0)",
          "size": 5
         },
         "mode": "markers",
         "showlegend": false,
         "text": "Pitch #106<br>Called: BallCalled<br>Batter: Left<br>X: 20.34\"<br>Y: 29.28\"",
         "type": "scatter",
         "x": [
          20.34444
         ],
         "y": [
          29.283360000000002
         ]
        },
        {
         "hoverinfo": "text",
         "marker": {
          "color": "rgba(0,0,0,0)",
          "size": 5
         },
         "mode": "markers",
         "showlegend": false,
         "text": "Pitch #107<br>Called: BallCalled<br>Batter: Left<br>X: 23.99\"<br>Y: 21.02\"",
         "type": "scatter",
         "x": [
          23.9946
         ],
         "y": [
          21.022199999999998
         ]
        },
        {
         "hoverinfo": "text",
         "marker": {
          "color": "rgba(0,0,0,0)",
          "size": 5
         },
         "mode": "markers",
         "showlegend": false,
         "text": "Pitch #108<br>Called: BallCalled<br>Batter: Left<br>X: 13.78\"<br>Y: 9.82\"",
         "type": "scatter",
         "x": [
          13.779
         ],
         "y": [
          9.81588
         ]
        },
        {
         "hoverinfo": "text",
         "marker": {
          "color": "rgba(0,0,0,0)",
          "size": 5
         },
         "mode": "markers",
         "showlegend": false,
         "text": "Pitch #109<br>Called: BallCalled - Walk<br>Batter: Left<br>X: -13.80\"<br>Y: 49.17\"",
         "type": "scatter",
         "x": [
          -13.79856
         ],
         "y": [
          49.172160000000005
         ]
        },
        {
         "hoverinfo": "text",
         "marker": {
          "color": "rgba(0,0,0,0)",
          "size": 5
         },
         "mode": "markers",
         "showlegend": false,
         "text": "Pitch #110<br>Called: BallCalled<br>Batter: Right<br>X: -15.44\"<br>Y: 44.21\"",
         "type": "scatter",
         "x": [
          -15.43764
         ],
         "y": [
          44.21064
         ]
        },
        {
         "hoverinfo": "text",
         "marker": {
          "color": "rgba(0,0,0,0)",
          "size": 5
         },
         "mode": "markers",
         "showlegend": false,
         "text": "Pitch #111<br>Called: BallCalled<br>Batter: Right<br>X: -12.97\"<br>Y: 31.31\"",
         "type": "scatter",
         "x": [
          -12.969360000000002
         ],
         "y": [
          31.313760000000002
         ]
        },
        {
         "hoverinfo": "text",
         "marker": {
          "color": "rgba(0,0,0,0)",
          "size": 5
         },
         "mode": "markers",
         "showlegend": false,
         "text": "Pitch #112<br>Called: StrikeCalled<br>Batter: Right<br>X: -9.41\"<br>Y: 42.47\"",
         "type": "scatter",
         "x": [
          -9.41208
         ],
         "y": [
          42.46692
         ]
        },
        {
         "hoverinfo": "text",
         "marker": {
          "color": "rgba(0,0,0,0)",
          "size": 5
         },
         "mode": "markers",
         "showlegend": false,
         "text": "Pitch #113<br>Called: BallCalled<br>Batter: Right<br>X: -15.85\"<br>Y: 39.02\"",
         "type": "scatter",
         "x": [
          -15.84984
         ],
         "y": [
          39.017759999999996
         ]
        },
        {
         "hoverinfo": "text",
         "marker": {
          "color": "rgba(0,0,0,0)",
          "size": 5
         },
         "mode": "markers",
         "showlegend": false,
         "text": "Pitch #117<br>Called: BallCalled<br>Batter: Right<br>X: 16.51\"<br>Y: 3.62\"",
         "type": "scatter",
         "x": [
          16.512
         ],
         "y": [
          3.62004
         ]
        },
        {
         "hoverinfo": "text",
         "marker": {
          "color": "rgba(0,0,0,0)",
          "size": 5
         },
         "mode": "markers",
         "showlegend": false,
         "text": "Pitch #118<br>Called: BallCalled<br>Batter: Right<br>X: -6.44\"<br>Y: 15.12\"",
         "type": "scatter",
         "x": [
          -6.44208
         ],
         "y": [
          15.120239999999999
         ]
        },
        {
         "hoverinfo": "text",
         "marker": {
          "color": "rgba(0,0,0,0)",
          "size": 5
         },
         "mode": "markers",
         "showlegend": false,
         "text": "Pitch #121<br>Called: BallCalled<br>Batter: Right<br>X: -0.40\"<br>Y: 7.27\"",
         "type": "scatter",
         "x": [
          -0.40008
         ],
         "y": [
          7.2696000000000005
         ]
        },
        {
         "hoverinfo": "text",
         "marker": {
          "color": "rgba(0,0,0,0)",
          "size": 5
         },
         "mode": "markers",
         "showlegend": false,
         "text": "Pitch #122<br>Called: BallCalled - Walk<br>Batter: Right<br>X: -4.03\"<br>Y: 52.53\"",
         "type": "scatter",
         "x": [
          -4.0302
         ],
         "y": [
          52.53432
         ]
        },
        {
         "hoverinfo": "text",
         "marker": {
          "color": "rgba(0,0,0,0)",
          "size": 5
         },
         "mode": "markers",
         "showlegend": false,
         "text": "Pitch #124<br>Called: BallCalled<br>Batter: Right<br>X: -21.10\"<br>Y: 36.59\"",
         "type": "scatter",
         "x": [
          -21.10188
         ],
         "y": [
          36.59016
         ]
        },
        {
         "hoverinfo": "text",
         "marker": {
          "color": "rgba(0,0,0,0)",
          "size": 5
         },
         "mode": "markers",
         "showlegend": false,
         "text": "Pitch #126<br>Called: BallCalled<br>Batter: Right<br>X: -2.62\"<br>Y: 53.46\"",
         "type": "scatter",
         "x": [
          -2.62464
         ],
         "y": [
          53.45591999999999
         ]
        },
        {
         "hoverinfo": "text",
         "marker": {
          "color": "rgba(0,0,0,0)",
          "size": 5
         },
         "mode": "markers",
         "showlegend": false,
         "text": "Pitch #127<br>Called: BallCalled<br>Batter: Right<br>X: 7.78\"<br>Y: 45.07\"",
         "type": "scatter",
         "x": [
          7.7835600000000005
         ],
         "y": [
          45.06912
         ]
        },
        {
         "hoverinfo": "text",
         "marker": {
          "color": "rgba(0,0,0,0)",
          "size": 5
         },
         "mode": "markers",
         "showlegend": false,
         "text": "Pitch #129<br>Called: BallCalled<br>Batter: Right<br>X: -25.91\"<br>Y: 32.93\"",
         "type": "scatter",
         "x": [
          -25.907880000000002
         ],
         "y": [
          32.930400000000006
         ]
        },
        {
         "hoverinfo": "text",
         "marker": {
          "color": "rgba(0,0,0,0)",
          "size": 5
         },
         "mode": "markers",
         "showlegend": false,
         "text": "Pitch #130<br>Called: BallCalled<br>Batter: Right<br>X: -17.62\"<br>Y: 44.71\"",
         "type": "scatter",
         "x": [
          -17.61636
         ],
         "y": [
          44.70948
         ]
        },
        {
         "hoverinfo": "text",
         "marker": {
          "color": "rgba(0,0,0,0)",
          "size": 5
         },
         "mode": "markers",
         "showlegend": false,
         "text": "Pitch #132<br>Called: StrikeCalled<br>Batter: Right<br>X: -13.72\"<br>Y: 36.99\"",
         "type": "scatter",
         "x": [
          -13.719360000000002
         ],
         "y": [
          36.993719999999996
         ]
        },
        {
         "hoverinfo": "text",
         "marker": {
          "color": "rgba(0,0,0,0)",
          "size": 5
         },
         "mode": "markers",
         "showlegend": false,
         "text": "Pitch #133<br>Called: BallCalled<br>Batter: Right<br>X: 9.74\"<br>Y: 70.31\"",
         "type": "scatter",
         "x": [
          9.74448
         ],
         "y": [
          70.31412
         ]
        },
        {
         "hoverinfo": "text",
         "marker": {
          "color": "rgba(0,0,0,0)",
          "size": 5
         },
         "mode": "markers",
         "showlegend": false,
         "text": "Pitch #134<br>Called: BallCalled<br>Batter: Right<br>X: -25.74\"<br>Y: 25.90\"",
         "type": "scatter",
         "x": [
          -25.73508
         ],
         "y": [
          25.89936
         ]
        },
        {
         "hoverinfo": "text",
         "marker": {
          "color": "rgba(0,0,0,0)",
          "size": 5
         },
         "mode": "markers",
         "showlegend": false,
         "text": "Pitch #135<br>Called: StrikeCalled<br>Batter: Right<br>X: -11.74\"<br>Y: 39.87\"",
         "type": "scatter",
         "x": [
          -11.74248
         ],
         "y": [
          39.86652
         ]
        },
        {
         "hoverinfo": "text",
         "marker": {
          "color": "rgba(0,0,0,0)",
          "size": 5
         },
         "mode": "markers",
         "showlegend": false,
         "text": "Pitch #141<br>Called: BallCalled<br>Batter: Right<br>X: -5.75\"<br>Y: 47.32\"",
         "type": "scatter",
         "x": [
          -5.75364
         ],
         "y": [
          47.319
         ]
        },
        {
         "hoverinfo": "text",
         "marker": {
          "color": "rgba(0,0,0,0)",
          "size": 5
         },
         "mode": "markers",
         "showlegend": false,
         "text": "Pitch #142<br>Called: StrikeCalled<br>Batter: Right<br>X: -8.47\"<br>Y: 33.76\"",
         "type": "scatter",
         "x": [
          -8.47116
         ],
         "y": [
          33.75888
         ]
        },
        {
         "hoverinfo": "text",
         "marker": {
          "color": "rgba(0,0,0,0)",
          "size": 5
         },
         "mode": "markers",
         "showlegend": false,
         "text": "Pitch #143<br>Called: BallCalled<br>Batter: Right<br>X: -29.49\"<br>Y: 13.42\"",
         "type": "scatter",
         "x": [
          -29.488799999999998
         ],
         "y": [
          13.42032
         ]
        },
        {
         "hoverinfo": "text",
         "marker": {
          "color": "rgba(0,0,0,0)",
          "size": 5
         },
         "mode": "markers",
         "showlegend": false,
         "text": "Pitch #144<br>Called: BallCalled<br>Batter: Right<br>X: -25.09\"<br>Y: 47.40\"",
         "type": "scatter",
         "x": [
          -25.086840000000002
         ],
         "y": [
          47.39568
         ]
        },
        {
         "hoverinfo": "text",
         "marker": {
          "color": "rgba(0,0,0,0)",
          "size": 5
         },
         "mode": "markers",
         "showlegend": false,
         "text": "Pitch #145<br>Called: BallCalled - Walk<br>Batter: Right<br>X: -18.34\"<br>Y: 39.80\"",
         "type": "scatter",
         "x": [
          -18.34128
         ],
         "y": [
          39.803399999999996
         ]
        },
        {
         "hoverinfo": "text",
         "marker": {
          "color": "rgba(0,0,0,0)",
          "size": 5
         },
         "mode": "markers",
         "showlegend": false,
         "text": "Pitch #147<br>Called: BallCalled - CaughtStealing<br>Batter: Left<br>X: -2.55\"<br>Y: 20.34\"",
         "type": "scatter",
         "x": [
          -2.5542000000000002
         ],
         "y": [
          20.3388
         ]
        },
        {
         "hoverinfo": "text",
         "marker": {
          "color": "rgba(0,0,0,0)",
          "size": 5
         },
         "mode": "markers",
         "showlegend": false,
         "text": "Pitch #148<br>Called: BallCalled<br>Batter: Right<br>X: 16.73\"<br>Y: 42.49\"",
         "type": "scatter",
         "x": [
          16.728479999999998
         ],
         "y": [
          42.49356
         ]
        },
        {
         "hoverinfo": "text",
         "marker": {
          "color": "rgba(0,0,0,0)",
          "size": 5
         },
         "mode": "markers",
         "showlegend": false,
         "text": "Pitch #149<br>Called: StrikeCalled<br>Batter: Right<br>X: 6.12\"<br>Y: 37.98\"",
         "type": "scatter",
         "x": [
          6.12468
         ],
         "y": [
          37.98456
         ]
        },
        {
         "hoverinfo": "text",
         "marker": {
          "color": "rgba(0,0,0,0)",
          "size": 5
         },
         "mode": "markers",
         "showlegend": false,
         "text": "Pitch #151<br>Called: BallCalled<br>Batter: Right<br>X: 21.68\"<br>Y: 30.34\"",
         "type": "scatter",
         "x": [
          21.68028
         ],
         "y": [
          30.34488
         ]
        },
        {
         "hoverinfo": "text",
         "marker": {
          "color": "rgba(0,0,0,0)",
          "size": 5
         },
         "mode": "markers",
         "showlegend": false,
         "text": "Pitch #153<br>Called: BallCalled<br>Batter: Left<br>X: 14.62\"<br>Y: 26.76\"",
         "type": "scatter",
         "x": [
          14.6184
         ],
         "y": [
          26.760360000000002
         ]
        },
        {
         "hoverinfo": "text",
         "marker": {
          "color": "rgba(0,0,0,0)",
          "size": 5
         },
         "mode": "markers",
         "showlegend": false,
         "text": "Pitch #154<br>Called: StrikeCalled<br>Batter: Left<br>X: -4.50\"<br>Y: 34.57\"",
         "type": "scatter",
         "x": [
          -4.50024
         ],
         "y": [
          34.57416
         ]
        },
        {
         "hoverinfo": "text",
         "marker": {
          "color": "rgba(0,0,0,0)",
          "size": 5
         },
         "mode": "markers",
         "showlegend": false,
         "text": "Pitch #155<br>Called: BallCalled<br>Batter: Left<br>X: -16.24\"<br>Y: 33.92\"",
         "type": "scatter",
         "x": [
          -16.23552
         ],
         "y": [
          33.92184
         ]
        },
        {
         "hoverinfo": "text",
         "marker": {
          "color": "rgba(0,0,0,0)",
          "size": 5
         },
         "mode": "markers",
         "showlegend": false,
         "text": "Pitch #157<br>Called: BallCalled<br>Batter: Right<br>X: -19.52\"<br>Y: 4.48\"",
         "type": "scatter",
         "x": [
          -19.51656
         ],
         "y": [
          4.47612
         ]
        },
        {
         "hoverinfo": "text",
         "marker": {
          "color": "rgba(0,0,0,0)",
          "size": 5
         },
         "mode": "markers",
         "showlegend": false,
         "text": "Pitch #158<br>Called: StrikeCalled<br>Batter: Right<br>X: 6.89\"<br>Y: 30.24\"",
         "type": "scatter",
         "x": [
          6.891360000000001
         ],
         "y": [
          30.235440000000004
         ]
        },
        {
         "hoverinfo": "text",
         "marker": {
          "color": "rgba(0,0,0,0)",
          "size": 5
         },
         "mode": "markers",
         "showlegend": false,
         "text": "Pitch #159<br>Called: BallCalled<br>Batter: Right<br>X: 1.41\"<br>Y: 14.86\"",
         "type": "scatter",
         "x": [
          1.40916
         ],
         "y": [
          14.862359999999999
         ]
        },
        {
         "hoverinfo": "text",
         "marker": {
          "color": "rgba(0,0,0,0)",
          "size": 5
         },
         "mode": "markers",
         "showlegend": false,
         "text": "Pitch #160<br>Called: BallCalled<br>Batter: Right<br>X: 12.05\"<br>Y: 16.94\"",
         "type": "scatter",
         "x": [
          12.046679999999999
         ],
         "y": [
          16.94352
         ]
        },
        {
         "hoverinfo": "text",
         "marker": {
          "color": "rgba(0,0,0,0)",
          "size": 5
         },
         "mode": "markers",
         "showlegend": false,
         "text": "Pitch #163<br>Called: BallCalled - Walk<br>Batter: Right<br>X: -7.92\"<br>Y: 16.85\"",
         "type": "scatter",
         "x": [
          -7.9214400000000005
         ],
         "y": [
          16.84884
         ]
        },
        {
         "hoverinfo": "text",
         "marker": {
          "color": "rgba(0,0,0,0)",
          "size": 5
         },
         "mode": "markers",
         "showlegend": false,
         "text": "Pitch #166<br>Called: StrikeCalled<br>Batter: Left<br>X: 12.64\"<br>Y: 34.21\"",
         "type": "scatter",
         "x": [
          12.64356
         ],
         "y": [
          34.21452
         ]
        },
        {
         "hoverinfo": "text",
         "marker": {
          "color": "rgba(0,0,0,0)",
          "size": 5
         },
         "mode": "markers",
         "showlegend": false,
         "text": "Pitch #167<br>Called: BallCalled<br>Batter: Left<br>X: 17.43\"<br>Y: 33.97\"",
         "type": "scatter",
         "x": [
          17.43468
         ],
         "y": [
          33.9702
         ]
        },
        {
         "hoverinfo": "text",
         "marker": {
          "color": "rgba(0,0,0,0)",
          "size": 5
         },
         "mode": "markers",
         "showlegend": false,
         "text": "Pitch #170<br>Called: BallCalled<br>Batter: Right<br>X: 9.75\"<br>Y: 27.78\"",
         "type": "scatter",
         "x": [
          9.75
         ],
         "y": [
          27.779400000000003
         ]
        },
        {
         "hoverinfo": "text",
         "marker": {
          "color": "rgba(0,0,0,0)",
          "size": 5
         },
         "mode": "markers",
         "showlegend": false,
         "text": "Pitch #173<br>Called: BallCalled<br>Batter: Right<br>X: -26.34\"<br>Y: 13.38\"",
         "type": "scatter",
         "x": [
          -26.33952
         ],
         "y": [
          13.3836
         ]
        },
        {
         "hoverinfo": "text",
         "marker": {
          "color": "rgba(0,0,0,0)",
          "size": 5
         },
         "mode": "markers",
         "showlegend": false,
         "text": "Pitch #174<br>Called: BallCalled<br>Batter: Right<br>X: 11.96\"<br>Y: 31.29\"",
         "type": "scatter",
         "x": [
          11.959200000000001
         ],
         "y": [
          31.2852
         ]
        },
        {
         "hoverinfo": "text",
         "marker": {
          "color": "rgba(0,0,0,0)",
          "size": 5
         },
         "mode": "markers",
         "showlegend": false,
         "text": "Pitch #175<br>Called: BallCalled - Walk<br>Batter: Right<br>X: -23.69\"<br>Y: 23.24\"",
         "type": "scatter",
         "x": [
          -23.6904
         ],
         "y": [
          23.23752
         ]
        },
        {
         "hoverinfo": "text",
         "marker": {
          "color": "rgba(0,0,0,0)",
          "size": 5
         },
         "mode": "markers",
         "showlegend": false,
         "text": "Pitch #176<br>Called: BallCalled<br>Batter: Left<br>X: -11.57\"<br>Y: 21.21\"",
         "type": "scatter",
         "x": [
          -11.56704
         ],
         "y": [
          21.2058
         ]
        },
        {
         "hoverinfo": "text",
         "marker": {
          "color": "rgba(0,0,0,0)",
          "size": 5
         },
         "mode": "markers",
         "showlegend": false,
         "text": "Pitch #177<br>Called: BallCalled<br>Batter: Left<br>X: -6.30\"<br>Y: 19.79\"",
         "type": "scatter",
         "x": [
          -6.300479999999999
         ],
         "y": [
          19.78716
         ]
        },
        {
         "hoverinfo": "text",
         "marker": {
          "color": "rgba(0,0,0,0)",
          "size": 5
         },
         "mode": "markers",
         "showlegend": false,
         "text": "Pitch #179<br>Called: StrikeCalled<br>Batter: Left<br>X: 8.58\"<br>Y: 38.55\"",
         "type": "scatter",
         "x": [
          8.575800000000001
         ],
         "y": [
          38.5476
         ]
        },
        {
         "hoverinfo": "text",
         "marker": {
          "color": "rgba(0,0,0,0)",
          "size": 5
         },
         "mode": "markers",
         "showlegend": false,
         "text": "Pitch #181<br>Called: BallCalled<br>Batter: Left<br>X: -12.29\"<br>Y: 30.44\"",
         "type": "scatter",
         "x": [
          -12.29496
         ],
         "y": [
          30.4416
         ]
        },
        {
         "hoverinfo": "text",
         "marker": {
          "color": "rgba(0,0,0,0)",
          "size": 5
         },
         "mode": "markers",
         "showlegend": false,
         "text": "Pitch #182<br>Called: BallCalled<br>Batter: Left<br>X: 15.50\"<br>Y: 40.03\"",
         "type": "scatter",
         "x": [
          15.495239999999999
         ],
         "y": [
          40.033559999999994
         ]
        },
        {
         "hoverinfo": "text",
         "marker": {
          "color": "rgba(0,0,0,0)",
          "size": 5
         },
         "mode": "markers",
         "showlegend": false,
         "text": "Pitch #183<br>Called: BallCalled<br>Batter: Left<br>X: -16.35\"<br>Y: 28.44\"",
         "type": "scatter",
         "x": [
          -16.35024
         ],
         "y": [
          28.438560000000003
         ]
        },
        {
         "hoverinfo": "text",
         "marker": {
          "color": "rgba(0,0,0,0)",
          "size": 5
         },
         "mode": "markers",
         "showlegend": false,
         "text": "Pitch #184<br>Called: StrikeCalled<br>Batter: Left<br>X: 6.82\"<br>Y: 37.50\"",
         "type": "scatter",
         "x": [
          6.82164
         ],
         "y": [
          37.50036
         ]
        },
        {
         "hoverinfo": "text",
         "marker": {
          "color": "rgba(0,0,0,0)",
          "size": 5
         },
         "mode": "markers",
         "showlegend": false,
         "text": "Pitch #188<br>Called: BallCalled - Walk - StolenBase<br>Batter: Left<br>X: 20.25\"<br>Y: 32.54\"",
         "type": "scatter",
         "x": [
          20.24568
         ],
         "y": [
          32.54148
         ]
        },
        {
         "hoverinfo": "text",
         "marker": {
          "color": "rgba(0,0,0,0)",
          "size": 5
         },
         "mode": "markers",
         "showlegend": false,
         "text": "Pitch #190<br>Called: StrikeCalled<br>Batter: Right<br>X: -2.82\"<br>Y: 33.20\"",
         "type": "scatter",
         "x": [
          -2.82132
         ],
         "y": [
          33.19524
         ]
        },
        {
         "hoverinfo": "text",
         "marker": {
          "color": "rgba(0,0,0,0)",
          "size": 5
         },
         "mode": "markers",
         "showlegend": false,
         "text": "Pitch #191<br>Called: BallCalled<br>Batter: Right<br>X: 4.72\"<br>Y: 20.57\"",
         "type": "scatter",
         "x": [
          4.72248
         ],
         "y": [
          20.569679999999998
         ]
        },
        {
         "hoverinfo": "text",
         "marker": {
          "color": "rgba(0,0,0,0)",
          "size": 5
         },
         "mode": "markers",
         "showlegend": false,
         "text": "Pitch #192<br>Called: BallCalled<br>Batter: Right<br>X: -16.97\"<br>Y: 35.95\"",
         "type": "scatter",
         "x": [
          -16.97244
         ],
         "y": [
          35.950919999999996
         ]
        },
        {
         "hoverinfo": "text",
         "marker": {
          "color": "rgba(0,0,0,0)",
          "size": 5
         },
         "mode": "markers",
         "showlegend": false,
         "text": "Pitch #194<br>Called: BallCalled<br>Batter: Right<br>X: -0.12\"<br>Y: 11.38\"",
         "type": "scatter",
         "x": [
          -0.12036000000000001
         ],
         "y": [
          11.38416
         ]
        },
        {
         "hoverinfo": "text",
         "marker": {
          "color": "rgba(0,0,0,0)",
          "size": 5
         },
         "mode": "markers",
         "showlegend": false,
         "text": "Pitch #195<br>Called: BallCalled<br>Batter: Right<br>X: -11.66\"<br>Y: 20.34\"",
         "type": "scatter",
         "x": [
          -11.65584
         ],
         "y": [
          20.34264
         ]
        },
        {
         "hoverinfo": "text",
         "marker": {
          "color": "rgba(0,0,0,0)",
          "size": 5
         },
         "mode": "markers",
         "showlegend": false,
         "text": "Pitch #197<br>Called: BallCalled<br>Batter: Right<br>X: -19.43\"<br>Y: 30.33\"",
         "type": "scatter",
         "x": [
          -19.43196
         ],
         "y": [
          30.32856
         ]
        },
        {
         "hoverinfo": "text",
         "marker": {
          "color": "rgba(0,0,0,0)",
          "size": 5
         },
         "mode": "markers",
         "showlegend": false,
         "text": "Pitch #198<br>Called: BallCalled - Walk<br>Batter: Right<br>X: -6.79\"<br>Y: 6.61\"",
         "type": "scatter",
         "x": [
          -6.79368
         ],
         "y": [
          6.612839999999999
         ]
        },
        {
         "hoverinfo": "text",
         "marker": {
          "color": "rgba(0,0,0,0)",
          "size": 5
         },
         "mode": "markers",
         "showlegend": false,
         "text": "Pitch #199<br>Called: StrikeCalled<br>Batter: Right<br>X: -6.73\"<br>Y: 42.19\"",
         "type": "scatter",
         "x": [
          -6.727320000000001
         ],
         "y": [
          42.186
         ]
        },
        {
         "hoverinfo": "text",
         "marker": {
          "color": "rgba(0,0,0,0)",
          "size": 5
         },
         "mode": "markers",
         "showlegend": false,
         "text": "Pitch #201<br>Called: BallCalled<br>Batter: Right<br>X: 25.11\"<br>Y: 37.42\"",
         "type": "scatter",
         "x": [
          25.113840000000003
         ],
         "y": [
          37.424279999999996
         ]
        },
        {
         "hoverinfo": "text",
         "marker": {
          "color": "rgba(0,0,0,0)",
          "size": 5
         },
         "mode": "markers",
         "showlegend": false,
         "text": "Pitch #203<br>Called: BallCalled<br>Batter: Right<br>X: 19.86\"<br>Y: 31.46\"",
         "type": "scatter",
         "x": [
          19.86396
         ],
         "y": [
          31.460520000000002
         ]
        },
        {
         "hoverinfo": "text",
         "marker": {
          "color": "rgba(0,0,0,0)",
          "size": 5
         },
         "mode": "markers",
         "showlegend": false,
         "text": "Pitch #204<br>Called: BallCalled<br>Batter: Right<br>X: -16.17\"<br>Y: 38.53\"",
         "type": "scatter",
         "x": [
          -16.1712
         ],
         "y": [
          38.52648
         ]
        },
        {
         "hoverinfo": "text",
         "marker": {
          "color": "rgba(0,0,0,0)",
          "size": 5
         },
         "mode": "markers",
         "showlegend": false,
         "text": "Pitch #206<br>Called: StrikeCalled - Strikeout<br>Batter: Right<br>X: 11.98\"<br>Y: 30.38\"",
         "type": "scatter",
         "x": [
          11.97636
         ],
         "y": [
          30.38292
         ]
        },
        {
         "hoverinfo": "text",
         "marker": {
          "color": "rgba(0,0,0,0)",
          "size": 5
         },
         "mode": "markers",
         "showlegend": false,
         "text": "Pitch #207<br>Called: BallCalled<br>Batter: Right<br>X: -23.69\"<br>Y: 19.34\"",
         "type": "scatter",
         "x": [
          -23.68812
         ],
         "y": [
          19.33728
         ]
        },
        {
         "hoverinfo": "text",
         "marker": {
          "color": "rgba(0,0,0,0)",
          "size": 5
         },
         "mode": "markers",
         "showlegend": false,
         "text": "Pitch #208<br>Called: BallCalled<br>Batter: Right<br>X: 5.07\"<br>Y: 0.98\"",
         "type": "scatter",
         "x": [
          5.06688
         ],
         "y": [
          0.978
         ]
        },
        {
         "hoverinfo": "text",
         "marker": {
          "color": "rgba(0,0,0,0)",
          "size": 5
         },
         "mode": "markers",
         "showlegend": false,
         "text": "Pitch #211<br>Called: BallCalled<br>Batter: Right<br>X: -8.79\"<br>Y: 5.82\"",
         "type": "scatter",
         "x": [
          -8.79384
         ],
         "y": [
          5.82372
         ]
        },
        {
         "hoverinfo": "text",
         "marker": {
          "color": "rgba(0,0,0,0)",
          "size": 5
         },
         "mode": "markers",
         "showlegend": false,
         "text": "Pitch #212<br>Called: BallCalled - Walk<br>Batter: Right<br>X: 5.24\"<br>Y: 8.57\"",
         "type": "scatter",
         "x": [
          5.237159999999999
         ],
         "y": [
          8.56716
         ]
        },
        {
         "hoverinfo": "text",
         "marker": {
          "color": "rgba(0,0,0,0)",
          "size": 5
         },
         "mode": "markers",
         "showlegend": false,
         "text": "Pitch #213<br>Called: StrikeCalled<br>Batter: Right<br>X: -0.25\"<br>Y: 27.86\"",
         "type": "scatter",
         "x": [
          -0.25308
         ],
         "y": [
          27.86292
         ]
        },
        {
         "hoverinfo": "text",
         "marker": {
          "color": "rgba(0,0,0,0)",
          "size": 5
         },
         "mode": "markers",
         "showlegend": false,
         "text": "Pitch #214<br>Called: BallCalled<br>Batter: Right<br>X: -17.51\"<br>Y: 31.33\"",
         "type": "scatter",
         "x": [
          -17.506320000000002
         ],
         "y": [
          31.326479999999997
         ]
        },
        {
         "hoverinfo": "text",
         "marker": {
          "color": "rgba(0,0,0,0)",
          "size": 5
         },
         "mode": "markers",
         "showlegend": false,
         "text": "Pitch #215<br>Called: BallCalled<br>Batter: Right<br>X: 15.86\"<br>Y: 33.59\"",
         "type": "scatter",
         "x": [
          15.855360000000001
         ],
         "y": [
          33.585840000000005
         ]
        },
        {
         "hoverinfo": "text",
         "marker": {
          "color": "rgba(0,0,0,0)",
          "size": 5
         },
         "mode": "markers",
         "showlegend": false,
         "text": "Pitch #219<br>Called: BallCalled<br>Batter: Right<br>X: 0.74\"<br>Y: 10.43\"",
         "type": "scatter",
         "x": [
          0.7368
         ],
         "y": [
          10.42632
         ]
        },
        {
         "hoverinfo": "text",
         "marker": {
          "color": "rgba(0,0,0,0)",
          "size": 5
         },
         "mode": "markers",
         "showlegend": false,
         "text": "Pitch #220<br>Called: BallCalled<br>Batter: Right<br>X: -9.68\"<br>Y: 39.07\"",
         "type": "scatter",
         "x": [
          -9.68112
         ],
         "y": [
          39.06852
         ]
        },
        {
         "hoverinfo": "text",
         "marker": {
          "color": "rgba(0,0,0,0)",
          "size": 5
         },
         "mode": "markers",
         "showlegend": false,
         "text": "Pitch #222<br>Called: BallCalled - StolenBase<br>Batter: Left<br>X: 19.76\"<br>Y: 18.03\"",
         "type": "scatter",
         "x": [
          19.75704
         ],
         "y": [
          18.02712
         ]
        },
        {
         "hoverinfo": "text",
         "marker": {
          "color": "rgba(0,0,0,0)",
          "size": 5
         },
         "mode": "markers",
         "showlegend": false,
         "text": "Pitch #223<br>Called: BallCalled<br>Batter: Left<br>X: -15.08\"<br>Y: 14.12\"",
         "type": "scatter",
         "x": [
          -15.07836
         ],
         "y": [
          14.12136
         ]
        },
        {
         "hoverinfo": "text",
         "marker": {
          "color": "rgba(0,0,0,0)",
          "size": 5
         },
         "mode": "markers",
         "showlegend": false,
         "text": "Pitch #224<br>Called: StrikeCalled<br>Batter: Left<br>X: -6.64\"<br>Y: 36.47\"",
         "type": "scatter",
         "x": [
          -6.6432
         ],
         "y": [
          36.465959999999995
         ]
        },
        {
         "hoverinfo": "text",
         "marker": {
          "color": "rgba(0,0,0,0)",
          "size": 5
         },
         "mode": "markers",
         "showlegend": false,
         "text": "Pitch #225<br>Called: BallCalled<br>Batter: Left<br>X: 33.20\"<br>Y: 34.44\"",
         "type": "scatter",
         "x": [
          33.20148
         ],
         "y": [
          34.44204
         ]
        },
        {
         "hoverinfo": "text",
         "marker": {
          "color": "rgba(0,0,0,0)",
          "size": 5
         },
         "mode": "markers",
         "showlegend": false,
         "text": "Pitch #226<br>Called: BallCalled - Walk<br>Batter: Left<br>X: 27.89\"<br>Y: 41.96\"",
         "type": "scatter",
         "x": [
          27.88848
         ],
         "y": [
          41.96448
         ]
        },
        {
         "hoverinfo": "text",
         "marker": {
          "color": "rgba(0,0,0,0)",
          "size": 5
         },
         "mode": "markers",
         "showlegend": false,
         "text": "Pitch #227<br>Called: StrikeCalled<br>Batter: Right<br>X: 8.85\"<br>Y: 23.43\"",
         "type": "scatter",
         "x": [
          8.853
         ],
         "y": [
          23.42976
         ]
        },
        {
         "hoverinfo": "text",
         "marker": {
          "color": "rgba(0,0,0,0)",
          "size": 5
         },
         "mode": "markers",
         "showlegend": false,
         "text": "Pitch #228<br>Called: StrikeCalled<br>Batter: Right<br>X: 7.70\"<br>Y: 37.85\"",
         "type": "scatter",
         "x": [
          7.69764
         ],
         "y": [
          37.845479999999995
         ]
        },
        {
         "hoverinfo": "text",
         "marker": {
          "color": "rgba(0,0,0,0)",
          "size": 5
         },
         "mode": "markers",
         "showlegend": false,
         "text": "Pitch #229<br>Called: BallCalled<br>Batter: Right<br>X: -4.84\"<br>Y: 16.29\"",
         "type": "scatter",
         "x": [
          -4.83828
         ],
         "y": [
          16.28724
         ]
        },
        {
         "hoverinfo": "text",
         "marker": {
          "color": "rgba(0,0,0,0)",
          "size": 5
         },
         "mode": "markers",
         "showlegend": false,
         "text": "Pitch #231<br>Called: StrikeCalled<br>Batter: Right<br>X: 6.22\"<br>Y: 37.78\"",
         "type": "scatter",
         "x": [
          6.2218800000000005
         ],
         "y": [
          37.77816
         ]
        },
        {
         "hoverinfo": "text",
         "marker": {
          "color": "rgba(0,0,0,0)",
          "size": 5
         },
         "mode": "markers",
         "showlegend": false,
         "text": "Pitch #234<br>Called: StrikeCalled<br>Batter: Right<br>X: -1.91\"<br>Y: 36.54\"",
         "type": "scatter",
         "x": [
          -1.91052
         ],
         "y": [
          36.5388
         ]
        },
        {
         "hoverinfo": "text",
         "marker": {
          "color": "rgba(0,0,0,0)",
          "size": 5
         },
         "mode": "markers",
         "showlegend": false,
         "text": "Pitch #235<br>Called: BallCalled<br>Batter: Right<br>X: 9.42\"<br>Y: 43.20\"",
         "type": "scatter",
         "x": [
          9.422519999999999
         ],
         "y": [
          43.196160000000006
         ]
        },
        {
         "hoverinfo": "text",
         "marker": {
          "color": "rgba(0,0,0,0)",
          "size": 5
         },
         "mode": "markers",
         "showlegend": false,
         "text": "Pitch #239<br>Called: BallCalled<br>Batter: Right<br>X: -22.79\"<br>Y: 24.99\"",
         "type": "scatter",
         "x": [
          -22.786559999999998
         ],
         "y": [
          24.992760000000004
         ]
        },
        {
         "hoverinfo": "text",
         "marker": {
          "color": "rgba(0,0,0,0)",
          "size": 5
         },
         "mode": "markers",
         "showlegend": false,
         "text": "Pitch #241<br>Called: BallCalled<br>Batter: Right<br>X: 1.68\"<br>Y: 28.77\"",
         "type": "scatter",
         "x": [
          1.6752
         ],
         "y": [
          28.768800000000002
         ]
        },
        {
         "hoverinfo": "text",
         "marker": {
          "color": "rgba(0,0,0,0)",
          "size": 5
         },
         "mode": "markers",
         "showlegend": false,
         "text": "Pitch #244<br>Called: StrikeCalled<br>Batter: Right<br>X: -9.11\"<br>Y: 29.70\"",
         "type": "scatter",
         "x": [
          -9.1092
         ],
         "y": [
          29.69952
         ]
        },
        {
         "hoverinfo": "text",
         "marker": {
          "color": "rgba(0,0,0,0)",
          "size": 5
         },
         "mode": "markers",
         "showlegend": false,
         "text": "Pitch #246<br>Called: BallCalled<br>Batter: Right<br>X: -19.25\"<br>Y: 27.01\"",
         "type": "scatter",
         "x": [
          -19.25112
         ],
         "y": [
          27.014519999999997
         ]
        },
        {
         "hoverinfo": "text",
         "marker": {
          "color": "rgba(0,0,0,0)",
          "size": 5
         },
         "mode": "markers",
         "showlegend": false,
         "text": "Pitch #248<br>Called: StrikeCalled<br>Batter: Right<br>X: -5.41\"<br>Y: 32.05\"",
         "type": "scatter",
         "x": [
          -5.41152
         ],
         "y": [
          32.051880000000004
         ]
        },
        {
         "hoverinfo": "text",
         "marker": {
          "color": "rgba(0,0,0,0)",
          "size": 5
         },
         "mode": "markers",
         "showlegend": false,
         "text": "Pitch #249<br>Called: BallCalled<br>Batter: Right<br>X: 18.77\"<br>Y: 13.91\"",
         "type": "scatter",
         "x": [
          18.76512
         ],
         "y": [
          13.90644
         ]
        },
        {
         "hoverinfo": "text",
         "marker": {
          "color": "rgba(0,0,0,0)",
          "size": 5
         },
         "mode": "markers",
         "showlegend": false,
         "text": "Pitch #250<br>Called: BallCalled<br>Batter: Right<br>X: -13.07\"<br>Y: 44.04\"",
         "type": "scatter",
         "x": [
          -13.06596
         ],
         "y": [
          44.044560000000004
         ]
        },
        {
         "hoverinfo": "text",
         "marker": {
          "color": "rgba(0,0,0,0)",
          "size": 5
         },
         "mode": "markers",
         "showlegend": false,
         "text": "Pitch #253<br>Called: StrikeCalled<br>Batter: Right<br>X: 5.65\"<br>Y: 30.92\"",
         "type": "scatter",
         "x": [
          5.6506799999999995
         ],
         "y": [
          30.923640000000002
         ]
        },
        {
         "hoverinfo": "text",
         "marker": {
          "color": "rgba(0,0,0,0)",
          "size": 5
         },
         "mode": "markers",
         "showlegend": false,
         "text": "Pitch #254<br>Called: BallCalled<br>Batter: Right<br>X: 8.20\"<br>Y: 6.44\"",
         "type": "scatter",
         "x": [
          8.20392
         ],
         "y": [
          6.44124
         ]
        },
        {
         "hoverinfo": "text",
         "marker": {
          "color": "rgba(0,0,0,0)",
          "size": 5
         },
         "mode": "markers",
         "showlegend": false,
         "text": "Pitch #256<br>Called: BallCalled<br>Batter: Right<br>X: -0.38\"<br>Y: 16.77\"",
         "type": "scatter",
         "x": [
          -0.38160000000000005
         ],
         "y": [
          16.76652
         ]
        },
        {
         "hoverinfo": "text",
         "marker": {
          "color": "rgba(0,0,0,0)",
          "size": 5
         },
         "mode": "markers",
         "showlegend": false,
         "text": "Pitch #259<br>Called: StrikeCalled<br>Batter: Right<br>X: -8.34\"<br>Y: 26.86\"",
         "type": "scatter",
         "x": [
          -8.34252
         ],
         "y": [
          26.864400000000003
         ]
        },
        {
         "hoverinfo": "text",
         "marker": {
          "color": "rgba(0,0,0,0)",
          "size": 5
         },
         "mode": "markers",
         "showlegend": false,
         "text": "Pitch #265<br>Called: BallCalled<br>Batter: Left<br>X: 17.84\"<br>Y: 37.28\"",
         "type": "scatter",
         "x": [
          17.83656
         ],
         "y": [
          37.28376
         ]
        },
        {
         "hoverinfo": "text",
         "marker": {
          "color": "rgba(0,0,0,0)",
          "size": 5
         },
         "mode": "markers",
         "showlegend": false,
         "text": "Pitch #267<br>Called: BallCalled<br>Batter: Right<br>X: 1.43\"<br>Y: 45.41\"",
         "type": "scatter",
         "x": [
          1.4306400000000001
         ],
         "y": [
          45.410759999999996
         ]
        },
        {
         "hoverinfo": "text",
         "marker": {
          "color": "rgba(0,0,0,0)",
          "size": 5
         },
         "mode": "markers",
         "showlegend": false,
         "text": "Pitch #269<br>Called: BallCalled<br>Batter: Right<br>X: 4.13\"<br>Y: 10.99\"",
         "type": "scatter",
         "x": [
          4.13364
         ],
         "y": [
          10.98612
         ]
        },
        {
         "hoverinfo": "text",
         "marker": {
          "color": "rgba(0,0,0,0)",
          "size": 5
         },
         "mode": "markers",
         "showlegend": false,
         "text": "Pitch #272<br>Called: BallCalled<br>Batter: Left<br>X: -7.12\"<br>Y: 21.83\"",
         "type": "scatter",
         "x": [
          -7.1150400000000005
         ],
         "y": [
          21.828960000000002
         ]
        },
        {
         "hoverinfo": "text",
         "marker": {
          "color": "rgba(0,0,0,0)",
          "size": 5
         },
         "mode": "markers",
         "showlegend": false,
         "text": "Pitch #273<br>Called: BallCalled<br>Batter: Left<br>X: -4.14\"<br>Y: 21.38\"",
         "type": "scatter",
         "x": [
          -4.14204
         ],
         "y": [
          21.38496
         ]
        },
        {
         "hoverinfo": "text",
         "marker": {
          "color": "rgba(0,0,0,0)",
          "size": 5
         },
         "mode": "markers",
         "showlegend": false,
         "text": "Pitch #275<br>Called: BallCalled<br>Batter: Left<br>X: 18.33\"<br>Y: 38.07\"",
         "type": "scatter",
         "x": [
          18.32796
         ],
         "y": [
          38.065079999999995
         ]
        },
        {
         "hoverinfo": "text",
         "marker": {
          "color": "rgba(0,0,0,0)",
          "size": 5
         },
         "mode": "markers",
         "showlegend": false,
         "text": "Pitch #277<br>Called: BallCalled<br>Batter: Right<br>X: -15.23\"<br>Y: 23.48\"",
         "type": "scatter",
         "x": [
          -15.23352
         ],
         "y": [
          23.484119999999997
         ]
        },
        {
         "hoverinfo": "text",
         "marker": {
          "color": "rgba(0,0,0,0)",
          "size": 5
         },
         "mode": "markers",
         "showlegend": false,
         "text": "Pitch #279<br>Called: BallCalled<br>Batter: Right<br>X: -0.23\"<br>Y: 10.49\"",
         "type": "scatter",
         "x": [
          -0.22908
         ],
         "y": [
          10.48836
         ]
        },
        {
         "hoverinfo": "text",
         "marker": {
          "color": "rgba(0,0,0,0)",
          "size": 5
         },
         "mode": "markers",
         "showlegend": false,
         "text": "Pitch #281<br>Called: BallCalled<br>Batter: Right<br>X: -22.81\"<br>Y: 52.93\"",
         "type": "scatter",
         "x": [
          -22.809240000000003
         ],
         "y": [
          52.92792
         ]
        },
        {
         "hoverinfo": "text",
         "marker": {
          "color": "rgba(0,0,0,0)",
          "size": 5
         },
         "mode": "markers",
         "showlegend": false,
         "text": "Pitch #282<br>Called: BallCalled<br>Batter: Right<br>X: -14.16\"<br>Y: 40.90\"",
         "type": "scatter",
         "x": [
          -14.16084
         ],
         "y": [
          40.9032
         ]
        },
        {
         "hoverinfo": "text",
         "marker": {
          "color": "rgba(0,0,0,0)",
          "size": 5
         },
         "mode": "markers",
         "showlegend": false,
         "text": "Pitch #283<br>Called: StrikeCalled<br>Batter: Right<br>X: 3.54\"<br>Y: 23.06\"",
         "type": "scatter",
         "x": [
          3.54312
         ],
         "y": [
          23.05872
         ]
        },
        {
         "hoverinfo": "text",
         "marker": {
          "color": "rgba(0,0,0,0)",
          "size": 5
         },
         "mode": "markers",
         "showlegend": false,
         "text": "Pitch #285<br>Called: BallCalled<br>Batter: Right<br>X: -17.30\"<br>Y: 26.53\"",
         "type": "scatter",
         "x": [
          -17.30496
         ],
         "y": [
          26.526359999999997
         ]
        },
        {
         "hoverinfo": "text",
         "marker": {
          "color": "rgba(0,0,0,0)",
          "size": 5
         },
         "mode": "markers",
         "showlegend": false,
         "text": "Pitch #289<br>Called: BallCalled<br>Batter: Left<br>X: -13.66\"<br>Y: 43.61\"",
         "type": "scatter",
         "x": [
          -13.656839999999999
         ],
         "y": [
          43.611959999999996
         ]
        },
        {
         "hoverinfo": "text",
         "marker": {
          "color": "rgba(0,0,0,0)",
          "size": 5
         },
         "mode": "markers",
         "showlegend": false,
         "text": "Pitch #290<br>Called: BallCalled<br>Batter: Left<br>X: 8.35\"<br>Y: 24.95\"",
         "type": "scatter",
         "x": [
          8.348880000000001
         ],
         "y": [
          24.948840000000004
         ]
        },
        {
         "hoverinfo": "text",
         "marker": {
          "color": "rgba(0,0,0,0)",
          "size": 5
         },
         "mode": "markers",
         "showlegend": false,
         "text": "Pitch #292<br>Called: BallCalled - StolenBase<br>Batter: Left<br>X: -9.12\"<br>Y: 45.56\"",
         "type": "scatter",
         "x": [
          -9.12468
         ],
         "y": [
          45.5586
         ]
        },
        {
         "hoverinfo": "text",
         "marker": {
          "color": "rgba(0,0,0,0)",
          "size": 5
         },
         "mode": "markers",
         "showlegend": false,
         "text": "Pitch #293<br>Called: BallCalled - Walk<br>Batter: Left<br>X: -22.99\"<br>Y: 52.68\"",
         "type": "scatter",
         "x": [
          -22.99104
         ],
         "y": [
          52.683840000000004
         ]
        },
        {
         "hoverinfo": "text",
         "marker": {
          "color": "rgba(0,0,0,0)",
          "size": 5
         },
         "mode": "markers",
         "showlegend": false,
         "text": "Pitch #294<br>Called: BallCalled<br>Batter: Right<br>X: -28.68\"<br>Y: 41.19\"",
         "type": "scatter",
         "x": [
          -28.6764
         ],
         "y": [
          41.19444
         ]
        },
        {
         "hoverinfo": "text",
         "marker": {
          "color": "rgba(0,0,0,0)",
          "size": 5
         },
         "mode": "markers",
         "showlegend": false,
         "text": "Pitch #295<br>Called: StrikeCalled<br>Batter: Right<br>X: -6.74\"<br>Y: 22.50\"",
         "type": "scatter",
         "x": [
          -6.73824
         ],
         "y": [
          22.50264
         ]
        },
        {
         "hoverinfo": "text",
         "marker": {
          "color": "rgba(0,0,0,0)",
          "size": 5
         },
         "mode": "markers",
         "showlegend": false,
         "text": "Pitch #297<br>Called: BallCalled - CaughtStealing<br>Batter: Right<br>X: -12.49\"<br>Y: 68.38\"",
         "type": "scatter",
         "x": [
          -12.494039999999998
         ],
         "y": [
          68.38296
         ]
        },
        {
         "hoverinfo": "text",
         "marker": {
          "color": "rgba(0,0,0,0)",
          "size": 5
         },
         "mode": "markers",
         "showlegend": false,
         "text": "Pitch #298<br>Called: BallCalled<br>Batter: Right<br>X: 12.97\"<br>Y: 38.61\"",
         "type": "scatter",
         "x": [
          12.96708
         ],
         "y": [
          38.60616
         ]
        },
        {
         "hoverinfo": "text",
         "marker": {
          "color": "rgba(0,0,0,0)",
          "size": 5
         },
         "mode": "markers",
         "showlegend": false,
         "text": "Pitch #299<br>Called: BallCalled - Walk<br>Batter: Right<br>X: -18.97\"<br>Y: 50.98\"",
         "type": "scatter",
         "x": [
          -18.97128
         ],
         "y": [
          50.98067999999999
         ]
        },
        {
         "hoverinfo": "text",
         "marker": {
          "color": "rgba(0,0,0,0)",
          "size": 5
         },
         "mode": "markers",
         "showlegend": false,
         "text": "Pitch #300<br>Called: BallCalled<br>Batter: Right<br>X: 2.53\"<br>Y: 46.11\"",
         "type": "scatter",
         "x": [
          2.52672
         ],
         "y": [
          46.1088
         ]
        },
        {
         "hoverinfo": "text",
         "marker": {
          "color": "rgba(0,0,0,0)",
          "size": 5
         },
         "mode": "markers",
         "showlegend": false,
         "text": "Pitch #303<br>Called: StrikeCalled<br>Batter: Right<br>X: -10.77\"<br>Y: 40.84\"",
         "type": "scatter",
         "x": [
          -10.77312
         ],
         "y": [
          40.83528
         ]
        },
        {
         "hoverinfo": "text",
         "marker": {
          "color": "rgba(0,0,0,0)",
          "size": 5
         },
         "mode": "markers",
         "showlegend": false,
         "text": "Pitch #304<br>Called: BallCalled<br>Batter: Right<br>X: -16.17\"<br>Y: 24.20\"",
         "type": "scatter",
         "x": [
          -16.17372
         ],
         "y": [
          24.197519999999997
         ]
        },
        {
         "hoverinfo": "text",
         "marker": {
          "color": "rgba(0,0,0,0)",
          "size": 5
         },
         "mode": "markers",
         "showlegend": false,
         "text": "Pitch #305<br>Called: StrikeCalled<br>Batter: Right<br>X: -0.74\"<br>Y: 30.98\"",
         "type": "scatter",
         "x": [
          -0.7389600000000001
         ],
         "y": [
          30.98388
         ]
        },
        {
         "hoverinfo": "text",
         "marker": {
          "color": "rgba(0,0,0,0)",
          "size": 5
         },
         "mode": "markers",
         "showlegend": false,
         "text": "Pitch #306<br>Called: StrikeCalled - Strikeout<br>Batter: Right<br>X: -13.01\"<br>Y: 29.68\"",
         "type": "scatter",
         "x": [
          -13.009920000000001
         ],
         "y": [
          29.6796
         ]
        },
        {
         "hoverinfo": "text",
         "marker": {
          "color": "rgba(0,0,0,0)",
          "size": 5
         },
         "mode": "markers",
         "showlegend": false,
         "text": "Pitch #307<br>Called: BallCalled<br>Batter: Right<br>X: -24.91\"<br>Y: 35.53\"",
         "type": "scatter",
         "x": [
          -24.91104
         ],
         "y": [
          35.528639999999996
         ]
        },
        {
         "hoverinfo": "text",
         "marker": {
          "color": "rgba(0,0,0,0)",
          "size": 5
         },
         "mode": "markers",
         "showlegend": false,
         "text": "Pitch #311<br>Called: BallCalled<br>Batter: Right<br>X: -14.06\"<br>Y: 31.35\"",
         "type": "scatter",
         "x": [
          -14.058239999999998
         ],
         "y": [
          31.350720000000003
         ]
        },
        {
         "hoverinfo": "text",
         "marker": {
          "color": "rgba(0,0,0,0)",
          "size": 5
         },
         "mode": "markers",
         "showlegend": false,
         "text": "Pitch #1<br>Called: BallCalled<br>Batter: Right<br>X: -14.76\"<br>Y: 31.93\"",
         "type": "scatter",
         "x": [
          -14.75976
         ],
         "y": [
          31.93056
         ]
        },
        {
         "hoverinfo": "text",
         "marker": {
          "color": "rgba(0,0,0,0)",
          "size": 5
         },
         "mode": "markers",
         "showlegend": false,
         "text": "Pitch #2<br>Called: BallCalled<br>Batter: Right<br>X: 11.05\"<br>Y: 34.82\"",
         "type": "scatter",
         "x": [
          11.049479999999999
         ],
         "y": [
          34.818960000000004
         ]
        },
        {
         "hoverinfo": "text",
         "marker": {
          "color": "rgba(0,0,0,0)",
          "size": 5
         },
         "mode": "markers",
         "showlegend": false,
         "text": "Pitch #5<br>Called: BallCalled<br>Batter: Left<br>X: 22.45\"<br>Y: 21.12\"",
         "type": "scatter",
         "x": [
          22.45044
         ],
         "y": [
          21.11796
         ]
        },
        {
         "hoverinfo": "text",
         "marker": {
          "color": "rgba(0,0,0,0)",
          "size": 5
         },
         "mode": "markers",
         "showlegend": false,
         "text": "Pitch #6<br>Called: StrikeCalled<br>Batter: Left<br>X: 8.60\"<br>Y: 28.36\"",
         "type": "scatter",
         "x": [
          8.595600000000001
         ],
         "y": [
          28.359360000000002
         ]
        },
        {
         "hoverinfo": "text",
         "marker": {
          "color": "rgba(0,0,0,0)",
          "size": 5
         },
         "mode": "markers",
         "showlegend": false,
         "text": "Pitch #7<br>Called: BallCalled<br>Batter: Left<br>X: 15.33\"<br>Y: 23.75\"",
         "type": "scatter",
         "x": [
          15.3336
         ],
         "y": [
          23.7462
         ]
        },
        {
         "hoverinfo": "text",
         "marker": {
          "color": "rgba(0,0,0,0)",
          "size": 5
         },
         "mode": "markers",
         "showlegend": false,
         "text": "Pitch #9<br>Called: StrikeCalled - Strikeout<br>Batter: Left<br>X: 8.48\"<br>Y: 34.47\"",
         "type": "scatter",
         "x": [
          8.48424
         ],
         "y": [
          34.46796
         ]
        },
        {
         "hoverinfo": "text",
         "marker": {
          "color": "rgba(0,0,0,0)",
          "size": 5
         },
         "mode": "markers",
         "showlegend": false,
         "text": "Pitch #10<br>Called: BallCalled<br>Batter: Right<br>X: -8.99\"<br>Y: 33.80\"",
         "type": "scatter",
         "x": [
          -8.989080000000001
         ],
         "y": [
          33.79944
         ]
        },
        {
         "hoverinfo": "text",
         "marker": {
          "color": "rgba(0,0,0,0)",
          "size": 5
         },
         "mode": "markers",
         "showlegend": false,
         "text": "Pitch #11<br>Called: BallCalled<br>Batter: Right<br>X: -15.63\"<br>Y: 17.52\"",
         "type": "scatter",
         "x": [
          -15.630120000000002
         ],
         "y": [
          17.51892
         ]
        },
        {
         "hoverinfo": "text",
         "marker": {
          "color": "rgba(0,0,0,0)",
          "size": 5
         },
         "mode": "markers",
         "showlegend": false,
         "text": "Pitch #12<br>Called: BallCalled<br>Batter: Right<br>X: 9.50\"<br>Y: 6.81\"",
         "type": "scatter",
         "x": [
          9.49644
         ],
         "y": [
          6.80892
         ]
        },
        {
         "hoverinfo": "text",
         "marker": {
          "color": "rgba(0,0,0,0)",
          "size": 5
         },
         "mode": "markers",
         "showlegend": false,
         "text": "Pitch #13<br>Called: BallCalled - Walk<br>Batter: Right<br>X: 1.25\"<br>Y: 10.49\"",
         "type": "scatter",
         "x": [
          1.25172
         ],
         "y": [
          10.49124
         ]
        },
        {
         "hoverinfo": "text",
         "marker": {
          "color": "rgba(0,0,0,0)",
          "size": 5
         },
         "mode": "markers",
         "showlegend": false,
         "text": "Pitch #15<br>Called: StrikeCalled<br>Batter: Left<br>X: 8.82\"<br>Y: 33.31\"",
         "type": "scatter",
         "x": [
          8.82384
         ],
         "y": [
          33.31164
         ]
        },
        {
         "hoverinfo": "text",
         "marker": {
          "color": "rgba(0,0,0,0)",
          "size": 5
         },
         "mode": "markers",
         "showlegend": false,
         "text": "Pitch #16<br>Called: BallCalled<br>Batter: Left<br>X: 15.79\"<br>Y: 10.60\"",
         "type": "scatter",
         "x": [
          15.791160000000001
         ],
         "y": [
          10.60272
         ]
        },
        {
         "hoverinfo": "text",
         "marker": {
          "color": "rgba(0,0,0,0)",
          "size": 5
         },
         "mode": "markers",
         "showlegend": false,
         "text": "Pitch #17<br>Called: BallCalled<br>Batter: Left<br>X: 11.33\"<br>Y: 22.73\"",
         "type": "scatter",
         "x": [
          11.32548
         ],
         "y": [
          22.73064
         ]
        },
        {
         "hoverinfo": "text",
         "marker": {
          "color": "rgba(0,0,0,0)",
          "size": 5
         },
         "mode": "markers",
         "showlegend": false,
         "text": "Pitch #19<br>Called: BallCalled<br>Batter: Left<br>X: 10.27\"<br>Y: 8.18\"",
         "type": "scatter",
         "x": [
          10.26924
         ],
         "y": [
          8.18256
         ]
        },
        {
         "hoverinfo": "text",
         "marker": {
          "color": "rgba(0,0,0,0)",
          "size": 5
         },
         "mode": "markers",
         "showlegend": false,
         "text": "Pitch #20<br>Called: StrikeCalled - Strikeout<br>Batter: Left<br>X: 4.34\"<br>Y: 25.72\"",
         "type": "scatter",
         "x": [
          4.34244
         ],
         "y": [
          25.71696
         ]
        },
        {
         "hoverinfo": "text",
         "marker": {
          "color": "rgba(0,0,0,0)",
          "size": 5
         },
         "mode": "markers",
         "showlegend": false,
         "text": "Pitch #21<br>Called: BallCalled<br>Batter: Right<br>X: -25.60\"<br>Y: 35.31\"",
         "type": "scatter",
         "x": [
          -25.60392
         ],
         "y": [
          35.31432
         ]
        },
        {
         "hoverinfo": "text",
         "marker": {
          "color": "rgba(0,0,0,0)",
          "size": 5
         },
         "mode": "markers",
         "showlegend": false,
         "text": "Pitch #22<br>Called: BallCalled<br>Batter: Right<br>X: -25.29\"<br>Y: 26.66\"",
         "type": "scatter",
         "x": [
          -25.290480000000002
         ],
         "y": [
          26.65908
         ]
        },
        {
         "hoverinfo": "text",
         "marker": {
          "color": "rgba(0,0,0,0)",
          "size": 5
         },
         "mode": "markers",
         "showlegend": false,
         "text": "Pitch #25<br>Called: BallCalled<br>Batter: Left<br>X: 17.77\"<br>Y: 23.74\"",
         "type": "scatter",
         "x": [
          17.77428
         ],
         "y": [
          23.7378
         ]
        },
        {
         "hoverinfo": "text",
         "marker": {
          "color": "rgba(0,0,0,0)",
          "size": 5
         },
         "mode": "markers",
         "showlegend": false,
         "text": "Pitch #26<br>Called: BallCalled<br>Batter: Left<br>X: 23.97\"<br>Y: 21.36\"",
         "type": "scatter",
         "x": [
          23.9736
         ],
         "y": [
          21.3582
         ]
        },
        {
         "hoverinfo": "text",
         "marker": {
          "color": "rgba(0,0,0,0)",
          "size": 5
         },
         "mode": "markers",
         "showlegend": false,
         "text": "Pitch #27<br>Called: BallCalled<br>Batter: Left<br>X: 19.76\"<br>Y: 30.94\"",
         "type": "scatter",
         "x": [
          19.7616
         ],
         "y": [
          30.9426
         ]
        },
        {
         "hoverinfo": "text",
         "marker": {
          "color": "rgba(0,0,0,0)",
          "size": 5
         },
         "mode": "markers",
         "showlegend": false,
         "text": "Pitch #28<br>Called: StrikeCalled<br>Batter: Left<br>X: 2.79\"<br>Y: 20.33\"",
         "type": "scatter",
         "x": [
          2.78832
         ],
         "y": [
          20.33196
         ]
        },
        {
         "hoverinfo": "text",
         "marker": {
          "color": "rgba(0,0,0,0)",
          "size": 5
         },
         "mode": "markers",
         "showlegend": false,
         "text": "Pitch #32<br>Called: BallCalled<br>Batter: Left<br>X: -12.26\"<br>Y: 31.41\"",
         "type": "scatter",
         "x": [
          -12.262559999999999
         ],
         "y": [
          31.406040000000004
         ]
        },
        {
         "hoverinfo": "text",
         "marker": {
          "color": "rgba(0,0,0,0)",
          "size": 5
         },
         "mode": "markers",
         "showlegend": false,
         "text": "Pitch #35<br>Called: BallCalled<br>Batter: Right<br>X: -5.94\"<br>Y: 12.00\"",
         "type": "scatter",
         "x": [
          -5.94132
         ],
         "y": [
          11.9976
         ]
        },
        {
         "hoverinfo": "text",
         "marker": {
          "color": "rgba(0,0,0,0)",
          "size": 5
         },
         "mode": "markers",
         "showlegend": false,
         "text": "Pitch #37<br>Called: BallCalled<br>Batter: Right<br>X: 1.09\"<br>Y: 50.60\"",
         "type": "scatter",
         "x": [
          1.09476
         ],
         "y": [
          50.599799999999995
         ]
        },
        {
         "hoverinfo": "text",
         "marker": {
          "color": "rgba(0,0,0,0)",
          "size": 5
         },
         "mode": "markers",
         "showlegend": false,
         "text": "Pitch #39<br>Called: BallCalled<br>Batter: Right<br>X: -17.11\"<br>Y: 44.68\"",
         "type": "scatter",
         "x": [
          -17.11284
         ],
         "y": [
          44.67912
         ]
        },
        {
         "hoverinfo": "text",
         "marker": {
          "color": "rgba(0,0,0,0)",
          "size": 5
         },
         "mode": "markers",
         "showlegend": false,
         "text": "Pitch #41<br>Called: BallCalled<br>Batter: Right<br>X: 7.70\"<br>Y: 14.92\"",
         "type": "scatter",
         "x": [
          7.69644
         ],
         "y": [
          14.91624
         ]
        },
        {
         "hoverinfo": "text",
         "marker": {
          "color": "rgba(0,0,0,0)",
          "size": 5
         },
         "mode": "markers",
         "showlegend": false,
         "text": "Pitch #43<br>Called: BallCalled<br>Batter: Right<br>X: -14.84\"<br>Y: 31.12\"",
         "type": "scatter",
         "x": [
          -14.84304
         ],
         "y": [
          31.121280000000002
         ]
        },
        {
         "hoverinfo": "text",
         "marker": {
          "color": "rgba(0,0,0,0)",
          "size": 5
         },
         "mode": "markers",
         "showlegend": false,
         "text": "Pitch #48<br>Called: StrikeCalled<br>Batter: Right<br>X: -0.28\"<br>Y: 20.05\"",
         "type": "scatter",
         "x": [
          -0.27588
         ],
         "y": [
          20.051759999999998
         ]
        },
        {
         "hoverinfo": "text",
         "marker": {
          "color": "rgba(0,0,0,0)",
          "size": 5
         },
         "mode": "markers",
         "showlegend": false,
         "text": "Pitch #49<br>Called: BallCalled<br>Batter: Right<br>X: 0.70\"<br>Y: 3.50\"",
         "type": "scatter",
         "x": [
          0.7008
         ],
         "y": [
          3.5022
         ]
        },
        {
         "hoverinfo": "text",
         "marker": {
          "color": "rgba(0,0,0,0)",
          "size": 5
         },
         "mode": "markers",
         "showlegend": false,
         "text": "Pitch #51<br>Called: BallCalled<br>Batter: Right<br>X: -18.82\"<br>Y: 40.76\"",
         "type": "scatter",
         "x": [
          -18.82236
         ],
         "y": [
          40.7556
         ]
        },
        {
         "hoverinfo": "text",
         "marker": {
          "color": "rgba(0,0,0,0)",
          "size": 5
         },
         "mode": "markers",
         "showlegend": false,
         "text": "Pitch #52<br>Called: BallCalled<br>Batter: Right<br>X: -14.18\"<br>Y: 47.52\"",
         "type": "scatter",
         "x": [
          -14.17944
         ],
         "y": [
          47.517
         ]
        },
        {
         "hoverinfo": "text",
         "marker": {
          "color": "rgba(0,0,0,0)",
          "size": 5
         },
         "mode": "markers",
         "showlegend": false,
         "text": "Pitch #54<br>Called: BallCalled - Walk<br>Batter: Right<br>X: -19.46\"<br>Y: 53.67\"",
         "type": "scatter",
         "x": [
          -19.45656
         ],
         "y": [
          53.669160000000005
         ]
        },
        {
         "hoverinfo": "text",
         "marker": {
          "color": "rgba(0,0,0,0)",
          "size": 5
         },
         "mode": "markers",
         "showlegend": false,
         "text": "Pitch #56<br>Called: BallCalled<br>Batter: Right<br>X: -6.95\"<br>Y: 59.33\"",
         "type": "scatter",
         "x": [
          -6.94764
         ],
         "y": [
          59.33256
         ]
        },
        {
         "hoverinfo": "text",
         "marker": {
          "color": "rgba(0,0,0,0)",
          "size": 5
         },
         "mode": "markers",
         "showlegend": false,
         "text": "Pitch #58<br>Called: StrikeCalled<br>Batter: Left<br>X: 9.35\"<br>Y: 35.65\"",
         "type": "scatter",
         "x": [
          9.3474
         ],
         "y": [
          35.6454
         ]
        },
        {
         "hoverinfo": "text",
         "marker": {
          "color": "rgba(0,0,0,0)",
          "size": 5
         },
         "mode": "markers",
         "showlegend": false,
         "text": "Pitch #60<br>Called: StrikeCalled<br>Batter: Right<br>X: -0.80\"<br>Y: 32.34\"",
         "type": "scatter",
         "x": [
          -0.8007599999999999
         ],
         "y": [
          32.34312
         ]
        },
        {
         "hoverinfo": "text",
         "marker": {
          "color": "rgba(0,0,0,0)",
          "size": 5
         },
         "mode": "markers",
         "showlegend": false,
         "text": "Pitch #61<br>Called: BallCalled<br>Batter: Right<br>X: -7.15\"<br>Y: 31.86\"",
         "type": "scatter",
         "x": [
          -7.152480000000001
         ],
         "y": [
          31.856879999999997
         ]
        },
        {
         "hoverinfo": "text",
         "marker": {
          "color": "rgba(0,0,0,0)",
          "size": 5
         },
         "mode": "markers",
         "showlegend": false,
         "text": "Pitch #64<br>Called: BallCalled<br>Batter: Right<br>X: -15.37\"<br>Y: 27.91\"",
         "type": "scatter",
         "x": [
          -15.37164
         ],
         "y": [
          27.912840000000003
         ]
        },
        {
         "hoverinfo": "text",
         "marker": {
          "color": "rgba(0,0,0,0)",
          "size": 5
         },
         "mode": "markers",
         "showlegend": false,
         "text": "Pitch #67<br>Called: BallCalled<br>Batter: Right<br>X: -24.18\"<br>Y: 31.25\"",
         "type": "scatter",
         "x": [
          -24.177839999999996
         ],
         "y": [
          31.247639999999997
         ]
        },
        {
         "hoverinfo": "text",
         "marker": {
          "color": "rgba(0,0,0,0)",
          "size": 5
         },
         "mode": "markers",
         "showlegend": false,
         "text": "Pitch #68<br>Called: BallCalled<br>Batter: Right<br>X: 5.75\"<br>Y: 10.41\"",
         "type": "scatter",
         "x": [
          5.754
         ],
         "y": [
          10.411439999999999
         ]
        },
        {
         "hoverinfo": "text",
         "marker": {
          "color": "rgba(0,0,0,0)",
          "size": 5
         },
         "mode": "markers",
         "showlegend": false,
         "text": "Pitch #70<br>Called: BallCalled<br>Batter: Right<br>X: -23.44\"<br>Y: 44.59\"",
         "type": "scatter",
         "x": [
          -23.43972
         ],
         "y": [
          44.59476
         ]
        },
        {
         "hoverinfo": "text",
         "marker": {
          "color": "rgba(0,0,0,0)",
          "size": 5
         },
         "mode": "markers",
         "showlegend": false,
         "text": "Pitch #75<br>Called: BallCalled<br>Batter: Right<br>X: 6.15\"<br>Y: 14.72\"",
         "type": "scatter",
         "x": [
          6.1542
         ],
         "y": [
          14.72448
         ]
        },
        {
         "hoverinfo": "text",
         "marker": {
          "color": "rgba(0,0,0,0)",
          "size": 5
         },
         "mode": "markers",
         "showlegend": false,
         "text": "Pitch #77<br>Called: BallCalled<br>Batter: Right<br>X: 5.51\"<br>Y: 19.13\"",
         "type": "scatter",
         "x": [
          5.50872
         ],
         "y": [
          19.12836
         ]
        },
        {
         "hoverinfo": "text",
         "marker": {
          "color": "rgba(0,0,0,0)",
          "size": 5
         },
         "mode": "markers",
         "showlegend": false,
         "text": "Pitch #79<br>Called: StrikeCalled<br>Batter: Right<br>X: -10.91\"<br>Y: 27.74\"",
         "type": "scatter",
         "x": [
          -10.90596
         ],
         "y": [
          27.73632
         ]
        },
        {
         "hoverinfo": "text",
         "marker": {
          "color": "rgba(0,0,0,0)",
          "size": 5
         },
         "mode": "markers",
         "showlegend": false,
         "text": "Pitch #82<br>Called: BallCalled<br>Batter: Left<br>X: -10.50\"<br>Y: 28.62\"",
         "type": "scatter",
         "x": [
          -10.49676
         ],
         "y": [
          28.615080000000003
         ]
        },
        {
         "hoverinfo": "text",
         "marker": {
          "color": "rgba(0,0,0,0)",
          "size": 5
         },
         "mode": "markers",
         "showlegend": false,
         "text": "Pitch #85<br>Called: BallCalled<br>Batter: Left<br>X: -5.46\"<br>Y: 10.10\"",
         "type": "scatter",
         "x": [
          -5.4595199999999995
         ],
         "y": [
          10.10388
         ]
        },
        {
         "hoverinfo": "text",
         "marker": {
          "color": "rgba(0,0,0,0)",
          "size": 5
         },
         "mode": "markers",
         "showlegend": false,
         "text": "Pitch #86<br>Called: StrikeCalled<br>Batter: Left<br>X: -1.11\"<br>Y: 28.96\"",
         "type": "scatter",
         "x": [
          -1.10772
         ],
         "y": [
          28.955640000000002
         ]
        },
        {
         "hoverinfo": "text",
         "marker": {
          "color": "rgba(0,0,0,0)",
          "size": 5
         },
         "mode": "markers",
         "showlegend": false,
         "text": "Pitch #88<br>Called: BallCalled<br>Batter: Left<br>X: 3.76\"<br>Y: 7.78\"",
         "type": "scatter",
         "x": [
          3.76356
         ],
         "y": [
          7.783799999999999
         ]
        },
        {
         "hoverinfo": "text",
         "marker": {
          "color": "rgba(0,0,0,0)",
          "size": 5
         },
         "mode": "markers",
         "showlegend": false,
         "text": "Pitch #89<br>Called: BallCalled<br>Batter: Left<br>X: 12.61\"<br>Y: 31.40\"",
         "type": "scatter",
         "x": [
          12.61008
         ],
         "y": [
          31.4046
         ]
        },
        {
         "hoverinfo": "text",
         "marker": {
          "color": "rgba(0,0,0,0)",
          "size": 5
         },
         "mode": "markers",
         "showlegend": false,
         "text": "Pitch #90<br>Called: BallCalled - Walk<br>Batter: Left<br>X: 15.17\"<br>Y: 11.46\"",
         "type": "scatter",
         "x": [
          15.16836
         ],
         "y": [
          11.46384
         ]
        },
        {
         "hoverinfo": "text",
         "marker": {
          "color": "rgba(0,0,0,0)",
          "size": 5
         },
         "mode": "markers",
         "showlegend": false,
         "text": "Pitch #91<br>Called: BallCalled<br>Batter: Right<br>X: 27.45\"<br>Y: 14.03\"",
         "type": "scatter",
         "x": [
          27.4548
         ],
         "y": [
          14.03364
         ]
        },
        {
         "hoverinfo": "text",
         "marker": {
          "color": "rgba(0,0,0,0)",
          "size": 5
         },
         "mode": "markers",
         "showlegend": false,
         "text": "Pitch #92<br>Called: BallCalled<br>Batter: Right<br>X: 8.27\"<br>Y: -0.09\"",
         "type": "scatter",
         "x": [
          8.27076
         ],
         "y": [
          -0.0852
         ]
        },
        {
         "hoverinfo": "text",
         "marker": {
          "color": "rgba(0,0,0,0)",
          "size": 5
         },
         "mode": "markers",
         "showlegend": false,
         "text": "Pitch #95<br>Called: BallCalled<br>Batter: Right<br>X: -12.34\"<br>Y: 40.42\"",
         "type": "scatter",
         "x": [
          -12.3432
         ],
         "y": [
          40.42152
         ]
        },
        {
         "hoverinfo": "text",
         "marker": {
          "color": "rgba(0,0,0,0)",
          "size": 5
         },
         "mode": "markers",
         "showlegend": false,
         "text": "Pitch #102<br>Called: StrikeCalled<br>Batter: Right<br>X: -6.91\"<br>Y: 27.91\"",
         "type": "scatter",
         "x": [
          -6.91128
         ],
         "y": [
          27.905879999999996
         ]
        },
        {
         "hoverinfo": "text",
         "marker": {
          "color": "rgba(0,0,0,0)",
          "size": 5
         },
         "mode": "markers",
         "showlegend": false,
         "text": "Pitch #105<br>Called: BallCalled<br>Batter: Right<br>X: -7.62\"<br>Y: 4.74\"",
         "type": "scatter",
         "x": [
          -7.616160000000001
         ],
         "y": [
          4.744199999999999
         ]
        },
        {
         "hoverinfo": "text",
         "marker": {
          "color": "rgba(0,0,0,0)",
          "size": 5
         },
         "mode": "markers",
         "showlegend": false,
         "text": "Pitch #107<br>Called: BallCalled<br>Batter: Right<br>X: -8.16\"<br>Y: 14.21\"",
         "type": "scatter",
         "x": [
          -8.164079999999998
         ],
         "y": [
          14.2074
         ]
        },
        {
         "hoverinfo": "text",
         "marker": {
          "color": "rgba(0,0,0,0)",
          "size": 5
         },
         "mode": "markers",
         "showlegend": false,
         "text": "Pitch #108<br>Called: BallCalled<br>Batter: Right<br>X: -9.46\"<br>Y: 52.84\"",
         "type": "scatter",
         "x": [
          -9.462720000000001
         ],
         "y": [
          52.83672
         ]
        },
        {
         "hoverinfo": "text",
         "marker": {
          "color": "rgba(0,0,0,0)",
          "size": 5
         },
         "mode": "markers",
         "showlegend": false,
         "text": "Pitch #111<br>Called: BallCalled<br>Batter: Right<br>X: -18.71\"<br>Y: 21.34\"",
         "type": "scatter",
         "x": [
          -18.7098
         ],
         "y": [
          21.33624
         ]
        },
        {
         "hoverinfo": "text",
         "marker": {
          "color": "rgba(0,0,0,0)",
          "size": 5
         },
         "mode": "markers",
         "showlegend": false,
         "text": "Pitch #112<br>Called: BallCalled<br>Batter: Right<br>X: 6.80\"<br>Y: 13.78\"",
         "type": "scatter",
         "x": [
          6.795719999999999
         ],
         "y": [
          13.776119999999999
         ]
        },
        {
         "hoverinfo": "text",
         "marker": {
          "color": "rgba(0,0,0,0)",
          "size": 5
         },
         "mode": "markers",
         "showlegend": false,
         "text": "Pitch #114<br>Called: BallCalled<br>Batter: Right<br>X: -10.41\"<br>Y: 22.66\"",
         "type": "scatter",
         "x": [
          -10.41012
         ],
         "y": [
          22.655279999999998
         ]
        },
        {
         "hoverinfo": "text",
         "marker": {
          "color": "rgba(0,0,0,0)",
          "size": 5
         },
         "mode": "markers",
         "showlegend": false,
         "text": "Pitch #117<br>Called: BallCalled<br>Batter: Right<br>X: -18.48\"<br>Y: 32.81\"",
         "type": "scatter",
         "x": [
          -18.47832
         ],
         "y": [
          32.80728
         ]
        },
        {
         "hoverinfo": "text",
         "marker": {
          "color": "rgba(0,0,0,0)",
          "size": 5
         },
         "mode": "markers",
         "showlegend": false,
         "text": "Pitch #120<br>Called: BallCalled<br>Batter: Right<br>X: -21.22\"<br>Y: 21.86\"",
         "type": "scatter",
         "x": [
          -21.2244
         ],
         "y": [
          21.86448
         ]
        },
        {
         "hoverinfo": "text",
         "marker": {
          "color": "rgba(0,0,0,0)",
          "size": 5
         },
         "mode": "markers",
         "showlegend": false,
         "text": "Pitch #123<br>Called: BallCalled<br>Batter: Right<br>X: -24.27\"<br>Y: 30.94\"",
         "type": "scatter",
         "x": [
          -24.272040000000004
         ],
         "y": [
          30.936839999999997
         ]
        },
        {
         "hoverinfo": "text",
         "marker": {
          "color": "rgba(0,0,0,0)",
          "size": 5
         },
         "mode": "markers",
         "showlegend": false,
         "text": "Pitch #124<br>Called: BallCalled<br>Batter: Right<br>X: -2.80\"<br>Y: 51.98\"",
         "type": "scatter",
         "x": [
          -2.79576
         ],
         "y": [
          51.98352
         ]
        },
        {
         "hoverinfo": "text",
         "marker": {
          "color": "rgba(0,0,0,0)",
          "size": 5
         },
         "mode": "markers",
         "showlegend": false,
         "text": "Pitch #125<br>Called: StrikeCalled<br>Batter: Right<br>X: -6.47\"<br>Y: 33.44\"",
         "type": "scatter",
         "x": [
          -6.473280000000001
         ],
         "y": [
          33.43752
         ]
        },
        {
         "hoverinfo": "text",
         "marker": {
          "color": "rgba(0,0,0,0)",
          "size": 5
         },
         "mode": "markers",
         "showlegend": false,
         "text": "Pitch #127<br>Called: BallCalled<br>Batter: Right<br>X: -4.84\"<br>Y: 12.65\"",
         "type": "scatter",
         "x": [
          -4.83876
         ],
         "y": [
          12.65496
         ]
        },
        {
         "hoverinfo": "text",
         "marker": {
          "color": "rgba(0,0,0,0)",
          "size": 5
         },
         "mode": "markers",
         "showlegend": false,
         "text": "Pitch #131<br>Called: StrikeCalled<br>Batter: Left<br>X: -7.71\"<br>Y: 28.80\"",
         "type": "scatter",
         "x": [
          -7.713239999999999
         ],
         "y": [
          28.802279999999996
         ]
        },
        {
         "hoverinfo": "text",
         "marker": {
          "color": "rgba(0,0,0,0)",
          "size": 5
         },
         "mode": "markers",
         "showlegend": false,
         "text": "Pitch #133<br>Called: StrikeCalled<br>Batter: Right<br>X: -4.39\"<br>Y: 23.60\"",
         "type": "scatter",
         "x": [
          -4.3944
         ],
         "y": [
          23.6016
         ]
        },
        {
         "hoverinfo": "text",
         "marker": {
          "color": "rgba(0,0,0,0)",
          "size": 5
         },
         "mode": "markers",
         "showlegend": false,
         "text": "Pitch #135<br>Called: BallCalled<br>Batter: Right<br>X: -24.18\"<br>Y: 33.09\"",
         "type": "scatter",
         "x": [
          -24.1824
         ],
         "y": [
          33.08628
         ]
        },
        {
         "hoverinfo": "text",
         "marker": {
          "color": "rgba(0,0,0,0)",
          "size": 5
         },
         "mode": "markers",
         "showlegend": false,
         "text": "Pitch #137<br>Called: BallCalled<br>Batter: Right<br>X: -14.44\"<br>Y: 26.99\"",
         "type": "scatter",
         "x": [
          -14.43708
         ],
         "y": [
          26.987519999999996
         ]
        },
        {
         "hoverinfo": "text",
         "marker": {
          "color": "rgba(0,0,0,0)",
          "size": 5
         },
         "mode": "markers",
         "showlegend": false,
         "text": "Pitch #138<br>Called: StrikeCalled<br>Batter: Right<br>X: 3.69\"<br>Y: 21.47\"",
         "type": "scatter",
         "x": [
          3.69288
         ],
         "y": [
          21.47352
         ]
        },
        {
         "hoverinfo": "text",
         "marker": {
          "color": "rgba(0,0,0,0)",
          "size": 5
         },
         "mode": "markers",
         "showlegend": false,
         "text": "Pitch #139<br>Called: BallCalled<br>Batter: Right<br>X: -19.43\"<br>Y: 43.52\"",
         "type": "scatter",
         "x": [
          -19.42584
         ],
         "y": [
          43.52232
         ]
        },
        {
         "hoverinfo": "text",
         "marker": {
          "color": "rgba(0,0,0,0)",
          "size": 5
         },
         "mode": "markers",
         "showlegend": false,
         "text": "Pitch #141<br>Called: BallCalled<br>Batter: Right<br>X: -23.14\"<br>Y: 49.31\"",
         "type": "scatter",
         "x": [
          -23.13876
         ],
         "y": [
          49.31136
         ]
        },
        {
         "hoverinfo": "text",
         "marker": {
          "color": "rgba(0,0,0,0)",
          "size": 5
         },
         "mode": "markers",
         "showlegend": false,
         "text": "Pitch #144<br>Called: StrikeCalled<br>Batter: Right<br>X: -7.48\"<br>Y: 21.88\"",
         "type": "scatter",
         "x": [
          -7.48188
         ],
         "y": [
          21.88296
         ]
        },
        {
         "hoverinfo": "text",
         "marker": {
          "color": "rgba(0,0,0,0)",
          "size": 5
         },
         "mode": "markers",
         "showlegend": false,
         "text": "Pitch #146<br>Called: BallCalled<br>Batter: Right<br>X: -14.29\"<br>Y: 38.55\"",
         "type": "scatter",
         "x": [
          -14.29236
         ],
         "y": [
          38.545919999999995
         ]
        },
        {
         "hoverinfo": "text",
         "marker": {
          "color": "rgba(0,0,0,0)",
          "size": 5
         },
         "mode": "markers",
         "showlegend": false,
         "text": "Pitch #148<br>Called: BallCalled<br>Batter: Left<br>X: -14.34\"<br>Y: 44.69\"",
         "type": "scatter",
         "x": [
          -14.34132
         ],
         "y": [
          44.69328
         ]
        },
        {
         "hoverinfo": "text",
         "marker": {
          "color": "rgba(0,0,0,0)",
          "size": 5
         },
         "mode": "markers",
         "showlegend": false,
         "text": "Pitch #149<br>Called: BallCalled<br>Batter: Left<br>X: -11.66\"<br>Y: 18.61\"",
         "type": "scatter",
         "x": [
          -11.65548
         ],
         "y": [
          18.609479999999998
         ]
        },
        {
         "hoverinfo": "text",
         "marker": {
          "color": "rgba(0,0,0,0)",
          "size": 5
         },
         "mode": "markers",
         "showlegend": false,
         "text": "Pitch #153<br>Called: StrikeCalled<br>Batter: Left<br>X: -3.70\"<br>Y: 29.02\"",
         "type": "scatter",
         "x": [
          -3.7037999999999998
         ],
         "y": [
          29.02248
         ]
        },
        {
         "hoverinfo": "text",
         "marker": {
          "color": "rgba(0,0,0,0)",
          "size": 5
         },
         "mode": "markers",
         "showlegend": false,
         "text": "Pitch #154<br>Called: BallCalled<br>Batter: Left<br>X: 5.09\"<br>Y: 9.63\"",
         "type": "scatter",
         "x": [
          5.08536
         ],
         "y": [
          9.62664
         ]
        },
        {
         "hoverinfo": "text",
         "marker": {
          "color": "rgba(0,0,0,0)",
          "size": 5
         },
         "mode": "markers",
         "showlegend": false,
         "text": "Pitch #156<br>Called: StrikeCalled - Strikeout<br>Batter: Left<br>X: 2.98\"<br>Y: 12.52\"",
         "type": "scatter",
         "x": [
          2.97576
         ],
         "y": [
          12.52344
         ]
        },
        {
         "hoverinfo": "text",
         "marker": {
          "color": "rgba(0,0,0,0)",
          "size": 5
         },
         "mode": "markers",
         "showlegend": false,
         "text": "Pitch #157<br>Called: BallCalled<br>Batter: Right<br>X: 2.54\"<br>Y: 16.09\"",
         "type": "scatter",
         "x": [
          2.5392
         ],
         "y": [
          16.087799999999998
         ]
        },
        {
         "hoverinfo": "text",
         "marker": {
          "color": "rgba(0,0,0,0)",
          "size": 5
         },
         "mode": "markers",
         "showlegend": false,
         "text": "Pitch #162<br>Called: BallCalled<br>Batter: Right<br>X: -11.38\"<br>Y: 7.71\"",
         "type": "scatter",
         "x": [
          -11.38008
         ],
         "y": [
          7.7088
         ]
        },
        {
         "hoverinfo": "text",
         "marker": {
          "color": "rgba(0,0,0,0)",
          "size": 5
         },
         "mode": "markers",
         "showlegend": false,
         "text": "Pitch #165<br>Called: BallCalled<br>Batter: Right<br>X: -13.39\"<br>Y: 19.78\"",
         "type": "scatter",
         "x": [
          -13.39008
         ],
         "y": [
          19.7826
         ]
        },
        {
         "hoverinfo": "text",
         "marker": {
          "color": "rgba(0,0,0,0)",
          "size": 5
         },
         "mode": "markers",
         "showlegend": false,
         "text": "Pitch #166<br>Called: BallCalled<br>Batter: Right<br>X: -19.74\"<br>Y: 29.12\"",
         "type": "scatter",
         "x": [
          -19.74156
         ],
         "y": [
          29.11584
         ]
        },
        {
         "hoverinfo": "text",
         "marker": {
          "color": "rgba(0,0,0,0)",
          "size": 5
         },
         "mode": "markers",
         "showlegend": false,
         "text": "Pitch #169<br>Called: BallCalled<br>Batter: Left<br>X: 20.56\"<br>Y: 21.56\"",
         "type": "scatter",
         "x": [
          20.55516
         ],
         "y": [
          21.558120000000002
         ]
        },
        {
         "hoverinfo": "text",
         "marker": {
          "color": "rgba(0,0,0,0)",
          "size": 5
         },
         "mode": "markers",
         "showlegend": false,
         "text": "Pitch #170<br>Called: StrikeCalled<br>Batter: Left<br>X: -7.07\"<br>Y: 28.73\"",
         "type": "scatter",
         "x": [
          -7.06608
         ],
         "y": [
          28.73028
         ]
        },
        {
         "hoverinfo": "text",
         "marker": {
          "color": "rgba(0,0,0,0)",
          "size": 5
         },
         "mode": "markers",
         "showlegend": false,
         "text": "Pitch #171<br>Called: BallCalled<br>Batter: Left<br>X: -13.48\"<br>Y: 38.31\"",
         "type": "scatter",
         "x": [
          -13.483559999999999
         ],
         "y": [
          38.31324
         ]
        },
        {
         "hoverinfo": "text",
         "marker": {
          "color": "rgba(0,0,0,0)",
          "size": 5
         },
         "mode": "markers",
         "showlegend": false,
         "text": "Pitch #172<br>Called: BallCalled<br>Batter: Left<br>X: -1.94\"<br>Y: 40.55\"",
         "type": "scatter",
         "x": [
          -1.94484
         ],
         "y": [
          40.54848
         ]
        },
        {
         "hoverinfo": "text",
         "marker": {
          "color": "rgba(0,0,0,0)",
          "size": 5
         },
         "mode": "markers",
         "showlegend": false,
         "text": "Pitch #173<br>Called: StrikeCalled - Strikeout<br>Batter: Left<br>X: -2.59\"<br>Y: 34.04\"",
         "type": "scatter",
         "x": [
          -2.59248
         ],
         "y": [
          34.03632
         ]
        },
        {
         "hoverinfo": "text",
         "marker": {
          "color": "rgba(0,0,0,0)",
          "size": 5
         },
         "mode": "markers",
         "showlegend": false,
         "text": "Pitch #175<br>Called: BallCalled<br>Batter: Right<br>X: -13.63\"<br>Y: 8.71\"",
         "type": "scatter",
         "x": [
          -13.629000000000001
         ],
         "y": [
          8.71308
         ]
        },
        {
         "hoverinfo": "text",
         "marker": {
          "color": "rgba(0,0,0,0)",
          "size": 5
         },
         "mode": "markers",
         "showlegend": false,
         "text": "Pitch #176<br>Called: BallCalled<br>Batter: Right<br>X: -23.14\"<br>Y: 25.14\"",
         "type": "scatter",
         "x": [
          -23.14392
         ],
         "y": [
          25.136039999999998
         ]
        },
        {
         "hoverinfo": "text",
         "marker": {
          "color": "rgba(0,0,0,0)",
          "size": 5
         },
         "mode": "markers",
         "showlegend": false,
         "text": "Pitch #177<br>Called: BallCalled<br>Batter: Right<br>X: -1.57\"<br>Y: 5.01\"",
         "type": "scatter",
         "x": [
          -1.5672
         ],
         "y": [
          5.012639999999999
         ]
        },
        {
         "hoverinfo": "text",
         "marker": {
          "color": "rgba(0,0,0,0)",
          "size": 5
         },
         "mode": "markers",
         "showlegend": false,
         "text": "Pitch #178<br>Called: BallCalled - Walk<br>Batter: Right<br>X: -18.00\"<br>Y: 44.54\"",
         "type": "scatter",
         "x": [
          -18.001559999999998
         ],
         "y": [
          44.541
         ]
        },
        {
         "hoverinfo": "text",
         "marker": {
          "color": "rgba(0,0,0,0)",
          "size": 5
         },
         "mode": "markers",
         "showlegend": false,
         "text": "Pitch #180<br>Called: StrikeCalled<br>Batter: Right<br>X: -7.12\"<br>Y: 19.90\"",
         "type": "scatter",
         "x": [
          -7.11768
         ],
         "y": [
          19.898760000000003
         ]
        },
        {
         "hoverinfo": "text",
         "marker": {
          "color": "rgba(0,0,0,0)",
          "size": 5
         },
         "mode": "markers",
         "showlegend": false,
         "text": "Pitch #183<br>Called: BallCalled<br>Batter: Right<br>X: -21.14\"<br>Y: 43.90\"",
         "type": "scatter",
         "x": [
          -21.13872
         ],
         "y": [
          43.904759999999996
         ]
        },
        {
         "hoverinfo": "text",
         "marker": {
          "color": "rgba(0,0,0,0)",
          "size": 5
         },
         "mode": "markers",
         "showlegend": false,
         "text": "Pitch #184<br>Called: BallCalled<br>Batter: Right<br>X: -23.59\"<br>Y: 39.70\"",
         "type": "scatter",
         "x": [
          -23.5884
         ],
         "y": [
          39.70128
         ]
        },
        {
         "hoverinfo": "text",
         "marker": {
          "color": "rgba(0,0,0,0)",
          "size": 5
         },
         "mode": "markers",
         "showlegend": false,
         "text": "Pitch #186<br>Called: StrikeCalled<br>Batter: Right<br>X: 2.59\"<br>Y: 18.46\"",
         "type": "scatter",
         "x": [
          2.59068
         ],
         "y": [
          18.45996
         ]
        },
        {
         "hoverinfo": "text",
         "marker": {
          "color": "rgba(0,0,0,0)",
          "size": 5
         },
         "mode": "markers",
         "showlegend": false,
         "text": "Pitch #188<br>Called: BallCalled<br>Batter: Left<br>X: 29.18\"<br>Y: 17.01\"",
         "type": "scatter",
         "x": [
          29.177880000000002
         ],
         "y": [
          17.01072
         ]
        },
        {
         "hoverinfo": "text",
         "marker": {
          "color": "rgba(0,0,0,0)",
          "size": 5
         },
         "mode": "markers",
         "showlegend": false,
         "text": "Pitch #189<br>Called: BallCalled<br>Batter: Left<br>X: -11.75\"<br>Y: 26.77\"",
         "type": "scatter",
         "x": [
          -11.75064
         ],
         "y": [
          26.7672
         ]
        },
        {
         "hoverinfo": "text",
         "marker": {
          "color": "rgba(0,0,0,0)",
          "size": 5
         },
         "mode": "markers",
         "showlegend": false,
         "text": "Pitch #190<br>Called: BallCalled<br>Batter: Left<br>X: 15.75\"<br>Y: 26.63\"",
         "type": "scatter",
         "x": [
          15.7512
         ],
         "y": [
          26.632199999999997
         ]
        },
        {
         "hoverinfo": "text",
         "marker": {
          "color": "rgba(0,0,0,0)",
          "size": 5
         },
         "mode": "markers",
         "showlegend": false,
         "text": "Pitch #191<br>Called: BallCalled - Walk<br>Batter: Left<br>X: -20.11\"<br>Y: 26.42\"",
         "type": "scatter",
         "x": [
          -20.107680000000002
         ],
         "y": [
          26.42136
         ]
        },
        {
         "hoverinfo": "text",
         "marker": {
          "color": "rgba(0,0,0,0)",
          "size": 5
         },
         "mode": "markers",
         "showlegend": false,
         "text": "Pitch #192<br>Called: StrikeCalled<br>Batter: Left<br>X: -2.40\"<br>Y: 22.06\"",
         "type": "scatter",
         "x": [
          -2.4012000000000002
         ],
         "y": [
          22.0614
         ]
        },
        {
         "hoverinfo": "text",
         "marker": {
          "color": "rgba(0,0,0,0)",
          "size": 5
         },
         "mode": "markers",
         "showlegend": false,
         "text": "Pitch #194<br>Called: BallCalled<br>Batter: Left<br>X: -2.04\"<br>Y: 12.96\"",
         "type": "scatter",
         "x": [
          -2.04096
         ],
         "y": [
          12.9624
         ]
        },
        {
         "hoverinfo": "text",
         "marker": {
          "color": "rgba(0,0,0,0)",
          "size": 5
         },
         "mode": "markers",
         "showlegend": false,
         "text": "Pitch #195<br>Called: BallCalled<br>Batter: Left<br>X: -14.61\"<br>Y: 13.51\"",
         "type": "scatter",
         "x": [
          -14.61
         ],
         "y": [
          13.509120000000001
         ]
        },
        {
         "hoverinfo": "text",
         "marker": {
          "color": "rgba(0,0,0,0)",
          "size": 5
         },
         "mode": "markers",
         "showlegend": false,
         "text": "Pitch #196<br>Called: BallCalled<br>Batter: Left<br>X: -0.14\"<br>Y: 9.76\"",
         "type": "scatter",
         "x": [
          -0.13620000000000002
         ],
         "y": [
          9.759
         ]
        },
        {
         "hoverinfo": "text",
         "marker": {
          "color": "rgba(0,0,0,0)",
          "size": 5
         },
         "mode": "markers",
         "showlegend": false,
         "text": "Pitch #198<br>Called: BallCalled<br>Batter: Left<br>X: -10.39\"<br>Y: 13.11\"",
         "type": "scatter",
         "x": [
          -10.39488
         ],
         "y": [
          13.11048
         ]
        },
        {
         "hoverinfo": "text",
         "marker": {
          "color": "rgba(0,0,0,0)",
          "size": 5
         },
         "mode": "markers",
         "showlegend": false,
         "text": "Pitch #199<br>Called: BallCalled<br>Batter: Left<br>X: -24.67\"<br>Y: 40.24\"",
         "type": "scatter",
         "x": [
          -24.66972
         ],
         "y": [
          40.23732
         ]
        },
        {
         "hoverinfo": "text",
         "marker": {
          "color": "rgba(0,0,0,0)",
          "size": 5
         },
         "mode": "markers",
         "showlegend": false,
         "text": "Pitch #200<br>Called: BallCalled<br>Batter: Left<br>X: -15.96\"<br>Y: 42.17\"",
         "type": "scatter",
         "x": [
          -15.9648
         ],
         "y": [
          42.172560000000004
         ]
        },
        {
         "hoverinfo": "text",
         "marker": {
          "color": "rgba(0,0,0,0)",
          "size": 5
         },
         "mode": "markers",
         "showlegend": false,
         "text": "Pitch #201<br>Called: StrikeCalled<br>Batter: Left<br>X: -5.30\"<br>Y: 31.25\"",
         "type": "scatter",
         "x": [
          -5.29776
         ],
         "y": [
          31.245959999999997
         ]
        },
        {
         "hoverinfo": "text",
         "marker": {
          "color": "rgba(0,0,0,0)",
          "size": 5
         },
         "mode": "markers",
         "showlegend": false,
         "text": "Pitch #202<br>Called: BallCalled - Walk<br>Batter: Left<br>X: -20.85\"<br>Y: 27.90\"",
         "type": "scatter",
         "x": [
          -20.84724
         ],
         "y": [
          27.9006
         ]
        },
        {
         "hoverinfo": "text",
         "marker": {
          "color": "rgba(0,0,0,0)",
          "size": 5
         },
         "mode": "markers",
         "showlegend": false,
         "text": "Pitch #203<br>Called: BallCalled<br>Batter: Left<br>X: -17.04\"<br>Y: 11.11\"",
         "type": "scatter",
         "x": [
          -17.03556
         ],
         "y": [
          11.11116
         ]
        },
        {
         "hoverinfo": "text",
         "marker": {
          "color": "rgba(0,0,0,0)",
          "size": 5
         },
         "mode": "markers",
         "showlegend": false,
         "text": "Pitch #204<br>Called: BallCalled<br>Batter: Left<br>X: 13.85\"<br>Y: 17.13\"",
         "type": "scatter",
         "x": [
          13.854479999999999
         ],
         "y": [
          17.12604
         ]
        },
        {
         "hoverinfo": "text",
         "marker": {
          "color": "rgba(0,0,0,0)",
          "size": 5
         },
         "mode": "markers",
         "showlegend": false,
         "text": "Pitch #206<br>Called: StrikeCalled<br>Batter: Left<br>X: 7.57\"<br>Y: 16.59\"",
         "type": "scatter",
         "x": [
          7.569000000000001
         ],
         "y": [
          16.59396
         ]
        },
        {
         "hoverinfo": "text",
         "marker": {
          "color": "rgba(0,0,0,0)",
          "size": 5
         },
         "mode": "markers",
         "showlegend": false,
         "text": "Pitch #208<br>Called: BallCalled<br>Batter: Right<br>X: 1.93\"<br>Y: 7.43\"",
         "type": "scatter",
         "x": [
          1.93284
         ],
         "y": [
          7.426680000000001
         ]
        },
        {
         "hoverinfo": "text",
         "marker": {
          "color": "rgba(0,0,0,0)",
          "size": 5
         },
         "mode": "markers",
         "showlegend": false,
         "text": "Pitch #209<br>Called: BallCalled<br>Batter: Right<br>X: -16.72\"<br>Y: 32.67\"",
         "type": "scatter",
         "x": [
          -16.71708
         ],
         "y": [
          32.66628
         ]
        },
        {
         "hoverinfo": "text",
         "marker": {
          "color": "rgba(0,0,0,0)",
          "size": 5
         },
         "mode": "markers",
         "showlegend": false,
         "text": "Pitch #210<br>Called: StrikeCalled<br>Batter: Right<br>X: 0.63\"<br>Y: 22.15\"",
         "type": "scatter",
         "x": [
          0.63156
         ],
         "y": [
          22.145400000000002
         ]
        },
        {
         "hoverinfo": "text",
         "marker": {
          "color": "rgba(0,0,0,0)",
          "size": 5
         },
         "mode": "markers",
         "showlegend": false,
         "text": "Pitch #213<br>Called: BallCalled<br>Batter: Right<br>X: -19.14\"<br>Y: 18.35\"",
         "type": "scatter",
         "x": [
          -19.141199999999998
         ],
         "y": [
          18.34716
         ]
        },
        {
         "hoverinfo": "text",
         "marker": {
          "color": "rgba(0,0,0,0)",
          "size": 5
         },
         "mode": "markers",
         "showlegend": false,
         "text": "Pitch #215<br>Called: StrikeCalled<br>Batter: Right<br>X: -0.96\"<br>Y: 29.47\"",
         "type": "scatter",
         "x": [
          -0.95892
         ],
         "y": [
          29.47212
         ]
        },
        {
         "hoverinfo": "text",
         "marker": {
          "color": "rgba(0,0,0,0)",
          "size": 5
         },
         "mode": "markers",
         "showlegend": false,
         "text": "Pitch #217<br>Called: BallCalled<br>Batter: Right<br>X: -13.47\"<br>Y: 41.34\"",
         "type": "scatter",
         "x": [
          -13.46748
         ],
         "y": [
          41.343720000000005
         ]
        },
        {
         "hoverinfo": "text",
         "marker": {
          "color": "rgba(0,0,0,0)",
          "size": 5
         },
         "mode": "markers",
         "showlegend": false,
         "text": "Pitch #219<br>Called: BallCalled<br>Batter: Right<br>X: -10.20\"<br>Y: 23.91\"",
         "type": "scatter",
         "x": [
          -10.20156
         ],
         "y": [
          23.91216
         ]
        },
        {
         "hoverinfo": "text",
         "marker": {
          "color": "rgba(0,0,0,0)",
          "size": 5
         },
         "mode": "markers",
         "showlegend": false,
         "text": "Pitch #222<br>Called: BallCalled<br>Batter: Right<br>X: -5.93\"<br>Y: 56.93\"",
         "type": "scatter",
         "x": [
          -5.931
         ],
         "y": [
          56.926919999999996
         ]
        },
        {
         "hoverinfo": "text",
         "marker": {
          "color": "rgba(0,0,0,0)",
          "size": 5
         },
         "mode": "markers",
         "showlegend": false,
         "text": "Pitch #224<br>Called: BallCalled<br>Batter: Right<br>X: -38.79\"<br>Y: 46.42\"",
         "type": "scatter",
         "x": [
          -38.794200000000004
         ],
         "y": [
          46.41708
         ]
        },
        {
         "hoverinfo": "text",
         "marker": {
          "color": "rgba(0,0,0,0)",
          "size": 5
         },
         "mode": "markers",
         "showlegend": false,
         "text": "Pitch #227<br>Called: BallCalled<br>Batter: Right<br>X: -4.62\"<br>Y: 16.75\"",
         "type": "scatter",
         "x": [
          -4.615679999999999
         ],
         "y": [
          16.75176
         ]
        },
        {
         "hoverinfo": "text",
         "marker": {
          "color": "rgba(0,0,0,0)",
          "size": 5
         },
         "mode": "markers",
         "showlegend": false,
         "text": "Pitch #229<br>Called: BallCalled<br>Batter: Right<br>X: -28.38\"<br>Y: 39.13\"",
         "type": "scatter",
         "x": [
          -28.37976
         ],
         "y": [
          39.13176
         ]
        },
        {
         "hoverinfo": "text",
         "marker": {
          "color": "rgba(0,0,0,0)",
          "size": 5
         },
         "mode": "markers",
         "showlegend": false,
         "text": "Pitch #230<br>Called: StrikeCalled<br>Batter: Right<br>X: 6.95\"<br>Y: 32.70\"",
         "type": "scatter",
         "x": [
          6.9546
         ],
         "y": [
          32.70192
         ]
        },
        {
         "hoverinfo": "text",
         "marker": {
          "color": "rgba(0,0,0,0)",
          "size": 5
         },
         "mode": "markers",
         "showlegend": false,
         "text": "Pitch #231<br>Called: BallCalled<br>Batter: Right<br>X: -19.73\"<br>Y: 46.72\"",
         "type": "scatter",
         "x": [
          -19.734119999999997
         ],
         "y": [
          46.71744
         ]
        },
        {
         "hoverinfo": "text",
         "marker": {
          "color": "rgba(0,0,0,0)",
          "size": 5
         },
         "mode": "markers",
         "showlegend": false,
         "text": "Pitch #232<br>Called: StrikeCalled<br>Batter: Right<br>X: 5.80\"<br>Y: 20.81\"",
         "type": "scatter",
         "x": [
          5.7954
         ],
         "y": [
          20.81208
         ]
        },
        {
         "hoverinfo": "text",
         "marker": {
          "color": "rgba(0,0,0,0)",
          "size": 5
         },
         "mode": "markers",
         "showlegend": false,
         "text": "Pitch #233<br>Called: BallCalled<br>Batter: Right<br>X: -19.57\"<br>Y: 39.75\"",
         "type": "scatter",
         "x": [
          -19.56948
         ],
         "y": [
          39.7452
         ]
        },
        {
         "hoverinfo": "text",
         "marker": {
          "color": "rgba(0,0,0,0)",
          "size": 5
         },
         "mode": "markers",
         "showlegend": false,
         "text": "Pitch #235<br>Called: BallCalled<br>Batter: Right<br>X: 8.61\"<br>Y: 8.72\"",
         "type": "scatter",
         "x": [
          8.613
         ],
         "y": [
          8.71836
         ]
        },
        {
         "hoverinfo": "text",
         "marker": {
          "color": "rgba(0,0,0,0)",
          "size": 5
         },
         "mode": "markers",
         "showlegend": false,
         "text": "Pitch #242<br>Called: StrikeCalled<br>Batter: Left<br>X: -0.74\"<br>Y: 27.66\"",
         "type": "scatter",
         "x": [
          -0.73704
         ],
         "y": [
          27.664920000000002
         ]
        },
        {
         "hoverinfo": "text",
         "marker": {
          "color": "rgba(0,0,0,0)",
          "size": 5
         },
         "mode": "markers",
         "showlegend": false,
         "text": "Pitch #243<br>Called: BallCalled<br>Batter: Left<br>X: 13.39\"<br>Y: 14.43\"",
         "type": "scatter",
         "x": [
          13.387080000000001
         ],
         "y": [
          14.42604
         ]
        },
        {
         "hoverinfo": "text",
         "marker": {
          "color": "rgba(0,0,0,0)",
          "size": 5
         },
         "mode": "markers",
         "showlegend": false,
         "text": "Pitch #244<br>Called: BallCalled<br>Batter: Left<br>X: 1.73\"<br>Y: 12.07\"",
         "type": "scatter",
         "x": [
          1.72776
         ],
         "y": [
          12.071280000000002
         ]
        },
        {
         "hoverinfo": "text",
         "marker": {
          "color": "rgba(0,0,0,0)",
          "size": 5
         },
         "mode": "markers",
         "showlegend": false,
         "text": "Pitch #249<br>Called: BallCalled<br>Batter: Right<br>X: 6.36\"<br>Y: 15.06\"",
         "type": "scatter",
         "x": [
          6.361319999999999
         ],
         "y": [
          15.062159999999999
         ]
        },
        {
         "hoverinfo": "text",
         "marker": {
          "color": "rgba(0,0,0,0)",
          "size": 5
         },
         "mode": "markers",
         "showlegend": false,
         "text": "Pitch #251<br>Called: BallCalled<br>Batter: Left<br>X: -8.10\"<br>Y: 13.20\"",
         "type": "scatter",
         "x": [
          -8.10384
         ],
         "y": [
          13.196760000000001
         ]
        },
        {
         "hoverinfo": "text",
         "marker": {
          "color": "rgba(0,0,0,0)",
          "size": 5
         },
         "mode": "markers",
         "showlegend": false,
         "text": "Pitch #252<br>Called: BallCalled<br>Batter: Left<br>X: -6.14\"<br>Y: 36.91\"",
         "type": "scatter",
         "x": [
          -6.13644
         ],
         "y": [
          36.90912
         ]
        },
        {
         "hoverinfo": "text",
         "marker": {
          "color": "rgba(0,0,0,0)",
          "size": 5
         },
         "mode": "markers",
         "showlegend": false,
         "text": "Pitch #253<br>Called: BallCalled<br>Batter: Left<br>X: 7.42\"<br>Y: 15.36\"",
         "type": "scatter",
         "x": [
          7.420920000000001
         ],
         "y": [
          15.36288
         ]
        },
        {
         "hoverinfo": "text",
         "marker": {
          "color": "rgba(0,0,0,0)",
          "size": 5
         },
         "mode": "markers",
         "showlegend": false,
         "text": "Pitch #254<br>Called: StrikeCalled<br>Batter: Left<br>X: 5.98\"<br>Y: 27.25\"",
         "type": "scatter",
         "x": [
          5.97732
         ],
         "y": [
          27.252360000000003
         ]
        },
        {
         "hoverinfo": "text",
         "marker": {
          "color": "rgba(0,0,0,0)",
          "size": 5
         },
         "mode": "markers",
         "showlegend": false,
         "text": "Pitch #255<br>Called: BallCalled - Walk<br>Batter: Left<br>X: -12.23\"<br>Y: 30.22\"",
         "type": "scatter",
         "x": [
          -12.22944
         ],
         "y": [
          30.220079999999996
         ]
        },
        {
         "hoverinfo": "text",
         "marker": {
          "color": "rgba(0,0,0,0)",
          "size": 5
         },
         "mode": "markers",
         "showlegend": false,
         "text": "Pitch #256<br>Called: StrikeCalled<br>Batter: Right<br>X: 7.63\"<br>Y: 32.93\"",
         "type": "scatter",
         "x": [
          7.62768
         ],
         "y": [
          32.93316
         ]
        },
        {
         "hoverinfo": "text",
         "marker": {
          "color": "rgba(0,0,0,0)",
          "size": 5
         },
         "mode": "markers",
         "showlegend": false,
         "text": "Pitch #257<br>Called: BallCalled<br>Batter: Right<br>X: 3.39\"<br>Y: 10.96\"",
         "type": "scatter",
         "x": [
          3.38532
         ],
         "y": [
          10.95672
         ]
        }
       ],
       "layout": {
        "height": 900,
        "images": [
         {
          "layer": "below",
          "sizex": 6,
          "sizey": 30,
          "source": "C:/Users/hudos/Downloads/lefty-batter.png",
          "x": -13,
          "xanchor": "center",
          "xref": "x",
          "y": 45,
          "yanchor": "top",
          "yref": "y"
         },
         {
          "layer": "below",
          "sizex": 6,
          "sizey": 30,
          "source": "C:/Users/hudos/Downloads/lefty-batter.png",
          "x": 13,
          "xanchor": "center",
          "xref": "x",
          "y": 45,
          "yanchor": "top",
          "yref": "y"
         }
        ],
        "shapes": [
         {
          "line": {
           "color": "black",
           "width": 2
          },
          "name": "Strike Zone",
          "type": "rect",
          "x0": -8.5,
          "x1": 8.5,
          "y0": 19.47,
          "y1": 40.53
         },
         {
          "line": {
           "color": "gray",
           "dash": "dash"
          },
          "name": "Buffer Zone",
          "type": "rect",
          "x0": -10.5,
          "x1": 10.5,
          "y0": 17.47,
          "y1": 42.53
         },
         {
          "fillcolor": "green",
          "line": {
           "color": "green"
          },
          "opacity": 0.7,
          "type": "circle",
          "x0": -11.991840000000002,
          "x1": -9.05184,
          "xref": "x",
          "y0": 51.990840000000006,
          "y1": 54.93084,
          "yref": "y"
         },
         {
          "fillcolor": "green",
          "line": {
           "color": "green"
          },
          "opacity": 0.7,
          "type": "circle",
          "x0": -24.93648,
          "x1": -21.996480000000002,
          "xref": "x",
          "y0": 37.548120000000004,
          "y1": 40.48812,
          "yref": "y"
         },
         {
          "fillcolor": "green",
          "line": {
           "color": "green"
          },
          "opacity": 0.7,
          "type": "circle",
          "x0": -11.08764,
          "x1": -8.147639999999999,
          "xref": "x",
          "y0": 42.64248,
          "y1": 45.58248,
          "yref": "y"
         },
         {
          "fillcolor": "green",
          "line": {
           "color": "green"
          },
          "opacity": 0.7,
          "type": "circle",
          "x0": -23.10372,
          "x1": -20.16372,
          "xref": "x",
          "y0": 9.776039999999998,
          "y1": 12.71604,
          "yref": "y"
         },
         {
          "fillcolor": "green",
          "line": {
           "color": "green"
          },
          "opacity": 0.7,
          "type": "circle",
          "x0": 17.18364,
          "x1": 20.123639999999998,
          "xref": "x",
          "y0": 19.62348,
          "y1": 22.56348,
          "yref": "y"
         },
         {
          "fillcolor": "red",
          "line": {
           "color": "red"
          },
          "opacity": 0.7,
          "type": "circle",
          "x0": -13.26036,
          "x1": -10.320359999999999,
          "xref": "x",
          "y0": 16.39584,
          "y1": 19.335839999999997,
          "yref": "y"
         },
         {
          "fillcolor": "red",
          "line": {
           "color": "red"
          },
          "opacity": 0.7,
          "type": "circle",
          "x0": -11.17032,
          "x1": -8.230319999999999,
          "xref": "x",
          "y0": 33.40932,
          "y1": 36.34932,
          "yref": "y"
         },
         {
          "fillcolor": "green",
          "line": {
           "color": "green"
          },
          "opacity": 0.7,
          "type": "circle",
          "x0": 13.890120000000001,
          "x1": 16.83012,
          "xref": "x",
          "y0": 30.18972,
          "y1": 33.12972,
          "yref": "y"
         },
         {
          "fillcolor": "green",
          "line": {
           "color": "green"
          },
          "opacity": 0.7,
          "type": "circle",
          "x0": 15.41316,
          "x1": 18.35316,
          "xref": "x",
          "y0": 16.395120000000002,
          "y1": 19.33512,
          "yref": "y"
         },
         {
          "fillcolor": "red",
          "line": {
           "color": "red"
          },
          "opacity": 0.7,
          "type": "circle",
          "x0": 0.5344800000000001,
          "x1": 3.47448,
          "xref": "x",
          "y0": 39.356880000000004,
          "y1": 42.29688,
          "yref": "y"
         },
         {
          "fillcolor": "red",
          "line": {
           "color": "red"
          },
          "opacity": 0.7,
          "type": "circle",
          "x0": -5.93124,
          "x1": -2.9912400000000003,
          "xref": "x",
          "y0": 25.90056,
          "y1": 28.840559999999996,
          "yref": "y"
         },
         {
          "fillcolor": "red",
          "line": {
           "color": "red"
          },
          "opacity": 0.7,
          "type": "circle",
          "x0": -7.4086799999999995,
          "x1": -4.46868,
          "xref": "x",
          "y0": 35.76084,
          "y1": 38.70084,
          "yref": "y"
         },
         {
          "fillcolor": "green",
          "line": {
           "color": "green"
          },
          "opacity": 0.7,
          "type": "circle",
          "x0": 15.43332,
          "x1": 18.37332,
          "xref": "x",
          "y0": 32.11356000000001,
          "y1": 35.053560000000004,
          "yref": "y"
         },
         {
          "fillcolor": "green",
          "line": {
           "color": "green"
          },
          "opacity": 0.7,
          "type": "circle",
          "x0": 6.20532,
          "x1": 9.14532,
          "xref": "x",
          "y0": 12.867600000000001,
          "y1": 15.807600000000003,
          "yref": "y"
         },
         {
          "fillcolor": "green",
          "line": {
           "color": "green"
          },
          "opacity": 0.7,
          "type": "circle",
          "x0": 24.471120000000003,
          "x1": 27.41112,
          "xref": "x",
          "y0": 56.0064,
          "y1": 58.9464,
          "yref": "y"
         },
         {
          "fillcolor": "green",
          "line": {
           "color": "green"
          },
          "opacity": 0.7,
          "type": "circle",
          "x0": -2.25528,
          "x1": 0.68472,
          "xref": "x",
          "y0": 12.27732,
          "y1": 15.21732,
          "yref": "y"
         },
         {
          "fillcolor": "green",
          "line": {
           "color": "green"
          },
          "opacity": 0.7,
          "type": "circle",
          "x0": -16.3668,
          "x1": -13.4268,
          "xref": "x",
          "y0": 15.020999999999999,
          "y1": 17.961,
          "yref": "y"
         },
         {
          "fillcolor": "red",
          "line": {
           "color": "red"
          },
          "opacity": 0.7,
          "type": "circle",
          "x0": -8.379,
          "x1": -5.439,
          "xref": "x",
          "y0": 14.552280000000001,
          "y1": 17.49228,
          "yref": "y"
         },
         {
          "fillcolor": "red",
          "line": {
           "color": "red"
          },
          "opacity": 0.7,
          "type": "circle",
          "x0": 9.146519999999999,
          "x1": 12.08652,
          "xref": "x",
          "y0": 30.566280000000006,
          "y1": 33.506280000000004,
          "yref": "y"
         },
         {
          "fillcolor": "green",
          "line": {
           "color": "green"
          },
          "opacity": 0.7,
          "type": "circle",
          "x0": -18.214799999999997,
          "x1": -15.274799999999997,
          "xref": "x",
          "y0": 13.32552,
          "y1": 16.26552,
          "yref": "y"
         },
         {
          "fillcolor": "green",
          "line": {
           "color": "green"
          },
          "opacity": 0.7,
          "type": "circle",
          "x0": -21.0144,
          "x1": -18.0744,
          "xref": "x",
          "y0": 12.8316,
          "y1": 15.771600000000001,
          "yref": "y"
         },
         {
          "fillcolor": "red",
          "line": {
           "color": "red"
          },
          "opacity": 0.7,
          "type": "circle",
          "x0": -14.034600000000001,
          "x1": -11.0946,
          "xref": "x",
          "y0": 24.78204,
          "y1": 27.722039999999996,
          "yref": "y"
         },
         {
          "fillcolor": "red",
          "line": {
           "color": "red"
          },
          "opacity": 0.7,
          "type": "circle",
          "x0": -2.6205600000000002,
          "x1": 0.31943999999999995,
          "xref": "x",
          "y0": 37.872,
          "y1": 40.812,
          "yref": "y"
         },
         {
          "fillcolor": "red",
          "line": {
           "color": "red"
          },
          "opacity": 0.7,
          "type": "circle",
          "x0": -12.36876,
          "x1": -9.428759999999999,
          "xref": "x",
          "y0": 21.421680000000002,
          "y1": 24.36168,
          "yref": "y"
         },
         {
          "fillcolor": "green",
          "line": {
           "color": "green"
          },
          "opacity": 0.7,
          "type": "circle",
          "x0": -14.35956,
          "x1": -11.419559999999999,
          "xref": "x",
          "y0": 27.875280000000004,
          "y1": 30.81528,
          "yref": "y"
         },
         {
          "fillcolor": "green",
          "line": {
           "color": "green"
          },
          "opacity": 0.7,
          "type": "circle",
          "x0": -14.19372,
          "x1": -11.25372,
          "xref": "x",
          "y0": 50.30712,
          "y1": 53.247119999999995,
          "yref": "y"
         },
         {
          "fillcolor": "red",
          "line": {
           "color": "red"
          },
          "opacity": 0.7,
          "type": "circle",
          "x0": -15.3108,
          "x1": -12.3708,
          "xref": "x",
          "y0": 29.40576,
          "y1": 32.34576,
          "yref": "y"
         },
         {
          "fillcolor": "red",
          "line": {
           "color": "red"
          },
          "opacity": 0.7,
          "type": "circle",
          "x0": 1.9777200000000004,
          "x1": 4.91772,
          "xref": "x",
          "y0": 20.72976,
          "y1": 23.669759999999997,
          "yref": "y"
         },
         {
          "fillcolor": "green",
          "line": {
           "color": "green"
          },
          "opacity": 0.7,
          "type": "circle",
          "x0": 20.587200000000003,
          "x1": 23.5272,
          "xref": "x",
          "y0": 25.482,
          "y1": 28.421999999999997,
          "yref": "y"
         },
         {
          "fillcolor": "green",
          "line": {
           "color": "green"
          },
          "opacity": 0.7,
          "type": "circle",
          "x0": 1.3328399999999998,
          "x1": 4.2728399999999995,
          "xref": "x",
          "y0": 5.5704,
          "y1": 8.5104,
          "yref": "y"
         },
         {
          "fillcolor": "green",
          "line": {
           "color": "green"
          },
          "opacity": 0.7,
          "type": "circle",
          "x0": 16.25904,
          "x1": 19.199039999999997,
          "xref": "x",
          "y0": 21.36552,
          "y1": 24.305519999999998,
          "yref": "y"
         },
         {
          "fillcolor": "red",
          "line": {
           "color": "red"
          },
          "opacity": 0.7,
          "type": "circle",
          "x0": 4.62924,
          "x1": 7.56924,
          "xref": "x",
          "y0": 20.06568,
          "y1": 23.005679999999998,
          "yref": "y"
         },
         {
          "fillcolor": "red",
          "line": {
           "color": "red"
          },
          "opacity": 0.7,
          "type": "circle",
          "x0": 1.40256,
          "x1": 4.34256,
          "xref": "x",
          "y0": 17.97756,
          "y1": 20.917559999999998,
          "yref": "y"
         },
         {
          "fillcolor": "red",
          "line": {
           "color": "red"
          },
          "opacity": 0.7,
          "type": "circle",
          "x0": -13.72104,
          "x1": -10.781039999999999,
          "xref": "x",
          "y0": 23.7132,
          "y1": 26.6532,
          "yref": "y"
         },
         {
          "fillcolor": "green",
          "line": {
           "color": "green"
          },
          "opacity": 0.7,
          "type": "circle",
          "x0": 6.11208,
          "x1": 9.05208,
          "xref": "x",
          "y0": 6.4152000000000005,
          "y1": 9.3552,
          "yref": "y"
         },
         {
          "fillcolor": "green",
          "line": {
           "color": "green"
          },
          "opacity": 0.7,
          "type": "circle",
          "x0": -16.11876,
          "x1": -13.17876,
          "xref": "x",
          "y0": 41.240880000000004,
          "y1": 44.18088,
          "yref": "y"
         },
         {
          "fillcolor": "green",
          "line": {
           "color": "green"
          },
          "opacity": 0.7,
          "type": "circle",
          "x0": 11.54076,
          "x1": 14.480760000000002,
          "xref": "x",
          "y0": 16.781280000000002,
          "y1": 19.72128,
          "yref": "y"
         },
         {
          "fillcolor": "green",
          "line": {
           "color": "green"
          },
          "opacity": 0.7,
          "type": "circle",
          "x0": -17.06676,
          "x1": -14.126759999999999,
          "xref": "x",
          "y0": 19.371360000000003,
          "y1": 22.31136,
          "yref": "y"
         },
         {
          "fillcolor": "green",
          "line": {
           "color": "green"
          },
          "opacity": 0.7,
          "type": "circle",
          "x0": 11.743440000000001,
          "x1": 14.683440000000003,
          "xref": "x",
          "y0": 16.094520000000003,
          "y1": 19.03452,
          "yref": "y"
         },
         {
          "fillcolor": "green",
          "line": {
           "color": "green"
          },
          "opacity": 0.7,
          "type": "circle",
          "x0": -20.076839999999997,
          "x1": -17.13684,
          "xref": "x",
          "y0": 27.03816,
          "y1": 29.97816,
          "yref": "y"
         },
         {
          "fillcolor": "green",
          "line": {
           "color": "green"
          },
          "opacity": 0.7,
          "type": "circle",
          "x0": -13.9398,
          "x1": -10.999799999999999,
          "xref": "x",
          "y0": 44.21868,
          "y1": 47.15868,
          "yref": "y"
         },
         {
          "fillcolor": "green",
          "line": {
           "color": "green"
          },
          "opacity": 0.7,
          "type": "circle",
          "x0": -28.71156,
          "x1": -25.77156,
          "xref": "x",
          "y0": 27.86748,
          "y1": 30.807479999999998,
          "yref": "y"
         },
         {
          "fillcolor": "green",
          "line": {
           "color": "green"
          },
          "opacity": 0.7,
          "type": "circle",
          "x0": -22.72188,
          "x1": -19.78188,
          "xref": "x",
          "y0": 21.02916,
          "y1": 23.96916,
          "yref": "y"
         },
         {
          "fillcolor": "green",
          "line": {
           "color": "green"
          },
          "opacity": 0.7,
          "type": "circle",
          "x0": -13.952160000000001,
          "x1": -11.01216,
          "xref": "x",
          "y0": 5.167800000000001,
          "y1": 8.107800000000001,
          "yref": "y"
         },
         {
          "fillcolor": "red",
          "line": {
           "color": "red"
          },
          "opacity": 0.7,
          "type": "circle",
          "x0": -14.03232,
          "x1": -11.092319999999999,
          "xref": "x",
          "y0": 37.731359999999995,
          "y1": 40.67135999999999,
          "yref": "y"
         },
         {
          "fillcolor": "green",
          "line": {
           "color": "green"
          },
          "opacity": 0.7,
          "type": "circle",
          "x0": -23.37108,
          "x1": -20.43108,
          "xref": "x",
          "y0": 18.290760000000002,
          "y1": 21.23076,
          "yref": "y"
         },
         {
          "fillcolor": "green",
          "line": {
           "color": "green"
          },
          "opacity": 0.7,
          "type": "circle",
          "x0": -27.713159999999995,
          "x1": -24.773159999999997,
          "xref": "x",
          "y0": 8.03628,
          "y1": 10.976280000000001,
          "yref": "y"
         },
         {
          "fillcolor": "red",
          "line": {
           "color": "red"
          },
          "opacity": 0.7,
          "type": "circle",
          "x0": -12.2664,
          "x1": -9.3264,
          "xref": "x",
          "y0": 16.937640000000002,
          "y1": 19.87764,
          "yref": "y"
         },
         {
          "fillcolor": "red",
          "line": {
           "color": "red"
          },
          "opacity": 0.7,
          "type": "circle",
          "x0": 6.3858,
          "x1": 9.3258,
          "xref": "x",
          "y0": 38.3436,
          "y1": 41.2836,
          "yref": "y"
         },
         {
          "fillcolor": "green",
          "line": {
           "color": "green"
          },
          "opacity": 0.7,
          "type": "circle",
          "x0": 1.2314399999999999,
          "x1": 4.17144,
          "xref": "x",
          "y0": 7.14792,
          "y1": 10.08792,
          "yref": "y"
         },
         {
          "fillcolor": "green",
          "line": {
           "color": "green"
          },
          "opacity": 0.7,
          "type": "circle",
          "x0": -11.865720000000001,
          "x1": -8.92572,
          "xref": "x",
          "y0": 4.3626,
          "y1": 7.302599999999999,
          "yref": "y"
         },
         {
          "fillcolor": "green",
          "line": {
           "color": "green"
          },
          "opacity": 0.7,
          "type": "circle",
          "x0": -16.89348,
          "x1": -13.95348,
          "xref": "x",
          "y0": 21.06192,
          "y1": 24.00192,
          "yref": "y"
         },
         {
          "fillcolor": "red",
          "line": {
           "color": "red"
          },
          "opacity": 0.7,
          "type": "circle",
          "x0": -6.6575999999999995,
          "x1": -3.7176,
          "xref": "x",
          "y0": 18.807720000000003,
          "y1": 21.74772,
          "yref": "y"
         },
         {
          "fillcolor": "green",
          "line": {
           "color": "green"
          },
          "opacity": 0.7,
          "type": "circle",
          "x0": 17.0514,
          "x1": 19.9914,
          "xref": "x",
          "y0": 28.51464,
          "y1": 31.454639999999998,
          "yref": "y"
         },
         {
          "fillcolor": "green",
          "line": {
           "color": "green"
          },
          "opacity": 0.7,
          "type": "circle",
          "x0": -28.44492,
          "x1": -25.504920000000002,
          "xref": "x",
          "y0": 12.29616,
          "y1": 15.236160000000002,
          "yref": "y"
         },
         {
          "fillcolor": "green",
          "line": {
           "color": "green"
          },
          "opacity": 0.7,
          "type": "circle",
          "x0": 20.90124,
          "x1": 23.84124,
          "xref": "x",
          "y0": 37.24344,
          "y1": 40.18344,
          "yref": "y"
         },
         {
          "fillcolor": "green",
          "line": {
           "color": "green"
          },
          "opacity": 0.7,
          "type": "circle",
          "x0": 17.28144,
          "x1": 20.221439999999998,
          "xref": "x",
          "y0": 27.518880000000003,
          "y1": 30.45888,
          "yref": "y"
         },
         {
          "fillcolor": "red",
          "line": {
           "color": "red"
          },
          "opacity": 0.7,
          "type": "circle",
          "x0": 11.88852,
          "x1": 14.828520000000001,
          "xref": "x",
          "y0": 37.0146,
          "y1": 39.9546,
          "yref": "y"
         },
         {
          "fillcolor": "green",
          "line": {
           "color": "green"
          },
          "opacity": 0.7,
          "type": "circle",
          "x0": 21.37932,
          "x1": 24.319319999999998,
          "xref": "x",
          "y0": 41.07492,
          "y1": 44.01492,
          "yref": "y"
         },
         {
          "fillcolor": "green",
          "line": {
           "color": "green"
          },
          "opacity": 0.7,
          "type": "circle",
          "x0": 29.95488,
          "x1": 32.89488,
          "xref": "x",
          "y0": 45.249120000000005,
          "y1": 48.18912,
          "yref": "y"
         },
         {
          "fillcolor": "green",
          "line": {
           "color": "green"
          },
          "opacity": 0.7,
          "type": "circle",
          "x0": 14.94288,
          "x1": 17.88288,
          "xref": "x",
          "y0": 22.42068,
          "y1": 25.36068,
          "yref": "y"
         },
         {
          "fillcolor": "green",
          "line": {
           "color": "green"
          },
          "opacity": 0.7,
          "type": "circle",
          "x0": -17.33832,
          "x1": -14.39832,
          "xref": "x",
          "y0": 3.7164,
          "y1": 6.6564,
          "yref": "y"
         },
         {
          "fillcolor": "green",
          "line": {
           "color": "green"
          },
          "opacity": 0.7,
          "type": "circle",
          "x0": -25.954679999999996,
          "x1": -23.01468,
          "xref": "x",
          "y0": 32.70792,
          "y1": 35.64792,
          "yref": "y"
         },
         {
          "fillcolor": "red",
          "line": {
           "color": "red"
          },
          "opacity": 0.7,
          "type": "circle",
          "x0": -1.35456,
          "x1": 1.58544,
          "xref": "x",
          "y0": 22.26576,
          "y1": 25.205759999999998,
          "yref": "y"
         },
         {
          "fillcolor": "red",
          "line": {
           "color": "red"
          },
          "opacity": 0.7,
          "type": "circle",
          "x0": -16.69932,
          "x1": -13.759319999999999,
          "xref": "x",
          "y0": 29.80596,
          "y1": 32.74596,
          "yref": "y"
         },
         {
          "fillcolor": "green",
          "line": {
           "color": "green"
          },
          "opacity": 0.7,
          "type": "circle",
          "x0": 6.11724,
          "x1": 9.05724,
          "xref": "x",
          "y0": 39.64668,
          "y1": 42.58668,
          "yref": "y"
         },
         {
          "fillcolor": "green",
          "line": {
           "color": "green"
          },
          "opacity": 0.7,
          "type": "circle",
          "x0": 22.204439999999998,
          "x1": 25.144439999999996,
          "xref": "x",
          "y0": 31.41384,
          "y1": 34.35384,
          "yref": "y"
         },
         {
          "fillcolor": "green",
          "line": {
           "color": "green"
          },
          "opacity": 0.7,
          "type": "circle",
          "x0": -4.07664,
          "x1": -1.13664,
          "xref": "x",
          "y0": 16.132800000000003,
          "y1": 19.0728,
          "yref": "y"
         },
         {
          "fillcolor": "red",
          "line": {
           "color": "red"
          },
          "opacity": 0.7,
          "type": "circle",
          "x0": -0.9624,
          "x1": 1.9775999999999998,
          "xref": "x",
          "y0": 28.56984,
          "y1": 31.509839999999997,
          "yref": "y"
         },
         {
          "fillcolor": "green",
          "line": {
           "color": "green"
          },
          "opacity": 0.7,
          "type": "circle",
          "x0": 10.734839999999998,
          "x1": 13.67484,
          "xref": "x",
          "y0": 9.580919999999999,
          "y1": 12.52092,
          "yref": "y"
         },
         {
          "fillcolor": "red",
          "line": {
           "color": "red"
          },
          "opacity": 0.7,
          "type": "circle",
          "x0": 2.914320000000001,
          "x1": 5.85432,
          "xref": "x",
          "y0": 21.606,
          "y1": 24.546,
          "yref": "y"
         },
         {
          "fillcolor": "green",
          "line": {
           "color": "green"
          },
          "opacity": 0.7,
          "type": "circle",
          "x0": -11.079360000000001,
          "x1": -8.13936,
          "xref": "x",
          "y0": 42.26724,
          "y1": 45.20724,
          "yref": "y"
         },
         {
          "fillcolor": "green",
          "line": {
           "color": "green"
          },
          "opacity": 0.7,
          "type": "circle",
          "x0": -39.67728,
          "x1": -36.737280000000005,
          "xref": "x",
          "y0": 46.23756,
          "y1": 49.17756,
          "yref": "y"
         },
         {
          "fillcolor": "green",
          "line": {
           "color": "green"
          },
          "opacity": 0.7,
          "type": "circle",
          "x0": -1.18764,
          "x1": 1.75236,
          "xref": "x",
          "y0": 53.919000000000004,
          "y1": 56.859,
          "yref": "y"
         },
         {
          "fillcolor": "red",
          "line": {
           "color": "red"
          },
          "opacity": 0.7,
          "type": "circle",
          "x0": 9.397319999999999,
          "x1": 12.33732,
          "xref": "x",
          "y0": 24.754080000000002,
          "y1": 27.69408,
          "yref": "y"
         },
         {
          "fillcolor": "green",
          "line": {
           "color": "green"
          },
          "opacity": 0.7,
          "type": "circle",
          "x0": -19.438319999999997,
          "x1": -16.49832,
          "xref": "x",
          "y0": 35.2962,
          "y1": 38.2362,
          "yref": "y"
         },
         {
          "fillcolor": "red",
          "line": {
           "color": "red"
          },
          "opacity": 0.7,
          "type": "circle",
          "x0": 9.54924,
          "x1": 12.48924,
          "xref": "x",
          "y0": 30.937800000000003,
          "y1": 33.8778,
          "yref": "y"
         },
         {
          "fillcolor": "green",
          "line": {
           "color": "green"
          },
          "opacity": 0.7,
          "type": "circle",
          "x0": -14.198400000000001,
          "x1": -11.2584,
          "xref": "x",
          "y0": 18.81936,
          "y1": 21.759359999999997,
          "yref": "y"
         },
         {
          "fillcolor": "green",
          "line": {
           "color": "green"
          },
          "opacity": 0.7,
          "type": "circle",
          "x0": 16.02984,
          "x1": 18.969839999999998,
          "xref": "x",
          "y0": 40.67964,
          "y1": 43.61964,
          "yref": "y"
         },
         {
          "fillcolor": "red",
          "line": {
           "color": "red"
          },
          "opacity": 0.7,
          "type": "circle",
          "x0": -0.9446399999999999,
          "x1": 1.99536,
          "xref": "x",
          "y0": 18.15672,
          "y1": 21.096719999999998,
          "yref": "y"
         },
         {
          "fillcolor": "green",
          "line": {
           "color": "green"
          },
          "opacity": 0.7,
          "type": "circle",
          "x0": -2.3682,
          "x1": 0.5718,
          "xref": "x",
          "y0": 14.88,
          "y1": 17.82,
          "yref": "y"
         },
         {
          "fillcolor": "green",
          "line": {
           "color": "green"
          },
          "opacity": 0.7,
          "type": "circle",
          "x0": -7.35624,
          "x1": -4.41624,
          "xref": "x",
          "y0": 57.971880000000006,
          "y1": 60.911880000000004,
          "yref": "y"
         },
         {
          "fillcolor": "green",
          "line": {
           "color": "green"
          },
          "opacity": 0.7,
          "type": "circle",
          "x0": -18.804119999999998,
          "x1": -15.864119999999998,
          "xref": "x",
          "y0": 63.98388,
          "y1": 66.92388,
          "yref": "y"
         },
         {
          "fillcolor": "red",
          "line": {
           "color": "red"
          },
          "opacity": 0.7,
          "type": "circle",
          "x0": -8.73024,
          "x1": -5.79024,
          "xref": "x",
          "y0": 23.920560000000002,
          "y1": 26.86056,
          "yref": "y"
         },
         {
          "fillcolor": "green",
          "line": {
           "color": "green"
          },
          "opacity": 0.7,
          "type": "circle",
          "x0": -15.581880000000002,
          "x1": -12.64188,
          "xref": "x",
          "y0": 40.527840000000005,
          "y1": 43.46784,
          "yref": "y"
         },
         {
          "fillcolor": "green",
          "line": {
           "color": "green"
          },
          "opacity": 0.7,
          "type": "circle",
          "x0": -13.36032,
          "x1": -10.420319999999998,
          "xref": "x",
          "y0": 40.61508,
          "y1": 43.55508,
          "yref": "y"
         },
         {
          "fillcolor": "green",
          "line": {
           "color": "green"
          },
          "opacity": 0.7,
          "type": "circle",
          "x0": -33.71676,
          "x1": -30.776760000000003,
          "xref": "x",
          "y0": 30.273,
          "y1": 33.213,
          "yref": "y"
         },
         {
          "fillcolor": "red",
          "line": {
           "color": "red"
          },
          "opacity": 0.7,
          "type": "circle",
          "x0": -12.281160000000002,
          "x1": -9.34116,
          "xref": "x",
          "y0": 26.825760000000002,
          "y1": 29.76576,
          "yref": "y"
         },
         {
          "fillcolor": "red",
          "line": {
           "color": "red"
          },
          "opacity": 0.7,
          "type": "circle",
          "x0": -0.52884,
          "x1": 2.4111599999999997,
          "xref": "x",
          "y0": 27.200160000000004,
          "y1": 30.14016,
          "yref": "y"
         },
         {
          "fillcolor": "green",
          "line": {
           "color": "green"
          },
          "opacity": 0.7,
          "type": "circle",
          "x0": -4.4628,
          "x1": -1.5228,
          "xref": "x",
          "y0": 40.12644,
          "y1": 43.06644,
          "yref": "y"
         },
         {
          "fillcolor": "red",
          "line": {
           "color": "red"
          },
          "opacity": 0.7,
          "type": "circle",
          "x0": -6.56424,
          "x1": -3.6242400000000004,
          "xref": "x",
          "y0": 20.736240000000002,
          "y1": 23.67624,
          "yref": "y"
         },
         {
          "fillcolor": "red",
          "line": {
           "color": "red"
          },
          "opacity": 0.7,
          "type": "circle",
          "x0": -0.30552,
          "x1": 2.63448,
          "xref": "x",
          "y0": 30.663600000000002,
          "y1": 33.6036,
          "yref": "y"
         },
         {
          "fillcolor": "green",
          "line": {
           "color": "green"
          },
          "opacity": 0.7,
          "type": "circle",
          "x0": 4.67016,
          "x1": 7.61016,
          "xref": "x",
          "y0": 9.571079999999998,
          "y1": 12.51108,
          "yref": "y"
         },
         {
          "fillcolor": "green",
          "line": {
           "color": "green"
          },
          "opacity": 0.7,
          "type": "circle",
          "x0": 24.771,
          "x1": 27.711,
          "xref": "x",
          "y0": 20.93196,
          "y1": 23.871959999999998,
          "yref": "y"
         },
         {
          "fillcolor": "red",
          "line": {
           "color": "red"
          },
          "opacity": 0.7,
          "type": "circle",
          "x0": 1.82868,
          "x1": 4.76868,
          "xref": "x",
          "y0": 32.88264,
          "y1": 35.82264,
          "yref": "y"
         },
         {
          "fillcolor": "green",
          "line": {
           "color": "green"
          },
          "opacity": 0.7,
          "type": "circle",
          "x0": 18.527520000000003,
          "x1": 21.46752,
          "xref": "x",
          "y0": 15.757800000000001,
          "y1": 18.6978,
          "yref": "y"
         },
         {
          "fillcolor": "green",
          "line": {
           "color": "green"
          },
          "opacity": 0.7,
          "type": "circle",
          "x0": 6.546360000000001,
          "x1": 9.486360000000001,
          "xref": "x",
          "y0": 15.020279999999998,
          "y1": 17.960279999999997,
          "yref": "y"
         },
         {
          "fillcolor": "green",
          "line": {
           "color": "green"
          },
          "opacity": 0.7,
          "type": "circle",
          "x0": -32.56488,
          "x1": -29.62488,
          "xref": "x",
          "y0": 31.754760000000005,
          "y1": 34.69476,
          "yref": "y"
         },
         {
          "fillcolor": "red",
          "line": {
           "color": "red"
          },
          "opacity": 0.7,
          "type": "circle",
          "x0": 9.79716,
          "x1": 12.737160000000001,
          "xref": "x",
          "y0": 29.02944,
          "y1": 31.96944,
          "yref": "y"
         },
         {
          "fillcolor": "red",
          "line": {
           "color": "red"
          },
          "opacity": 0.7,
          "type": "circle",
          "x0": 3.4338000000000006,
          "x1": 6.3738,
          "xref": "x",
          "y0": 33.27084,
          "y1": 36.21084,
          "yref": "y"
         },
         {
          "fillcolor": "green",
          "line": {
           "color": "green"
          },
          "opacity": 0.7,
          "type": "circle",
          "x0": 7.92504,
          "x1": 10.86504,
          "xref": "x",
          "y0": 4.67796,
          "y1": 7.617959999999999,
          "yref": "y"
         },
         {
          "fillcolor": "red",
          "line": {
           "color": "red"
          },
          "opacity": 0.7,
          "type": "circle",
          "x0": -5.63364,
          "x1": -2.6936400000000003,
          "xref": "x",
          "y0": 37.948440000000005,
          "y1": 40.88844,
          "yref": "y"
         },
         {
          "fillcolor": "red",
          "line": {
           "color": "red"
          },
          "opacity": 0.7,
          "type": "circle",
          "x0": 10.60404,
          "x1": 13.54404,
          "xref": "x",
          "y0": 36.4446,
          "y1": 39.3846,
          "yref": "y"
         },
         {
          "fillcolor": "red",
          "line": {
           "color": "red"
          },
          "opacity": 0.7,
          "type": "circle",
          "x0": -0.8076,
          "x1": 2.1324,
          "xref": "x",
          "y0": 8.75052,
          "y1": 11.690520000000001,
          "yref": "y"
         },
         {
          "fillcolor": "green",
          "line": {
           "color": "green"
          },
          "opacity": 0.7,
          "type": "circle",
          "x0": -11.41032,
          "x1": -8.47032,
          "xref": "x",
          "y0": 43.818,
          "y1": 46.757999999999996,
          "yref": "y"
         },
         {
          "fillcolor": "green",
          "line": {
           "color": "green"
          },
          "opacity": 0.7,
          "type": "circle",
          "x0": 5.77404,
          "x1": 8.71404,
          "xref": "x",
          "y0": 58.38119999999999,
          "y1": 61.32119999999999,
          "yref": "y"
         },
         {
          "fillcolor": "green",
          "line": {
           "color": "green"
          },
          "opacity": 0.7,
          "type": "circle",
          "x0": -18.42024,
          "x1": -15.48024,
          "xref": "x",
          "y0": 30.862679999999997,
          "y1": 33.802679999999995,
          "yref": "y"
         },
         {
          "fillcolor": "red",
          "line": {
           "color": "red"
          },
          "opacity": 0.7,
          "type": "circle",
          "x0": -3.93792,
          "x1": -0.9979200000000004,
          "xref": "x",
          "y0": 31.03608,
          "y1": 33.976079999999996,
          "yref": "y"
         },
         {
          "fillcolor": "red",
          "line": {
           "color": "red"
          },
          "opacity": 0.7,
          "type": "circle",
          "x0": -3.4878,
          "x1": -0.5477999999999998,
          "xref": "x",
          "y0": 34.41588,
          "y1": 37.35588,
          "yref": "y"
         },
         {
          "fillcolor": "green",
          "line": {
           "color": "green"
          },
          "opacity": 0.7,
          "type": "circle",
          "x0": -7.745159999999999,
          "x1": -4.80516,
          "xref": "x",
          "y0": 44.18652,
          "y1": 47.12652,
          "yref": "y"
         },
         {
          "fillcolor": "green",
          "line": {
           "color": "green"
          },
          "opacity": 0.7,
          "type": "circle",
          "x0": 16.218600000000002,
          "x1": 19.1586,
          "xref": "x",
          "y0": 24.90912,
          "y1": 27.84912,
          "yref": "y"
         },
         {
          "fillcolor": "green",
          "line": {
           "color": "green"
          },
          "opacity": 0.7,
          "type": "circle",
          "x0": -0.11807999999999996,
          "x1": 2.82192,
          "xref": "x",
          "y0": 9.602039999999999,
          "y1": 12.54204,
          "yref": "y"
         },
         {
          "fillcolor": "green",
          "line": {
           "color": "green"
          },
          "opacity": 0.7,
          "type": "circle",
          "x0": 14.285639999999999,
          "x1": 17.22564,
          "xref": "x",
          "y0": 30.121679999999998,
          "y1": 33.061679999999996,
          "yref": "y"
         },
         {
          "fillcolor": "green",
          "line": {
           "color": "green"
          },
          "opacity": 0.7,
          "type": "circle",
          "x0": -18.54072,
          "x1": -15.60072,
          "xref": "x",
          "y0": 64.1496,
          "y1": 67.0896,
          "yref": "y"
         },
         {
          "fillcolor": "green",
          "line": {
           "color": "green"
          },
          "opacity": 0.7,
          "type": "circle",
          "x0": -18.281039999999997,
          "x1": -15.341039999999998,
          "xref": "x",
          "y0": 50.896440000000005,
          "y1": 53.83644,
          "yref": "y"
         },
         {
          "fillcolor": "green",
          "line": {
           "color": "green"
          },
          "opacity": 0.7,
          "type": "circle",
          "x0": 7.618799999999999,
          "x1": 10.5588,
          "xref": "x",
          "y0": 44.03208,
          "y1": 46.97208,
          "yref": "y"
         },
         {
          "fillcolor": "green",
          "line": {
           "color": "green"
          },
          "opacity": 0.7,
          "type": "circle",
          "x0": -26.708280000000002,
          "x1": -23.768280000000004,
          "xref": "x",
          "y0": 17.27928,
          "y1": 20.219279999999998,
          "yref": "y"
         },
         {
          "fillcolor": "red",
          "line": {
           "color": "red"
          },
          "opacity": 0.7,
          "type": "circle",
          "x0": -12.29904,
          "x1": -9.359039999999998,
          "xref": "x",
          "y0": 22.87488,
          "y1": 25.81488,
          "yref": "y"
         },
         {
          "fillcolor": "green",
          "line": {
           "color": "green"
          },
          "opacity": 0.7,
          "type": "circle",
          "x0": 16.296120000000002,
          "x1": 19.23612,
          "xref": "x",
          "y0": 9.87276,
          "y1": 12.81276,
          "yref": "y"
         },
         {
          "fillcolor": "green",
          "line": {
           "color": "green"
          },
          "opacity": 0.7,
          "type": "circle",
          "x0": -13.63992,
          "x1": -10.699919999999999,
          "xref": "x",
          "y0": 40.4574,
          "y1": 43.3974,
          "yref": "y"
         },
         {
          "fillcolor": "green",
          "line": {
           "color": "green"
          },
          "opacity": 0.7,
          "type": "circle",
          "x0": 11.28336,
          "x1": 14.223360000000001,
          "xref": "x",
          "y0": 19.81932,
          "y1": 22.75932,
          "yref": "y"
         },
         {
          "fillcolor": "green",
          "line": {
           "color": "green"
          },
          "opacity": 0.7,
          "type": "circle",
          "x0": -17.922359999999998,
          "x1": -14.982359999999998,
          "xref": "x",
          "y0": 34.2186,
          "y1": 37.1586,
          "yref": "y"
         },
         {
          "fillcolor": "green",
          "line": {
           "color": "green"
          },
          "opacity": 0.7,
          "type": "circle",
          "x0": -15.11256,
          "x1": -12.172559999999999,
          "xref": "x",
          "y0": 10.189919999999999,
          "y1": 13.12992,
          "yref": "y"
         },
         {
          "fillcolor": "green",
          "line": {
           "color": "green"
          },
          "opacity": 0.7,
          "type": "circle",
          "x0": 6.619320000000001,
          "x1": 9.559320000000001,
          "xref": "x",
          "y0": 5.47332,
          "y1": 8.41332,
          "yref": "y"
         },
         {
          "fillcolor": "green",
          "line": {
           "color": "green"
          },
          "opacity": 0.7,
          "type": "circle",
          "x0": -8.4912,
          "x1": -5.5512,
          "xref": "x",
          "y0": 7.976400000000001,
          "y1": 10.916400000000001,
          "yref": "y"
         },
         {
          "fillcolor": "red",
          "line": {
           "color": "red"
          },
          "opacity": 0.7,
          "type": "circle",
          "x0": -10.28952,
          "x1": -7.349519999999999,
          "xref": "x",
          "y0": 24.121320000000004,
          "y1": 27.061320000000002,
          "yref": "y"
         },
         {
          "fillcolor": "green",
          "line": {
           "color": "green"
          },
          "opacity": 0.7,
          "type": "circle",
          "x0": -21.33612,
          "x1": -18.396120000000003,
          "xref": "x",
          "y0": 42.46632,
          "y1": 45.40632,
          "yref": "y"
         },
         {
          "fillcolor": "green",
          "line": {
           "color": "green"
          },
          "opacity": 0.7,
          "type": "circle",
          "x0": -33.30672,
          "x1": -30.36672,
          "xref": "x",
          "y0": 28.73976,
          "y1": 31.679759999999998,
          "yref": "y"
         },
         {
          "fillcolor": "green",
          "line": {
           "color": "green"
          },
          "opacity": 0.7,
          "type": "circle",
          "x0": -15.35712,
          "x1": -12.417119999999999,
          "xref": "x",
          "y0": 7.803720000000001,
          "y1": 10.743720000000001,
          "yref": "y"
         },
         {
          "fillcolor": "green",
          "line": {
           "color": "green"
          },
          "opacity": 0.7,
          "type": "circle",
          "x0": -15.08364,
          "x1": -12.14364,
          "xref": "x",
          "y0": 1.7478,
          "y1": 4.6878,
          "yref": "y"
         },
         {
          "fillcolor": "green",
          "line": {
           "color": "green"
          },
          "opacity": 0.7,
          "type": "circle",
          "x0": -23.870279999999998,
          "x1": -20.93028,
          "xref": "x",
          "y0": 29.404919999999997,
          "y1": 32.344919999999995,
          "yref": "y"
         },
         {
          "fillcolor": "green",
          "line": {
           "color": "green"
          },
          "opacity": 0.7,
          "type": "circle",
          "x0": 19.56408,
          "x1": 22.50408,
          "xref": "x",
          "y0": 20.52324,
          "y1": 23.46324,
          "yref": "y"
         },
         {
          "fillcolor": "green",
          "line": {
           "color": "green"
          },
          "opacity": 0.7,
          "type": "circle",
          "x0": 10.568039999999998,
          "x1": 13.50804,
          "xref": "x",
          "y0": 50.96424,
          "y1": 53.904239999999994,
          "yref": "y"
         },
         {
          "fillcolor": "green",
          "line": {
           "color": "green"
          },
          "opacity": 0.7,
          "type": "circle",
          "x0": -15.827160000000001,
          "x1": -12.88716,
          "xref": "x",
          "y0": 6.366840000000001,
          "y1": 9.306840000000001,
          "yref": "y"
         },
         {
          "fillcolor": "green",
          "line": {
           "color": "green"
          },
          "opacity": 0.7,
          "type": "circle",
          "x0": -28.76316,
          "x1": -25.82316,
          "xref": "x",
          "y0": -8.730120000000001,
          "y1": -5.790120000000001,
          "yref": "y"
         },
         {
          "fillcolor": "green",
          "line": {
           "color": "green"
          },
          "opacity": 0.7,
          "type": "circle",
          "x0": -0.23507999999999996,
          "x1": 2.70492,
          "xref": "x",
          "y0": 47.30628,
          "y1": 50.24628,
          "yref": "y"
         },
         {
          "fillcolor": "green",
          "line": {
           "color": "green"
          },
          "opacity": 0.7,
          "type": "circle",
          "x0": -7.43004,
          "x1": -4.4900400000000005,
          "xref": "x",
          "y0": 11.903759999999998,
          "y1": 14.84376,
          "yref": "y"
         },
         {
          "fillcolor": "green",
          "line": {
           "color": "green"
          },
          "opacity": 0.7,
          "type": "circle",
          "x0": -24.208199999999998,
          "x1": -21.2682,
          "xref": "x",
          "y0": 38.54496,
          "y1": 41.48496,
          "yref": "y"
         },
         {
          "fillcolor": "red",
          "line": {
           "color": "red"
          },
          "opacity": 0.7,
          "type": "circle",
          "x0": -7.63716,
          "x1": -4.69716,
          "xref": "x",
          "y0": 16.08672,
          "y1": 19.026719999999997,
          "yref": "y"
         },
         {
          "fillcolor": "green",
          "line": {
           "color": "green"
          },
          "opacity": 0.7,
          "type": "circle",
          "x0": 18.72372,
          "x1": 21.663719999999998,
          "xref": "x",
          "y0": 23.81892,
          "y1": 26.758919999999996,
          "yref": "y"
         },
         {
          "fillcolor": "green",
          "line": {
           "color": "green"
          },
          "opacity": 0.7,
          "type": "circle",
          "x0": 43.745400000000004,
          "x1": 46.6854,
          "xref": "x",
          "y0": -5.38392,
          "y1": -2.4439200000000003,
          "yref": "y"
         },
         {
          "fillcolor": "green",
          "line": {
           "color": "green"
          },
          "opacity": 0.7,
          "type": "circle",
          "x0": 0.2529600000000001,
          "x1": 3.1929600000000002,
          "xref": "x",
          "y0": 51.57996,
          "y1": 54.51996,
          "yref": "y"
         },
         {
          "fillcolor": "green",
          "line": {
           "color": "green"
          },
          "opacity": 0.7,
          "type": "circle",
          "x0": -17.06976,
          "x1": -14.12976,
          "xref": "x",
          "y0": 45.79896,
          "y1": 48.73896,
          "yref": "y"
         },
         {
          "fillcolor": "green",
          "line": {
           "color": "green"
          },
          "opacity": 0.7,
          "type": "circle",
          "x0": -14.26608,
          "x1": -11.32608,
          "xref": "x",
          "y0": 38.22708,
          "y1": 41.16708,
          "yref": "y"
         },
         {
          "fillcolor": "red",
          "line": {
           "color": "red"
          },
          "opacity": 0.7,
          "type": "circle",
          "x0": 4.4556000000000004,
          "x1": 7.3956,
          "xref": "x",
          "y0": 19.194000000000003,
          "y1": 22.134,
          "yref": "y"
         },
         {
          "fillcolor": "red",
          "line": {
           "color": "red"
          },
          "opacity": 0.7,
          "type": "circle",
          "x0": 5.2962,
          "x1": 8.2362,
          "xref": "x",
          "y0": 27.06816,
          "y1": 30.008159999999997,
          "yref": "y"
         },
         {
          "fillcolor": "red",
          "line": {
           "color": "red"
          },
          "opacity": 0.7,
          "type": "circle",
          "x0": 6.864119999999999,
          "x1": 9.80412,
          "xref": "x",
          "y0": 32.26284,
          "y1": 35.202839999999995,
          "yref": "y"
         },
         {
          "fillcolor": "red",
          "line": {
           "color": "red"
          },
          "opacity": 0.7,
          "type": "circle",
          "x0": -13.772760000000002,
          "x1": -10.83276,
          "xref": "x",
          "y0": 36.64692,
          "y1": 39.58692,
          "yref": "y"
         },
         {
          "fillcolor": "red",
          "line": {
           "color": "red"
          },
          "opacity": 0.7,
          "type": "circle",
          "x0": -2.49132,
          "x1": 0.44867999999999997,
          "xref": "x",
          "y0": 19.65072,
          "y1": 22.590719999999997,
          "yref": "y"
         },
         {
          "fillcolor": "red",
          "line": {
           "color": "red"
          },
          "opacity": 0.7,
          "type": "circle",
          "x0": -19.811999999999998,
          "x1": -16.872,
          "xref": "x",
          "y0": 34.81644,
          "y1": 37.75644,
          "yref": "y"
         },
         {
          "fillcolor": "green",
          "line": {
           "color": "green"
          },
          "opacity": 0.7,
          "type": "circle",
          "x0": 41.48172,
          "x1": 44.42172,
          "xref": "x",
          "y0": 34.62048,
          "y1": 37.56048,
          "yref": "y"
         },
         {
          "fillcolor": "green",
          "line": {
           "color": "green"
          },
          "opacity": 0.7,
          "type": "circle",
          "x0": -4.707479999999999,
          "x1": -1.7674799999999997,
          "xref": "x",
          "y0": -10.862520000000002,
          "y1": -7.922520000000001,
          "yref": "y"
         },
         {
          "fillcolor": "green",
          "line": {
           "color": "green"
          },
          "opacity": 0.7,
          "type": "circle",
          "x0": -1.23192,
          "x1": 1.70808,
          "xref": "x",
          "y0": 12.483600000000001,
          "y1": 15.423600000000002,
          "yref": "y"
         },
         {
          "fillcolor": "green",
          "line": {
           "color": "green"
          },
          "opacity": 0.7,
          "type": "circle",
          "x0": 14.952599999999999,
          "x1": 17.892599999999998,
          "xref": "x",
          "y0": 9.28692,
          "y1": 12.226920000000002,
          "yref": "y"
         },
         {
          "fillcolor": "green",
          "line": {
           "color": "green"
          },
          "opacity": 0.7,
          "type": "circle",
          "x0": -21.15216,
          "x1": -18.21216,
          "xref": "x",
          "y0": 22.573320000000002,
          "y1": 25.51332,
          "yref": "y"
         },
         {
          "fillcolor": "red",
          "line": {
           "color": "red"
          },
          "opacity": 0.7,
          "type": "circle",
          "x0": -7.23252,
          "x1": -4.292520000000001,
          "xref": "x",
          "y0": 22.66152,
          "y1": 25.601519999999997,
          "yref": "y"
         },
         {
          "fillcolor": "red",
          "line": {
           "color": "red"
          },
          "opacity": 0.7,
          "type": "circle",
          "x0": -8.23644,
          "x1": -5.29644,
          "xref": "x",
          "y0": 40.74432,
          "y1": 43.68432,
          "yref": "y"
         },
         {
          "fillcolor": "green",
          "line": {
           "color": "green"
          },
          "opacity": 0.7,
          "type": "circle",
          "x0": 31.13304,
          "x1": 34.07304,
          "xref": "x",
          "y0": 28.02864,
          "y1": 30.968639999999997,
          "yref": "y"
         },
         {
          "fillcolor": "green",
          "line": {
           "color": "green"
          },
          "opacity": 0.7,
          "type": "circle",
          "x0": 20.28384,
          "x1": 23.22384,
          "xref": "x",
          "y0": 32.95752,
          "y1": 35.89752,
          "yref": "y"
         },
         {
          "fillcolor": "green",
          "line": {
           "color": "green"
          },
          "opacity": 0.7,
          "type": "circle",
          "x0": -9.94572,
          "x1": -7.005719999999999,
          "xref": "x",
          "y0": 49.656600000000005,
          "y1": 52.5966,
          "yref": "y"
         },
         {
          "fillcolor": "green",
          "line": {
           "color": "green"
          },
          "opacity": 0.7,
          "type": "circle",
          "x0": 22.942800000000005,
          "x1": 25.882800000000003,
          "xref": "x",
          "y0": 44.3256,
          "y1": 47.2656,
          "yref": "y"
         },
         {
          "fillcolor": "green",
          "line": {
           "color": "green"
          },
          "opacity": 0.7,
          "type": "circle",
          "x0": -18.158519999999996,
          "x1": -15.218519999999996,
          "xref": "x",
          "y0": 24.58068,
          "y1": 27.52068,
          "yref": "y"
         },
         {
          "fillcolor": "green",
          "line": {
           "color": "green"
          },
          "opacity": 0.7,
          "type": "circle",
          "x0": -22.4346,
          "x1": -19.494600000000002,
          "xref": "x",
          "y0": -5.46768,
          "y1": -2.52768,
          "yref": "y"
         },
         {
          "fillcolor": "red",
          "line": {
           "color": "red"
          },
          "opacity": 0.7,
          "type": "circle",
          "x0": -14.406480000000002,
          "x1": -11.46648,
          "xref": "x",
          "y0": 31.8654,
          "y1": 34.8054,
          "yref": "y"
         },
         {
          "fillcolor": "green",
          "line": {
           "color": "green"
          },
          "opacity": 0.7,
          "type": "circle",
          "x0": -15.87924,
          "x1": -12.939239999999998,
          "xref": "x",
          "y0": 19.10196,
          "y1": 22.041959999999996,
          "yref": "y"
         },
         {
          "fillcolor": "green",
          "line": {
           "color": "green"
          },
          "opacity": 0.7,
          "type": "circle",
          "x0": -12.974400000000001,
          "x1": -10.0344,
          "xref": "x",
          "y0": 12.255,
          "y1": 15.195000000000002,
          "yref": "y"
         },
         {
          "fillcolor": "green",
          "line": {
           "color": "green"
          },
          "opacity": 0.7,
          "type": "circle",
          "x0": -20.61564,
          "x1": -17.67564,
          "xref": "x",
          "y0": 12.38232,
          "y1": 15.322320000000001,
          "yref": "y"
         },
         {
          "fillcolor": "red",
          "line": {
           "color": "red"
          },
          "opacity": 0.7,
          "type": "circle",
          "x0": -6.85728,
          "x1": -3.9172800000000008,
          "xref": "x",
          "y0": 35.2494,
          "y1": 38.1894,
          "yref": "y"
         },
         {
          "fillcolor": "red",
          "line": {
           "color": "red"
          },
          "opacity": 0.7,
          "type": "circle",
          "x0": 3.20448,
          "x1": 6.14448,
          "xref": "x",
          "y0": 33.50688,
          "y1": 36.44688,
          "yref": "y"
         },
         {
          "fillcolor": "green",
          "line": {
           "color": "green"
          },
          "opacity": 0.7,
          "type": "circle",
          "x0": -40.123079999999995,
          "x1": -37.18308,
          "xref": "x",
          "y0": 37.286280000000005,
          "y1": 40.22628,
          "yref": "y"
         },
         {
          "fillcolor": "red",
          "line": {
           "color": "red"
          },
          "opacity": 0.7,
          "type": "circle",
          "x0": -3.2136000000000005,
          "x1": -0.2736000000000003,
          "xref": "x",
          "y0": 37.50804,
          "y1": 40.44804,
          "yref": "y"
         },
         {
          "fillcolor": "green",
          "line": {
           "color": "green"
          },
          "opacity": 0.7,
          "type": "circle",
          "x0": -14.09964,
          "x1": -11.15964,
          "xref": "x",
          "y0": 47.27184,
          "y1": 50.211839999999995,
          "yref": "y"
         },
         {
          "fillcolor": "red",
          "line": {
           "color": "red"
          },
          "opacity": 0.7,
          "type": "circle",
          "x0": -8.82132,
          "x1": -5.88132,
          "xref": "x",
          "y0": 29.662560000000003,
          "y1": 32.602560000000004,
          "yref": "y"
         },
         {
          "fillcolor": "green",
          "line": {
           "color": "green"
          },
          "opacity": 0.7,
          "type": "circle",
          "x0": -26.697359999999996,
          "x1": -23.75736,
          "xref": "x",
          "y0": 23.709720000000004,
          "y1": 26.649720000000002,
          "yref": "y"
         },
         {
          "fillcolor": "green",
          "line": {
           "color": "green"
          },
          "opacity": 0.7,
          "type": "circle",
          "x0": -22.0146,
          "x1": -19.074600000000004,
          "xref": "x",
          "y0": 5.825880000000001,
          "y1": 8.765880000000001,
          "yref": "y"
         },
         {
          "fillcolor": "green",
          "line": {
           "color": "green"
          },
          "opacity": 0.7,
          "type": "circle",
          "x0": -16.16472,
          "x1": -13.22472,
          "xref": "x",
          "y0": 61.67424,
          "y1": 64.61424,
          "yref": "y"
         },
         {
          "fillcolor": "green",
          "line": {
           "color": "green"
          },
          "opacity": 0.7,
          "type": "circle",
          "x0": 7.31712,
          "x1": 10.25712,
          "xref": "x",
          "y0": 16.13244,
          "y1": 19.072439999999997,
          "yref": "y"
         },
         {
          "fillcolor": "green",
          "line": {
           "color": "green"
          },
          "opacity": 0.7,
          "type": "circle",
          "x0": 12.00672,
          "x1": 14.946720000000001,
          "xref": "x",
          "y0": 16.38468,
          "y1": 19.324679999999997,
          "yref": "y"
         },
         {
          "fillcolor": "green",
          "line": {
           "color": "green"
          },
          "opacity": 0.7,
          "type": "circle",
          "x0": -19.787999999999997,
          "x1": -16.848,
          "xref": "x",
          "y0": 38.26944,
          "y1": 41.20944,
          "yref": "y"
         },
         {
          "fillcolor": "green",
          "line": {
           "color": "green"
          },
          "opacity": 0.7,
          "type": "circle",
          "x0": 17.33124,
          "x1": 20.27124,
          "xref": "x",
          "y0": 41.4876,
          "y1": 44.4276,
          "yref": "y"
         },
         {
          "fillcolor": "red",
          "line": {
           "color": "red"
          },
          "opacity": 0.7,
          "type": "circle",
          "x0": -4.17228,
          "x1": -1.23228,
          "xref": "x",
          "y0": 21.385440000000003,
          "y1": 24.32544,
          "yref": "y"
         },
         {
          "fillcolor": "green",
          "line": {
           "color": "green"
          },
          "opacity": 0.7,
          "type": "circle",
          "x0": -8.75868,
          "x1": -5.81868,
          "xref": "x",
          "y0": 10.39584,
          "y1": 13.335840000000001,
          "yref": "y"
         },
         {
          "fillcolor": "red",
          "line": {
           "color": "red"
          },
          "opacity": 0.7,
          "type": "circle",
          "x0": -9.72444,
          "x1": -6.784439999999999,
          "xref": "x",
          "y0": 18.47124,
          "y1": 21.41124,
          "yref": "y"
         },
         {
          "fillcolor": "green",
          "line": {
           "color": "green"
          },
          "opacity": 0.7,
          "type": "circle",
          "x0": -24.25188,
          "x1": -21.311880000000002,
          "xref": "x",
          "y0": 22.917360000000002,
          "y1": 25.85736,
          "yref": "y"
         },
         {
          "fillcolor": "red",
          "line": {
           "color": "red"
          },
          "opacity": 0.7,
          "type": "circle",
          "x0": -6.04512,
          "x1": -3.1051200000000003,
          "xref": "x",
          "y0": 17.364720000000002,
          "y1": 20.30472,
          "yref": "y"
         },
         {
          "fillcolor": "green",
          "line": {
           "color": "green"
          },
          "opacity": 0.7,
          "type": "circle",
          "x0": -28.32528,
          "x1": -25.38528,
          "xref": "x",
          "y0": 16.740479999999998,
          "y1": 19.680479999999996,
          "yref": "y"
         },
         {
          "fillcolor": "green",
          "line": {
           "color": "green"
          },
          "opacity": 0.7,
          "type": "circle",
          "x0": -11.91252,
          "x1": -8.97252,
          "xref": "x",
          "y0": 7.294200000000001,
          "y1": 10.234200000000001,
          "yref": "y"
         },
         {
          "fillcolor": "green",
          "line": {
           "color": "green"
          },
          "opacity": 0.7,
          "type": "circle",
          "x0": -0.35148,
          "x1": 2.58852,
          "xref": "x",
          "y0": 44.751000000000005,
          "y1": 47.691,
          "yref": "y"
         },
         {
          "fillcolor": "red",
          "line": {
           "color": "red"
          },
          "opacity": 0.7,
          "type": "circle",
          "x0": 9.4062,
          "x1": 12.346200000000001,
          "xref": "x",
          "y0": 36.76416,
          "y1": 39.704159999999995,
          "yref": "y"
         },
         {
          "fillcolor": "green",
          "line": {
           "color": "green"
          },
          "opacity": 0.7,
          "type": "circle",
          "x0": 17.87544,
          "x1": 20.81544,
          "xref": "x",
          "y0": 35.482800000000005,
          "y1": 38.4228,
          "yref": "y"
         },
         {
          "fillcolor": "green",
          "line": {
           "color": "green"
          },
          "opacity": 0.7,
          "type": "circle",
          "x0": 8.30832,
          "x1": 11.248320000000001,
          "xref": "x",
          "y0": 22.00512,
          "y1": 24.94512,
          "yref": "y"
         },
         {
          "fillcolor": "green",
          "line": {
           "color": "green"
          },
          "opacity": 0.7,
          "type": "circle",
          "x0": 16.26528,
          "x1": 19.20528,
          "xref": "x",
          "y0": 17.910600000000002,
          "y1": 20.8506,
          "yref": "y"
         },
         {
          "fillcolor": "red",
          "line": {
           "color": "red"
          },
          "opacity": 0.7,
          "type": "circle",
          "x0": 6.033720000000001,
          "x1": 8.97372,
          "xref": "x",
          "y0": 38.04744,
          "y1": 40.98744,
          "yref": "y"
         },
         {
          "fillcolor": "red",
          "line": {
           "color": "red"
          },
          "opacity": 0.7,
          "type": "circle",
          "x0": 6.339000000000001,
          "x1": 9.279000000000002,
          "xref": "x",
          "y0": 34.54728,
          "y1": 37.48728,
          "yref": "y"
         },
         {
          "fillcolor": "green",
          "line": {
           "color": "green"
          },
          "opacity": 0.7,
          "type": "circle",
          "x0": -13.43016,
          "x1": -10.49016,
          "xref": "x",
          "y0": 71.04168,
          "y1": 73.98168,
          "yref": "y"
         },
         {
          "fillcolor": "green",
          "line": {
           "color": "green"
          },
          "opacity": 0.7,
          "type": "circle",
          "x0": -13.981440000000001,
          "x1": -11.04144,
          "xref": "x",
          "y0": 37.354079999999996,
          "y1": 40.294079999999994,
          "yref": "y"
         },
         {
          "fillcolor": "red",
          "line": {
           "color": "red"
          },
          "opacity": 0.7,
          "type": "circle",
          "x0": 8.611199999999998,
          "x1": 11.5512,
          "xref": "x",
          "y0": 29.80176,
          "y1": 32.74176,
          "yref": "y"
         },
         {
          "fillcolor": "green",
          "line": {
           "color": "green"
          },
          "opacity": 0.7,
          "type": "circle",
          "x0": 0.5346,
          "x1": 3.4745999999999997,
          "xref": "x",
          "y0": 72.9252,
          "y1": 75.8652,
          "yref": "y"
         },
         {
          "fillcolor": "red",
          "line": {
           "color": "red"
          },
          "opacity": 0.7,
          "type": "circle",
          "x0": -14.30916,
          "x1": -11.369159999999999,
          "xref": "x",
          "y0": 23.40732,
          "y1": 26.347319999999996,
          "yref": "y"
         },
         {
          "fillcolor": "green",
          "line": {
           "color": "green"
          },
          "opacity": 0.7,
          "type": "circle",
          "x0": 7.35024,
          "x1": 10.29024,
          "xref": "x",
          "y0": 17.772840000000002,
          "y1": 20.71284,
          "yref": "y"
         },
         {
          "fillcolor": "red",
          "line": {
           "color": "red"
          },
          "opacity": 0.7,
          "type": "circle",
          "x0": 10.50456,
          "x1": 13.444560000000001,
          "xref": "x",
          "y0": 20.99004,
          "y1": 23.930039999999998,
          "yref": "y"
         },
         {
          "fillcolor": "green",
          "line": {
           "color": "green"
          },
          "opacity": 0.7,
          "type": "circle",
          "x0": -8.62728,
          "x1": -5.68728,
          "xref": "x",
          "y0": 80.60388,
          "y1": 83.54388,
          "yref": "y"
         },
         {
          "fillcolor": "green",
          "line": {
           "color": "green"
          },
          "opacity": 0.7,
          "type": "circle",
          "x0": -20.699399999999997,
          "x1": -17.7594,
          "xref": "x",
          "y0": 48.963119999999996,
          "y1": 51.903119999999994,
          "yref": "y"
         },
         {
          "fillcolor": "red",
          "line": {
           "color": "red"
          },
          "opacity": 0.7,
          "type": "circle",
          "x0": -11.214120000000001,
          "x1": -8.27412,
          "xref": "x",
          "y0": 33.95004,
          "y1": 36.89004,
          "yref": "y"
         },
         {
          "fillcolor": "green",
          "line": {
           "color": "green"
          },
          "opacity": 0.7,
          "type": "circle",
          "x0": 20.8062,
          "x1": 23.746199999999998,
          "xref": "x",
          "y0": 20.76432,
          "y1": 23.70432,
          "yref": "y"
         },
         {
          "fillcolor": "green",
          "line": {
           "color": "green"
          },
          "opacity": 0.7,
          "type": "circle",
          "x0": 14.09952,
          "x1": 17.03952,
          "xref": "x",
          "y0": -1.66764,
          "y1": 1.27236,
          "yref": "y"
         },
         {
          "fillcolor": "green",
          "line": {
           "color": "green"
          },
          "opacity": 0.7,
          "type": "circle",
          "x0": -14.79504,
          "x1": -11.855039999999999,
          "xref": "x",
          "y0": 13.477680000000001,
          "y1": 16.41768,
          "yref": "y"
         },
         {
          "fillcolor": "green",
          "line": {
           "color": "green"
          },
          "opacity": 0.7,
          "type": "circle",
          "x0": -4.10184,
          "x1": -1.16184,
          "xref": "x",
          "y0": 44.83524,
          "y1": 47.77524,
          "yref": "y"
         },
         {
          "fillcolor": "green",
          "line": {
           "color": "green"
          },
          "opacity": 0.7,
          "type": "circle",
          "x0": -15.910559999999998,
          "x1": -12.970559999999997,
          "xref": "x",
          "y0": 21.75384,
          "y1": 24.693839999999998,
          "yref": "y"
         },
         {
          "fillcolor": "green",
          "line": {
           "color": "green"
          },
          "opacity": 0.7,
          "type": "circle",
          "x0": -11.161320000000002,
          "x1": -8.22132,
          "xref": "x",
          "y0": 22.929360000000003,
          "y1": 25.86936,
          "yref": "y"
         },
         {
          "fillcolor": "red",
          "line": {
           "color": "red"
          },
          "opacity": 0.7,
          "type": "circle",
          "x0": -4.8444,
          "x1": -1.9044,
          "xref": "x",
          "y0": 37.07484,
          "y1": 40.01484,
          "yref": "y"
         },
         {
          "fillcolor": "red",
          "line": {
           "color": "red"
          },
          "opacity": 0.7,
          "type": "circle",
          "x0": -0.15252,
          "x1": 2.78748,
          "xref": "x",
          "y0": 20.55516,
          "y1": 23.49516,
          "yref": "y"
         },
         {
          "fillcolor": "green",
          "line": {
           "color": "green"
          },
          "opacity": 0.7,
          "type": "circle",
          "x0": 17.013720000000003,
          "x1": 19.95372,
          "xref": "x",
          "y0": -1.0376400000000001,
          "y1": 1.9023599999999998,
          "yref": "y"
         },
         {
          "fillcolor": "green",
          "line": {
           "color": "green"
          },
          "opacity": 0.7,
          "type": "circle",
          "x0": -0.30552,
          "x1": 2.63448,
          "xref": "x",
          "y0": 20.60568,
          "y1": 23.545679999999997,
          "yref": "y"
         },
         {
          "fillcolor": "green",
          "line": {
           "color": "green"
          },
          "opacity": 0.7,
          "type": "circle",
          "x0": -9.39384,
          "x1": -6.4538400000000005,
          "xref": "x",
          "y0": 33.2088,
          "y1": 36.148799999999994,
          "yref": "y"
         },
         {
          "fillcolor": "green",
          "line": {
           "color": "green"
          },
          "opacity": 0.7,
          "type": "circle",
          "x0": -1.89324,
          "x1": 1.04676,
          "xref": "x",
          "y0": 20.90412,
          "y1": 23.844119999999997,
          "yref": "y"
         },
         {
          "fillcolor": "red",
          "line": {
           "color": "red"
          },
          "opacity": 0.7,
          "type": "circle",
          "x0": -10.25376,
          "x1": -7.313759999999999,
          "xref": "x",
          "y0": 33.92076,
          "y1": 36.86076,
          "yref": "y"
         },
         {
          "fillcolor": "green",
          "line": {
           "color": "green"
          },
          "opacity": 0.7,
          "type": "circle",
          "x0": -19.947119999999998,
          "x1": -17.00712,
          "xref": "x",
          "y0": 19.038600000000002,
          "y1": 21.9786,
          "yref": "y"
         },
         {
          "fillcolor": "red",
          "line": {
           "color": "red"
          },
          "opacity": 0.7,
          "type": "circle",
          "x0": 4.3688400000000005,
          "x1": 7.30884,
          "xref": "x",
          "y0": 23.35296,
          "y1": 26.292959999999997,
          "yref": "y"
         },
         {
          "fillcolor": "green",
          "line": {
           "color": "green"
          },
          "opacity": 0.7,
          "type": "circle",
          "x0": -19.067159999999998,
          "x1": -16.12716,
          "xref": "x",
          "y0": 26.51232,
          "y1": 29.452319999999997,
          "yref": "y"
         },
         {
          "fillcolor": "red",
          "line": {
           "color": "red"
          },
          "opacity": 0.7,
          "type": "circle",
          "x0": -4.29984,
          "x1": -1.35984,
          "xref": "x",
          "y0": 28.011000000000003,
          "y1": 30.951,
          "yref": "y"
         },
         {
          "fillcolor": "red",
          "line": {
           "color": "red"
          },
          "opacity": 0.7,
          "type": "circle",
          "x0": 4.905119999999999,
          "x1": 7.845119999999999,
          "xref": "x",
          "y0": 30.463080000000005,
          "y1": 33.40308,
          "yref": "y"
         },
         {
          "fillcolor": "green",
          "line": {
           "color": "green"
          },
          "opacity": 0.7,
          "type": "circle",
          "x0": -33.58992,
          "x1": -30.64992,
          "xref": "x",
          "y0": 30.933840000000004,
          "y1": 33.87384,
          "yref": "y"
         },
         {
          "fillcolor": "green",
          "line": {
           "color": "green"
          },
          "opacity": 0.7,
          "type": "circle",
          "x0": -17.38776,
          "x1": -14.44776,
          "xref": "x",
          "y0": 21.91128,
          "y1": 24.85128,
          "yref": "y"
         },
         {
          "fillcolor": "green",
          "line": {
           "color": "green"
          },
          "opacity": 0.7,
          "type": "circle",
          "x0": -0.75,
          "x1": 2.19,
          "xref": "x",
          "y0": 45.7572,
          "y1": 48.697199999999995,
          "yref": "y"
         },
         {
          "fillcolor": "green",
          "line": {
           "color": "green"
          },
          "opacity": 0.7,
          "type": "circle",
          "x0": -19.715999999999998,
          "x1": -16.776,
          "xref": "x",
          "y0": 11.21196,
          "y1": 14.15196,
          "yref": "y"
         },
         {
          "fillcolor": "green",
          "line": {
           "color": "green"
          },
          "opacity": 0.7,
          "type": "circle",
          "x0": 12.7842,
          "x1": 15.724200000000002,
          "xref": "x",
          "y0": 44.06808,
          "y1": 47.00808,
          "yref": "y"
         },
         {
          "fillcolor": "green",
          "line": {
           "color": "green"
          },
          "opacity": 0.7,
          "type": "circle",
          "x0": 17.91168,
          "x1": 20.851679999999998,
          "xref": "x",
          "y0": 29.07084,
          "y1": 32.01084,
          "yref": "y"
         },
         {
          "fillcolor": "red",
          "line": {
           "color": "red"
          },
          "opacity": 0.7,
          "type": "circle",
          "x0": 0.09420000000000006,
          "x1": 3.0342000000000002,
          "xref": "x",
          "y0": 30.44556,
          "y1": 33.38556,
          "yref": "y"
         },
         {
          "fillcolor": "green",
          "line": {
           "color": "green"
          },
          "opacity": 0.7,
          "type": "circle",
          "x0": 24.375840000000004,
          "x1": 27.31584,
          "xref": "x",
          "y0": 35.13252,
          "y1": 38.07252,
          "yref": "y"
         },
         {
          "fillcolor": "green",
          "line": {
           "color": "green"
          },
          "opacity": 0.7,
          "type": "circle",
          "x0": -7.0210799999999995,
          "x1": -4.08108,
          "xref": "x",
          "y0": 21.608159999999998,
          "y1": 24.548159999999996,
          "yref": "y"
         },
         {
          "fillcolor": "green",
          "line": {
           "color": "green"
          },
          "opacity": 0.7,
          "type": "circle",
          "x0": -1.053,
          "x1": 1.887,
          "xref": "x",
          "y0": 39.11748,
          "y1": 42.05748,
          "yref": "y"
         },
         {
          "fillcolor": "green",
          "line": {
           "color": "green"
          },
          "opacity": 0.7,
          "type": "circle",
          "x0": 14.975039999999998,
          "x1": 17.915039999999998,
          "xref": "x",
          "y0": 35.01144,
          "y1": 37.95144,
          "yref": "y"
         },
         {
          "fillcolor": "green",
          "line": {
           "color": "green"
          },
          "opacity": 0.7,
          "type": "circle",
          "x0": 11.487119999999999,
          "x1": 14.42712,
          "xref": "x",
          "y0": 29.05956,
          "y1": 31.99956,
          "yref": "y"
         },
         {
          "fillcolor": "red",
          "line": {
           "color": "red"
          },
          "opacity": 0.7,
          "type": "circle",
          "x0": -5.5362,
          "x1": -2.5962000000000005,
          "xref": "x",
          "y0": 29.686200000000003,
          "y1": 32.626200000000004,
          "yref": "y"
         },
         {
          "fillcolor": "green",
          "line": {
           "color": "green"
          },
          "opacity": 0.7,
          "type": "circle",
          "x0": -18.049799999999998,
          "x1": -15.109799999999998,
          "xref": "x",
          "y0": 44.404560000000004,
          "y1": 47.34456,
          "yref": "y"
         },
         {
          "fillcolor": "green",
          "line": {
           "color": "green"
          },
          "opacity": 0.7,
          "type": "circle",
          "x0": -14.861160000000002,
          "x1": -11.92116,
          "xref": "x",
          "y0": 21.67512,
          "y1": 24.615119999999997,
          "yref": "y"
         },
         {
          "fillcolor": "green",
          "line": {
           "color": "green"
          },
          "opacity": 0.7,
          "type": "circle",
          "x0": -14.146320000000001,
          "x1": -11.20632,
          "xref": "x",
          "y0": 36.45552,
          "y1": 39.39552,
          "yref": "y"
         },
         {
          "fillcolor": "red",
          "line": {
           "color": "red"
          },
          "opacity": 0.7,
          "type": "circle",
          "x0": -14.416560000000002,
          "x1": -11.476560000000001,
          "xref": "x",
          "y0": 28.700280000000003,
          "y1": 31.64028,
          "yref": "y"
         },
         {
          "fillcolor": "green",
          "line": {
           "color": "green"
          },
          "opacity": 0.7,
          "type": "circle",
          "x0": -5.4207600000000005,
          "x1": -2.48076,
          "xref": "x",
          "y0": 19.55448,
          "y1": 22.49448,
          "yref": "y"
         },
         {
          "fillcolor": "red",
          "line": {
           "color": "red"
          },
          "opacity": 0.7,
          "type": "circle",
          "x0": -9.044640000000001,
          "x1": -6.104640000000001,
          "xref": "x",
          "y0": 30.47316,
          "y1": 33.41316,
          "yref": "y"
         },
         {
          "fillcolor": "red",
          "line": {
           "color": "red"
          },
          "opacity": 0.7,
          "type": "circle",
          "x0": 1.5021600000000002,
          "x1": 4.44216,
          "xref": "x",
          "y0": 40.81056,
          "y1": 43.75056,
          "yref": "y"
         },
         {
          "fillcolor": "green",
          "line": {
           "color": "green"
          },
          "opacity": 0.7,
          "type": "circle",
          "x0": 14.69928,
          "x1": 17.63928,
          "xref": "x",
          "y0": 29.4222,
          "y1": 32.3622,
          "yref": "y"
         },
         {
          "fillcolor": "red",
          "line": {
           "color": "red"
          },
          "opacity": 0.7,
          "type": "circle",
          "x0": 1.3062000000000002,
          "x1": 4.2462,
          "xref": "x",
          "y0": 23.889,
          "y1": 26.828999999999997,
          "yref": "y"
         },
         {
          "fillcolor": "green",
          "line": {
           "color": "green"
          },
          "opacity": 0.7,
          "type": "circle",
          "x0": -23.45544,
          "x1": -20.51544,
          "xref": "x",
          "y0": 21.14964,
          "y1": 24.08964,
          "yref": "y"
         },
         {
          "fillcolor": "green",
          "line": {
           "color": "green"
          },
          "opacity": 0.7,
          "type": "circle",
          "x0": -23.25108,
          "x1": -20.311080000000004,
          "xref": "x",
          "y0": 24.79776,
          "y1": 27.737759999999998,
          "yref": "y"
         },
         {
          "fillcolor": "green",
          "line": {
           "color": "green"
          },
          "opacity": 0.7,
          "type": "circle",
          "x0": 6.48912,
          "x1": 9.42912,
          "xref": "x",
          "y0": 22.6734,
          "y1": 25.6134,
          "yref": "y"
         },
         {
          "fillcolor": "green",
          "line": {
           "color": "green"
          },
          "opacity": 0.7,
          "type": "circle",
          "x0": -29.053919999999998,
          "x1": -26.11392,
          "xref": "x",
          "y0": 30.766440000000003,
          "y1": 33.70644,
          "yref": "y"
         },
         {
          "fillcolor": "green",
          "line": {
           "color": "green"
          },
          "opacity": 0.7,
          "type": "circle",
          "x0": -10.119840000000002,
          "x1": -7.179840000000001,
          "xref": "x",
          "y0": 43.37736,
          "y1": 46.31736,
          "yref": "y"
         },
         {
          "fillcolor": "green",
          "line": {
           "color": "green"
          },
          "opacity": 0.7,
          "type": "circle",
          "x0": 0.25128000000000017,
          "x1": 3.19128,
          "xref": "x",
          "y0": 19.607280000000003,
          "y1": 22.54728,
          "yref": "y"
         },
         {
          "fillcolor": "red",
          "line": {
           "color": "red"
          },
          "opacity": 0.7,
          "type": "circle",
          "x0": -8.53248,
          "x1": -5.592479999999999,
          "xref": "x",
          "y0": 39.820800000000006,
          "y1": 42.7608,
          "yref": "y"
         },
         {
          "fillcolor": "green",
          "line": {
           "color": "green"
          },
          "opacity": 0.7,
          "type": "circle",
          "x0": -18.36348,
          "x1": -15.42348,
          "xref": "x",
          "y0": 39.141239999999996,
          "y1": 42.081239999999994,
          "yref": "y"
         },
         {
          "fillcolor": "green",
          "line": {
           "color": "green"
          },
          "opacity": 0.7,
          "type": "circle",
          "x0": -13.521840000000003,
          "x1": -10.581840000000001,
          "xref": "x",
          "y0": 41.91372,
          "y1": 44.853719999999996,
          "yref": "y"
         },
         {
          "fillcolor": "red",
          "line": {
           "color": "red"
          },
          "opacity": 0.7,
          "type": "circle",
          "x0": -0.3604799999999999,
          "x1": 2.57952,
          "xref": "x",
          "y0": 33.77304,
          "y1": 36.71304,
          "yref": "y"
         },
         {
          "fillcolor": "green",
          "line": {
           "color": "green"
          },
          "opacity": 0.7,
          "type": "circle",
          "x0": 27.38592,
          "x1": 30.325919999999996,
          "xref": "x",
          "y0": 12.03852,
          "y1": 14.978520000000001,
          "yref": "y"
         },
         {
          "fillcolor": "green",
          "line": {
           "color": "green"
          },
          "opacity": 0.7,
          "type": "circle",
          "x0": 14.652,
          "x1": 17.592,
          "xref": "x",
          "y0": 20.809440000000002,
          "y1": 23.74944,
          "yref": "y"
         },
         {
          "fillcolor": "red",
          "line": {
           "color": "red"
          },
          "opacity": 0.7,
          "type": "circle",
          "x0": -1.74072,
          "x1": 1.19928,
          "xref": "x",
          "y0": 37.0188,
          "y1": 39.9588,
          "yref": "y"
         },
         {
          "fillcolor": "green",
          "line": {
           "color": "green"
          },
          "opacity": 0.7,
          "type": "circle",
          "x0": 18.1902,
          "x1": 21.1302,
          "xref": "x",
          "y0": 27.666480000000004,
          "y1": 30.60648,
          "yref": "y"
         },
         {
          "fillcolor": "green",
          "line": {
           "color": "green"
          },
          "opacity": 0.7,
          "type": "circle",
          "x0": -4.00692,
          "x1": -1.0669199999999999,
          "xref": "x",
          "y0": 44.43864,
          "y1": 47.37864,
          "yref": "y"
         },
         {
          "fillcolor": "red",
          "line": {
           "color": "red"
          },
          "opacity": 0.7,
          "type": "circle",
          "x0": -0.98988,
          "x1": 1.95012,
          "xref": "x",
          "y0": 37.7742,
          "y1": 40.7142,
          "yref": "y"
         },
         {
          "fillcolor": "green",
          "line": {
           "color": "green"
          },
          "opacity": 0.7,
          "type": "circle",
          "x0": 8.04528,
          "x1": 10.985280000000001,
          "xref": "x",
          "y0": 26.20176,
          "y1": 29.141759999999998,
          "yref": "y"
         },
         {
          "fillcolor": "green",
          "line": {
           "color": "green"
          },
          "opacity": 0.7,
          "type": "circle",
          "x0": 6.14628,
          "x1": 9.08628,
          "xref": "x",
          "y0": 41.68788000000001,
          "y1": 44.627880000000005,
          "yref": "y"
         },
         {
          "fillcolor": "green",
          "line": {
           "color": "green"
          },
          "opacity": 0.7,
          "type": "circle",
          "x0": -14.62908,
          "x1": -11.689079999999999,
          "xref": "x",
          "y0": 51.089040000000004,
          "y1": 54.02904,
          "yref": "y"
         },
         {
          "fillcolor": "green",
          "line": {
           "color": "green"
          },
          "opacity": 0.7,
          "type": "circle",
          "x0": -7.30284,
          "x1": -4.36284,
          "xref": "x",
          "y0": 44.09076,
          "y1": 47.03076,
          "yref": "y"
         },
         {
          "fillcolor": "green",
          "line": {
           "color": "green"
          },
          "opacity": 0.7,
          "type": "circle",
          "x0": -11.96208,
          "x1": -9.022079999999999,
          "xref": "x",
          "y0": 45.577079999999995,
          "y1": 48.51707999999999,
          "yref": "y"
         },
         {
          "fillcolor": "red",
          "line": {
           "color": "red"
          },
          "opacity": 0.7,
          "type": "circle",
          "x0": 4.20468,
          "x1": 7.144679999999999,
          "xref": "x",
          "y0": 38.12448,
          "y1": 41.064479999999996,
          "yref": "y"
         },
         {
          "fillcolor": "green",
          "line": {
           "color": "green"
          },
          "opacity": 0.7,
          "type": "circle",
          "x0": 8.441999999999998,
          "x1": 11.382,
          "xref": "x",
          "y0": 44.72124,
          "y1": 47.66124,
          "yref": "y"
         },
         {
          "fillcolor": "green",
          "line": {
           "color": "green"
          },
          "opacity": 0.7,
          "type": "circle",
          "x0": 5.33652,
          "x1": 8.27652,
          "xref": "x",
          "y0": 17.76924,
          "y1": 20.709239999999998,
          "yref": "y"
         },
         {
          "fillcolor": "green",
          "line": {
           "color": "green"
          },
          "opacity": 0.7,
          "type": "circle",
          "x0": 7.4157600000000015,
          "x1": 10.355760000000002,
          "xref": "x",
          "y0": 56.28648,
          "y1": 59.226479999999995,
          "yref": "y"
         },
         {
          "fillcolor": "green",
          "line": {
           "color": "green"
          },
          "opacity": 0.7,
          "type": "circle",
          "x0": 17.590920000000004,
          "x1": 20.530920000000002,
          "xref": "x",
          "y0": 11.20632,
          "y1": 14.146320000000001,
          "yref": "y"
         },
         {
          "fillcolor": "green",
          "line": {
           "color": "green"
          },
          "opacity": 0.7,
          "type": "circle",
          "x0": 10.91916,
          "x1": 13.859160000000001,
          "xref": "x",
          "y0": 11.884199999999998,
          "y1": 14.8242,
          "yref": "y"
         },
         {
          "fillcolor": "green",
          "line": {
           "color": "green"
          },
          "opacity": 0.7,
          "type": "circle",
          "x0": 11.129879999999998,
          "x1": 14.06988,
          "xref": "x",
          "y0": 32.429880000000004,
          "y1": 35.36988,
          "yref": "y"
         },
         {
          "fillcolor": "green",
          "line": {
           "color": "green"
          },
          "opacity": 0.7,
          "type": "circle",
          "x0": 14.917679999999999,
          "x1": 17.85768,
          "xref": "x",
          "y0": 3.7523999999999997,
          "y1": 6.692399999999999,
          "yref": "y"
         },
         {
          "fillcolor": "red",
          "line": {
           "color": "red"
          },
          "opacity": 0.7,
          "type": "circle",
          "x0": -5.39436,
          "x1": -2.4543600000000003,
          "xref": "x",
          "y0": 24.820080000000004,
          "y1": 27.760080000000002,
          "yref": "y"
         },
         {
          "fillcolor": "red",
          "line": {
           "color": "red"
          },
          "opacity": 0.7,
          "type": "circle",
          "x0": 0.18996000000000013,
          "x1": 3.12996,
          "xref": "x",
          "y0": 25.5696,
          "y1": 28.5096,
          "yref": "y"
         },
         {
          "fillcolor": "green",
          "line": {
           "color": "green"
          },
          "opacity": 0.7,
          "type": "circle",
          "x0": 5.6244,
          "x1": 8.5644,
          "xref": "x",
          "y0": 47.57939999999999,
          "y1": 50.51939999999999,
          "yref": "y"
         },
         {
          "fillcolor": "red",
          "line": {
           "color": "red"
          },
          "opacity": 0.7,
          "type": "circle",
          "x0": -7.120679999999999,
          "x1": -4.18068,
          "xref": "x",
          "y0": 37.36932,
          "y1": 40.30932,
          "yref": "y"
         },
         {
          "fillcolor": "green",
          "line": {
           "color": "green"
          },
          "opacity": 0.7,
          "type": "circle",
          "x0": -9.024600000000001,
          "x1": -6.084600000000001,
          "xref": "x",
          "y0": 7.809360000000001,
          "y1": 10.749360000000001,
          "yref": "y"
         },
         {
          "fillcolor": "green",
          "line": {
           "color": "green"
          },
          "opacity": 0.7,
          "type": "circle",
          "x0": 1.04232,
          "x1": 3.9823199999999996,
          "xref": "x",
          "y0": 56.70168,
          "y1": 59.64168,
          "yref": "y"
         },
         {
          "fillcolor": "green",
          "line": {
           "color": "green"
          },
          "opacity": 0.7,
          "type": "circle",
          "x0": -15.92976,
          "x1": -12.989759999999999,
          "xref": "x",
          "y0": -16.68516,
          "y1": -13.74516,
          "yref": "y"
         },
         {
          "fillcolor": "green",
          "line": {
           "color": "green"
          },
          "opacity": 0.7,
          "type": "circle",
          "x0": -0.3633599999999999,
          "x1": 2.5766400000000003,
          "xref": "x",
          "y0": 39.1734,
          "y1": 42.1134,
          "yref": "y"
         },
         {
          "fillcolor": "green",
          "line": {
           "color": "green"
          },
          "opacity": 0.7,
          "type": "circle",
          "x0": 12.220559999999997,
          "x1": 15.160559999999998,
          "xref": "x",
          "y0": 19.84344,
          "y1": 22.78344,
          "yref": "y"
         },
         {
          "fillcolor": "green",
          "line": {
           "color": "green"
          },
          "opacity": 0.7,
          "type": "circle",
          "x0": -20.22684,
          "x1": -17.28684,
          "xref": "x",
          "y0": 54.72876,
          "y1": 57.66876,
          "yref": "y"
         },
         {
          "fillcolor": "green",
          "line": {
           "color": "green"
          },
          "opacity": 0.7,
          "type": "circle",
          "x0": -1.50372,
          "x1": 1.43628,
          "xref": "x",
          "y0": 55.25676,
          "y1": 58.19676,
          "yref": "y"
         },
         {
          "fillcolor": "red",
          "line": {
           "color": "red"
          },
          "opacity": 0.7,
          "type": "circle",
          "x0": -4.68396,
          "x1": -1.7439600000000002,
          "xref": "x",
          "y0": 37.1376,
          "y1": 40.0776,
          "yref": "y"
         },
         {
          "fillcolor": "red",
          "line": {
           "color": "red"
          },
          "opacity": 0.7,
          "type": "circle",
          "x0": -4.2168,
          "x1": -1.2768,
          "xref": "x",
          "y0": 24.545280000000005,
          "y1": 27.485280000000003,
          "yref": "y"
         },
         {
          "fillcolor": "green",
          "line": {
           "color": "green"
          },
          "opacity": 0.7,
          "type": "circle",
          "x0": -14.049240000000001,
          "x1": -11.10924,
          "xref": "x",
          "y0": 42.51144,
          "y1": 45.45144,
          "yref": "y"
         },
         {
          "fillcolor": "red",
          "line": {
           "color": "red"
          },
          "opacity": 0.7,
          "type": "circle",
          "x0": -5.22324,
          "x1": -2.28324,
          "xref": "x",
          "y0": 27.624720000000003,
          "y1": 30.56472,
          "yref": "y"
         },
         {
          "fillcolor": "green",
          "line": {
           "color": "green"
          },
          "opacity": 0.7,
          "type": "circle",
          "x0": 19.84464,
          "x1": 22.784639999999996,
          "xref": "x",
          "y0": 34.14996,
          "y1": 37.08996,
          "yref": "y"
         },
         {
          "fillcolor": "green",
          "line": {
           "color": "green"
          },
          "opacity": 0.7,
          "type": "circle",
          "x0": -16.08156,
          "x1": -13.14156,
          "xref": "x",
          "y0": 30.786479999999997,
          "y1": 33.726479999999995,
          "yref": "y"
         },
         {
          "fillcolor": "red",
          "line": {
           "color": "red"
          },
          "opacity": 0.7,
          "type": "circle",
          "x0": -6.294239999999999,
          "x1": -3.35424,
          "xref": "x",
          "y0": 20.62488,
          "y1": 23.56488,
          "yref": "y"
         },
         {
          "fillcolor": "green",
          "line": {
           "color": "green"
          },
          "opacity": 0.7,
          "type": "circle",
          "x0": -8.10528,
          "x1": -5.16528,
          "xref": "x",
          "y0": 17.14884,
          "y1": 20.088839999999998,
          "yref": "y"
         },
         {
          "fillcolor": "green",
          "line": {
           "color": "green"
          },
          "opacity": 0.7,
          "type": "circle",
          "x0": -13.12908,
          "x1": -10.189079999999999,
          "xref": "x",
          "y0": 65.07768,
          "y1": 68.01768,
          "yref": "y"
         },
         {
          "fillcolor": "red",
          "line": {
           "color": "red"
          },
          "opacity": 0.7,
          "type": "circle",
          "x0": -12.48936,
          "x1": -9.549359999999998,
          "xref": "x",
          "y0": 37.17588,
          "y1": 40.11588,
          "yref": "y"
         },
         {
          "fillcolor": "red",
          "line": {
           "color": "red"
          },
          "opacity": 0.7,
          "type": "circle",
          "x0": -1.73628,
          "x1": 1.20372,
          "xref": "x",
          "y0": 42.57624,
          "y1": 45.516239999999996,
          "yref": "y"
         },
         {
          "fillcolor": "green",
          "line": {
           "color": "green"
          },
          "opacity": 0.7,
          "type": "circle",
          "x0": -4.06224,
          "x1": -1.12224,
          "xref": "x",
          "y0": 47.382239999999996,
          "y1": 50.322239999999994,
          "yref": "y"
         },
         {
          "fillcolor": "red",
          "line": {
           "color": "red"
          },
          "opacity": 0.7,
          "type": "circle",
          "x0": 8.800799999999999,
          "x1": 11.7408,
          "xref": "x",
          "y0": 38.7558,
          "y1": 41.6958,
          "yref": "y"
         },
         {
          "fillcolor": "green",
          "line": {
           "color": "green"
          },
          "opacity": 0.7,
          "type": "circle",
          "x0": 21.96132,
          "x1": 24.90132,
          "xref": "x",
          "y0": 34.50264,
          "y1": 37.44264,
          "yref": "y"
         },
         {
          "fillcolor": "green",
          "line": {
           "color": "green"
          },
          "opacity": 0.7,
          "type": "circle",
          "x0": 15.15444,
          "x1": 18.09444,
          "xref": "x",
          "y0": -2.22144,
          "y1": 0.7185600000000001,
          "yref": "y"
         },
         {
          "fillcolor": "green",
          "line": {
           "color": "green"
          },
          "opacity": 0.7,
          "type": "circle",
          "x0": -11.36556,
          "x1": -8.425559999999999,
          "xref": "x",
          "y0": 62.203920000000004,
          "y1": 65.14392000000001,
          "yref": "y"
         },
         {
          "fillcolor": "green",
          "line": {
           "color": "green"
          },
          "opacity": 0.7,
          "type": "circle",
          "x0": -16.4412,
          "x1": -13.501199999999999,
          "xref": "x",
          "y0": 90.09371999999999,
          "y1": 93.03371999999999,
          "yref": "y"
         },
         {
          "fillcolor": "green",
          "line": {
           "color": "green"
          },
          "opacity": 0.7,
          "type": "circle",
          "x0": -10.811280000000002,
          "x1": -7.871280000000001,
          "xref": "x",
          "y0": 52.031040000000004,
          "y1": 54.97104,
          "yref": "y"
         },
         {
          "fillcolor": "red",
          "line": {
           "color": "red"
          },
          "opacity": 0.7,
          "type": "circle",
          "x0": -12.319560000000001,
          "x1": -9.37956,
          "xref": "x",
          "y0": 41.680440000000004,
          "y1": 44.62044,
          "yref": "y"
         },
         {
          "fillcolor": "green",
          "line": {
           "color": "green"
          },
          "opacity": 0.7,
          "type": "circle",
          "x0": 7.23744,
          "x1": 10.17744,
          "xref": "x",
          "y0": 47.98716,
          "y1": 50.92716,
          "yref": "y"
         },
         {
          "fillcolor": "red",
          "line": {
           "color": "red"
          },
          "opacity": 0.7,
          "type": "circle",
          "x0": 3.1634400000000005,
          "x1": 6.10344,
          "xref": "x",
          "y0": 25.677,
          "y1": 28.616999999999997,
          "yref": "y"
         },
         {
          "fillcolor": "green",
          "line": {
           "color": "green"
          },
          "opacity": 0.7,
          "type": "circle",
          "x0": -10.40712,
          "x1": -7.46712,
          "xref": "x",
          "y0": 17.503080000000004,
          "y1": 20.443080000000002,
          "yref": "y"
         },
         {
          "fillcolor": "green",
          "line": {
           "color": "green"
          },
          "opacity": 0.7,
          "type": "circle",
          "x0": 0.41808,
          "x1": 3.35808,
          "xref": "x",
          "y0": 62.550839999999994,
          "y1": 65.49083999999999,
          "yref": "y"
         },
         {
          "fillcolor": "red",
          "line": {
           "color": "red"
          },
          "opacity": 0.7,
          "type": "circle",
          "x0": -7.20516,
          "x1": -4.265160000000001,
          "xref": "x",
          "y0": 36.382560000000005,
          "y1": 39.32256,
          "yref": "y"
         },
         {
          "fillcolor": "red",
          "line": {
           "color": "red"
          },
          "opacity": 0.7,
          "type": "circle",
          "x0": -13.605960000000001,
          "x1": -10.66596,
          "xref": "x",
          "y0": 32.135400000000004,
          "y1": 35.0754,
          "yref": "y"
         },
         {
          "fillcolor": "red",
          "line": {
           "color": "red"
          },
          "opacity": 0.7,
          "type": "circle",
          "x0": -4.04496,
          "x1": -1.10496,
          "xref": "x",
          "y0": 26.629559999999998,
          "y1": 29.569559999999996,
          "yref": "y"
         },
         {
          "fillcolor": "green",
          "line": {
           "color": "green"
          },
          "opacity": 0.7,
          "type": "circle",
          "x0": -18.788639999999997,
          "x1": -15.848639999999998,
          "xref": "x",
          "y0": 19.939680000000003,
          "y1": 22.87968,
          "yref": "y"
         },
         {
          "fillcolor": "green",
          "line": {
           "color": "green"
          },
          "opacity": 0.7,
          "type": "circle",
          "x0": 0.7280399999999998,
          "x1": 3.6680399999999995,
          "xref": "x",
          "y0": 45.85884,
          "y1": 48.79884,
          "yref": "y"
         },
         {
          "fillcolor": "green",
          "line": {
           "color": "green"
          },
          "opacity": 0.7,
          "type": "circle",
          "x0": 10.61004,
          "x1": 13.550040000000001,
          "xref": "x",
          "y0": 22.049400000000002,
          "y1": 24.9894,
          "yref": "y"
         },
         {
          "fillcolor": "green",
          "line": {
           "color": "green"
          },
          "opacity": 0.7,
          "type": "circle",
          "x0": -5.05932,
          "x1": -2.11932,
          "xref": "x",
          "y0": 53.6646,
          "y1": 56.6046,
          "yref": "y"
         },
         {
          "fillcolor": "green",
          "line": {
           "color": "green"
          },
          "opacity": 0.7,
          "type": "circle",
          "x0": -21.28152,
          "x1": -18.341520000000003,
          "xref": "x",
          "y0": 25.83,
          "y1": 28.769999999999996,
          "yref": "y"
         },
         {
          "fillcolor": "red",
          "line": {
           "color": "red"
          },
          "opacity": 0.7,
          "type": "circle",
          "x0": -8.22204,
          "x1": -5.28204,
          "xref": "x",
          "y0": 34.77168,
          "y1": 37.71168,
          "yref": "y"
         },
         {
          "fillcolor": "green",
          "line": {
           "color": "green"
          },
          "opacity": 0.7,
          "type": "circle",
          "x0": -6.2832,
          "x1": -3.3432000000000004,
          "xref": "x",
          "y0": 47.33124,
          "y1": 50.27124,
          "yref": "y"
         },
         {
          "fillcolor": "red",
          "line": {
           "color": "red"
          },
          "opacity": 0.7,
          "type": "circle",
          "x0": -0.5649599999999999,
          "x1": 2.3750400000000003,
          "xref": "x",
          "y0": 15.941160000000002,
          "y1": 18.88116,
          "yref": "y"
         },
         {
          "fillcolor": "green",
          "line": {
           "color": "green"
          },
          "opacity": 0.7,
          "type": "circle",
          "x0": 14.8728,
          "x1": 17.8128,
          "xref": "x",
          "y0": 37.38324,
          "y1": 40.32324,
          "yref": "y"
         },
         {
          "fillcolor": "green",
          "line": {
           "color": "green"
          },
          "opacity": 0.7,
          "type": "circle",
          "x0": -13.618319999999999,
          "x1": -10.678319999999998,
          "xref": "x",
          "y0": 13.363919999999998,
          "y1": 16.303919999999998,
          "yref": "y"
         },
         {
          "fillcolor": "green",
          "line": {
           "color": "green"
          },
          "opacity": 0.7,
          "type": "circle",
          "x0": 18.83004,
          "x1": 21.770039999999998,
          "xref": "x",
          "y0": 38.84616,
          "y1": 41.786159999999995,
          "yref": "y"
         },
         {
          "fillcolor": "green",
          "line": {
           "color": "green"
          },
          "opacity": 0.7,
          "type": "circle",
          "x0": 0.37728000000000006,
          "x1": 3.3172800000000002,
          "xref": "x",
          "y0": 48.06672,
          "y1": 51.006719999999994,
          "yref": "y"
         },
         {
          "fillcolor": "green",
          "line": {
           "color": "green"
          },
          "opacity": 0.7,
          "type": "circle",
          "x0": 13.566239999999999,
          "x1": 16.50624,
          "xref": "x",
          "y0": 19.05072,
          "y1": 21.990719999999996,
          "yref": "y"
         },
         {
          "fillcolor": "green",
          "line": {
           "color": "green"
          },
          "opacity": 0.7,
          "type": "circle",
          "x0": -4.5078,
          "x1": -1.5677999999999999,
          "xref": "x",
          "y0": 16.8732,
          "y1": 19.8132,
          "yref": "y"
         },
         {
          "fillcolor": "green",
          "line": {
           "color": "green"
          },
          "opacity": 0.7,
          "type": "circle",
          "x0": -7.20312,
          "x1": -4.263120000000001,
          "xref": "x",
          "y0": 15.934199999999999,
          "y1": 18.8742,
          "yref": "y"
         },
         {
          "fillcolor": "green",
          "line": {
           "color": "green"
          },
          "opacity": 0.7,
          "type": "circle",
          "x0": 18.09804,
          "x1": 21.03804,
          "xref": "x",
          "y0": 43.752120000000005,
          "y1": 46.69212,
          "yref": "y"
         },
         {
          "fillcolor": "red",
          "line": {
           "color": "red"
          },
          "opacity": 0.7,
          "type": "circle",
          "x0": 13.69524,
          "x1": 16.63524,
          "xref": "x",
          "y0": 39.29748,
          "y1": 42.23748,
          "yref": "y"
         },
         {
          "fillcolor": "red",
          "line": {
           "color": "red"
          },
          "opacity": 0.7,
          "type": "circle",
          "x0": -6.1405199999999995,
          "x1": -3.20052,
          "xref": "x",
          "y0": 31.321559999999998,
          "y1": 34.261559999999996,
          "yref": "y"
         },
         {
          "fillcolor": "green",
          "line": {
           "color": "green"
          },
          "opacity": 0.7,
          "type": "circle",
          "x0": -18.84624,
          "x1": -15.906240000000002,
          "xref": "x",
          "y0": 47.45976,
          "y1": 50.39976,
          "yref": "y"
         },
         {
          "fillcolor": "green",
          "line": {
           "color": "green"
          },
          "opacity": 0.7,
          "type": "circle",
          "x0": 11.172959999999998,
          "x1": 14.11296,
          "xref": "x",
          "y0": 54.4722,
          "y1": 57.4122,
          "yref": "y"
         },
         {
          "fillcolor": "green",
          "line": {
           "color": "green"
          },
          "opacity": 0.7,
          "type": "circle",
          "x0": -11.86116,
          "x1": -8.921159999999999,
          "xref": "x",
          "y0": 49.749719999999996,
          "y1": 52.689719999999994,
          "yref": "y"
         },
         {
          "fillcolor": "green",
          "line": {
           "color": "green"
          },
          "opacity": 0.7,
          "type": "circle",
          "x0": 10.61628,
          "x1": 13.556280000000001,
          "xref": "x",
          "y0": 52.36668,
          "y1": 55.30668,
          "yref": "y"
         },
         {
          "fillcolor": "red",
          "line": {
           "color": "red"
          },
          "opacity": 0.7,
          "type": "circle",
          "x0": -2.5462800000000003,
          "x1": 0.39371999999999985,
          "xref": "x",
          "y0": 24.783480000000004,
          "y1": 27.723480000000002,
          "yref": "y"
         },
         {
          "fillcolor": "red",
          "line": {
           "color": "red"
          },
          "opacity": 0.7,
          "type": "circle",
          "x0": 12.53028,
          "x1": 15.47028,
          "xref": "x",
          "y0": 38.25636,
          "y1": 41.19636,
          "yref": "y"
         },
         {
          "fillcolor": "green",
          "line": {
           "color": "green"
          },
          "opacity": 0.7,
          "type": "circle",
          "x0": 20.35032,
          "x1": 23.290319999999998,
          "xref": "x",
          "y0": 36.82092,
          "y1": 39.76092,
          "yref": "y"
         },
         {
          "fillcolor": "green",
          "line": {
           "color": "green"
          },
          "opacity": 0.7,
          "type": "circle",
          "x0": -0.8457600000000001,
          "x1": 2.09424,
          "xref": "x",
          "y0": 57.39936,
          "y1": 60.33936,
          "yref": "y"
         },
         {
          "fillcolor": "green",
          "line": {
           "color": "green"
          },
          "opacity": 0.7,
          "type": "circle",
          "x0": 5.371200000000001,
          "x1": 8.311200000000001,
          "xref": "x",
          "y0": 13.045799999999998,
          "y1": 15.9858,
          "yref": "y"
         },
         {
          "fillcolor": "green",
          "line": {
           "color": "green"
          },
          "opacity": 0.7,
          "type": "circle",
          "x0": 20.319960000000002,
          "x1": 23.25996,
          "xref": "x",
          "y0": 51.81372,
          "y1": 54.75372,
          "yref": "y"
         },
         {
          "fillcolor": "red",
          "line": {
           "color": "red"
          },
          "opacity": 0.7,
          "type": "circle",
          "x0": -1.83792,
          "x1": 1.10208,
          "xref": "x",
          "y0": 23.906280000000002,
          "y1": 26.84628,
          "yref": "y"
         },
         {
          "fillcolor": "green",
          "line": {
           "color": "green"
          },
          "opacity": 0.7,
          "type": "circle",
          "x0": 4.0392,
          "x1": 6.9792,
          "xref": "x",
          "y0": 53.694840000000006,
          "y1": 56.634840000000004,
          "yref": "y"
         },
         {
          "fillcolor": "red",
          "line": {
           "color": "red"
          },
          "opacity": 0.7,
          "type": "circle",
          "x0": 6.469080000000001,
          "x1": 9.409080000000001,
          "xref": "x",
          "y0": 32.66364,
          "y1": 35.60364,
          "yref": "y"
         },
         {
          "fillcolor": "green",
          "line": {
           "color": "green"
          },
          "opacity": 0.7,
          "type": "circle",
          "x0": -26.02368,
          "x1": -23.08368,
          "xref": "x",
          "y0": 3.8549999999999995,
          "y1": 6.794999999999999,
          "yref": "y"
         },
         {
          "fillcolor": "green",
          "line": {
           "color": "green"
          },
          "opacity": 0.7,
          "type": "circle",
          "x0": -17.8968,
          "x1": -14.9568,
          "xref": "x",
          "y0": 26.93484,
          "y1": 29.87484,
          "yref": "y"
         },
         {
          "fillcolor": "red",
          "line": {
           "color": "red"
          },
          "opacity": 0.7,
          "type": "circle",
          "x0": -7.19832,
          "x1": -4.25832,
          "xref": "x",
          "y0": 36.3132,
          "y1": 39.2532,
          "yref": "y"
         },
         {
          "fillcolor": "red",
          "line": {
           "color": "red"
          },
          "opacity": 0.7,
          "type": "circle",
          "x0": 5.243280000000001,
          "x1": 8.183280000000002,
          "xref": "x",
          "y0": 39.17148,
          "y1": 42.11148,
          "yref": "y"
         },
         {
          "fillcolor": "green",
          "line": {
           "color": "green"
          },
          "opacity": 0.7,
          "type": "circle",
          "x0": 22.04868,
          "x1": 24.98868,
          "xref": "x",
          "y0": 45.32748,
          "y1": 48.26748,
          "yref": "y"
         },
         {
          "fillcolor": "green",
          "line": {
           "color": "green"
          },
          "opacity": 0.7,
          "type": "circle",
          "x0": 7.41936,
          "x1": 10.35936,
          "xref": "x",
          "y0": 42.155280000000005,
          "y1": 45.09528,
          "yref": "y"
         },
         {
          "fillcolor": "red",
          "line": {
           "color": "red"
          },
          "opacity": 0.7,
          "type": "circle",
          "x0": 6.5362800000000005,
          "x1": 9.476280000000001,
          "xref": "x",
          "y0": 29.75328,
          "y1": 32.69328,
          "yref": "y"
         },
         {
          "fillcolor": "green",
          "line": {
           "color": "green"
          },
          "opacity": 0.7,
          "type": "circle",
          "x0": 19.85544,
          "x1": 22.79544,
          "xref": "x",
          "y0": 47.088,
          "y1": 50.028,
          "yref": "y"
         },
         {
          "fillcolor": "red",
          "line": {
           "color": "red"
          },
          "opacity": 0.7,
          "type": "circle",
          "x0": -2.22792,
          "x1": 0.71208,
          "xref": "x",
          "y0": 22.060560000000002,
          "y1": 25.00056,
          "yref": "y"
         },
         {
          "fillcolor": "red",
          "line": {
           "color": "red"
          },
          "opacity": 0.7,
          "type": "circle",
          "x0": -11.438640000000001,
          "x1": -8.49864,
          "xref": "x",
          "y0": 31.133519999999997,
          "y1": 34.073519999999995,
          "yref": "y"
         },
         {
          "fillcolor": "green",
          "line": {
           "color": "green"
          },
          "opacity": 0.7,
          "type": "circle",
          "x0": -25.06212,
          "x1": -22.122120000000002,
          "xref": "x",
          "y0": 19.45308,
          "y1": 22.393079999999998,
          "yref": "y"
         },
         {
          "fillcolor": "green",
          "line": {
           "color": "green"
          },
          "opacity": 0.7,
          "type": "circle",
          "x0": -11.546880000000002,
          "x1": -8.60688,
          "xref": "x",
          "y0": 14.243279999999999,
          "y1": 17.18328,
          "yref": "y"
         },
         {
          "fillcolor": "red",
          "line": {
           "color": "red"
          },
          "opacity": 0.7,
          "type": "circle",
          "x0": -5.91948,
          "x1": -2.9794800000000006,
          "xref": "x",
          "y0": 29.54076,
          "y1": 32.48076,
          "yref": "y"
         },
         {
          "fillcolor": "green",
          "line": {
           "color": "green"
          },
          "opacity": 0.7,
          "type": "circle",
          "x0": -19.958759999999998,
          "x1": -17.01876,
          "xref": "x",
          "y0": 34.48824,
          "y1": 37.428239999999995,
          "yref": "y"
         },
         {
          "fillcolor": "green",
          "line": {
           "color": "green"
          },
          "opacity": 0.7,
          "type": "circle",
          "x0": 14.132159999999997,
          "x1": 17.072159999999997,
          "xref": "x",
          "y0": 20.42424,
          "y1": 23.36424,
          "yref": "y"
         },
         {
          "fillcolor": "red",
          "line": {
           "color": "red"
          },
          "opacity": 0.7,
          "type": "circle",
          "x0": -2.4246,
          "x1": 0.5154000000000001,
          "xref": "x",
          "y0": 38.16216,
          "y1": 41.10216,
          "yref": "y"
         },
         {
          "fillcolor": "green",
          "line": {
           "color": "green"
          },
          "opacity": 0.7,
          "type": "circle",
          "x0": 4.61484,
          "x1": 7.5548399999999996,
          "xref": "x",
          "y0": 44.15244,
          "y1": 47.092439999999996,
          "yref": "y"
         },
         {
          "fillcolor": "red",
          "line": {
           "color": "red"
          },
          "opacity": 0.7,
          "type": "circle",
          "x0": 3.6504000000000003,
          "x1": 6.5904,
          "xref": "x",
          "y0": 34.802760000000006,
          "y1": 37.742760000000004,
          "yref": "y"
         },
         {
          "fillcolor": "red",
          "line": {
           "color": "red"
          },
          "opacity": 0.7,
          "type": "circle",
          "x0": 1.9240799999999998,
          "x1": 4.8640799999999995,
          "xref": "x",
          "y0": 37.12836,
          "y1": 40.06836,
          "yref": "y"
         },
         {
          "fillcolor": "green",
          "line": {
           "color": "green"
          },
          "opacity": 0.7,
          "type": "circle",
          "x0": -6.58404,
          "x1": -3.6440400000000004,
          "xref": "x",
          "y0": 6.31116,
          "y1": 9.25116,
          "yref": "y"
         },
         {
          "fillcolor": "red",
          "line": {
           "color": "red"
          },
          "opacity": 0.7,
          "type": "circle",
          "x0": -4.611599999999999,
          "x1": -1.6715999999999995,
          "xref": "x",
          "y0": 28.303440000000002,
          "y1": 31.24344,
          "yref": "y"
         },
         {
          "fillcolor": "green",
          "line": {
           "color": "green"
          },
          "opacity": 0.7,
          "type": "circle",
          "x0": -20.57028,
          "x1": -17.630280000000003,
          "xref": "x",
          "y0": 28.03704,
          "y1": 30.97704,
          "yref": "y"
         },
         {
          "fillcolor": "green",
          "line": {
           "color": "green"
          },
          "opacity": 0.7,
          "type": "circle",
          "x0": 39.04404,
          "x1": 41.98404,
          "xref": "x",
          "y0": 50.216280000000005,
          "y1": 53.15628,
          "yref": "y"
         },
         {
          "fillcolor": "red",
          "line": {
           "color": "red"
          },
          "opacity": 0.7,
          "type": "circle",
          "x0": 1.2094799999999999,
          "x1": 4.14948,
          "xref": "x",
          "y0": 25.974360000000004,
          "y1": 28.914360000000002,
          "yref": "y"
         },
         {
          "fillcolor": "green",
          "line": {
           "color": "green"
          },
          "opacity": 0.7,
          "type": "circle",
          "x0": 12.62412,
          "x1": 15.56412,
          "xref": "x",
          "y0": 6.051000000000001,
          "y1": 8.991000000000001,
          "yref": "y"
         },
         {
          "fillcolor": "green",
          "line": {
           "color": "green"
          },
          "opacity": 0.7,
          "type": "circle",
          "x0": -10.76064,
          "x1": -7.82064,
          "xref": "x",
          "y0": 38.70456,
          "y1": 41.64456,
          "yref": "y"
         },
         {
          "fillcolor": "green",
          "line": {
           "color": "green"
          },
          "opacity": 0.7,
          "type": "circle",
          "x0": -10.75488,
          "x1": -7.81488,
          "xref": "x",
          "y0": 43.467240000000004,
          "y1": 46.40724,
          "yref": "y"
         },
         {
          "fillcolor": "green",
          "line": {
           "color": "green"
          },
          "opacity": 0.7,
          "type": "circle",
          "x0": -7.08888,
          "x1": -4.14888,
          "xref": "x",
          "y0": 43.59276,
          "y1": 46.532759999999996,
          "yref": "y"
         },
         {
          "fillcolor": "red",
          "line": {
           "color": "red"
          },
          "opacity": 0.7,
          "type": "circle",
          "x0": -2.91036,
          "x1": 0.02963999999999989,
          "xref": "x",
          "y0": 20.29344,
          "y1": 23.233439999999998,
          "yref": "y"
         },
         {
          "fillcolor": "green",
          "line": {
           "color": "green"
          },
          "opacity": 0.7,
          "type": "circle",
          "x0": 6.7336800000000006,
          "x1": 9.673680000000001,
          "xref": "x",
          "y0": 54.33972,
          "y1": 57.27972,
          "yref": "y"
         },
         {
          "fillcolor": "green",
          "line": {
           "color": "green"
          },
          "opacity": 0.7,
          "type": "circle",
          "x0": 3.4836,
          "x1": 6.4235999999999995,
          "xref": "x",
          "y0": 42.456,
          "y1": 45.396,
          "yref": "y"
         },
         {
          "fillcolor": "red",
          "line": {
           "color": "red"
          },
          "opacity": 0.7,
          "type": "circle",
          "x0": 4.975440000000001,
          "x1": 7.91544,
          "xref": "x",
          "y0": 21.42,
          "y1": 24.36,
          "yref": "y"
         },
         {
          "fillcolor": "green",
          "line": {
           "color": "green"
          },
          "opacity": 0.7,
          "type": "circle",
          "x0": 15.58452,
          "x1": 18.52452,
          "xref": "x",
          "y0": 13.92624,
          "y1": 16.86624,
          "yref": "y"
         },
         {
          "fillcolor": "red",
          "line": {
           "color": "red"
          },
          "opacity": 0.7,
          "type": "circle",
          "x0": 7.5828,
          "x1": 10.5228,
          "xref": "x",
          "y0": 29.70492,
          "y1": 32.64492,
          "yref": "y"
         },
         {
          "fillcolor": "red",
          "line": {
           "color": "red"
          },
          "opacity": 0.7,
          "type": "circle",
          "x0": -7.20852,
          "x1": -4.2685200000000005,
          "xref": "x",
          "y0": 10.22376,
          "y1": 13.163760000000002,
          "yref": "y"
         },
         {
          "fillcolor": "green",
          "line": {
           "color": "green"
          },
          "opacity": 0.7,
          "type": "circle",
          "x0": -10.904280000000002,
          "x1": -7.964280000000001,
          "xref": "x",
          "y0": 46.17264,
          "y1": 49.11264,
          "yref": "y"
         },
         {
          "fillcolor": "red",
          "line": {
           "color": "red"
          },
          "opacity": 0.7,
          "type": "circle",
          "x0": -8.191320000000001,
          "x1": -5.251320000000001,
          "xref": "x",
          "y0": 35.55984,
          "y1": 38.49984,
          "yref": "y"
         },
         {
          "fillcolor": "green",
          "line": {
           "color": "green"
          },
          "opacity": 0.7,
          "type": "circle",
          "x0": -25.0548,
          "x1": -22.114800000000002,
          "xref": "x",
          "y0": 29.593560000000004,
          "y1": 32.53356,
          "yref": "y"
         },
         {
          "fillcolor": "red",
          "line": {
           "color": "red"
          },
          "opacity": 0.7,
          "type": "circle",
          "x0": -2.1677999999999997,
          "x1": 0.7722,
          "xref": "x",
          "y0": 29.196600000000004,
          "y1": 32.1366,
          "yref": "y"
         },
         {
          "fillcolor": "green",
          "line": {
           "color": "green"
          },
          "opacity": 0.7,
          "type": "circle",
          "x0": -8.235240000000001,
          "x1": -5.295240000000001,
          "xref": "x",
          "y0": 20.47524,
          "y1": 23.415239999999997,
          "yref": "y"
         },
         {
          "fillcolor": "green",
          "line": {
           "color": "green"
          },
          "opacity": 0.7,
          "type": "circle",
          "x0": -14.44176,
          "x1": -11.501759999999999,
          "xref": "x",
          "y0": 33.9744,
          "y1": 36.9144,
          "yref": "y"
         },
         {
          "fillcolor": "green",
          "line": {
           "color": "green"
          },
          "opacity": 0.7,
          "type": "circle",
          "x0": -19.0488,
          "x1": -16.108800000000002,
          "xref": "x",
          "y0": 63.3,
          "y1": 66.24,
          "yref": "y"
         },
         {
          "fillcolor": "green",
          "line": {
           "color": "green"
          },
          "opacity": 0.7,
          "type": "circle",
          "x0": -6.79416,
          "x1": -3.8541600000000003,
          "xref": "x",
          "y0": 15.8358,
          "y1": 18.7758,
          "yref": "y"
         },
         {
          "fillcolor": "green",
          "line": {
           "color": "green"
          },
          "opacity": 0.7,
          "type": "circle",
          "x0": -15.633239999999999,
          "x1": -12.693239999999998,
          "xref": "x",
          "y0": 30.635400000000004,
          "y1": 33.5754,
          "yref": "y"
         },
         {
          "fillcolor": "red",
          "line": {
           "color": "red"
          },
          "opacity": 0.7,
          "type": "circle",
          "x0": 6.304800000000001,
          "x1": 9.244800000000001,
          "xref": "x",
          "y0": 37.69884,
          "y1": 40.638839999999995,
          "yref": "y"
         },
         {
          "fillcolor": "red",
          "line": {
           "color": "red"
          },
          "opacity": 0.7,
          "type": "circle",
          "x0": -8.1552,
          "x1": -5.2152,
          "xref": "x",
          "y0": 35.34216000000001,
          "y1": 38.282160000000005,
          "yref": "y"
         },
         {
          "fillcolor": "green",
          "line": {
           "color": "green"
          },
          "opacity": 0.7,
          "type": "circle",
          "x0": -16.34724,
          "x1": -13.40724,
          "xref": "x",
          "y0": 66.91716,
          "y1": 69.85716,
          "yref": "y"
         },
         {
          "fillcolor": "green",
          "line": {
           "color": "green"
          },
          "opacity": 0.7,
          "type": "circle",
          "x0": 8.97516,
          "x1": 11.915160000000002,
          "xref": "x",
          "y0": 18.39528,
          "y1": 21.335279999999997,
          "yref": "y"
         },
         {
          "fillcolor": "green",
          "line": {
           "color": "green"
          },
          "opacity": 0.7,
          "type": "circle",
          "x0": 10.073759999999998,
          "x1": 13.01376,
          "xref": "x",
          "y0": 48.63636,
          "y1": 51.57636,
          "yref": "y"
         },
         {
          "fillcolor": "red",
          "line": {
           "color": "red"
          },
          "opacity": 0.7,
          "type": "circle",
          "x0": 6.34416,
          "x1": 9.28416,
          "xref": "x",
          "y0": 39.50748,
          "y1": 42.44748,
          "yref": "y"
         },
         {
          "fillcolor": "green",
          "line": {
           "color": "green"
          },
          "opacity": 0.7,
          "type": "circle",
          "x0": 8.39376,
          "x1": 11.333760000000002,
          "xref": "x",
          "y0": 10.766159999999998,
          "y1": 13.706159999999999,
          "yref": "y"
         },
         {
          "fillcolor": "green",
          "line": {
           "color": "green"
          },
          "opacity": 0.7,
          "type": "circle",
          "x0": -8.5986,
          "x1": -5.6586,
          "xref": "x",
          "y0": 24.35304,
          "y1": 27.293039999999998,
          "yref": "y"
         },
         {
          "fillcolor": "green",
          "line": {
           "color": "green"
          },
          "opacity": 0.7,
          "type": "circle",
          "x0": -12.815880000000002,
          "x1": -9.87588,
          "xref": "x",
          "y0": 6.811560000000001,
          "y1": 9.751560000000001,
          "yref": "y"
         },
         {
          "fillcolor": "green",
          "line": {
           "color": "green"
          },
          "opacity": 0.7,
          "type": "circle",
          "x0": -14.685599999999999,
          "x1": -11.745599999999998,
          "xref": "x",
          "y0": 16.192800000000002,
          "y1": 19.1328,
          "yref": "y"
         },
         {
          "fillcolor": "green",
          "line": {
           "color": "green"
          },
          "opacity": 0.7,
          "type": "circle",
          "x0": 8.41464,
          "x1": 11.354640000000002,
          "xref": "x",
          "y0": 44.68932,
          "y1": 47.62932,
          "yref": "y"
         },
         {
          "fillcolor": "green",
          "line": {
           "color": "green"
          },
          "opacity": 0.7,
          "type": "circle",
          "x0": 4.875600000000001,
          "x1": 7.815600000000001,
          "xref": "x",
          "y0": 0.050040000000000084,
          "y1": 2.99004,
          "yref": "y"
         },
         {
          "fillcolor": "green",
          "line": {
           "color": "green"
          },
          "opacity": 0.7,
          "type": "circle",
          "x0": -17.8818,
          "x1": -14.941799999999999,
          "xref": "x",
          "y0": 52.02288,
          "y1": 54.96288,
          "yref": "y"
         },
         {
          "fillcolor": "green",
          "line": {
           "color": "green"
          },
          "opacity": 0.7,
          "type": "circle",
          "x0": -0.9981599999999999,
          "x1": 1.94184,
          "xref": "x",
          "y0": 12.726,
          "y1": 15.666000000000002,
          "yref": "y"
         },
         {
          "fillcolor": "green",
          "line": {
           "color": "green"
          },
          "opacity": 0.7,
          "type": "circle",
          "x0": 10.8204,
          "x1": 13.7604,
          "xref": "x",
          "y0": 29.649480000000004,
          "y1": 32.58948,
          "yref": "y"
         },
         {
          "fillcolor": "green",
          "line": {
           "color": "green"
          },
          "opacity": 0.7,
          "type": "circle",
          "x0": -11.70396,
          "x1": -8.763959999999999,
          "xref": "x",
          "y0": 22.32672,
          "y1": 25.26672,
          "yref": "y"
         },
         {
          "fillcolor": "green",
          "line": {
           "color": "green"
          },
          "opacity": 0.7,
          "type": "circle",
          "x0": 22.671840000000003,
          "x1": 25.61184,
          "xref": "x",
          "y0": 42.545880000000004,
          "y1": 45.48588,
          "yref": "y"
         },
         {
          "fillcolor": "green",
          "line": {
           "color": "green"
          },
          "opacity": 0.7,
          "type": "circle",
          "x0": -15.321120000000002,
          "x1": -12.381120000000001,
          "xref": "x",
          "y0": 24.723360000000003,
          "y1": 27.66336,
          "yref": "y"
         },
         {
          "fillcolor": "red",
          "line": {
           "color": "red"
          },
          "opacity": 0.7,
          "type": "circle",
          "x0": -7.968959999999999,
          "x1": -5.02896,
          "xref": "x",
          "y0": 29.678880000000003,
          "y1": 32.618880000000004,
          "yref": "y"
         },
         {
          "fillcolor": "green",
          "line": {
           "color": "green"
          },
          "opacity": 0.7,
          "type": "circle",
          "x0": -2.73384,
          "x1": 0.2061599999999999,
          "xref": "x",
          "y0": 45.9156,
          "y1": 48.855599999999995,
          "yref": "y"
         },
         {
          "fillcolor": "red",
          "line": {
           "color": "red"
          },
          "opacity": 0.7,
          "type": "circle",
          "x0": -11.8998,
          "x1": -8.9598,
          "xref": "x",
          "y0": 26.31696,
          "y1": 29.25696,
          "yref": "y"
         },
         {
          "fillcolor": "green",
          "line": {
           "color": "green"
          },
          "opacity": 0.7,
          "type": "circle",
          "x0": -12.1932,
          "x1": -9.253199999999998,
          "xref": "x",
          "y0": 6.621479999999999,
          "y1": 9.56148,
          "yref": "y"
         },
         {
          "fillcolor": "green",
          "line": {
           "color": "green"
          },
          "opacity": 0.7,
          "type": "circle",
          "x0": -19.518359999999998,
          "x1": -16.57836,
          "xref": "x",
          "y0": 51.31344,
          "y1": 54.25344,
          "yref": "y"
         },
         {
          "fillcolor": "green",
          "line": {
           "color": "green"
          },
          "opacity": 0.7,
          "type": "circle",
          "x0": 2.43072,
          "x1": 5.37072,
          "xref": "x",
          "y0": 54.18635999999999,
          "y1": 57.12635999999999,
          "yref": "y"
         },
         {
          "fillcolor": "red",
          "line": {
           "color": "red"
          },
          "opacity": 0.7,
          "type": "circle",
          "x0": -0.32928,
          "x1": 2.6107199999999997,
          "xref": "x",
          "y0": 20.32044,
          "y1": 23.26044,
          "yref": "y"
         },
         {
          "fillcolor": "green",
          "line": {
           "color": "green"
          },
          "opacity": 0.7,
          "type": "circle",
          "x0": 18.87444,
          "x1": 21.814439999999998,
          "xref": "x",
          "y0": 27.813360000000003,
          "y1": 30.75336,
          "yref": "y"
         },
         {
          "fillcolor": "green",
          "line": {
           "color": "green"
          },
          "opacity": 0.7,
          "type": "circle",
          "x0": 22.5246,
          "x1": 25.464599999999997,
          "xref": "x",
          "y0": 19.5522,
          "y1": 22.492199999999997,
          "yref": "y"
         },
         {
          "fillcolor": "green",
          "line": {
           "color": "green"
          },
          "opacity": 0.7,
          "type": "circle",
          "x0": 12.309,
          "x1": 15.249,
          "xref": "x",
          "y0": 8.34588,
          "y1": 11.28588,
          "yref": "y"
         },
         {
          "fillcolor": "green",
          "line": {
           "color": "green"
          },
          "opacity": 0.7,
          "type": "circle",
          "x0": -15.26856,
          "x1": -12.32856,
          "xref": "x",
          "y0": 47.702160000000006,
          "y1": 50.642160000000004,
          "yref": "y"
         },
         {
          "fillcolor": "green",
          "line": {
           "color": "green"
          },
          "opacity": 0.7,
          "type": "circle",
          "x0": -16.90764,
          "x1": -13.96764,
          "xref": "x",
          "y0": 42.74064,
          "y1": 45.68064,
          "yref": "y"
         },
         {
          "fillcolor": "green",
          "line": {
           "color": "green"
          },
          "opacity": 0.7,
          "type": "circle",
          "x0": -14.439360000000002,
          "x1": -11.499360000000001,
          "xref": "x",
          "y0": 29.843760000000003,
          "y1": 32.78376,
          "yref": "y"
         },
         {
          "fillcolor": "red",
          "line": {
           "color": "red"
          },
          "opacity": 0.7,
          "type": "circle",
          "x0": -10.88208,
          "x1": -7.94208,
          "xref": "x",
          "y0": 40.99692,
          "y1": 43.93692,
          "yref": "y"
         },
         {
          "fillcolor": "green",
          "line": {
           "color": "green"
          },
          "opacity": 0.7,
          "type": "circle",
          "x0": -17.31984,
          "x1": -14.37984,
          "xref": "x",
          "y0": 37.54776,
          "y1": 40.487759999999994,
          "yref": "y"
         },
         {
          "fillcolor": "green",
          "line": {
           "color": "green"
          },
          "opacity": 0.7,
          "type": "circle",
          "x0": 15.042,
          "x1": 17.982,
          "xref": "x",
          "y0": 2.1500399999999997,
          "y1": 5.09004,
          "yref": "y"
         },
         {
          "fillcolor": "green",
          "line": {
           "color": "green"
          },
          "opacity": 0.7,
          "type": "circle",
          "x0": -7.91208,
          "x1": -4.97208,
          "xref": "x",
          "y0": 13.650239999999998,
          "y1": 16.590239999999998,
          "yref": "y"
         },
         {
          "fillcolor": "green",
          "line": {
           "color": "green"
          },
          "opacity": 0.7,
          "type": "circle",
          "x0": -1.87008,
          "x1": 1.06992,
          "xref": "x",
          "y0": 5.799600000000001,
          "y1": 8.739600000000001,
          "yref": "y"
         },
         {
          "fillcolor": "green",
          "line": {
           "color": "green"
          },
          "opacity": 0.7,
          "type": "circle",
          "x0": -5.5001999999999995,
          "x1": -2.5602,
          "xref": "x",
          "y0": 51.06432,
          "y1": 54.00432,
          "yref": "y"
         },
         {
          "fillcolor": "green",
          "line": {
           "color": "green"
          },
          "opacity": 0.7,
          "type": "circle",
          "x0": -22.57188,
          "x1": -19.631880000000002,
          "xref": "x",
          "y0": 35.12016,
          "y1": 38.060159999999996,
          "yref": "y"
         },
         {
          "fillcolor": "green",
          "line": {
           "color": "green"
          },
          "opacity": 0.7,
          "type": "circle",
          "x0": -4.09464,
          "x1": -1.1546399999999999,
          "xref": "x",
          "y0": 51.98591999999999,
          "y1": 54.92591999999999,
          "yref": "y"
         },
         {
          "fillcolor": "green",
          "line": {
           "color": "green"
          },
          "opacity": 0.7,
          "type": "circle",
          "x0": 6.313560000000001,
          "x1": 9.25356,
          "xref": "x",
          "y0": 43.59912,
          "y1": 46.53912,
          "yref": "y"
         },
         {
          "fillcolor": "green",
          "line": {
           "color": "green"
          },
          "opacity": 0.7,
          "type": "circle",
          "x0": -27.37788,
          "x1": -24.437880000000003,
          "xref": "x",
          "y0": 31.460400000000007,
          "y1": 34.400400000000005,
          "yref": "y"
         },
         {
          "fillcolor": "green",
          "line": {
           "color": "green"
          },
          "opacity": 0.7,
          "type": "circle",
          "x0": -19.08636,
          "x1": -16.14636,
          "xref": "x",
          "y0": 43.23948,
          "y1": 46.17948,
          "yref": "y"
         },
         {
          "fillcolor": "red",
          "line": {
           "color": "red"
          },
          "opacity": 0.7,
          "type": "circle",
          "x0": -15.189360000000002,
          "x1": -12.249360000000001,
          "xref": "x",
          "y0": 35.52372,
          "y1": 38.463719999999995,
          "yref": "y"
         },
         {
          "fillcolor": "green",
          "line": {
           "color": "green"
          },
          "opacity": 0.7,
          "type": "circle",
          "x0": 8.274479999999999,
          "x1": 11.21448,
          "xref": "x",
          "y0": 68.84412,
          "y1": 71.78412,
          "yref": "y"
         },
         {
          "fillcolor": "green",
          "line": {
           "color": "green"
          },
          "opacity": 0.7,
          "type": "circle",
          "x0": -27.20508,
          "x1": -24.26508,
          "xref": "x",
          "y0": 24.429360000000003,
          "y1": 27.36936,
          "yref": "y"
         },
         {
          "fillcolor": "red",
          "line": {
           "color": "red"
          },
          "opacity": 0.7,
          "type": "circle",
          "x0": -13.212480000000001,
          "x1": -10.27248,
          "xref": "x",
          "y0": 38.39652,
          "y1": 41.33652,
          "yref": "y"
         },
         {
          "fillcolor": "green",
          "line": {
           "color": "green"
          },
          "opacity": 0.7,
          "type": "circle",
          "x0": -7.22364,
          "x1": -4.28364,
          "xref": "x",
          "y0": 45.849000000000004,
          "y1": 48.789,
          "yref": "y"
         },
         {
          "fillcolor": "red",
          "line": {
           "color": "red"
          },
          "opacity": 0.7,
          "type": "circle",
          "x0": -9.94116,
          "x1": -7.00116,
          "xref": "x",
          "y0": 32.28888,
          "y1": 35.22888,
          "yref": "y"
         },
         {
          "fillcolor": "green",
          "line": {
           "color": "green"
          },
          "opacity": 0.7,
          "type": "circle",
          "x0": -30.958799999999997,
          "x1": -28.0188,
          "xref": "x",
          "y0": 11.95032,
          "y1": 14.890320000000001,
          "yref": "y"
         },
         {
          "fillcolor": "green",
          "line": {
           "color": "green"
          },
          "opacity": 0.7,
          "type": "circle",
          "x0": -26.55684,
          "x1": -23.616840000000003,
          "xref": "x",
          "y0": 45.92568,
          "y1": 48.86568,
          "yref": "y"
         },
         {
          "fillcolor": "green",
          "line": {
           "color": "green"
          },
          "opacity": 0.7,
          "type": "circle",
          "x0": -19.81128,
          "x1": -16.871280000000002,
          "xref": "x",
          "y0": 38.3334,
          "y1": 41.273399999999995,
          "yref": "y"
         },
         {
          "fillcolor": "green",
          "line": {
           "color": "green"
          },
          "opacity": 0.7,
          "type": "circle",
          "x0": -4.0242,
          "x1": -1.0842000000000003,
          "xref": "x",
          "y0": 18.8688,
          "y1": 21.808799999999998,
          "yref": "y"
         },
         {
          "fillcolor": "green",
          "line": {
           "color": "green"
          },
          "opacity": 0.7,
          "type": "circle",
          "x0": 15.258479999999997,
          "x1": 18.198479999999996,
          "xref": "x",
          "y0": 41.02356,
          "y1": 43.96356,
          "yref": "y"
         },
         {
          "fillcolor": "red",
          "line": {
           "color": "red"
          },
          "opacity": 0.7,
          "type": "circle",
          "x0": 4.65468,
          "x1": 7.594679999999999,
          "xref": "x",
          "y0": 36.51456,
          "y1": 39.45456,
          "yref": "y"
         },
         {
          "fillcolor": "green",
          "line": {
           "color": "green"
          },
          "opacity": 0.7,
          "type": "circle",
          "x0": 20.21028,
          "x1": 23.15028,
          "xref": "x",
          "y0": 28.87488,
          "y1": 31.81488,
          "yref": "y"
         },
         {
          "fillcolor": "green",
          "line": {
           "color": "green"
          },
          "opacity": 0.7,
          "type": "circle",
          "x0": 13.148399999999999,
          "x1": 16.0884,
          "xref": "x",
          "y0": 25.290360000000003,
          "y1": 28.23036,
          "yref": "y"
         },
         {
          "fillcolor": "red",
          "line": {
           "color": "red"
          },
          "opacity": 0.7,
          "type": "circle",
          "x0": -5.9702399999999995,
          "x1": -3.03024,
          "xref": "x",
          "y0": 33.10416,
          "y1": 36.04416,
          "yref": "y"
         },
         {
          "fillcolor": "green",
          "line": {
           "color": "green"
          },
          "opacity": 0.7,
          "type": "circle",
          "x0": -17.70552,
          "x1": -14.76552,
          "xref": "x",
          "y0": 32.451840000000004,
          "y1": 35.39184,
          "yref": "y"
         },
         {
          "fillcolor": "green",
          "line": {
           "color": "green"
          },
          "opacity": 0.7,
          "type": "circle",
          "x0": -20.986559999999997,
          "x1": -18.04656,
          "xref": "x",
          "y0": 3.00612,
          "y1": 5.94612,
          "yref": "y"
         },
         {
          "fillcolor": "red",
          "line": {
           "color": "red"
          },
          "opacity": 0.7,
          "type": "circle",
          "x0": 5.421360000000001,
          "x1": 8.361360000000001,
          "xref": "x",
          "y0": 28.765440000000005,
          "y1": 31.705440000000003,
          "yref": "y"
         },
         {
          "fillcolor": "green",
          "line": {
           "color": "green"
          },
          "opacity": 0.7,
          "type": "circle",
          "x0": -0.060840000000000005,
          "x1": 2.8791599999999997,
          "xref": "x",
          "y0": 13.392359999999998,
          "y1": 16.332359999999998,
          "yref": "y"
         },
         {
          "fillcolor": "green",
          "line": {
           "color": "green"
          },
          "opacity": 0.7,
          "type": "circle",
          "x0": 10.576679999999998,
          "x1": 13.51668,
          "xref": "x",
          "y0": 15.473519999999999,
          "y1": 18.41352,
          "yref": "y"
         },
         {
          "fillcolor": "green",
          "line": {
           "color": "green"
          },
          "opacity": 0.7,
          "type": "circle",
          "x0": -9.391440000000001,
          "x1": -6.451440000000001,
          "xref": "x",
          "y0": 15.378839999999999,
          "y1": 18.318839999999998,
          "yref": "y"
         },
         {
          "fillcolor": "red",
          "line": {
           "color": "red"
          },
          "opacity": 0.7,
          "type": "circle",
          "x0": 11.17356,
          "x1": 14.113560000000001,
          "xref": "x",
          "y0": 32.74452,
          "y1": 35.68452,
          "yref": "y"
         },
         {
          "fillcolor": "green",
          "line": {
           "color": "green"
          },
          "opacity": 0.7,
          "type": "circle",
          "x0": 15.96468,
          "x1": 18.90468,
          "xref": "x",
          "y0": 32.5002,
          "y1": 35.4402,
          "yref": "y"
         },
         {
          "fillcolor": "green",
          "line": {
           "color": "green"
          },
          "opacity": 0.7,
          "type": "circle",
          "x0": 8.28,
          "x1": 11.22,
          "xref": "x",
          "y0": 26.309400000000004,
          "y1": 29.2494,
          "yref": "y"
         },
         {
          "fillcolor": "green",
          "line": {
           "color": "green"
          },
          "opacity": 0.7,
          "type": "circle",
          "x0": -27.80952,
          "x1": -24.86952,
          "xref": "x",
          "y0": 11.913599999999999,
          "y1": 14.8536,
          "yref": "y"
         },
         {
          "fillcolor": "green",
          "line": {
           "color": "green"
          },
          "opacity": 0.7,
          "type": "circle",
          "x0": 10.4892,
          "x1": 13.429200000000002,
          "xref": "x",
          "y0": 29.8152,
          "y1": 32.7552,
          "yref": "y"
         },
         {
          "fillcolor": "green",
          "line": {
           "color": "green"
          },
          "opacity": 0.7,
          "type": "circle",
          "x0": -25.1604,
          "x1": -22.2204,
          "xref": "x",
          "y0": 21.76752,
          "y1": 24.70752,
          "yref": "y"
         },
         {
          "fillcolor": "green",
          "line": {
           "color": "green"
          },
          "opacity": 0.7,
          "type": "circle",
          "x0": -13.037040000000001,
          "x1": -10.09704,
          "xref": "x",
          "y0": 19.7358,
          "y1": 22.6758,
          "yref": "y"
         },
         {
          "fillcolor": "green",
          "line": {
           "color": "green"
          },
          "opacity": 0.7,
          "type": "circle",
          "x0": -7.770479999999999,
          "x1": -4.83048,
          "xref": "x",
          "y0": 18.31716,
          "y1": 21.25716,
          "yref": "y"
         },
         {
          "fillcolor": "red",
          "line": {
           "color": "red"
          },
          "opacity": 0.7,
          "type": "circle",
          "x0": 7.105800000000001,
          "x1": 10.045800000000002,
          "xref": "x",
          "y0": 37.077600000000004,
          "y1": 40.0176,
          "yref": "y"
         },
         {
          "fillcolor": "green",
          "line": {
           "color": "green"
          },
          "opacity": 0.7,
          "type": "circle",
          "x0": -13.76496,
          "x1": -10.824959999999999,
          "xref": "x",
          "y0": 28.971600000000002,
          "y1": 31.9116,
          "yref": "y"
         },
         {
          "fillcolor": "green",
          "line": {
           "color": "green"
          },
          "opacity": 0.7,
          "type": "circle",
          "x0": 14.025239999999998,
          "x1": 16.965239999999998,
          "xref": "x",
          "y0": 38.563559999999995,
          "y1": 41.50355999999999,
          "yref": "y"
         },
         {
          "fillcolor": "green",
          "line": {
           "color": "green"
          },
          "opacity": 0.7,
          "type": "circle",
          "x0": -17.82024,
          "x1": -14.880239999999999,
          "xref": "x",
          "y0": 26.968560000000004,
          "y1": 29.90856,
          "yref": "y"
         },
         {
          "fillcolor": "red",
          "line": {
           "color": "red"
          },
          "opacity": 0.7,
          "type": "circle",
          "x0": 5.351640000000001,
          "x1": 8.291640000000001,
          "xref": "x",
          "y0": 36.03036,
          "y1": 38.97036,
          "yref": "y"
         },
         {
          "fillcolor": "green",
          "line": {
           "color": "green"
          },
          "opacity": 0.7,
          "type": "circle",
          "x0": 18.77568,
          "x1": 21.71568,
          "xref": "x",
          "y0": 31.07148,
          "y1": 34.01148,
          "yref": "y"
         },
         {
          "fillcolor": "red",
          "line": {
           "color": "red"
          },
          "opacity": 0.7,
          "type": "circle",
          "x0": -4.29132,
          "x1": -1.35132,
          "xref": "x",
          "y0": 31.72524,
          "y1": 34.66524,
          "yref": "y"
         },
         {
          "fillcolor": "green",
          "line": {
           "color": "green"
          },
          "opacity": 0.7,
          "type": "circle",
          "x0": 3.2524800000000003,
          "x1": 6.19248,
          "xref": "x",
          "y0": 19.09968,
          "y1": 22.039679999999997,
          "yref": "y"
         },
         {
          "fillcolor": "green",
          "line": {
           "color": "green"
          },
          "opacity": 0.7,
          "type": "circle",
          "x0": -18.442439999999998,
          "x1": -15.502439999999998,
          "xref": "x",
          "y0": 34.48092,
          "y1": 37.420919999999995,
          "yref": "y"
         },
         {
          "fillcolor": "green",
          "line": {
           "color": "green"
          },
          "opacity": 0.7,
          "type": "circle",
          "x0": -1.59036,
          "x1": 1.34964,
          "xref": "x",
          "y0": 9.914159999999999,
          "y1": 12.85416,
          "yref": "y"
         },
         {
          "fillcolor": "green",
          "line": {
           "color": "green"
          },
          "opacity": 0.7,
          "type": "circle",
          "x0": -13.12584,
          "x1": -10.185839999999999,
          "xref": "x",
          "y0": 18.87264,
          "y1": 21.81264,
          "yref": "y"
         },
         {
          "fillcolor": "green",
          "line": {
           "color": "green"
          },
          "opacity": 0.7,
          "type": "circle",
          "x0": -20.90196,
          "x1": -17.96196,
          "xref": "x",
          "y0": 28.85856,
          "y1": 31.79856,
          "yref": "y"
         },
         {
          "fillcolor": "green",
          "line": {
           "color": "green"
          },
          "opacity": 0.7,
          "type": "circle",
          "x0": -8.26368,
          "x1": -5.32368,
          "xref": "x",
          "y0": 5.14284,
          "y1": 8.08284,
          "yref": "y"
         },
         {
          "fillcolor": "red",
          "line": {
           "color": "red"
          },
          "opacity": 0.7,
          "type": "circle",
          "x0": -8.197320000000001,
          "x1": -5.257320000000001,
          "xref": "x",
          "y0": 40.716,
          "y1": 43.656,
          "yref": "y"
         },
         {
          "fillcolor": "green",
          "line": {
           "color": "green"
          },
          "opacity": 0.7,
          "type": "circle",
          "x0": 23.643840000000004,
          "x1": 26.583840000000002,
          "xref": "x",
          "y0": 35.95428,
          "y1": 38.894279999999995,
          "yref": "y"
         },
         {
          "fillcolor": "green",
          "line": {
           "color": "green"
          },
          "opacity": 0.7,
          "type": "circle",
          "x0": 18.39396,
          "x1": 21.333959999999998,
          "xref": "x",
          "y0": 29.990520000000004,
          "y1": 32.93052,
          "yref": "y"
         },
         {
          "fillcolor": "green",
          "line": {
           "color": "green"
          },
          "opacity": 0.7,
          "type": "circle",
          "x0": -17.641199999999998,
          "x1": -14.701199999999998,
          "xref": "x",
          "y0": 37.05648,
          "y1": 39.99648,
          "yref": "y"
         },
         {
          "fillcolor": "red",
          "line": {
           "color": "red"
          },
          "opacity": 0.7,
          "type": "circle",
          "x0": 10.506359999999999,
          "x1": 13.44636,
          "xref": "x",
          "y0": 28.91292,
          "y1": 31.852919999999997,
          "yref": "y"
         },
         {
          "fillcolor": "green",
          "line": {
           "color": "green"
          },
          "opacity": 0.7,
          "type": "circle",
          "x0": -25.15812,
          "x1": -22.218120000000003,
          "xref": "x",
          "y0": 17.86728,
          "y1": 20.80728,
          "yref": "y"
         },
         {
          "fillcolor": "green",
          "line": {
           "color": "green"
          },
          "opacity": 0.7,
          "type": "circle",
          "x0": 3.5968800000000005,
          "x1": 6.53688,
          "xref": "x",
          "y0": -0.492,
          "y1": 2.448,
          "yref": "y"
         },
         {
          "fillcolor": "green",
          "line": {
           "color": "green"
          },
          "opacity": 0.7,
          "type": "circle",
          "x0": -10.26384,
          "x1": -7.32384,
          "xref": "x",
          "y0": 4.35372,
          "y1": 7.2937199999999995,
          "yref": "y"
         },
         {
          "fillcolor": "green",
          "line": {
           "color": "green"
          },
          "opacity": 0.7,
          "type": "circle",
          "x0": 3.7671599999999996,
          "x1": 6.707159999999999,
          "xref": "x",
          "y0": 7.09716,
          "y1": 10.03716,
          "yref": "y"
         },
         {
          "fillcolor": "red",
          "line": {
           "color": "red"
          },
          "opacity": 0.7,
          "type": "circle",
          "x0": -1.72308,
          "x1": 1.21692,
          "xref": "x",
          "y0": 26.39292,
          "y1": 29.332919999999998,
          "yref": "y"
         },
         {
          "fillcolor": "green",
          "line": {
           "color": "green"
          },
          "opacity": 0.7,
          "type": "circle",
          "x0": -18.97632,
          "x1": -16.036320000000003,
          "xref": "x",
          "y0": 29.856479999999998,
          "y1": 32.796479999999995,
          "yref": "y"
         },
         {
          "fillcolor": "green",
          "line": {
           "color": "green"
          },
          "opacity": 0.7,
          "type": "circle",
          "x0": 14.38536,
          "x1": 17.32536,
          "xref": "x",
          "y0": 32.115840000000006,
          "y1": 35.05584,
          "yref": "y"
         },
         {
          "fillcolor": "green",
          "line": {
           "color": "green"
          },
          "opacity": 0.7,
          "type": "circle",
          "x0": -0.7332,
          "x1": 2.2068,
          "xref": "x",
          "y0": 8.95632,
          "y1": 11.896320000000001,
          "yref": "y"
         },
         {
          "fillcolor": "green",
          "line": {
           "color": "green"
          },
          "opacity": 0.7,
          "type": "circle",
          "x0": -11.15112,
          "x1": -8.21112,
          "xref": "x",
          "y0": 37.59852,
          "y1": 40.53852,
          "yref": "y"
         },
         {
          "fillcolor": "green",
          "line": {
           "color": "green"
          },
          "opacity": 0.7,
          "type": "circle",
          "x0": 18.28704,
          "x1": 21.22704,
          "xref": "x",
          "y0": 16.55712,
          "y1": 19.49712,
          "yref": "y"
         },
         {
          "fillcolor": "green",
          "line": {
           "color": "green"
          },
          "opacity": 0.7,
          "type": "circle",
          "x0": -16.54836,
          "x1": -13.60836,
          "xref": "x",
          "y0": 12.651359999999999,
          "y1": 15.59136,
          "yref": "y"
         },
         {
          "fillcolor": "red",
          "line": {
           "color": "red"
          },
          "opacity": 0.7,
          "type": "circle",
          "x0": -8.1132,
          "x1": -5.1732000000000005,
          "xref": "x",
          "y0": 34.99596,
          "y1": 37.935959999999994,
          "yref": "y"
         },
         {
          "fillcolor": "green",
          "line": {
           "color": "green"
          },
          "opacity": 0.7,
          "type": "circle",
          "x0": 31.731479999999998,
          "x1": 34.671479999999995,
          "xref": "x",
          "y0": 32.97204,
          "y1": 35.91204,
          "yref": "y"
         },
         {
          "fillcolor": "green",
          "line": {
           "color": "green"
          },
          "opacity": 0.7,
          "type": "circle",
          "x0": 26.418480000000002,
          "x1": 29.35848,
          "xref": "x",
          "y0": 40.49448,
          "y1": 43.43448,
          "yref": "y"
         },
         {
          "fillcolor": "red",
          "line": {
           "color": "red"
          },
          "opacity": 0.7,
          "type": "circle",
          "x0": 7.383,
          "x1": 10.323,
          "xref": "x",
          "y0": 21.959760000000003,
          "y1": 24.89976,
          "yref": "y"
         },
         {
          "fillcolor": "red",
          "line": {
           "color": "red"
          },
          "opacity": 0.7,
          "type": "circle",
          "x0": 6.22764,
          "x1": 9.16764,
          "xref": "x",
          "y0": 36.375479999999996,
          "y1": 39.315479999999994,
          "yref": "y"
         },
         {
          "fillcolor": "green",
          "line": {
           "color": "green"
          },
          "opacity": 0.7,
          "type": "circle",
          "x0": -6.30828,
          "x1": -3.3682800000000004,
          "xref": "x",
          "y0": 14.81724,
          "y1": 17.75724,
          "yref": "y"
         },
         {
          "fillcolor": "red",
          "line": {
           "color": "red"
          },
          "opacity": 0.7,
          "type": "circle",
          "x0": 4.751880000000001,
          "x1": 7.69188,
          "xref": "x",
          "y0": 36.30816,
          "y1": 39.24816,
          "yref": "y"
         },
         {
          "fillcolor": "red",
          "line": {
           "color": "red"
          },
          "opacity": 0.7,
          "type": "circle",
          "x0": -3.3805199999999997,
          "x1": -0.44052,
          "xref": "x",
          "y0": 35.0688,
          "y1": 38.0088,
          "yref": "y"
         },
         {
          "fillcolor": "green",
          "line": {
           "color": "green"
          },
          "opacity": 0.7,
          "type": "circle",
          "x0": 7.952519999999999,
          "x1": 10.89252,
          "xref": "x",
          "y0": 41.72616000000001,
          "y1": 44.666160000000005,
          "yref": "y"
         },
         {
          "fillcolor": "green",
          "line": {
           "color": "green"
          },
          "opacity": 0.7,
          "type": "circle",
          "x0": -24.256559999999997,
          "x1": -21.31656,
          "xref": "x",
          "y0": 23.522760000000005,
          "y1": 26.462760000000003,
          "yref": "y"
         },
         {
          "fillcolor": "green",
          "line": {
           "color": "green"
          },
          "opacity": 0.7,
          "type": "circle",
          "x0": 0.20520000000000005,
          "x1": 3.1452,
          "xref": "x",
          "y0": 27.298800000000004,
          "y1": 30.2388,
          "yref": "y"
         },
         {
          "fillcolor": "red",
          "line": {
           "color": "red"
          },
          "opacity": 0.7,
          "type": "circle",
          "x0": -10.5792,
          "x1": -7.6392,
          "xref": "x",
          "y0": 28.22952,
          "y1": 31.16952,
          "yref": "y"
         },
         {
          "fillcolor": "green",
          "line": {
           "color": "green"
          },
          "opacity": 0.7,
          "type": "circle",
          "x0": -20.72112,
          "x1": -17.78112,
          "xref": "x",
          "y0": 25.54452,
          "y1": 28.484519999999996,
          "yref": "y"
         },
         {
          "fillcolor": "red",
          "line": {
           "color": "red"
          },
          "opacity": 0.7,
          "type": "circle",
          "x0": -6.88152,
          "x1": -3.9415200000000006,
          "xref": "x",
          "y0": 30.581880000000005,
          "y1": 33.52188,
          "yref": "y"
         },
         {
          "fillcolor": "green",
          "line": {
           "color": "green"
          },
          "opacity": 0.7,
          "type": "circle",
          "x0": 17.29512,
          "x1": 20.23512,
          "xref": "x",
          "y0": 12.43644,
          "y1": 15.37644,
          "yref": "y"
         },
         {
          "fillcolor": "green",
          "line": {
           "color": "green"
          },
          "opacity": 0.7,
          "type": "circle",
          "x0": -14.535960000000001,
          "x1": -11.59596,
          "xref": "x",
          "y0": 42.574560000000005,
          "y1": 45.51456,
          "yref": "y"
         },
         {
          "fillcolor": "red",
          "line": {
           "color": "red"
          },
          "opacity": 0.7,
          "type": "circle",
          "x0": 4.18068,
          "x1": 7.120679999999999,
          "xref": "x",
          "y0": 29.453640000000004,
          "y1": 32.393640000000005,
          "yref": "y"
         },
         {
          "fillcolor": "green",
          "line": {
           "color": "green"
          },
          "opacity": 0.7,
          "type": "circle",
          "x0": 6.73392,
          "x1": 9.67392,
          "xref": "x",
          "y0": 4.97124,
          "y1": 7.911239999999999,
          "yref": "y"
         },
         {
          "fillcolor": "green",
          "line": {
           "color": "green"
          },
          "opacity": 0.7,
          "type": "circle",
          "x0": -1.8516,
          "x1": 1.0884,
          "xref": "x",
          "y0": 15.29652,
          "y1": 18.23652,
          "yref": "y"
         },
         {
          "fillcolor": "red",
          "line": {
           "color": "red"
          },
          "opacity": 0.7,
          "type": "circle",
          "x0": -9.812520000000001,
          "x1": -6.872520000000001,
          "xref": "x",
          "y0": 25.394400000000005,
          "y1": 28.334400000000002,
          "yref": "y"
         },
         {
          "fillcolor": "green",
          "line": {
           "color": "green"
          },
          "opacity": 0.7,
          "type": "circle",
          "x0": 16.36656,
          "x1": 19.306559999999998,
          "xref": "x",
          "y0": 35.81376,
          "y1": 38.75376,
          "yref": "y"
         },
         {
          "fillcolor": "green",
          "line": {
           "color": "green"
          },
          "opacity": 0.7,
          "type": "circle",
          "x0": -0.03935999999999984,
          "x1": 2.90064,
          "xref": "x",
          "y0": 43.94076,
          "y1": 46.880759999999995,
          "yref": "y"
         },
         {
          "fillcolor": "green",
          "line": {
           "color": "green"
          },
          "opacity": 0.7,
          "type": "circle",
          "x0": 2.66364,
          "x1": 5.6036399999999995,
          "xref": "x",
          "y0": 9.516119999999999,
          "y1": 12.45612,
          "yref": "y"
         },
         {
          "fillcolor": "green",
          "line": {
           "color": "green"
          },
          "opacity": 0.7,
          "type": "circle",
          "x0": -8.585040000000001,
          "x1": -5.645040000000001,
          "xref": "x",
          "y0": 20.358960000000003,
          "y1": 23.29896,
          "yref": "y"
         },
         {
          "fillcolor": "green",
          "line": {
           "color": "green"
          },
          "opacity": 0.7,
          "type": "circle",
          "x0": -5.6120399999999995,
          "x1": -2.67204,
          "xref": "x",
          "y0": 19.91496,
          "y1": 22.85496,
          "yref": "y"
         },
         {
          "fillcolor": "green",
          "line": {
           "color": "green"
          },
          "opacity": 0.7,
          "type": "circle",
          "x0": 16.857960000000002,
          "x1": 19.79796,
          "xref": "x",
          "y0": 36.595079999999996,
          "y1": 39.535079999999994,
          "yref": "y"
         },
         {
          "fillcolor": "green",
          "line": {
           "color": "green"
          },
          "opacity": 0.7,
          "type": "circle",
          "x0": -16.70352,
          "x1": -13.76352,
          "xref": "x",
          "y0": 22.01412,
          "y1": 24.954119999999996,
          "yref": "y"
         },
         {
          "fillcolor": "green",
          "line": {
           "color": "green"
          },
          "opacity": 0.7,
          "type": "circle",
          "x0": -1.69908,
          "x1": 1.24092,
          "xref": "x",
          "y0": 9.01836,
          "y1": 11.95836,
          "yref": "y"
         },
         {
          "fillcolor": "green",
          "line": {
           "color": "green"
          },
          "opacity": 0.7,
          "type": "circle",
          "x0": -24.27924,
          "x1": -21.339240000000004,
          "xref": "x",
          "y0": 51.45792,
          "y1": 54.39792,
          "yref": "y"
         },
         {
          "fillcolor": "green",
          "line": {
           "color": "green"
          },
          "opacity": 0.7,
          "type": "circle",
          "x0": -15.630840000000001,
          "x1": -12.69084,
          "xref": "x",
          "y0": 39.4332,
          "y1": 42.3732,
          "yref": "y"
         },
         {
          "fillcolor": "red",
          "line": {
           "color": "red"
          },
          "opacity": 0.7,
          "type": "circle",
          "x0": 2.0731200000000003,
          "x1": 5.01312,
          "xref": "x",
          "y0": 21.588720000000002,
          "y1": 24.52872,
          "yref": "y"
         },
         {
          "fillcolor": "green",
          "line": {
           "color": "green"
          },
          "opacity": 0.7,
          "type": "circle",
          "x0": -18.77496,
          "x1": -15.83496,
          "xref": "x",
          "y0": 25.056359999999998,
          "y1": 27.996359999999996,
          "yref": "y"
         },
         {
          "fillcolor": "green",
          "line": {
           "color": "green"
          },
          "opacity": 0.7,
          "type": "circle",
          "x0": -15.12684,
          "x1": -12.186839999999998,
          "xref": "x",
          "y0": 42.14196,
          "y1": 45.081959999999995,
          "yref": "y"
         },
         {
          "fillcolor": "green",
          "line": {
           "color": "green"
          },
          "opacity": 0.7,
          "type": "circle",
          "x0": 6.878880000000001,
          "x1": 9.818880000000002,
          "xref": "x",
          "y0": 23.478840000000005,
          "y1": 26.418840000000003,
          "yref": "y"
         },
         {
          "fillcolor": "green",
          "line": {
           "color": "green"
          },
          "opacity": 0.7,
          "type": "circle",
          "x0": -10.59468,
          "x1": -7.65468,
          "xref": "x",
          "y0": 44.0886,
          "y1": 47.0286,
          "yref": "y"
         },
         {
          "fillcolor": "green",
          "line": {
           "color": "green"
          },
          "opacity": 0.7,
          "type": "circle",
          "x0": -24.46104,
          "x1": -21.521040000000003,
          "xref": "x",
          "y0": 51.213840000000005,
          "y1": 54.15384,
          "yref": "y"
         },
         {
          "fillcolor": "green",
          "line": {
           "color": "green"
          },
          "opacity": 0.7,
          "type": "circle",
          "x0": -30.1464,
          "x1": -27.206400000000002,
          "xref": "x",
          "y0": 39.72444,
          "y1": 42.66444,
          "yref": "y"
         },
         {
          "fillcolor": "red",
          "line": {
           "color": "red"
          },
          "opacity": 0.7,
          "type": "circle",
          "x0": -8.20824,
          "x1": -5.2682400000000005,
          "xref": "x",
          "y0": 21.03264,
          "y1": 23.97264,
          "yref": "y"
         },
         {
          "fillcolor": "green",
          "line": {
           "color": "green"
          },
          "opacity": 0.7,
          "type": "circle",
          "x0": -13.964039999999999,
          "x1": -11.024039999999998,
          "xref": "x",
          "y0": 66.91296,
          "y1": 69.85296,
          "yref": "y"
         },
         {
          "fillcolor": "green",
          "line": {
           "color": "green"
          },
          "opacity": 0.7,
          "type": "circle",
          "x0": 11.497079999999999,
          "x1": 14.43708,
          "xref": "x",
          "y0": 37.136160000000004,
          "y1": 40.07616,
          "yref": "y"
         },
         {
          "fillcolor": "green",
          "line": {
           "color": "green"
          },
          "opacity": 0.7,
          "type": "circle",
          "x0": -20.44128,
          "x1": -17.50128,
          "xref": "x",
          "y0": 49.510679999999994,
          "y1": 52.45067999999999,
          "yref": "y"
         },
         {
          "fillcolor": "green",
          "line": {
           "color": "green"
          },
          "opacity": 0.7,
          "type": "circle",
          "x0": 1.05672,
          "x1": 3.99672,
          "xref": "x",
          "y0": 44.6388,
          "y1": 47.5788,
          "yref": "y"
         },
         {
          "fillcolor": "red",
          "line": {
           "color": "red"
          },
          "opacity": 0.7,
          "type": "circle",
          "x0": -12.243120000000001,
          "x1": -9.30312,
          "xref": "x",
          "y0": 39.36528,
          "y1": 42.305279999999996,
          "yref": "y"
         },
         {
          "fillcolor": "green",
          "line": {
           "color": "green"
          },
          "opacity": 0.7,
          "type": "circle",
          "x0": -17.64372,
          "x1": -14.703719999999999,
          "xref": "x",
          "y0": 22.72752,
          "y1": 25.667519999999996,
          "yref": "y"
         },
         {
          "fillcolor": "red",
          "line": {
           "color": "red"
          },
          "opacity": 0.7,
          "type": "circle",
          "x0": -2.2089600000000003,
          "x1": 0.7310399999999999,
          "xref": "x",
          "y0": 29.51388,
          "y1": 32.45388,
          "yref": "y"
         },
         {
          "fillcolor": "red",
          "line": {
           "color": "red"
          },
          "opacity": 0.7,
          "type": "circle",
          "x0": -14.479920000000002,
          "x1": -11.53992,
          "xref": "x",
          "y0": 28.209600000000002,
          "y1": 31.1496,
          "yref": "y"
         },
         {
          "fillcolor": "green",
          "line": {
           "color": "green"
          },
          "opacity": 0.7,
          "type": "circle",
          "x0": -26.38104,
          "x1": -23.44104,
          "xref": "x",
          "y0": 34.05864,
          "y1": 36.998639999999995,
          "yref": "y"
         },
         {
          "fillcolor": "green",
          "line": {
           "color": "green"
          },
          "opacity": 0.7,
          "type": "circle",
          "x0": -15.528239999999998,
          "x1": -12.588239999999997,
          "xref": "x",
          "y0": 29.880720000000004,
          "y1": 32.82072,
          "yref": "y"
         },
         {
          "fillcolor": "green",
          "line": {
           "color": "green"
          },
          "opacity": 0.7,
          "type": "circle",
          "x0": -16.22976,
          "x1": -13.28976,
          "xref": "x",
          "y0": 30.46056,
          "y1": 33.40056,
          "yref": "y"
         },
         {
          "fillcolor": "green",
          "line": {
           "color": "green"
          },
          "opacity": 0.7,
          "type": "circle",
          "x0": 9.579479999999998,
          "x1": 12.51948,
          "xref": "x",
          "y0": 33.348960000000005,
          "y1": 36.28896,
          "yref": "y"
         },
         {
          "fillcolor": "green",
          "line": {
           "color": "green"
          },
          "opacity": 0.7,
          "type": "circle",
          "x0": 20.98044,
          "x1": 23.92044,
          "xref": "x",
          "y0": 19.64796,
          "y1": 22.58796,
          "yref": "y"
         },
         {
          "fillcolor": "red",
          "line": {
           "color": "red"
          },
          "opacity": 0.7,
          "type": "circle",
          "x0": 7.125600000000001,
          "x1": 10.065600000000002,
          "xref": "x",
          "y0": 26.889360000000003,
          "y1": 29.82936,
          "yref": "y"
         },
         {
          "fillcolor": "green",
          "line": {
           "color": "green"
          },
          "opacity": 0.7,
          "type": "circle",
          "x0": 13.8636,
          "x1": 16.8036,
          "xref": "x",
          "y0": 22.276200000000003,
          "y1": 25.2162,
          "yref": "y"
         },
         {
          "fillcolor": "red",
          "line": {
           "color": "red"
          },
          "opacity": 0.7,
          "type": "circle",
          "x0": 7.01424,
          "x1": 9.95424,
          "xref": "x",
          "y0": 32.99796,
          "y1": 35.93796,
          "yref": "y"
         },
         {
          "fillcolor": "green",
          "line": {
           "color": "green"
          },
          "opacity": 0.7,
          "type": "circle",
          "x0": -10.459080000000002,
          "x1": -7.5190800000000015,
          "xref": "x",
          "y0": 32.32944,
          "y1": 35.269439999999996,
          "yref": "y"
         },
         {
          "fillcolor": "green",
          "line": {
           "color": "green"
          },
          "opacity": 0.7,
          "type": "circle",
          "x0": -17.10012,
          "x1": -14.160120000000001,
          "xref": "x",
          "y0": 16.048920000000003,
          "y1": 18.98892,
          "yref": "y"
         },
         {
          "fillcolor": "green",
          "line": {
           "color": "green"
          },
          "opacity": 0.7,
          "type": "circle",
          "x0": 8.02644,
          "x1": 10.96644,
          "xref": "x",
          "y0": 5.33892,
          "y1": 8.27892,
          "yref": "y"
         },
         {
          "fillcolor": "green",
          "line": {
           "color": "green"
          },
          "opacity": 0.7,
          "type": "circle",
          "x0": -0.21828000000000003,
          "x1": 2.72172,
          "xref": "x",
          "y0": 9.021239999999999,
          "y1": 11.96124,
          "yref": "y"
         },
         {
          "fillcolor": "red",
          "line": {
           "color": "red"
          },
          "opacity": 0.7,
          "type": "circle",
          "x0": 7.353840000000001,
          "x1": 10.293840000000001,
          "xref": "x",
          "y0": 31.841639999999998,
          "y1": 34.781639999999996,
          "yref": "y"
         },
         {
          "fillcolor": "green",
          "line": {
           "color": "green"
          },
          "opacity": 0.7,
          "type": "circle",
          "x0": 14.32116,
          "x1": 17.26116,
          "xref": "x",
          "y0": 9.132719999999999,
          "y1": 12.07272,
          "yref": "y"
         },
         {
          "fillcolor": "green",
          "line": {
           "color": "green"
          },
          "opacity": 0.7,
          "type": "circle",
          "x0": 9.85548,
          "x1": 12.795480000000001,
          "xref": "x",
          "y0": 21.260640000000002,
          "y1": 24.20064,
          "yref": "y"
         },
         {
          "fillcolor": "green",
          "line": {
           "color": "green"
          },
          "opacity": 0.7,
          "type": "circle",
          "x0": 8.79924,
          "x1": 11.73924,
          "xref": "x",
          "y0": 6.712560000000001,
          "y1": 9.652560000000001,
          "yref": "y"
         },
         {
          "fillcolor": "red",
          "line": {
           "color": "red"
          },
          "opacity": 0.7,
          "type": "circle",
          "x0": 2.87244,
          "x1": 5.81244,
          "xref": "x",
          "y0": 24.24696,
          "y1": 27.18696,
          "yref": "y"
         },
         {
          "fillcolor": "green",
          "line": {
           "color": "green"
          },
          "opacity": 0.7,
          "type": "circle",
          "x0": -27.073919999999998,
          "x1": -24.13392,
          "xref": "x",
          "y0": 33.84432,
          "y1": 36.78432,
          "yref": "y"
         },
         {
          "fillcolor": "green",
          "line": {
           "color": "green"
          },
          "opacity": 0.7,
          "type": "circle",
          "x0": -26.76048,
          "x1": -23.820480000000003,
          "xref": "x",
          "y0": 25.18908,
          "y1": 28.12908,
          "yref": "y"
         },
         {
          "fillcolor": "green",
          "line": {
           "color": "green"
          },
          "opacity": 0.7,
          "type": "circle",
          "x0": 16.304280000000002,
          "x1": 19.24428,
          "xref": "x",
          "y0": 22.2678,
          "y1": 25.2078,
          "yref": "y"
         },
         {
          "fillcolor": "green",
          "line": {
           "color": "green"
          },
          "opacity": 0.7,
          "type": "circle",
          "x0": 22.503600000000002,
          "x1": 25.4436,
          "xref": "x",
          "y0": 19.8882,
          "y1": 22.8282,
          "yref": "y"
         },
         {
          "fillcolor": "green",
          "line": {
           "color": "green"
          },
          "opacity": 0.7,
          "type": "circle",
          "x0": 18.291600000000003,
          "x1": 21.2316,
          "xref": "x",
          "y0": 29.4726,
          "y1": 32.4126,
          "yref": "y"
         },
         {
          "fillcolor": "red",
          "line": {
           "color": "red"
          },
          "opacity": 0.7,
          "type": "circle",
          "x0": 1.3183200000000002,
          "x1": 4.25832,
          "xref": "x",
          "y0": 18.86196,
          "y1": 21.801959999999998,
          "yref": "y"
         },
         {
          "fillcolor": "green",
          "line": {
           "color": "green"
          },
          "opacity": 0.7,
          "type": "circle",
          "x0": -13.73256,
          "x1": -10.792559999999998,
          "xref": "x",
          "y0": 29.936040000000006,
          "y1": 32.87604,
          "yref": "y"
         },
         {
          "fillcolor": "green",
          "line": {
           "color": "green"
          },
          "opacity": 0.7,
          "type": "circle",
          "x0": -7.41132,
          "x1": -4.47132,
          "xref": "x",
          "y0": 10.5276,
          "y1": 13.467600000000001,
          "yref": "y"
         },
         {
          "fillcolor": "green",
          "line": {
           "color": "green"
          },
          "opacity": 0.7,
          "type": "circle",
          "x0": -0.37524,
          "x1": 2.5647599999999997,
          "xref": "x",
          "y0": 49.129799999999996,
          "y1": 52.069799999999994,
          "yref": "y"
         },
         {
          "fillcolor": "green",
          "line": {
           "color": "green"
          },
          "opacity": 0.7,
          "type": "circle",
          "x0": -18.582839999999997,
          "x1": -15.642839999999998,
          "xref": "x",
          "y0": 43.20912,
          "y1": 46.149119999999996,
          "yref": "y"
         },
         {
          "fillcolor": "green",
          "line": {
           "color": "green"
          },
          "opacity": 0.7,
          "type": "circle",
          "x0": 6.22644,
          "x1": 9.16644,
          "xref": "x",
          "y0": 13.44624,
          "y1": 16.38624,
          "yref": "y"
         },
         {
          "fillcolor": "green",
          "line": {
           "color": "green"
          },
          "opacity": 0.7,
          "type": "circle",
          "x0": -16.31304,
          "x1": -13.37304,
          "xref": "x",
          "y0": 29.651280000000003,
          "y1": 32.591280000000005,
          "yref": "y"
         },
         {
          "fillcolor": "red",
          "line": {
           "color": "red"
          },
          "opacity": 0.7,
          "type": "circle",
          "x0": -1.74588,
          "x1": 1.1941199999999998,
          "xref": "x",
          "y0": 18.58176,
          "y1": 21.521759999999997,
          "yref": "y"
         },
         {
          "fillcolor": "green",
          "line": {
           "color": "green"
          },
          "opacity": 0.7,
          "type": "circle",
          "x0": -0.7692,
          "x1": 2.1708,
          "xref": "x",
          "y0": 2.0322000000000005,
          "y1": 4.9722,
          "yref": "y"
         },
         {
          "fillcolor": "green",
          "line": {
           "color": "green"
          },
          "opacity": 0.7,
          "type": "circle",
          "x0": -20.29236,
          "x1": -17.35236,
          "xref": "x",
          "y0": 39.2856,
          "y1": 42.2256,
          "yref": "y"
         },
         {
          "fillcolor": "green",
          "line": {
           "color": "green"
          },
          "opacity": 0.7,
          "type": "circle",
          "x0": -15.64944,
          "x1": -12.709439999999999,
          "xref": "x",
          "y0": 46.047000000000004,
          "y1": 48.987,
          "yref": "y"
         },
         {
          "fillcolor": "green",
          "line": {
           "color": "green"
          },
          "opacity": 0.7,
          "type": "circle",
          "x0": -20.92656,
          "x1": -17.98656,
          "xref": "x",
          "y0": 52.199160000000006,
          "y1": 55.139160000000004,
          "yref": "y"
         },
         {
          "fillcolor": "green",
          "line": {
           "color": "green"
          },
          "opacity": 0.7,
          "type": "circle",
          "x0": -8.41764,
          "x1": -5.47764,
          "xref": "x",
          "y0": 57.86256,
          "y1": 60.80256,
          "yref": "y"
         },
         {
          "fillcolor": "red",
          "line": {
           "color": "red"
          },
          "opacity": 0.7,
          "type": "circle",
          "x0": 7.877400000000001,
          "x1": 10.817400000000001,
          "xref": "x",
          "y0": 34.1754,
          "y1": 37.1154,
          "yref": "y"
         },
         {
          "fillcolor": "red",
          "line": {
           "color": "red"
          },
          "opacity": 0.7,
          "type": "circle",
          "x0": -2.27076,
          "x1": 0.6692400000000001,
          "xref": "x",
          "y0": 30.87312,
          "y1": 33.81312,
          "yref": "y"
         },
         {
          "fillcolor": "green",
          "line": {
           "color": "green"
          },
          "opacity": 0.7,
          "type": "circle",
          "x0": -8.622480000000001,
          "x1": -5.682480000000001,
          "xref": "x",
          "y0": 30.386879999999998,
          "y1": 33.326879999999996,
          "yref": "y"
         },
         {
          "fillcolor": "green",
          "line": {
           "color": "green"
          },
          "opacity": 0.7,
          "type": "circle",
          "x0": -16.841639999999998,
          "x1": -13.901639999999999,
          "xref": "x",
          "y0": 26.442840000000004,
          "y1": 29.38284,
          "yref": "y"
         },
         {
          "fillcolor": "green",
          "line": {
           "color": "green"
          },
          "opacity": 0.7,
          "type": "circle",
          "x0": -25.647839999999995,
          "x1": -22.707839999999997,
          "xref": "x",
          "y0": 29.777639999999998,
          "y1": 32.717639999999996,
          "yref": "y"
         },
         {
          "fillcolor": "green",
          "line": {
           "color": "green"
          },
          "opacity": 0.7,
          "type": "circle",
          "x0": 4.284,
          "x1": 7.223999999999999,
          "xref": "x",
          "y0": 8.941439999999998,
          "y1": 11.88144,
          "yref": "y"
         },
         {
          "fillcolor": "green",
          "line": {
           "color": "green"
          },
          "opacity": 0.7,
          "type": "circle",
          "x0": -24.90972,
          "x1": -21.969720000000002,
          "xref": "x",
          "y0": 43.12476,
          "y1": 46.06476,
          "yref": "y"
         },
         {
          "fillcolor": "green",
          "line": {
           "color": "green"
          },
          "opacity": 0.7,
          "type": "circle",
          "x0": 4.684200000000001,
          "x1": 7.6242,
          "xref": "x",
          "y0": 13.25448,
          "y1": 16.19448,
          "yref": "y"
         },
         {
          "fillcolor": "green",
          "line": {
           "color": "green"
          },
          "opacity": 0.7,
          "type": "circle",
          "x0": 4.0387200000000005,
          "x1": 6.97872,
          "xref": "x",
          "y0": 17.658360000000002,
          "y1": 20.59836,
          "yref": "y"
         },
         {
          "fillcolor": "red",
          "line": {
           "color": "red"
          },
          "opacity": 0.7,
          "type": "circle",
          "x0": -12.375960000000001,
          "x1": -9.43596,
          "xref": "x",
          "y0": 26.26632,
          "y1": 29.206319999999998,
          "yref": "y"
         },
         {
          "fillcolor": "green",
          "line": {
           "color": "green"
          },
          "opacity": 0.7,
          "type": "circle",
          "x0": -11.96676,
          "x1": -9.02676,
          "xref": "x",
          "y0": 27.145080000000004,
          "y1": 30.08508,
          "yref": "y"
         },
         {
          "fillcolor": "green",
          "line": {
           "color": "green"
          },
          "opacity": 0.7,
          "type": "circle",
          "x0": -6.929519999999999,
          "x1": -3.9895199999999997,
          "xref": "x",
          "y0": 8.63388,
          "y1": 11.57388,
          "yref": "y"
         },
         {
          "fillcolor": "red",
          "line": {
           "color": "red"
          },
          "opacity": 0.7,
          "type": "circle",
          "x0": -2.5777200000000002,
          "x1": 0.36227999999999994,
          "xref": "x",
          "y0": 27.485640000000004,
          "y1": 30.42564,
          "yref": "y"
         },
         {
          "fillcolor": "green",
          "line": {
           "color": "green"
          },
          "opacity": 0.7,
          "type": "circle",
          "x0": 2.2935600000000003,
          "x1": 5.23356,
          "xref": "x",
          "y0": 6.3138,
          "y1": 9.2538,
          "yref": "y"
         },
         {
          "fillcolor": "green",
          "line": {
           "color": "green"
          },
          "opacity": 0.7,
          "type": "circle",
          "x0": 11.14008,
          "x1": 14.08008,
          "xref": "x",
          "y0": 29.9346,
          "y1": 32.8746,
          "yref": "y"
         },
         {
          "fillcolor": "green",
          "line": {
           "color": "green"
          },
          "opacity": 0.7,
          "type": "circle",
          "x0": 13.69836,
          "x1": 16.63836,
          "xref": "x",
          "y0": 9.993839999999999,
          "y1": 12.93384,
          "yref": "y"
         },
         {
          "fillcolor": "green",
          "line": {
           "color": "green"
          },
          "opacity": 0.7,
          "type": "circle",
          "x0": 25.9848,
          "x1": 28.924799999999998,
          "xref": "x",
          "y0": 12.56364,
          "y1": 15.50364,
          "yref": "y"
         },
         {
          "fillcolor": "green",
          "line": {
           "color": "green"
          },
          "opacity": 0.7,
          "type": "circle",
          "x0": 6.8007599999999995,
          "x1": 9.74076,
          "xref": "x",
          "y0": -1.5552,
          "y1": 1.3848,
          "yref": "y"
         },
         {
          "fillcolor": "green",
          "line": {
           "color": "green"
          },
          "opacity": 0.7,
          "type": "circle",
          "x0": -13.8132,
          "x1": -10.873199999999999,
          "xref": "x",
          "y0": 38.95152,
          "y1": 41.89152,
          "yref": "y"
         },
         {
          "fillcolor": "red",
          "line": {
           "color": "red"
          },
          "opacity": 0.7,
          "type": "circle",
          "x0": -8.38128,
          "x1": -5.44128,
          "xref": "x",
          "y0": 26.435879999999997,
          "y1": 29.375879999999995,
          "yref": "y"
         },
         {
          "fillcolor": "green",
          "line": {
           "color": "green"
          },
          "opacity": 0.7,
          "type": "circle",
          "x0": -9.086160000000001,
          "x1": -6.146160000000001,
          "xref": "x",
          "y0": 3.2741999999999996,
          "y1": 6.214199999999999,
          "yref": "y"
         },
         {
          "fillcolor": "green",
          "line": {
           "color": "green"
          },
          "opacity": 0.7,
          "type": "circle",
          "x0": -9.634079999999999,
          "x1": -6.694079999999999,
          "xref": "x",
          "y0": 12.7374,
          "y1": 15.6774,
          "yref": "y"
         },
         {
          "fillcolor": "green",
          "line": {
           "color": "green"
          },
          "opacity": 0.7,
          "type": "circle",
          "x0": -10.932720000000002,
          "x1": -7.992720000000001,
          "xref": "x",
          "y0": 51.36672,
          "y1": 54.30672,
          "yref": "y"
         },
         {
          "fillcolor": "green",
          "line": {
           "color": "green"
          },
          "opacity": 0.7,
          "type": "circle",
          "x0": -20.1798,
          "x1": -17.239800000000002,
          "xref": "x",
          "y0": 19.86624,
          "y1": 22.80624,
          "yref": "y"
         },
         {
          "fillcolor": "green",
          "line": {
           "color": "green"
          },
          "opacity": 0.7,
          "type": "circle",
          "x0": 5.32572,
          "x1": 8.26572,
          "xref": "x",
          "y0": 12.306119999999998,
          "y1": 15.24612,
          "yref": "y"
         },
         {
          "fillcolor": "green",
          "line": {
           "color": "green"
          },
          "opacity": 0.7,
          "type": "circle",
          "x0": -11.88012,
          "x1": -8.940119999999999,
          "xref": "x",
          "y0": 21.18528,
          "y1": 24.125279999999997,
          "yref": "y"
         },
         {
          "fillcolor": "green",
          "line": {
           "color": "green"
          },
          "opacity": 0.7,
          "type": "circle",
          "x0": -19.94832,
          "x1": -17.00832,
          "xref": "x",
          "y0": 31.33728,
          "y1": 34.27728,
          "yref": "y"
         },
         {
          "fillcolor": "green",
          "line": {
           "color": "green"
          },
          "opacity": 0.7,
          "type": "circle",
          "x0": -22.694399999999998,
          "x1": -19.7544,
          "xref": "x",
          "y0": 20.39448,
          "y1": 23.33448,
          "yref": "y"
         },
         {
          "fillcolor": "green",
          "line": {
           "color": "green"
          },
          "opacity": 0.7,
          "type": "circle",
          "x0": -25.742040000000003,
          "x1": -22.802040000000005,
          "xref": "x",
          "y0": 29.466839999999998,
          "y1": 32.406839999999995,
          "yref": "y"
         },
         {
          "fillcolor": "green",
          "line": {
           "color": "green"
          },
          "opacity": 0.7,
          "type": "circle",
          "x0": -4.26576,
          "x1": -1.32576,
          "xref": "x",
          "y0": 50.51352,
          "y1": 53.45352,
          "yref": "y"
         },
         {
          "fillcolor": "red",
          "line": {
           "color": "red"
          },
          "opacity": 0.7,
          "type": "circle",
          "x0": -7.943280000000001,
          "x1": -5.003280000000001,
          "xref": "x",
          "y0": 31.96752,
          "y1": 34.90752,
          "yref": "y"
         },
         {
          "fillcolor": "green",
          "line": {
           "color": "green"
          },
          "opacity": 0.7,
          "type": "circle",
          "x0": -6.3087599999999995,
          "x1": -3.36876,
          "xref": "x",
          "y0": 11.18496,
          "y1": 14.124960000000002,
          "yref": "y"
         },
         {
          "fillcolor": "red",
          "line": {
           "color": "red"
          },
          "opacity": 0.7,
          "type": "circle",
          "x0": -9.18324,
          "x1": -6.243239999999999,
          "xref": "x",
          "y0": 27.332279999999997,
          "y1": 30.272279999999995,
          "yref": "y"
         },
         {
          "fillcolor": "red",
          "line": {
           "color": "red"
          },
          "opacity": 0.7,
          "type": "circle",
          "x0": -5.8644,
          "x1": -2.9244000000000003,
          "xref": "x",
          "y0": 22.131600000000002,
          "y1": 25.0716,
          "yref": "y"
         },
         {
          "fillcolor": "green",
          "line": {
           "color": "green"
          },
          "opacity": 0.7,
          "type": "circle",
          "x0": -25.6524,
          "x1": -22.712400000000002,
          "xref": "x",
          "y0": 31.616280000000003,
          "y1": 34.55628,
          "yref": "y"
         },
         {
          "fillcolor": "green",
          "line": {
           "color": "green"
          },
          "opacity": 0.7,
          "type": "circle",
          "x0": -15.90708,
          "x1": -12.96708,
          "xref": "x",
          "y0": 25.517519999999998,
          "y1": 28.457519999999995,
          "yref": "y"
         },
         {
          "fillcolor": "red",
          "line": {
           "color": "red"
          },
          "opacity": 0.7,
          "type": "circle",
          "x0": 2.22288,
          "x1": 5.16288,
          "xref": "x",
          "y0": 20.00352,
          "y1": 22.94352,
          "yref": "y"
         },
         {
          "fillcolor": "green",
          "line": {
           "color": "green"
          },
          "opacity": 0.7,
          "type": "circle",
          "x0": -20.89584,
          "x1": -17.955840000000002,
          "xref": "x",
          "y0": 42.05232,
          "y1": 44.99232,
          "yref": "y"
         },
         {
          "fillcolor": "green",
          "line": {
           "color": "green"
          },
          "opacity": 0.7,
          "type": "circle",
          "x0": -24.60876,
          "x1": -21.668760000000002,
          "xref": "x",
          "y0": 47.84136,
          "y1": 50.78136,
          "yref": "y"
         },
         {
          "fillcolor": "red",
          "line": {
           "color": "red"
          },
          "opacity": 0.7,
          "type": "circle",
          "x0": -8.951880000000001,
          "x1": -6.011880000000001,
          "xref": "x",
          "y0": 20.41296,
          "y1": 23.35296,
          "yref": "y"
         },
         {
          "fillcolor": "green",
          "line": {
           "color": "green"
          },
          "opacity": 0.7,
          "type": "circle",
          "x0": -15.762360000000001,
          "x1": -12.82236,
          "xref": "x",
          "y0": 37.075919999999996,
          "y1": 40.015919999999994,
          "yref": "y"
         },
         {
          "fillcolor": "green",
          "line": {
           "color": "green"
          },
          "opacity": 0.7,
          "type": "circle",
          "x0": -15.81132,
          "x1": -12.871319999999999,
          "xref": "x",
          "y0": 43.22328,
          "y1": 46.16328,
          "yref": "y"
         },
         {
          "fillcolor": "green",
          "line": {
           "color": "green"
          },
          "opacity": 0.7,
          "type": "circle",
          "x0": -13.125480000000001,
          "x1": -10.18548,
          "xref": "x",
          "y0": 17.13948,
          "y1": 20.079479999999997,
          "yref": "y"
         },
         {
          "fillcolor": "red",
          "line": {
           "color": "red"
          },
          "opacity": 0.7,
          "type": "circle",
          "x0": -5.1738,
          "x1": -2.2337999999999996,
          "xref": "x",
          "y0": 27.552480000000003,
          "y1": 30.49248,
          "yref": "y"
         },
         {
          "fillcolor": "green",
          "line": {
           "color": "green"
          },
          "opacity": 0.7,
          "type": "circle",
          "x0": 3.61536,
          "x1": 6.555359999999999,
          "xref": "x",
          "y0": 8.15664,
          "y1": 11.09664,
          "yref": "y"
         },
         {
          "fillcolor": "red",
          "line": {
           "color": "red"
          },
          "opacity": 0.7,
          "type": "circle",
          "x0": 1.5057600000000002,
          "x1": 4.44576,
          "xref": "x",
          "y0": 11.05344,
          "y1": 13.993440000000001,
          "yref": "y"
         },
         {
          "fillcolor": "green",
          "line": {
           "color": "green"
          },
          "opacity": 0.7,
          "type": "circle",
          "x0": 1.0692000000000002,
          "x1": 4.0092,
          "xref": "x",
          "y0": 14.617799999999997,
          "y1": 17.557799999999997,
          "yref": "y"
         },
         {
          "fillcolor": "green",
          "line": {
           "color": "green"
          },
          "opacity": 0.7,
          "type": "circle",
          "x0": -12.85008,
          "x1": -9.910079999999999,
          "xref": "x",
          "y0": 6.2388,
          "y1": 9.1788,
          "yref": "y"
         },
         {
          "fillcolor": "green",
          "line": {
           "color": "green"
          },
          "opacity": 0.7,
          "type": "circle",
          "x0": -14.86008,
          "x1": -11.920079999999999,
          "xref": "x",
          "y0": 18.3126,
          "y1": 21.252599999999997,
          "yref": "y"
         },
         {
          "fillcolor": "green",
          "line": {
           "color": "green"
          },
          "opacity": 0.7,
          "type": "circle",
          "x0": -21.21156,
          "x1": -18.27156,
          "xref": "x",
          "y0": 27.64584,
          "y1": 30.585839999999997,
          "yref": "y"
         },
         {
          "fillcolor": "green",
          "line": {
           "color": "green"
          },
          "opacity": 0.7,
          "type": "circle",
          "x0": 19.085160000000002,
          "x1": 22.02516,
          "xref": "x",
          "y0": 20.088120000000004,
          "y1": 23.02812,
          "yref": "y"
         },
         {
          "fillcolor": "red",
          "line": {
           "color": "red"
          },
          "opacity": 0.7,
          "type": "circle",
          "x0": -8.53608,
          "x1": -5.596080000000001,
          "xref": "x",
          "y0": 27.26028,
          "y1": 30.20028,
          "yref": "y"
         },
         {
          "fillcolor": "green",
          "line": {
           "color": "green"
          },
          "opacity": 0.7,
          "type": "circle",
          "x0": -14.95356,
          "x1": -12.013559999999998,
          "xref": "x",
          "y0": 36.84324,
          "y1": 39.78324,
          "yref": "y"
         },
         {
          "fillcolor": "green",
          "line": {
           "color": "green"
          },
          "opacity": 0.7,
          "type": "circle",
          "x0": -3.41484,
          "x1": -0.47483999999999993,
          "xref": "x",
          "y0": 39.07848,
          "y1": 42.01848,
          "yref": "y"
         },
         {
          "fillcolor": "red",
          "line": {
           "color": "red"
          },
          "opacity": 0.7,
          "type": "circle",
          "x0": -4.06248,
          "x1": -1.1224800000000001,
          "xref": "x",
          "y0": 32.566320000000005,
          "y1": 35.50632,
          "yref": "y"
         },
         {
          "fillcolor": "green",
          "line": {
           "color": "green"
          },
          "opacity": 0.7,
          "type": "circle",
          "x0": -15.099000000000002,
          "x1": -12.159,
          "xref": "x",
          "y0": 7.24308,
          "y1": 10.18308,
          "yref": "y"
         },
         {
          "fillcolor": "green",
          "line": {
           "color": "green"
          },
          "opacity": 0.7,
          "type": "circle",
          "x0": -24.61392,
          "x1": -21.673920000000003,
          "xref": "x",
          "y0": 23.66604,
          "y1": 26.606039999999997,
          "yref": "y"
         },
         {
          "fillcolor": "green",
          "line": {
           "color": "green"
          },
          "opacity": 0.7,
          "type": "circle",
          "x0": -3.0372,
          "x1": -0.09719999999999995,
          "xref": "x",
          "y0": 3.5426399999999996,
          "y1": 6.482639999999999,
          "yref": "y"
         },
         {
          "fillcolor": "green",
          "line": {
           "color": "green"
          },
          "opacity": 0.7,
          "type": "circle",
          "x0": -19.471559999999997,
          "x1": -16.53156,
          "xref": "x",
          "y0": 43.071,
          "y1": 46.010999999999996,
          "yref": "y"
         },
         {
          "fillcolor": "red",
          "line": {
           "color": "red"
          },
          "opacity": 0.7,
          "type": "circle",
          "x0": -8.58768,
          "x1": -5.64768,
          "xref": "x",
          "y0": 18.428760000000004,
          "y1": 21.36876,
          "yref": "y"
         },
         {
          "fillcolor": "green",
          "line": {
           "color": "green"
          },
          "opacity": 0.7,
          "type": "circle",
          "x0": -22.608719999999998,
          "x1": -19.66872,
          "xref": "x",
          "y0": 42.43476,
          "y1": 45.374759999999995,
          "yref": "y"
         },
         {
          "fillcolor": "green",
          "line": {
           "color": "green"
          },
          "opacity": 0.7,
          "type": "circle",
          "x0": -25.0584,
          "x1": -22.1184,
          "xref": "x",
          "y0": 38.23128,
          "y1": 41.171279999999996,
          "yref": "y"
         },
         {
          "fillcolor": "red",
          "line": {
           "color": "red"
          },
          "opacity": 0.7,
          "type": "circle",
          "x0": 1.12068,
          "x1": 4.06068,
          "xref": "x",
          "y0": 16.98996,
          "y1": 19.929959999999998,
          "yref": "y"
         },
         {
          "fillcolor": "green",
          "line": {
           "color": "green"
          },
          "opacity": 0.7,
          "type": "circle",
          "x0": 27.707880000000003,
          "x1": 30.64788,
          "xref": "x",
          "y0": 15.540719999999999,
          "y1": 18.480719999999998,
          "yref": "y"
         },
         {
          "fillcolor": "green",
          "line": {
           "color": "green"
          },
          "opacity": 0.7,
          "type": "circle",
          "x0": -13.220640000000001,
          "x1": -10.28064,
          "xref": "x",
          "y0": 25.2972,
          "y1": 28.237199999999998,
          "yref": "y"
         },
         {
          "fillcolor": "green",
          "line": {
           "color": "green"
          },
          "opacity": 0.7,
          "type": "circle",
          "x0": 14.2812,
          "x1": 17.2212,
          "xref": "x",
          "y0": 25.1622,
          "y1": 28.102199999999996,
          "yref": "y"
         },
         {
          "fillcolor": "green",
          "line": {
           "color": "green"
          },
          "opacity": 0.7,
          "type": "circle",
          "x0": -21.57768,
          "x1": -18.637680000000003,
          "xref": "x",
          "y0": 24.95136,
          "y1": 27.89136,
          "yref": "y"
         },
         {
          "fillcolor": "red",
          "line": {
           "color": "red"
          },
          "opacity": 0.7,
          "type": "circle",
          "x0": -3.8712,
          "x1": -0.9312000000000002,
          "xref": "x",
          "y0": 20.5914,
          "y1": 23.531399999999998,
          "yref": "y"
         },
         {
          "fillcolor": "green",
          "line": {
           "color": "green"
          },
          "opacity": 0.7,
          "type": "circle",
          "x0": -3.51096,
          "x1": -0.5709600000000001,
          "xref": "x",
          "y0": 11.4924,
          "y1": 14.432400000000001,
          "yref": "y"
         },
         {
          "fillcolor": "green",
          "line": {
           "color": "green"
          },
          "opacity": 0.7,
          "type": "circle",
          "x0": -16.08,
          "x1": -13.139999999999999,
          "xref": "x",
          "y0": 12.03912,
          "y1": 14.979120000000002,
          "yref": "y"
         },
         {
          "fillcolor": "green",
          "line": {
           "color": "green"
          },
          "opacity": 0.7,
          "type": "circle",
          "x0": -1.6062,
          "x1": 1.3337999999999999,
          "xref": "x",
          "y0": 8.289,
          "y1": 11.229000000000001,
          "yref": "y"
         },
         {
          "fillcolor": "green",
          "line": {
           "color": "green"
          },
          "opacity": 0.7,
          "type": "circle",
          "x0": -11.864880000000001,
          "x1": -8.92488,
          "xref": "x",
          "y0": 11.64048,
          "y1": 14.580480000000001,
          "yref": "y"
         },
         {
          "fillcolor": "green",
          "line": {
           "color": "green"
          },
          "opacity": 0.7,
          "type": "circle",
          "x0": -26.13972,
          "x1": -23.199720000000003,
          "xref": "x",
          "y0": 38.76732,
          "y1": 41.707319999999996,
          "yref": "y"
         },
         {
          "fillcolor": "green",
          "line": {
           "color": "green"
          },
          "opacity": 0.7,
          "type": "circle",
          "x0": -17.4348,
          "x1": -14.4948,
          "xref": "x",
          "y0": 40.702560000000005,
          "y1": 43.64256,
          "yref": "y"
         },
         {
          "fillcolor": "red",
          "line": {
           "color": "red"
          },
          "opacity": 0.7,
          "type": "circle",
          "x0": -6.76776,
          "x1": -3.8277600000000005,
          "xref": "x",
          "y0": 29.775959999999998,
          "y1": 32.715959999999995,
          "yref": "y"
         },
         {
          "fillcolor": "green",
          "line": {
           "color": "green"
          },
          "opacity": 0.7,
          "type": "circle",
          "x0": -22.317239999999998,
          "x1": -19.37724,
          "xref": "x",
          "y0": 26.430600000000002,
          "y1": 29.3706,
          "yref": "y"
         },
         {
          "fillcolor": "green",
          "line": {
           "color": "green"
          },
          "opacity": 0.7,
          "type": "circle",
          "x0": -18.50556,
          "x1": -15.56556,
          "xref": "x",
          "y0": 9.64116,
          "y1": 12.58116,
          "yref": "y"
         },
         {
          "fillcolor": "green",
          "line": {
           "color": "green"
          },
          "opacity": 0.7,
          "type": "circle",
          "x0": 12.384479999999998,
          "x1": 15.32448,
          "xref": "x",
          "y0": 15.656039999999999,
          "y1": 18.59604,
          "yref": "y"
         },
         {
          "fillcolor": "red",
          "line": {
           "color": "red"
          },
          "opacity": 0.7,
          "type": "circle",
          "x0": 6.099000000000001,
          "x1": 9.039000000000001,
          "xref": "x",
          "y0": 15.123959999999999,
          "y1": 18.063959999999998,
          "yref": "y"
         },
         {
          "fillcolor": "green",
          "line": {
           "color": "green"
          },
          "opacity": 0.7,
          "type": "circle",
          "x0": 0.4628399999999999,
          "x1": 3.40284,
          "xref": "x",
          "y0": 5.956680000000001,
          "y1": 8.896680000000002,
          "yref": "y"
         },
         {
          "fillcolor": "green",
          "line": {
           "color": "green"
          },
          "opacity": 0.7,
          "type": "circle",
          "x0": -18.187079999999998,
          "x1": -15.247079999999999,
          "xref": "x",
          "y0": 31.19628,
          "y1": 34.13628,
          "yref": "y"
         },
         {
          "fillcolor": "red",
          "line": {
           "color": "red"
          },
          "opacity": 0.7,
          "type": "circle",
          "x0": -0.83844,
          "x1": 2.10156,
          "xref": "x",
          "y0": 20.675400000000003,
          "y1": 23.6154,
          "yref": "y"
         },
         {
          "fillcolor": "green",
          "line": {
           "color": "green"
          },
          "opacity": 0.7,
          "type": "circle",
          "x0": -20.611199999999997,
          "x1": -17.6712,
          "xref": "x",
          "y0": 16.87716,
          "y1": 19.817159999999998,
          "yref": "y"
         },
         {
          "fillcolor": "red",
          "line": {
           "color": "red"
          },
          "opacity": 0.7,
          "type": "circle",
          "x0": -2.4289199999999997,
          "x1": 0.51108,
          "xref": "x",
          "y0": 28.00212,
          "y1": 30.94212,
          "yref": "y"
         },
         {
          "fillcolor": "green",
          "line": {
           "color": "green"
          },
          "opacity": 0.7,
          "type": "circle",
          "x0": -14.93748,
          "x1": -11.99748,
          "xref": "x",
          "y0": 39.873720000000006,
          "y1": 42.81372,
          "yref": "y"
         },
         {
          "fillcolor": "green",
          "line": {
           "color": "green"
          },
          "opacity": 0.7,
          "type": "circle",
          "x0": -11.671560000000001,
          "x1": -8.73156,
          "xref": "x",
          "y0": 22.44216,
          "y1": 25.38216,
          "yref": "y"
         },
         {
          "fillcolor": "green",
          "line": {
           "color": "green"
          },
          "opacity": 0.7,
          "type": "circle",
          "x0": -7.401,
          "x1": -4.461,
          "xref": "x",
          "y0": 55.45692,
          "y1": 58.396919999999994,
          "yref": "y"
         },
         {
          "fillcolor": "green",
          "line": {
           "color": "green"
          },
          "opacity": 0.7,
          "type": "circle",
          "x0": -40.2642,
          "x1": -37.324200000000005,
          "xref": "x",
          "y0": 44.94708,
          "y1": 47.88708,
          "yref": "y"
         },
         {
          "fillcolor": "green",
          "line": {
           "color": "green"
          },
          "opacity": 0.7,
          "type": "circle",
          "x0": -6.085679999999999,
          "x1": -3.1456799999999996,
          "xref": "x",
          "y0": 15.28176,
          "y1": 18.22176,
          "yref": "y"
         },
         {
          "fillcolor": "green",
          "line": {
           "color": "green"
          },
          "opacity": 0.7,
          "type": "circle",
          "x0": -29.84976,
          "x1": -26.909760000000002,
          "xref": "x",
          "y0": 37.66176,
          "y1": 40.60176,
          "yref": "y"
         },
         {
          "fillcolor": "red",
          "line": {
           "color": "red"
          },
          "opacity": 0.7,
          "type": "circle",
          "x0": 5.4846,
          "x1": 8.4246,
          "xref": "x",
          "y0": 31.231920000000002,
          "y1": 34.17192,
          "yref": "y"
         },
         {
          "fillcolor": "green",
          "line": {
           "color": "green"
          },
          "opacity": 0.7,
          "type": "circle",
          "x0": -21.204119999999996,
          "x1": -18.26412,
          "xref": "x",
          "y0": 45.247440000000005,
          "y1": 48.18744,
          "yref": "y"
         },
         {
          "fillcolor": "red",
          "line": {
           "color": "red"
          },
          "opacity": 0.7,
          "type": "circle",
          "x0": 4.3254,
          "x1": 7.2654,
          "xref": "x",
          "y0": 19.342080000000003,
          "y1": 22.28208,
          "yref": "y"
         },
         {
          "fillcolor": "green",
          "line": {
           "color": "green"
          },
          "opacity": 0.7,
          "type": "circle",
          "x0": -21.039479999999998,
          "x1": -18.09948,
          "xref": "x",
          "y0": 38.2752,
          "y1": 41.215199999999996,
          "yref": "y"
         },
         {
          "fillcolor": "green",
          "line": {
           "color": "green"
          },
          "opacity": 0.7,
          "type": "circle",
          "x0": 7.143,
          "x1": 10.083,
          "xref": "x",
          "y0": 7.248360000000001,
          "y1": 10.188360000000001,
          "yref": "y"
         },
         {
          "fillcolor": "red",
          "line": {
           "color": "red"
          },
          "opacity": 0.7,
          "type": "circle",
          "x0": -2.20704,
          "x1": 0.73296,
          "xref": "x",
          "y0": 26.194920000000003,
          "y1": 29.13492,
          "yref": "y"
         },
         {
          "fillcolor": "green",
          "line": {
           "color": "green"
          },
          "opacity": 0.7,
          "type": "circle",
          "x0": 11.91708,
          "x1": 14.857080000000002,
          "xref": "x",
          "y0": 12.95604,
          "y1": 15.896040000000001,
          "yref": "y"
         },
         {
          "fillcolor": "green",
          "line": {
           "color": "green"
          },
          "opacity": 0.7,
          "type": "circle",
          "x0": 0.25776,
          "x1": 3.1977599999999997,
          "xref": "x",
          "y0": 10.601280000000001,
          "y1": 13.541280000000002,
          "yref": "y"
         },
         {
          "fillcolor": "green",
          "line": {
           "color": "green"
          },
          "opacity": 0.7,
          "type": "circle",
          "x0": 4.8913199999999994,
          "x1": 7.831319999999999,
          "xref": "x",
          "y0": 13.592159999999998,
          "y1": 16.532159999999998,
          "yref": "y"
         },
         {
          "fillcolor": "green",
          "line": {
           "color": "green"
          },
          "opacity": 0.7,
          "type": "circle",
          "x0": -9.57384,
          "x1": -6.63384,
          "xref": "x",
          "y0": 11.72676,
          "y1": 14.666760000000002,
          "yref": "y"
         },
         {
          "fillcolor": "green",
          "line": {
           "color": "green"
          },
          "opacity": 0.7,
          "type": "circle",
          "x0": -7.60644,
          "x1": -4.666440000000001,
          "xref": "x",
          "y0": 35.43912,
          "y1": 38.37912,
          "yref": "y"
         },
         {
          "fillcolor": "green",
          "line": {
           "color": "green"
          },
          "opacity": 0.7,
          "type": "circle",
          "x0": 5.950920000000001,
          "x1": 8.890920000000001,
          "xref": "x",
          "y0": 13.89288,
          "y1": 16.83288,
          "yref": "y"
         },
         {
          "fillcolor": "red",
          "line": {
           "color": "red"
          },
          "opacity": 0.7,
          "type": "circle",
          "x0": 4.50732,
          "x1": 7.4473199999999995,
          "xref": "x",
          "y0": 25.782360000000004,
          "y1": 28.722360000000002,
          "yref": "y"
         },
         {
          "fillcolor": "green",
          "line": {
           "color": "green"
          },
          "opacity": 0.7,
          "type": "circle",
          "x0": -13.699440000000001,
          "x1": -10.75944,
          "xref": "x",
          "y0": 28.750079999999997,
          "y1": 31.690079999999995,
          "yref": "y"
         },
         {
          "fillcolor": "red",
          "line": {
           "color": "red"
          },
          "opacity": 0.7,
          "type": "circle",
          "x0": 6.15768,
          "x1": 9.09768,
          "xref": "x",
          "y0": 31.463160000000002,
          "y1": 34.40316,
          "yref": "y"
         },
         {
          "fillcolor": "green",
          "line": {
           "color": "green"
          },
          "opacity": 0.7,
          "type": "circle",
          "x0": 1.9153200000000001,
          "x1": 4.85532,
          "xref": "x",
          "y0": 9.48672,
          "y1": 12.426720000000001,
          "yref": "y"
         }
        ],
        "template": {
         "data": {
          "bar": [
           {
            "error_x": {
             "color": "#2a3f5f"
            },
            "error_y": {
             "color": "#2a3f5f"
            },
            "marker": {
             "line": {
              "color": "#E5ECF6",
              "width": 0.5
             },
             "pattern": {
              "fillmode": "overlay",
              "size": 10,
              "solidity": 0.2
             }
            },
            "type": "bar"
           }
          ],
          "barpolar": [
           {
            "marker": {
             "line": {
              "color": "#E5ECF6",
              "width": 0.5
             },
             "pattern": {
              "fillmode": "overlay",
              "size": 10,
              "solidity": 0.2
             }
            },
            "type": "barpolar"
           }
          ],
          "carpet": [
           {
            "aaxis": {
             "endlinecolor": "#2a3f5f",
             "gridcolor": "white",
             "linecolor": "white",
             "minorgridcolor": "white",
             "startlinecolor": "#2a3f5f"
            },
            "baxis": {
             "endlinecolor": "#2a3f5f",
             "gridcolor": "white",
             "linecolor": "white",
             "minorgridcolor": "white",
             "startlinecolor": "#2a3f5f"
            },
            "type": "carpet"
           }
          ],
          "choropleth": [
           {
            "colorbar": {
             "outlinewidth": 0,
             "ticks": ""
            },
            "type": "choropleth"
           }
          ],
          "contour": [
           {
            "colorbar": {
             "outlinewidth": 0,
             "ticks": ""
            },
            "colorscale": [
             [
              0,
              "#0d0887"
             ],
             [
              0.1111111111111111,
              "#46039f"
             ],
             [
              0.2222222222222222,
              "#7201a8"
             ],
             [
              0.3333333333333333,
              "#9c179e"
             ],
             [
              0.4444444444444444,
              "#bd3786"
             ],
             [
              0.5555555555555556,
              "#d8576b"
             ],
             [
              0.6666666666666666,
              "#ed7953"
             ],
             [
              0.7777777777777778,
              "#fb9f3a"
             ],
             [
              0.8888888888888888,
              "#fdca26"
             ],
             [
              1,
              "#f0f921"
             ]
            ],
            "type": "contour"
           }
          ],
          "contourcarpet": [
           {
            "colorbar": {
             "outlinewidth": 0,
             "ticks": ""
            },
            "type": "contourcarpet"
           }
          ],
          "heatmap": [
           {
            "colorbar": {
             "outlinewidth": 0,
             "ticks": ""
            },
            "colorscale": [
             [
              0,
              "#0d0887"
             ],
             [
              0.1111111111111111,
              "#46039f"
             ],
             [
              0.2222222222222222,
              "#7201a8"
             ],
             [
              0.3333333333333333,
              "#9c179e"
             ],
             [
              0.4444444444444444,
              "#bd3786"
             ],
             [
              0.5555555555555556,
              "#d8576b"
             ],
             [
              0.6666666666666666,
              "#ed7953"
             ],
             [
              0.7777777777777778,
              "#fb9f3a"
             ],
             [
              0.8888888888888888,
              "#fdca26"
             ],
             [
              1,
              "#f0f921"
             ]
            ],
            "type": "heatmap"
           }
          ],
          "histogram": [
           {
            "marker": {
             "pattern": {
              "fillmode": "overlay",
              "size": 10,
              "solidity": 0.2
             }
            },
            "type": "histogram"
           }
          ],
          "histogram2d": [
           {
            "colorbar": {
             "outlinewidth": 0,
             "ticks": ""
            },
            "colorscale": [
             [
              0,
              "#0d0887"
             ],
             [
              0.1111111111111111,
              "#46039f"
             ],
             [
              0.2222222222222222,
              "#7201a8"
             ],
             [
              0.3333333333333333,
              "#9c179e"
             ],
             [
              0.4444444444444444,
              "#bd3786"
             ],
             [
              0.5555555555555556,
              "#d8576b"
             ],
             [
              0.6666666666666666,
              "#ed7953"
             ],
             [
              0.7777777777777778,
              "#fb9f3a"
             ],
             [
              0.8888888888888888,
              "#fdca26"
             ],
             [
              1,
              "#f0f921"
             ]
            ],
            "type": "histogram2d"
           }
          ],
          "histogram2dcontour": [
           {
            "colorbar": {
             "outlinewidth": 0,
             "ticks": ""
            },
            "colorscale": [
             [
              0,
              "#0d0887"
             ],
             [
              0.1111111111111111,
              "#46039f"
             ],
             [
              0.2222222222222222,
              "#7201a8"
             ],
             [
              0.3333333333333333,
              "#9c179e"
             ],
             [
              0.4444444444444444,
              "#bd3786"
             ],
             [
              0.5555555555555556,
              "#d8576b"
             ],
             [
              0.6666666666666666,
              "#ed7953"
             ],
             [
              0.7777777777777778,
              "#fb9f3a"
             ],
             [
              0.8888888888888888,
              "#fdca26"
             ],
             [
              1,
              "#f0f921"
             ]
            ],
            "type": "histogram2dcontour"
           }
          ],
          "mesh3d": [
           {
            "colorbar": {
             "outlinewidth": 0,
             "ticks": ""
            },
            "type": "mesh3d"
           }
          ],
          "parcoords": [
           {
            "line": {
             "colorbar": {
              "outlinewidth": 0,
              "ticks": ""
             }
            },
            "type": "parcoords"
           }
          ],
          "pie": [
           {
            "automargin": true,
            "type": "pie"
           }
          ],
          "scatter": [
           {
            "fillpattern": {
             "fillmode": "overlay",
             "size": 10,
             "solidity": 0.2
            },
            "type": "scatter"
           }
          ],
          "scatter3d": [
           {
            "line": {
             "colorbar": {
              "outlinewidth": 0,
              "ticks": ""
             }
            },
            "marker": {
             "colorbar": {
              "outlinewidth": 0,
              "ticks": ""
             }
            },
            "type": "scatter3d"
           }
          ],
          "scattercarpet": [
           {
            "marker": {
             "colorbar": {
              "outlinewidth": 0,
              "ticks": ""
             }
            },
            "type": "scattercarpet"
           }
          ],
          "scattergeo": [
           {
            "marker": {
             "colorbar": {
              "outlinewidth": 0,
              "ticks": ""
             }
            },
            "type": "scattergeo"
           }
          ],
          "scattergl": [
           {
            "marker": {
             "colorbar": {
              "outlinewidth": 0,
              "ticks": ""
             }
            },
            "type": "scattergl"
           }
          ],
          "scattermap": [
           {
            "marker": {
             "colorbar": {
              "outlinewidth": 0,
              "ticks": ""
             }
            },
            "type": "scattermap"
           }
          ],
          "scattermapbox": [
           {
            "marker": {
             "colorbar": {
              "outlinewidth": 0,
              "ticks": ""
             }
            },
            "type": "scattermapbox"
           }
          ],
          "scatterpolar": [
           {
            "marker": {
             "colorbar": {
              "outlinewidth": 0,
              "ticks": ""
             }
            },
            "type": "scatterpolar"
           }
          ],
          "scatterpolargl": [
           {
            "marker": {
             "colorbar": {
              "outlinewidth": 0,
              "ticks": ""
             }
            },
            "type": "scatterpolargl"
           }
          ],
          "scatterternary": [
           {
            "marker": {
             "colorbar": {
              "outlinewidth": 0,
              "ticks": ""
             }
            },
            "type": "scatterternary"
           }
          ],
          "surface": [
           {
            "colorbar": {
             "outlinewidth": 0,
             "ticks": ""
            },
            "colorscale": [
             [
              0,
              "#0d0887"
             ],
             [
              0.1111111111111111,
              "#46039f"
             ],
             [
              0.2222222222222222,
              "#7201a8"
             ],
             [
              0.3333333333333333,
              "#9c179e"
             ],
             [
              0.4444444444444444,
              "#bd3786"
             ],
             [
              0.5555555555555556,
              "#d8576b"
             ],
             [
              0.6666666666666666,
              "#ed7953"
             ],
             [
              0.7777777777777778,
              "#fb9f3a"
             ],
             [
              0.8888888888888888,
              "#fdca26"
             ],
             [
              1,
              "#f0f921"
             ]
            ],
            "type": "surface"
           }
          ],
          "table": [
           {
            "cells": {
             "fill": {
              "color": "#EBF0F8"
             },
             "line": {
              "color": "white"
             }
            },
            "header": {
             "fill": {
              "color": "#C8D4E3"
             },
             "line": {
              "color": "white"
             }
            },
            "type": "table"
           }
          ]
         },
         "layout": {
          "annotationdefaults": {
           "arrowcolor": "#2a3f5f",
           "arrowhead": 0,
           "arrowwidth": 1
          },
          "autotypenumbers": "strict",
          "coloraxis": {
           "colorbar": {
            "outlinewidth": 0,
            "ticks": ""
           }
          },
          "colorscale": {
           "diverging": [
            [
             0,
             "#8e0152"
            ],
            [
             0.1,
             "#c51b7d"
            ],
            [
             0.2,
             "#de77ae"
            ],
            [
             0.3,
             "#f1b6da"
            ],
            [
             0.4,
             "#fde0ef"
            ],
            [
             0.5,
             "#f7f7f7"
            ],
            [
             0.6,
             "#e6f5d0"
            ],
            [
             0.7,
             "#b8e186"
            ],
            [
             0.8,
             "#7fbc41"
            ],
            [
             0.9,
             "#4d9221"
            ],
            [
             1,
             "#276419"
            ]
           ],
           "sequential": [
            [
             0,
             "#0d0887"
            ],
            [
             0.1111111111111111,
             "#46039f"
            ],
            [
             0.2222222222222222,
             "#7201a8"
            ],
            [
             0.3333333333333333,
             "#9c179e"
            ],
            [
             0.4444444444444444,
             "#bd3786"
            ],
            [
             0.5555555555555556,
             "#d8576b"
            ],
            [
             0.6666666666666666,
             "#ed7953"
            ],
            [
             0.7777777777777778,
             "#fb9f3a"
            ],
            [
             0.8888888888888888,
             "#fdca26"
            ],
            [
             1,
             "#f0f921"
            ]
           ],
           "sequentialminus": [
            [
             0,
             "#0d0887"
            ],
            [
             0.1111111111111111,
             "#46039f"
            ],
            [
             0.2222222222222222,
             "#7201a8"
            ],
            [
             0.3333333333333333,
             "#9c179e"
            ],
            [
             0.4444444444444444,
             "#bd3786"
            ],
            [
             0.5555555555555556,
             "#d8576b"
            ],
            [
             0.6666666666666666,
             "#ed7953"
            ],
            [
             0.7777777777777778,
             "#fb9f3a"
            ],
            [
             0.8888888888888888,
             "#fdca26"
            ],
            [
             1,
             "#f0f921"
            ]
           ]
          },
          "colorway": [
           "#636efa",
           "#EF553B",
           "#00cc96",
           "#ab63fa",
           "#FFA15A",
           "#19d3f3",
           "#FF6692",
           "#B6E880",
           "#FF97FF",
           "#FECB52"
          ],
          "font": {
           "color": "#2a3f5f"
          },
          "geo": {
           "bgcolor": "white",
           "lakecolor": "white",
           "landcolor": "#E5ECF6",
           "showlakes": true,
           "showland": true,
           "subunitcolor": "white"
          },
          "hoverlabel": {
           "align": "left"
          },
          "hovermode": "closest",
          "mapbox": {
           "style": "light"
          },
          "paper_bgcolor": "white",
          "plot_bgcolor": "#E5ECF6",
          "polar": {
           "angularaxis": {
            "gridcolor": "white",
            "linecolor": "white",
            "ticks": ""
           },
           "bgcolor": "#E5ECF6",
           "radialaxis": {
            "gridcolor": "white",
            "linecolor": "white",
            "ticks": ""
           }
          },
          "scene": {
           "xaxis": {
            "backgroundcolor": "#E5ECF6",
            "gridcolor": "white",
            "gridwidth": 2,
            "linecolor": "white",
            "showbackground": true,
            "ticks": "",
            "zerolinecolor": "white"
           },
           "yaxis": {
            "backgroundcolor": "#E5ECF6",
            "gridcolor": "white",
            "gridwidth": 2,
            "linecolor": "white",
            "showbackground": true,
            "ticks": "",
            "zerolinecolor": "white"
           },
           "zaxis": {
            "backgroundcolor": "#E5ECF6",
            "gridcolor": "white",
            "gridwidth": 2,
            "linecolor": "white",
            "showbackground": true,
            "ticks": "",
            "zerolinecolor": "white"
           }
          },
          "shapedefaults": {
           "line": {
            "color": "#2a3f5f"
           }
          },
          "ternary": {
           "aaxis": {
            "gridcolor": "white",
            "linecolor": "white",
            "ticks": ""
           },
           "baxis": {
            "gridcolor": "white",
            "linecolor": "white",
            "ticks": ""
           },
           "bgcolor": "#E5ECF6",
           "caxis": {
            "gridcolor": "white",
            "linecolor": "white",
            "ticks": ""
           }
          },
          "title": {
           "x": 0.05
          },
          "xaxis": {
           "automargin": true,
           "gridcolor": "white",
           "linecolor": "white",
           "ticks": "",
           "title": {
            "standoff": 15
           },
           "zerolinecolor": "white",
           "zerolinewidth": 2
          },
          "yaxis": {
           "automargin": true,
           "gridcolor": "white",
           "linecolor": "white",
           "ticks": "",
           "title": {
            "standoff": 15
           },
           "zerolinecolor": "white",
           "zerolinewidth": 2
          }
         }
        },
        "title": {
         "text": "Trackman Interactive Strike Zone"
        },
        "width": 700,
        "xaxis": {
         "range": [
          -15,
          15
         ],
         "title": {
          "text": "Horizontal Position (inches)"
         }
        },
        "yaxis": {
         "range": [
          10,
          50
         ],
         "title": {
          "text": "Vertical Position (inches)"
         }
        }
       }
      }
     },
     "metadata": {},
     "output_type": "display_data"
    }
   ],
   "source": [
    "plot_strike_zone_interactive(pitches)"
   ]
  },
  {
   "cell_type": "code",
   "execution_count": 11,
   "id": "cde4f349",
   "metadata": {},
   "outputs": [],
   "source": [
    "pitches.head()\n",
    "called_strikes = pitches[pitches['Pitch Called'].str.lower().str.contains('strikecalled')]"
   ]
  },
  {
   "cell_type": "code",
   "execution_count": 12,
   "id": "650bbe11",
   "metadata": {},
   "outputs": [
    {
     "data": {
      "application/vnd.plotly.v1+json": {
       "config": {
        "plotlyServerURL": "https://plot.ly"
       },
       "data": [
        {
         "hoverinfo": "text",
         "marker": {
          "color": "rgba(0,0,0,0)",
          "size": 5
         },
         "mode": "markers",
         "showlegend": false,
         "text": "Pitch #12<br>Called: StrikeCalled - Strikeout<br>Batter: Left<br>X: -11.79\"<br>Y: 17.87\"",
         "type": "scatter",
         "x": [
          -11.79036
         ],
         "y": [
          17.86584
         ]
        },
        {
         "hoverinfo": "text",
         "marker": {
          "color": "rgba(0,0,0,0)",
          "size": 5
         },
         "mode": "markers",
         "showlegend": false,
         "text": "Pitch #13<br>Called: StrikeCalled<br>Batter: Right<br>X: -9.70\"<br>Y: 34.88\"",
         "type": "scatter",
         "x": [
          -9.70032
         ],
         "y": [
          34.87932
         ]
        },
        {
         "hoverinfo": "text",
         "marker": {
          "color": "rgba(0,0,0,0)",
          "size": 5
         },
         "mode": "markers",
         "showlegend": false,
         "text": "Pitch #19<br>Called: StrikeCalled<br>Batter: Left<br>X: 2.00\"<br>Y: 40.83\"",
         "type": "scatter",
         "x": [
          2.00448
         ],
         "y": [
          40.82688
         ]
        },
        {
         "hoverinfo": "text",
         "marker": {
          "color": "rgba(0,0,0,0)",
          "size": 5
         },
         "mode": "markers",
         "showlegend": false,
         "text": "Pitch #22<br>Called: StrikeCalled<br>Batter: Right<br>X: -4.46\"<br>Y: 27.37\"",
         "type": "scatter",
         "x": [
          -4.46124
         ],
         "y": [
          27.370559999999998
         ]
        },
        {
         "hoverinfo": "text",
         "marker": {
          "color": "rgba(0,0,0,0)",
          "size": 5
         },
         "mode": "markers",
         "showlegend": false,
         "text": "Pitch #24<br>Called: StrikeCalled - Strikeout<br>Batter: Right<br>X: -5.94\"<br>Y: 37.23\"",
         "type": "scatter",
         "x": [
          -5.93868
         ],
         "y": [
          37.23084
         ]
        },
        {
         "hoverinfo": "text",
         "marker": {
          "color": "rgba(0,0,0,0)",
          "size": 5
         },
         "mode": "markers",
         "showlegend": false,
         "text": "Pitch #36<br>Called: StrikeCalled<br>Batter: Right<br>X: -6.91\"<br>Y: 16.02\"",
         "type": "scatter",
         "x": [
          -6.909
         ],
         "y": [
          16.022280000000002
         ]
        },
        {
         "hoverinfo": "text",
         "marker": {
          "color": "rgba(0,0,0,0)",
          "size": 5
         },
         "mode": "markers",
         "showlegend": false,
         "text": "Pitch #37<br>Called: StrikeCalled<br>Batter: Right<br>X: 10.62\"<br>Y: 32.04\"",
         "type": "scatter",
         "x": [
          10.61652
         ],
         "y": [
          32.036280000000005
         ]
        },
        {
         "hoverinfo": "text",
         "marker": {
          "color": "rgba(0,0,0,0)",
          "size": 5
         },
         "mode": "markers",
         "showlegend": false,
         "text": "Pitch #43<br>Called: StrikeCalled - Strikeout<br>Batter: Right<br>X: -12.56\"<br>Y: 26.25\"",
         "type": "scatter",
         "x": [
          -12.5646
         ],
         "y": [
          26.252039999999997
         ]
        },
        {
         "hoverinfo": "text",
         "marker": {
          "color": "rgba(0,0,0,0)",
          "size": 5
         },
         "mode": "markers",
         "showlegend": false,
         "text": "Pitch #44<br>Called: StrikeCalled<br>Batter: Right<br>X: -1.15\"<br>Y: 39.34\"",
         "type": "scatter",
         "x": [
          -1.15056
         ],
         "y": [
          39.342
         ]
        },
        {
         "hoverinfo": "text",
         "marker": {
          "color": "rgba(0,0,0,0)",
          "size": 5
         },
         "mode": "markers",
         "showlegend": false,
         "text": "Pitch #49<br>Called: StrikeCalled<br>Batter: Right<br>X: -10.90\"<br>Y: 22.89\"",
         "type": "scatter",
         "x": [
          -10.89876
         ],
         "y": [
          22.89168
         ]
        },
        {
         "hoverinfo": "text",
         "marker": {
          "color": "rgba(0,0,0,0)",
          "size": 5
         },
         "mode": "markers",
         "showlegend": false,
         "text": "Pitch #52<br>Called: StrikeCalled<br>Batter: Right<br>X: -13.84\"<br>Y: 30.88\"",
         "type": "scatter",
         "x": [
          -13.8408
         ],
         "y": [
          30.87576
         ]
        },
        {
         "hoverinfo": "text",
         "marker": {
          "color": "rgba(0,0,0,0)",
          "size": 5
         },
         "mode": "markers",
         "showlegend": false,
         "text": "Pitch #54<br>Called: StrikeCalled<br>Batter: Left<br>X: 3.45\"<br>Y: 22.20\"",
         "type": "scatter",
         "x": [
          3.4477200000000003
         ],
         "y": [
          22.199759999999998
         ]
        },
        {
         "hoverinfo": "text",
         "marker": {
          "color": "rgba(0,0,0,0)",
          "size": 5
         },
         "mode": "markers",
         "showlegend": false,
         "text": "Pitch #60<br>Called: StrikeCalled<br>Batter: Right<br>X: 6.10\"<br>Y: 21.54\"",
         "type": "scatter",
         "x": [
          6.09924
         ],
         "y": [
          21.53568
         ]
        },
        {
         "hoverinfo": "text",
         "marker": {
          "color": "rgba(0,0,0,0)",
          "size": 5
         },
         "mode": "markers",
         "showlegend": false,
         "text": "Pitch #61<br>Called: StrikeCalled<br>Batter: Right<br>X: 2.87\"<br>Y: 19.45\"",
         "type": "scatter",
         "x": [
          2.87256
         ],
         "y": [
          19.44756
         ]
        },
        {
         "hoverinfo": "text",
         "marker": {
          "color": "rgba(0,0,0,0)",
          "size": 5
         },
         "mode": "markers",
         "showlegend": false,
         "text": "Pitch #62<br>Called: StrikeCalled - Strikeout<br>Batter: Right<br>X: -12.25\"<br>Y: 25.18\"",
         "type": "scatter",
         "x": [
          -12.25104
         ],
         "y": [
          25.1832
         ]
        },
        {
         "hoverinfo": "text",
         "marker": {
          "color": "rgba(0,0,0,0)",
          "size": 5
         },
         "mode": "markers",
         "showlegend": false,
         "text": "Pitch #84<br>Called: StrikeCalled<br>Batter: Right<br>X: -12.56\"<br>Y: 39.20\"",
         "type": "scatter",
         "x": [
          -12.56232
         ],
         "y": [
          39.201359999999994
         ]
        },
        {
         "hoverinfo": "text",
         "marker": {
          "color": "rgba(0,0,0,0)",
          "size": 5
         },
         "mode": "markers",
         "showlegend": false,
         "text": "Pitch #87<br>Called: StrikeCalled<br>Batter: Right<br>X: -10.80\"<br>Y: 18.41\"",
         "type": "scatter",
         "x": [
          -10.7964
         ],
         "y": [
          18.40764
         ]
        },
        {
         "hoverinfo": "text",
         "marker": {
          "color": "rgba(0,0,0,0)",
          "size": 5
         },
         "mode": "markers",
         "showlegend": false,
         "text": "Pitch #88<br>Called: StrikeCalled<br>Batter: Right<br>X: 7.86\"<br>Y: 39.81\"",
         "type": "scatter",
         "x": [
          7.8557999999999995
         ],
         "y": [
          39.8136
         ]
        },
        {
         "hoverinfo": "text",
         "marker": {
          "color": "rgba(0,0,0,0)",
          "size": 5
         },
         "mode": "markers",
         "showlegend": false,
         "text": "Pitch #95<br>Called: StrikeCalled<br>Batter: Right<br>X: -5.19\"<br>Y: 20.28\"",
         "type": "scatter",
         "x": [
          -5.1876
         ],
         "y": [
          20.277720000000002
         ]
        },
        {
         "hoverinfo": "text",
         "marker": {
          "color": "rgba(0,0,0,0)",
          "size": 5
         },
         "mode": "markers",
         "showlegend": false,
         "text": "Pitch #103<br>Called: StrikeCalled<br>Batter: Left<br>X: 13.36\"<br>Y: 38.48\"",
         "type": "scatter",
         "x": [
          13.35852
         ],
         "y": [
          38.4846
         ]
        },
        {
         "hoverinfo": "text",
         "marker": {
          "color": "rgba(0,0,0,0)",
          "size": 5
         },
         "mode": "markers",
         "showlegend": false,
         "text": "Pitch #113<br>Called: StrikeCalled<br>Batter: Right<br>X: 0.12\"<br>Y: 23.74\"",
         "type": "scatter",
         "x": [
          0.11544
         ],
         "y": [
          23.73576
         ]
        },
        {
         "hoverinfo": "text",
         "marker": {
          "color": "rgba(0,0,0,0)",
          "size": 5
         },
         "mode": "markers",
         "showlegend": false,
         "text": "Pitch #114<br>Called: StrikeCalled<br>Batter: Right<br>X: -15.23\"<br>Y: 31.28\"",
         "type": "scatter",
         "x": [
          -15.22932
         ],
         "y": [
          31.275959999999998
         ]
        },
        {
         "hoverinfo": "text",
         "marker": {
          "color": "rgba(0,0,0,0)",
          "size": 5
         },
         "mode": "markers",
         "showlegend": false,
         "text": "Pitch #121<br>Called: StrikeCalled<br>Batter: Left<br>X: 0.51\"<br>Y: 30.04\"",
         "type": "scatter",
         "x": [
          0.5075999999999999
         ],
         "y": [
          30.039839999999998
         ]
        },
        {
         "hoverinfo": "text",
         "marker": {
          "color": "rgba(0,0,0,0)",
          "size": 5
         },
         "mode": "markers",
         "showlegend": false,
         "text": "Pitch #124<br>Called: StrikeCalled<br>Batter: Right<br>X: 4.38\"<br>Y: 23.08\"",
         "type": "scatter",
         "x": [
          4.384320000000001
         ],
         "y": [
          23.076
         ]
        },
        {
         "hoverinfo": "text",
         "marker": {
          "color": "rgba(0,0,0,0)",
          "size": 5
         },
         "mode": "markers",
         "showlegend": false,
         "text": "Pitch #130<br>Called: StrikeCalled<br>Batter: Right<br>X: 10.87\"<br>Y: 26.22\"",
         "type": "scatter",
         "x": [
          10.86732
         ],
         "y": [
          26.22408
         ]
        },
        {
         "hoverinfo": "text",
         "marker": {
          "color": "rgba(0,0,0,0)",
          "size": 5
         },
         "mode": "markers",
         "showlegend": false,
         "text": "Pitch #133<br>Called: StrikeCalled<br>Batter: Right<br>X: 11.02\"<br>Y: 32.41\"",
         "type": "scatter",
         "x": [
          11.01924
         ],
         "y": [
          32.4078
         ]
        },
        {
         "hoverinfo": "text",
         "marker": {
          "color": "rgba(0,0,0,0)",
          "size": 5
         },
         "mode": "markers",
         "showlegend": false,
         "text": "Pitch #140<br>Called: StrikeCalled<br>Batter: Right<br>X: 0.53\"<br>Y: 19.63\"",
         "type": "scatter",
         "x": [
          0.52536
         ],
         "y": [
          19.62672
         ]
        },
        {
         "hoverinfo": "text",
         "marker": {
          "color": "rgba(0,0,0,0)",
          "size": 5
         },
         "mode": "markers",
         "showlegend": false,
         "text": "Pitch #144<br>Called: StrikeCalled<br>Batter: Right<br>X: -7.26\"<br>Y: 25.39\"",
         "type": "scatter",
         "x": [
          -7.26024
         ],
         "y": [
          25.39056
         ]
        },
        {
         "hoverinfo": "text",
         "marker": {
          "color": "rgba(0,0,0,0)",
          "size": 5
         },
         "mode": "markers",
         "showlegend": false,
         "text": "Pitch #150<br>Called: StrikeCalled<br>Batter: Right<br>X: -10.81\"<br>Y: 28.30\"",
         "type": "scatter",
         "x": [
          -10.811160000000001
         ],
         "y": [
          28.29576
         ]
        },
        {
         "hoverinfo": "text",
         "marker": {
          "color": "rgba(0,0,0,0)",
          "size": 5
         },
         "mode": "markers",
         "showlegend": false,
         "text": "Pitch #151<br>Called: StrikeCalled<br>Batter: Right<br>X: 0.94\"<br>Y: 28.67\"",
         "type": "scatter",
         "x": [
          0.94116
         ],
         "y": [
          28.670160000000003
         ]
        },
        {
         "hoverinfo": "text",
         "marker": {
          "color": "rgba(0,0,0,0)",
          "size": 5
         },
         "mode": "markers",
         "showlegend": false,
         "text": "Pitch #153<br>Called: StrikeCalled<br>Batter: Right<br>X: -5.09\"<br>Y: 22.21\"",
         "type": "scatter",
         "x": [
          -5.09424
         ],
         "y": [
          22.20624
         ]
        },
        {
         "hoverinfo": "text",
         "marker": {
          "color": "rgba(0,0,0,0)",
          "size": 5
         },
         "mode": "markers",
         "showlegend": false,
         "text": "Pitch #154<br>Called: StrikeCalled<br>Batter: Right<br>X: 1.16\"<br>Y: 32.13\"",
         "type": "scatter",
         "x": [
          1.16448
         ],
         "y": [
          32.1336
         ]
        },
        {
         "hoverinfo": "text",
         "marker": {
          "color": "rgba(0,0,0,0)",
          "size": 5
         },
         "mode": "markers",
         "showlegend": false,
         "text": "Pitch #158<br>Called: StrikeCalled<br>Batter: Left<br>X: 3.30\"<br>Y: 34.35\"",
         "type": "scatter",
         "x": [
          3.29868
         ],
         "y": [
          34.35264
         ]
        },
        {
         "hoverinfo": "text",
         "marker": {
          "color": "rgba(0,0,0,0)",
          "size": 5
         },
         "mode": "markers",
         "showlegend": false,
         "text": "Pitch #165<br>Called: StrikeCalled<br>Batter: Left<br>X: 11.27\"<br>Y: 30.50\"",
         "type": "scatter",
         "x": [
          11.26716
         ],
         "y": [
          30.49944
         ]
        },
        {
         "hoverinfo": "text",
         "marker": {
          "color": "rgba(0,0,0,0)",
          "size": 5
         },
         "mode": "markers",
         "showlegend": false,
         "text": "Pitch #166<br>Called: StrikeCalled<br>Batter: Left<br>X: 4.90\"<br>Y: 34.74\"",
         "type": "scatter",
         "x": [
          4.9038
         ],
         "y": [
          34.74084
         ]
        },
        {
         "hoverinfo": "text",
         "marker": {
          "color": "rgba(0,0,0,0)",
          "size": 5
         },
         "mode": "markers",
         "showlegend": false,
         "text": "Pitch #172<br>Called: StrikeCalled<br>Batter: Left<br>X: -4.16\"<br>Y: 39.42\"",
         "type": "scatter",
         "x": [
          -4.16364
         ],
         "y": [
          39.418440000000004
         ]
        },
        {
         "hoverinfo": "text",
         "marker": {
          "color": "rgba(0,0,0,0)",
          "size": 5
         },
         "mode": "markers",
         "showlegend": false,
         "text": "Pitch #173<br>Called: StrikeCalled<br>Batter: Left<br>X: 12.07\"<br>Y: 37.91\"",
         "type": "scatter",
         "x": [
          12.07404
         ],
         "y": [
          37.9146
         ]
        },
        {
         "hoverinfo": "text",
         "marker": {
          "color": "rgba(0,0,0,0)",
          "size": 5
         },
         "mode": "markers",
         "showlegend": false,
         "text": "Pitch #174<br>Called: StrikeCalled - Strikeout<br>Batter: Left<br>X: 0.66\"<br>Y: 10.22\"",
         "type": "scatter",
         "x": [
          0.6624
         ],
         "y": [
          10.22052
         ]
        },
        {
         "hoverinfo": "text",
         "marker": {
          "color": "rgba(0,0,0,0)",
          "size": 5
         },
         "mode": "markers",
         "showlegend": false,
         "text": "Pitch #178<br>Called: StrikeCalled<br>Batter: Right<br>X: -2.47\"<br>Y: 32.51\"",
         "type": "scatter",
         "x": [
          -2.4679200000000003
         ],
         "y": [
          32.50608
         ]
        },
        {
         "hoverinfo": "text",
         "marker": {
          "color": "rgba(0,0,0,0)",
          "size": 5
         },
         "mode": "markers",
         "showlegend": false,
         "text": "Pitch #179<br>Called: StrikeCalled<br>Batter: Right<br>X: -2.02\"<br>Y: 35.89\"",
         "type": "scatter",
         "x": [
          -2.0178
         ],
         "y": [
          35.88588
         ]
        },
        {
         "hoverinfo": "text",
         "marker": {
          "color": "rgba(0,0,0,0)",
          "size": 5
         },
         "mode": "markers",
         "showlegend": false,
         "text": "Pitch #193<br>Called: StrikeCalled<br>Batter: Right<br>X: -10.83\"<br>Y: 24.34\"",
         "type": "scatter",
         "x": [
          -10.829039999999999
         ],
         "y": [
          24.34488
         ]
        },
        {
         "hoverinfo": "text",
         "marker": {
          "color": "rgba(0,0,0,0)",
          "size": 5
         },
         "mode": "markers",
         "showlegend": false,
         "text": "Pitch #205<br>Called: StrikeCalled<br>Batter: Right<br>X: -8.82\"<br>Y: 25.59\"",
         "type": "scatter",
         "x": [
          -8.819519999999999
         ],
         "y": [
          25.591320000000003
         ]
        },
        {
         "hoverinfo": "text",
         "marker": {
          "color": "rgba(0,0,0,0)",
          "size": 5
         },
         "mode": "markers",
         "showlegend": false,
         "text": "Pitch #233<br>Called: StrikeCalled<br>Batter: Left<br>X: -6.17\"<br>Y: 17.56\"",
         "type": "scatter",
         "x": [
          -6.16716
         ],
         "y": [
          17.55672
         ]
        },
        {
         "hoverinfo": "text",
         "marker": {
          "color": "rgba(0,0,0,0)",
          "size": 5
         },
         "mode": "markers",
         "showlegend": false,
         "text": "Pitch #239<br>Called: StrikeCalled<br>Batter: Left<br>X: 5.93\"<br>Y: 20.66\"",
         "type": "scatter",
         "x": [
          5.9256
         ],
         "y": [
          20.664
         ]
        },
        {
         "hoverinfo": "text",
         "marker": {
          "color": "rgba(0,0,0,0)",
          "size": 5
         },
         "mode": "markers",
         "showlegend": false,
         "text": "Pitch #240<br>Called: StrikeCalled<br>Batter: Left<br>X: 6.77\"<br>Y: 28.54\"",
         "type": "scatter",
         "x": [
          6.7661999999999995
         ],
         "y": [
          28.538159999999998
         ]
        },
        {
         "hoverinfo": "text",
         "marker": {
          "color": "rgba(0,0,0,0)",
          "size": 5
         },
         "mode": "markers",
         "showlegend": false,
         "text": "Pitch #241<br>Called: StrikeCalled - Strikeout<br>Batter: Left<br>X: 8.33\"<br>Y: 33.73\"",
         "type": "scatter",
         "x": [
          8.334119999999999
         ],
         "y": [
          33.732839999999996
         ]
        },
        {
         "hoverinfo": "text",
         "marker": {
          "color": "rgba(0,0,0,0)",
          "size": 5
         },
         "mode": "markers",
         "showlegend": false,
         "text": "Pitch #242<br>Called: StrikeCalled<br>Batter: Right<br>X: -12.30\"<br>Y: 38.12\"",
         "type": "scatter",
         "x": [
          -12.302760000000001
         ],
         "y": [
          38.11692
         ]
        },
        {
         "hoverinfo": "text",
         "marker": {
          "color": "rgba(0,0,0,0)",
          "size": 5
         },
         "mode": "markers",
         "showlegend": false,
         "text": "Pitch #243<br>Called: StrikeCalled<br>Batter: Right<br>X: -1.02\"<br>Y: 21.12\"",
         "type": "scatter",
         "x": [
          -1.02132
         ],
         "y": [
          21.12072
         ]
        },
        {
         "hoverinfo": "text",
         "marker": {
          "color": "rgba(0,0,0,0)",
          "size": 5
         },
         "mode": "markers",
         "showlegend": false,
         "text": "Pitch #245<br>Called: StrikeCalled - Strikeout<br>Batter: Right<br>X: -18.34\"<br>Y: 36.29\"",
         "type": "scatter",
         "x": [
          -18.342
         ],
         "y": [
          36.28644
         ]
        },
        {
         "hoverinfo": "text",
         "marker": {
          "color": "rgba(0,0,0,0)",
          "size": 5
         },
         "mode": "markers",
         "showlegend": false,
         "text": "Pitch #252<br>Called: StrikeCalled<br>Batter: Right<br>X: -5.76\"<br>Y: 24.13\"",
         "type": "scatter",
         "x": [
          -5.76252
         ],
         "y": [
          24.13152
         ]
        },
        {
         "hoverinfo": "text",
         "marker": {
          "color": "rgba(0,0,0,0)",
          "size": 5
         },
         "mode": "markers",
         "showlegend": false,
         "text": "Pitch #254<br>Called: StrikeCalled - Strikeout<br>Batter: Right<br>X: -6.77\"<br>Y: 42.21\"",
         "type": "scatter",
         "x": [
          -6.766439999999999
         ],
         "y": [
          42.21432
         ]
        },
        {
         "hoverinfo": "text",
         "marker": {
          "color": "rgba(0,0,0,0)",
          "size": 5
         },
         "mode": "markers",
         "showlegend": false,
         "text": "Pitch #270<br>Called: StrikeCalled<br>Batter: Right<br>X: -12.94\"<br>Y: 33.34\"",
         "type": "scatter",
         "x": [
          -12.936480000000001
         ],
         "y": [
          33.3354
         ]
        },
        {
         "hoverinfo": "text",
         "marker": {
          "color": "rgba(0,0,0,0)",
          "size": 5
         },
         "mode": "markers",
         "showlegend": false,
         "text": "Pitch #278<br>Called: StrikeCalled<br>Batter: Right<br>X: -5.39\"<br>Y: 36.72\"",
         "type": "scatter",
         "x": [
          -5.3872800000000005
         ],
         "y": [
          36.7194
         ]
        },
        {
         "hoverinfo": "text",
         "marker": {
          "color": "rgba(0,0,0,0)",
          "size": 5
         },
         "mode": "markers",
         "showlegend": false,
         "text": "Pitch #279<br>Called: StrikeCalled<br>Batter: Right<br>X: 4.67\"<br>Y: 34.98\"",
         "type": "scatter",
         "x": [
          4.67448
         ],
         "y": [
          34.97688
         ]
        },
        {
         "hoverinfo": "text",
         "marker": {
          "color": "rgba(0,0,0,0)",
          "size": 5
         },
         "mode": "markers",
         "showlegend": false,
         "text": "Pitch #281<br>Called: StrikeCalled - Strikeout<br>Batter: Right<br>X: -1.74\"<br>Y: 38.98\"",
         "type": "scatter",
         "x": [
          -1.7436000000000003
         ],
         "y": [
          38.97804
         ]
        },
        {
         "hoverinfo": "text",
         "marker": {
          "color": "rgba(0,0,0,0)",
          "size": 5
         },
         "mode": "markers",
         "showlegend": false,
         "text": "Pitch #284<br>Called: StrikeCalled<br>Batter: Right<br>X: -7.35\"<br>Y: 31.13\"",
         "type": "scatter",
         "x": [
          -7.351319999999999
         ],
         "y": [
          31.13256
         ]
        },
        {
         "hoverinfo": "text",
         "marker": {
          "color": "rgba(0,0,0,0)",
          "size": 5
         },
         "mode": "markers",
         "showlegend": false,
         "text": "Pitch #294<br>Called: StrikeCalled<br>Batter: Left<br>X: -2.70\"<br>Y: 22.86\"",
         "type": "scatter",
         "x": [
          -2.70228
         ],
         "y": [
          22.85544
         ]
        },
        {
         "hoverinfo": "text",
         "marker": {
          "color": "rgba(0,0,0,0)",
          "size": 5
         },
         "mode": "markers",
         "showlegend": false,
         "text": "Pitch #297<br>Called: StrikeCalled<br>Batter: Right<br>X: -8.25\"<br>Y: 19.94\"",
         "type": "scatter",
         "x": [
          -8.254439999999999
         ],
         "y": [
          19.94124
         ]
        },
        {
         "hoverinfo": "text",
         "marker": {
          "color": "rgba(0,0,0,0)",
          "size": 5
         },
         "mode": "markers",
         "showlegend": false,
         "text": "Pitch #299<br>Called: StrikeCalled<br>Batter: Right<br>X: -4.58\"<br>Y: 18.83\"",
         "type": "scatter",
         "x": [
          -4.57512
         ],
         "y": [
          18.83472
         ]
        },
        {
         "hoverinfo": "text",
         "marker": {
          "color": "rgba(0,0,0,0)",
          "size": 5
         },
         "mode": "markers",
         "showlegend": false,
         "text": "Pitch #2<br>Called: StrikeCalled<br>Batter: Left<br>X: 10.88\"<br>Y: 38.23\"",
         "type": "scatter",
         "x": [
          10.8762
         ],
         "y": [
          38.234159999999996
         ]
        },
        {
         "hoverinfo": "text",
         "marker": {
          "color": "rgba(0,0,0,0)",
          "size": 5
         },
         "mode": "markers",
         "showlegend": false,
         "text": "Pitch #8<br>Called: StrikeCalled<br>Batter: Left<br>X: 7.50\"<br>Y: 39.52\"",
         "type": "scatter",
         "x": [
          7.50372
         ],
         "y": [
          39.51744
         ]
        },
        {
         "hoverinfo": "text",
         "marker": {
          "color": "rgba(0,0,0,0)",
          "size": 5
         },
         "mode": "markers",
         "showlegend": false,
         "text": "Pitch #9<br>Called: StrikeCalled<br>Batter: Left<br>X: 7.81\"<br>Y: 36.02\"",
         "type": "scatter",
         "x": [
          7.809000000000001
         ],
         "y": [
          36.01728
         ]
        },
        {
         "hoverinfo": "text",
         "marker": {
          "color": "rgba(0,0,0,0)",
          "size": 5
         },
         "mode": "markers",
         "showlegend": false,
         "text": "Pitch #17<br>Called: StrikeCalled<br>Batter: Right<br>X: 10.08\"<br>Y: 31.27\"",
         "type": "scatter",
         "x": [
          10.081199999999999
         ],
         "y": [
          31.27176
         ]
        },
        {
         "hoverinfo": "text",
         "marker": {
          "color": "rgba(0,0,0,0)",
          "size": 5
         },
         "mode": "markers",
         "showlegend": false,
         "text": "Pitch #19<br>Called: StrikeCalled - Strikeout<br>Batter: Right<br>X: -12.84\"<br>Y: 24.88\"",
         "type": "scatter",
         "x": [
          -12.83916
         ],
         "y": [
          24.877319999999997
         ]
        },
        {
         "hoverinfo": "text",
         "marker": {
          "color": "rgba(0,0,0,0)",
          "size": 5
         },
         "mode": "markers",
         "showlegend": false,
         "text": "Pitch #25<br>Called: StrikeCalled<br>Batter: Right<br>X: 11.97\"<br>Y: 22.46\"",
         "type": "scatter",
         "x": [
          11.97456
         ],
         "y": [
          22.46004
         ]
        },
        {
         "hoverinfo": "text",
         "marker": {
          "color": "rgba(0,0,0,0)",
          "size": 5
         },
         "mode": "markers",
         "showlegend": false,
         "text": "Pitch #32<br>Called: StrikeCalled<br>Batter: Left<br>X: -9.74\"<br>Y: 35.42\"",
         "type": "scatter",
         "x": [
          -9.74412
         ],
         "y": [
          35.42004
         ]
        },
        {
         "hoverinfo": "text",
         "marker": {
          "color": "rgba(0,0,0,0)",
          "size": 5
         },
         "mode": "markers",
         "showlegend": false,
         "text": "Pitch #49<br>Called: StrikeCalled<br>Batter: Right<br>X: -3.37\"<br>Y: 38.54\"",
         "type": "scatter",
         "x": [
          -3.3744
         ],
         "y": [
          38.54484
         ]
        },
        {
         "hoverinfo": "text",
         "marker": {
          "color": "rgba(0,0,0,0)",
          "size": 5
         },
         "mode": "markers",
         "showlegend": false,
         "text": "Pitch #51<br>Called: StrikeCalled<br>Batter: Left<br>X: 1.32\"<br>Y: 22.03\"",
         "type": "scatter",
         "x": [
          1.31748
         ],
         "y": [
          22.02516
         ]
        },
        {
         "hoverinfo": "text",
         "marker": {
          "color": "rgba(0,0,0,0)",
          "size": 5
         },
         "mode": "markers",
         "showlegend": false,
         "text": "Pitch #62<br>Called: StrikeCalled<br>Batter: Right<br>X: -8.78\"<br>Y: 35.39\"",
         "type": "scatter",
         "x": [
          -8.78376
         ],
         "y": [
          35.39076
         ]
        },
        {
         "hoverinfo": "text",
         "marker": {
          "color": "rgba(0,0,0,0)",
          "size": 5
         },
         "mode": "markers",
         "showlegend": false,
         "text": "Pitch #66<br>Called: StrikeCalled<br>Batter: Right<br>X: 5.84\"<br>Y: 24.82\"",
         "type": "scatter",
         "x": [
          5.83884
         ],
         "y": [
          24.82296
         ]
        },
        {
         "hoverinfo": "text",
         "marker": {
          "color": "rgba(0,0,0,0)",
          "size": 5
         },
         "mode": "markers",
         "showlegend": false,
         "text": "Pitch #68<br>Called: StrikeCalled - StolenBase<br>Batter: Right<br>X: -2.83\"<br>Y: 29.48\"",
         "type": "scatter",
         "x": [
          -2.82984
         ],
         "y": [
          29.481
         ]
        },
        {
         "hoverinfo": "text",
         "marker": {
          "color": "rgba(0,0,0,0)",
          "size": 5
         },
         "mode": "markers",
         "showlegend": false,
         "text": "Pitch #70<br>Called: StrikeCalled<br>Batter: Right<br>X: 6.38\"<br>Y: 31.93\"",
         "type": "scatter",
         "x": [
          6.375119999999999
         ],
         "y": [
          31.933080000000004
         ]
        },
        {
         "hoverinfo": "text",
         "marker": {
          "color": "rgba(0,0,0,0)",
          "size": 5
         },
         "mode": "markers",
         "showlegend": false,
         "text": "Pitch #77<br>Called: StrikeCalled<br>Batter: Left<br>X: 1.56\"<br>Y: 31.92\"",
         "type": "scatter",
         "x": [
          1.5642
         ],
         "y": [
          31.91556
         ]
        },
        {
         "hoverinfo": "text",
         "marker": {
          "color": "rgba(0,0,0,0)",
          "size": 5
         },
         "mode": "markers",
         "showlegend": false,
         "text": "Pitch #87<br>Called: StrikeCalled<br>Batter: Right<br>X: -4.07\"<br>Y: 31.16\"",
         "type": "scatter",
         "x": [
          -4.0662
         ],
         "y": [
          31.156200000000002
         ]
        },
        {
         "hoverinfo": "text",
         "marker": {
          "color": "rgba(0,0,0,0)",
          "size": 5
         },
         "mode": "markers",
         "showlegend": false,
         "text": "Pitch #95<br>Called: StrikeCalled<br>Batter: Right<br>X: -12.95\"<br>Y: 30.17\"",
         "type": "scatter",
         "x": [
          -12.946560000000002
         ],
         "y": [
          30.17028
         ]
        },
        {
         "hoverinfo": "text",
         "marker": {
          "color": "rgba(0,0,0,0)",
          "size": 5
         },
         "mode": "markers",
         "showlegend": false,
         "text": "Pitch #98<br>Called: StrikeCalled - Strikeout<br>Batter: Right<br>X: -7.57\"<br>Y: 31.94\"",
         "type": "scatter",
         "x": [
          -7.5746400000000005
         ],
         "y": [
          31.94316
         ]
        },
        {
         "hoverinfo": "text",
         "marker": {
          "color": "rgba(0,0,0,0)",
          "size": 5
         },
         "mode": "markers",
         "showlegend": false,
         "text": "Pitch #99<br>Called: StrikeCalled<br>Batter: Left<br>X: 2.97\"<br>Y: 42.28\"",
         "type": "scatter",
         "x": [
          2.97216
         ],
         "y": [
          42.28056
         ]
        },
        {
         "hoverinfo": "text",
         "marker": {
          "color": "rgba(0,0,0,0)",
          "size": 5
         },
         "mode": "markers",
         "showlegend": false,
         "text": "Pitch #103<br>Called: StrikeCalled<br>Batter: Right<br>X: 2.78\"<br>Y: 25.36\"",
         "type": "scatter",
         "x": [
          2.7762000000000002
         ],
         "y": [
          25.358999999999998
         ]
        },
        {
         "hoverinfo": "text",
         "marker": {
          "color": "rgba(0,0,0,0)",
          "size": 5
         },
         "mode": "markers",
         "showlegend": false,
         "text": "Pitch #122<br>Called: StrikeCalled<br>Batter: Left<br>X: -7.06\"<br>Y: 41.29\"",
         "type": "scatter",
         "x": [
          -7.062479999999999
         ],
         "y": [
          41.290800000000004
         ]
        },
        {
         "hoverinfo": "text",
         "marker": {
          "color": "rgba(0,0,0,0)",
          "size": 5
         },
         "mode": "markers",
         "showlegend": false,
         "text": "Pitch #128<br>Called: StrikeCalled<br>Batter: Left<br>X: 1.11\"<br>Y: 35.24\"",
         "type": "scatter",
         "x": [
          1.10952
         ],
         "y": [
          35.24304
         ]
        },
        {
         "hoverinfo": "text",
         "marker": {
          "color": "rgba(0,0,0,0)",
          "size": 5
         },
         "mode": "markers",
         "showlegend": false,
         "text": "Pitch #131<br>Called: StrikeCalled<br>Batter: Left<br>X: -0.27\"<br>Y: 38.49\"",
         "type": "scatter",
         "x": [
          -0.27072
         ],
         "y": [
          38.4888
         ]
        },
        {
         "hoverinfo": "text",
         "marker": {
          "color": "rgba(0,0,0,0)",
          "size": 5
         },
         "mode": "markers",
         "showlegend": false,
         "text": "Pitch #135<br>Called: StrikeCalled<br>Batter: Left<br>X: 0.48\"<br>Y: 39.24\"",
         "type": "scatter",
         "x": [
          0.48012
         ],
         "y": [
          39.2442
         ]
        },
        {
         "hoverinfo": "text",
         "marker": {
          "color": "rgba(0,0,0,0)",
          "size": 5
         },
         "mode": "markers",
         "showlegend": false,
         "text": "Pitch #147<br>Called: StrikeCalled<br>Batter: Right<br>X: 5.67\"<br>Y: 39.59\"",
         "type": "scatter",
         "x": [
          5.6746799999999995
         ],
         "y": [
          39.59448
         ]
        },
        {
         "hoverinfo": "text",
         "marker": {
          "color": "rgba(0,0,0,0)",
          "size": 5
         },
         "mode": "markers",
         "showlegend": false,
         "text": "Pitch #157<br>Called: StrikeCalled<br>Batter: Right<br>X: -3.92\"<br>Y: 26.29\"",
         "type": "scatter",
         "x": [
          -3.92436
         ],
         "y": [
          26.290080000000003
         ]
        },
        {
         "hoverinfo": "text",
         "marker": {
          "color": "rgba(0,0,0,0)",
          "size": 5
         },
         "mode": "markers",
         "showlegend": false,
         "text": "Pitch #158<br>Called: StrikeCalled<br>Batter: Right<br>X: 1.66\"<br>Y: 27.04\"",
         "type": "scatter",
         "x": [
          1.65996
         ],
         "y": [
          27.0396
         ]
        },
        {
         "hoverinfo": "text",
         "marker": {
          "color": "rgba(0,0,0,0)",
          "size": 5
         },
         "mode": "markers",
         "showlegend": false,
         "text": "Pitch #164<br>Called: StrikeCalled<br>Batter: Left<br>X: -5.65\"<br>Y: 38.84\"",
         "type": "scatter",
         "x": [
          -5.6506799999999995
         ],
         "y": [
          38.83932
         ]
        },
        {
         "hoverinfo": "text",
         "marker": {
          "color": "rgba(0,0,0,0)",
          "size": 5
         },
         "mode": "markers",
         "showlegend": false,
         "text": "Pitch #175<br>Called: StrikeCalled<br>Batter: Left<br>X: -3.21\"<br>Y: 38.61\"",
         "type": "scatter",
         "x": [
          -3.21396
         ],
         "y": [
          38.6076
         ]
        },
        {
         "hoverinfo": "text",
         "marker": {
          "color": "rgba(0,0,0,0)",
          "size": 5
         },
         "mode": "markers",
         "showlegend": false,
         "text": "Pitch #176<br>Called: StrikeCalled<br>Batter: Left<br>X: -2.75\"<br>Y: 26.02\"",
         "type": "scatter",
         "x": [
          -2.7468
         ],
         "y": [
          26.015280000000004
         ]
        },
        {
         "hoverinfo": "text",
         "marker": {
          "color": "rgba(0,0,0,0)",
          "size": 5
         },
         "mode": "markers",
         "showlegend": false,
         "text": "Pitch #179<br>Called: StrikeCalled<br>Batter: Left<br>X: -3.75\"<br>Y: 29.09\"",
         "type": "scatter",
         "x": [
          -3.75324
         ],
         "y": [
          29.094720000000002
         ]
        },
        {
         "hoverinfo": "text",
         "marker": {
          "color": "rgba(0,0,0,0)",
          "size": 5
         },
         "mode": "markers",
         "showlegend": false,
         "text": "Pitch #182<br>Called: StrikeCalled<br>Batter: Left<br>X: -4.82\"<br>Y: 22.09\"",
         "type": "scatter",
         "x": [
          -4.82424
         ],
         "y": [
          22.09488
         ]
        },
        {
         "hoverinfo": "text",
         "marker": {
          "color": "rgba(0,0,0,0)",
          "size": 5
         },
         "mode": "markers",
         "showlegend": false,
         "text": "Pitch #189<br>Called: StrikeCalled - Strikeout<br>Batter: Right<br>X: -11.02\"<br>Y: 38.65\"",
         "type": "scatter",
         "x": [
          -11.019359999999999
         ],
         "y": [
          38.64588
         ]
        },
        {
         "hoverinfo": "text",
         "marker": {
          "color": "rgba(0,0,0,0)",
          "size": 5
         },
         "mode": "markers",
         "showlegend": false,
         "text": "Pitch #190<br>Called: StrikeCalled<br>Batter: Left<br>X: -0.27\"<br>Y: 44.05\"",
         "type": "scatter",
         "x": [
          -0.26628
         ],
         "y": [
          44.04624
         ]
        },
        {
         "hoverinfo": "text",
         "marker": {
          "color": "rgba(0,0,0,0)",
          "size": 5
         },
         "mode": "markers",
         "showlegend": false,
         "text": "Pitch #192<br>Called: StrikeCalled<br>Batter: Left<br>X: 10.27\"<br>Y: 40.23\"",
         "type": "scatter",
         "x": [
          10.2708
         ],
         "y": [
          40.2258
         ]
        },
        {
         "hoverinfo": "text",
         "marker": {
          "color": "rgba(0,0,0,0)",
          "size": 5
         },
         "mode": "markers",
         "showlegend": false,
         "text": "Pitch #204<br>Called: StrikeCalled<br>Batter: Right<br>X: -10.85\"<br>Y: 43.15\"",
         "type": "scatter",
         "x": [
          -10.84956
         ],
         "y": [
          43.15044
         ]
        },
        {
         "hoverinfo": "text",
         "marker": {
          "color": "rgba(0,0,0,0)",
          "size": 5
         },
         "mode": "markers",
         "showlegend": false,
         "text": "Pitch #209<br>Called: StrikeCalled<br>Batter: Left<br>X: 4.63\"<br>Y: 27.15\"",
         "type": "scatter",
         "x": [
          4.63344
         ],
         "y": [
          27.147
         ]
        },
        {
         "hoverinfo": "text",
         "marker": {
          "color": "rgba(0,0,0,0)",
          "size": 5
         },
         "mode": "markers",
         "showlegend": false,
         "text": "Pitch #212<br>Called: StrikeCalled<br>Batter: Left<br>X: -5.74\"<br>Y: 37.85\"",
         "type": "scatter",
         "x": [
          -5.7351600000000005
         ],
         "y": [
          37.852560000000004
         ]
        },
        {
         "hoverinfo": "text",
         "marker": {
          "color": "rgba(0,0,0,0)",
          "size": 5
         },
         "mode": "markers",
         "showlegend": false,
         "text": "Pitch #214<br>Called: StrikeCalled<br>Batter: Right<br>X: -12.14\"<br>Y: 33.61\"",
         "type": "scatter",
         "x": [
          -12.13596
         ],
         "y": [
          33.6054
         ]
        },
        {
         "hoverinfo": "text",
         "marker": {
          "color": "rgba(0,0,0,0)",
          "size": 5
         },
         "mode": "markers",
         "showlegend": false,
         "text": "Pitch #218<br>Called: StrikeCalled<br>Batter: Left<br>X: -2.57\"<br>Y: 28.10\"",
         "type": "scatter",
         "x": [
          -2.57496
         ],
         "y": [
          28.099559999999997
         ]
        },
        {
         "hoverinfo": "text",
         "marker": {
          "color": "rgba(0,0,0,0)",
          "size": 5
         },
         "mode": "markers",
         "showlegend": false,
         "text": "Pitch #226<br>Called: StrikeCalled<br>Batter: Right<br>X: -6.75\"<br>Y: 36.24\"",
         "type": "scatter",
         "x": [
          -6.75204
         ],
         "y": [
          36.24168
         ]
        },
        {
         "hoverinfo": "text",
         "marker": {
          "color": "rgba(0,0,0,0)",
          "size": 5
         },
         "mode": "markers",
         "showlegend": false,
         "text": "Pitch #229<br>Called: StrikeCalled<br>Batter: Right<br>X: 0.91\"<br>Y: 17.41\"",
         "type": "scatter",
         "x": [
          0.9050400000000001
         ],
         "y": [
          17.411160000000002
         ]
        },
        {
         "hoverinfo": "text",
         "marker": {
          "color": "rgba(0,0,0,0)",
          "size": 5
         },
         "mode": "markers",
         "showlegend": false,
         "text": "Pitch #245<br>Called: StrikeCalled<br>Batter: Left<br>X: 15.17\"<br>Y: 40.77\"",
         "type": "scatter",
         "x": [
          15.16524
         ],
         "y": [
          40.76748
         ]
        },
        {
         "hoverinfo": "text",
         "marker": {
          "color": "rgba(0,0,0,0)",
          "size": 5
         },
         "mode": "markers",
         "showlegend": false,
         "text": "Pitch #246<br>Called: StrikeCalled<br>Batter: Left<br>X: -4.67\"<br>Y: 32.79\"",
         "type": "scatter",
         "x": [
          -4.67052
         ],
         "y": [
          32.79156
         ]
        },
        {
         "hoverinfo": "text",
         "marker": {
          "color": "rgba(0,0,0,0)",
          "size": 5
         },
         "mode": "markers",
         "showlegend": false,
         "text": "Pitch #259<br>Called: StrikeCalled<br>Batter: Right<br>X: -1.08\"<br>Y: 26.25\"",
         "type": "scatter",
         "x": [
          -1.0762800000000001
         ],
         "y": [
          26.253480000000003
         ]
        },
        {
         "hoverinfo": "text",
         "marker": {
          "color": "rgba(0,0,0,0)",
          "size": 5
         },
         "mode": "markers",
         "showlegend": false,
         "text": "Pitch #261<br>Called: StrikeCalled<br>Batter: Left<br>X: 14.00\"<br>Y: 39.73\"",
         "type": "scatter",
         "x": [
          14.00028
         ],
         "y": [
          39.72636
         ]
        },
        {
         "hoverinfo": "text",
         "marker": {
          "color": "rgba(0,0,0,0)",
          "size": 5
         },
         "mode": "markers",
         "showlegend": false,
         "text": "Pitch #269<br>Called: StrikeCalled<br>Batter: Left<br>X: -0.37\"<br>Y: 25.38\"",
         "type": "scatter",
         "x": [
          -0.36792
         ],
         "y": [
          25.37628
         ]
        },
        {
         "hoverinfo": "text",
         "marker": {
          "color": "rgba(0,0,0,0)",
          "size": 5
         },
         "mode": "markers",
         "showlegend": false,
         "text": "Pitch #271<br>Called: StrikeCalled<br>Batter: Right<br>X: 7.94\"<br>Y: 34.13\"",
         "type": "scatter",
         "x": [
          7.939080000000001
         ],
         "y": [
          34.13364
         ]
        },
        {
         "hoverinfo": "text",
         "marker": {
          "color": "rgba(0,0,0,0)",
          "size": 5
         },
         "mode": "markers",
         "showlegend": false,
         "text": "Pitch #276<br>Called: StrikeCalled<br>Batter: Left<br>X: -5.73\"<br>Y: 37.78\"",
         "type": "scatter",
         "x": [
          -5.72832
         ],
         "y": [
          37.7832
         ]
        },
        {
         "hoverinfo": "text",
         "marker": {
          "color": "rgba(0,0,0,0)",
          "size": 5
         },
         "mode": "markers",
         "showlegend": false,
         "text": "Pitch #277<br>Called: StrikeCalled<br>Batter: Left<br>X: 6.71\"<br>Y: 40.64\"",
         "type": "scatter",
         "x": [
          6.713280000000001
         ],
         "y": [
          40.64148
         ]
        },
        {
         "hoverinfo": "text",
         "marker": {
          "color": "rgba(0,0,0,0)",
          "size": 5
         },
         "mode": "markers",
         "showlegend": false,
         "text": "Pitch #282<br>Called: StrikeCalled<br>Batter: Left<br>X: 8.01\"<br>Y: 31.22\"",
         "type": "scatter",
         "x": [
          8.00628
         ],
         "y": [
          31.22328
         ]
        },
        {
         "hoverinfo": "text",
         "marker": {
          "color": "rgba(0,0,0,0)",
          "size": 5
         },
         "mode": "markers",
         "showlegend": false,
         "text": "Pitch #286<br>Called: StrikeCalled<br>Batter: Left<br>X: -0.76\"<br>Y: 23.53\"",
         "type": "scatter",
         "x": [
          -0.7579199999999999
         ],
         "y": [
          23.53056
         ]
        },
        {
         "hoverinfo": "text",
         "marker": {
          "color": "rgba(0,0,0,0)",
          "size": 5
         },
         "mode": "markers",
         "showlegend": false,
         "text": "Pitch #288<br>Called: StrikeCalled<br>Batter: Right<br>X: -9.97\"<br>Y: 32.60\"",
         "type": "scatter",
         "x": [
          -9.96864
         ],
         "y": [
          32.603519999999996
         ]
        },
        {
         "hoverinfo": "text",
         "marker": {
          "color": "rgba(0,0,0,0)",
          "size": 5
         },
         "mode": "markers",
         "showlegend": false,
         "text": "Pitch #295<br>Called: StrikeCalled<br>Batter: Right<br>X: -4.45\"<br>Y: 31.01\"",
         "type": "scatter",
         "x": [
          -4.44948
         ],
         "y": [
          31.010759999999998
         ]
        },
        {
         "hoverinfo": "text",
         "marker": {
          "color": "rgba(0,0,0,0)",
          "size": 5
         },
         "mode": "markers",
         "showlegend": false,
         "text": "Pitch #2<br>Called: StrikeCalled<br>Batter: Left<br>X: -0.95\"<br>Y: 39.63\"",
         "type": "scatter",
         "x": [
          -0.9545999999999999
         ],
         "y": [
          39.63216
         ]
        },
        {
         "hoverinfo": "text",
         "marker": {
          "color": "rgba(0,0,0,0)",
          "size": 5
         },
         "mode": "markers",
         "showlegend": false,
         "text": "Pitch #4<br>Called: StrikeCalled<br>Batter: Left<br>X: 5.12\"<br>Y: 36.27\"",
         "type": "scatter",
         "x": [
          5.1204
         ],
         "y": [
          36.272760000000005
         ]
        },
        {
         "hoverinfo": "text",
         "marker": {
          "color": "rgba(0,0,0,0)",
          "size": 5
         },
         "mode": "markers",
         "showlegend": false,
         "text": "Pitch #5<br>Called: StrikeCalled - Strikeout<br>Batter: Left<br>X: 3.39\"<br>Y: 38.60\"",
         "type": "scatter",
         "x": [
          3.3940799999999998
         ],
         "y": [
          38.59836
         ]
        },
        {
         "hoverinfo": "text",
         "marker": {
          "color": "rgba(0,0,0,0)",
          "size": 5
         },
         "mode": "markers",
         "showlegend": false,
         "text": "Pitch #12<br>Called: StrikeCalled<br>Batter: Right<br>X: -3.14\"<br>Y: 29.77\"",
         "type": "scatter",
         "x": [
          -3.1415999999999995
         ],
         "y": [
          29.77344
         ]
        },
        {
         "hoverinfo": "text",
         "marker": {
          "color": "rgba(0,0,0,0)",
          "size": 5
         },
         "mode": "markers",
         "showlegend": false,
         "text": "Pitch #17<br>Called: StrikeCalled<br>Batter: Right<br>X: 2.68\"<br>Y: 27.44\"",
         "type": "scatter",
         "x": [
          2.67948
         ],
         "y": [
          27.444360000000003
         ]
        },
        {
         "hoverinfo": "text",
         "marker": {
          "color": "rgba(0,0,0,0)",
          "size": 5
         },
         "mode": "markers",
         "showlegend": false,
         "text": "Pitch #26<br>Called: StrikeCalled<br>Batter: Right<br>X: -1.44\"<br>Y: 21.76\"",
         "type": "scatter",
         "x": [
          -1.44036
         ],
         "y": [
          21.76344
         ]
        },
        {
         "hoverinfo": "text",
         "marker": {
          "color": "rgba(0,0,0,0)",
          "size": 5
         },
         "mode": "markers",
         "showlegend": false,
         "text": "Pitch #35<br>Called: StrikeCalled - Strikeout<br>Batter: Right<br>X: 6.45\"<br>Y: 22.89\"",
         "type": "scatter",
         "x": [
          6.4454400000000005
         ],
         "y": [
          22.89
         ]
        },
        {
         "hoverinfo": "text",
         "marker": {
          "color": "rgba(0,0,0,0)",
          "size": 5
         },
         "mode": "markers",
         "showlegend": false,
         "text": "Pitch #37<br>Called: StrikeCalled<br>Batter: Right<br>X: 9.05\"<br>Y: 31.17\"",
         "type": "scatter",
         "x": [
          9.0528
         ],
         "y": [
          31.17492
         ]
        },
        {
         "hoverinfo": "text",
         "marker": {
          "color": "rgba(0,0,0,0)",
          "size": 5
         },
         "mode": "markers",
         "showlegend": false,
         "text": "Pitch #39<br>Called: StrikeCalled - Strikeout<br>Batter: Right<br>X: -5.74\"<br>Y: 11.69\"",
         "type": "scatter",
         "x": [
          -5.73852
         ],
         "y": [
          11.693760000000001
         ]
        },
        {
         "hoverinfo": "text",
         "marker": {
          "color": "rgba(0,0,0,0)",
          "size": 5
         },
         "mode": "markers",
         "showlegend": false,
         "text": "Pitch #42<br>Called: StrikeCalled<br>Batter: Right<br>X: -6.72\"<br>Y: 37.03\"",
         "type": "scatter",
         "x": [
          -6.72132
         ],
         "y": [
          37.02984
         ]
        },
        {
         "hoverinfo": "text",
         "marker": {
          "color": "rgba(0,0,0,0)",
          "size": 5
         },
         "mode": "markers",
         "showlegend": false,
         "text": "Pitch #45<br>Called: StrikeCalled<br>Batter: Right<br>X: -0.70\"<br>Y: 30.67\"",
         "type": "scatter",
         "x": [
          -0.6978
         ],
         "y": [
          30.666600000000003
         ]
        },
        {
         "hoverinfo": "text",
         "marker": {
          "color": "rgba(0,0,0,0)",
          "size": 5
         },
         "mode": "markers",
         "showlegend": false,
         "text": "Pitch #54<br>Called: StrikeCalled<br>Batter: Right<br>X: 7.77\"<br>Y: 39.17\"",
         "type": "scatter",
         "x": [
          7.774800000000001
         ],
         "y": [
          39.168839999999996
         ]
        },
        {
         "hoverinfo": "text",
         "marker": {
          "color": "rgba(0,0,0,0)",
          "size": 5
         },
         "mode": "markers",
         "showlegend": false,
         "text": "Pitch #57<br>Called: StrikeCalled - Strikeout<br>Batter: Right<br>X: -6.69\"<br>Y: 36.81\"",
         "type": "scatter",
         "x": [
          -6.6852
         ],
         "y": [
          36.812160000000006
         ]
        },
        {
         "hoverinfo": "text",
         "marker": {
          "color": "rgba(0,0,0,0)",
          "size": 5
         },
         "mode": "markers",
         "showlegend": false,
         "text": "Pitch #64<br>Called: StrikeCalled<br>Batter: Left<br>X: 7.81\"<br>Y: 40.98\"",
         "type": "scatter",
         "x": [
          7.814159999999999
         ],
         "y": [
          40.97748
         ]
        },
        {
         "hoverinfo": "text",
         "marker": {
          "color": "rgba(0,0,0,0)",
          "size": 5
         },
         "mode": "markers",
         "showlegend": false,
         "text": "Pitch #91<br>Called: StrikeCalled<br>Batter: Right<br>X: -6.50\"<br>Y: 31.15\"",
         "type": "scatter",
         "x": [
          -6.498959999999999
         ],
         "y": [
          31.148880000000002
         ]
        },
        {
         "hoverinfo": "text",
         "marker": {
          "color": "rgba(0,0,0,0)",
          "size": 5
         },
         "mode": "markers",
         "showlegend": false,
         "text": "Pitch #95<br>Called: StrikeCalled<br>Batter: Right<br>X: -10.43\"<br>Y: 27.79\"",
         "type": "scatter",
         "x": [
          -10.4298
         ],
         "y": [
          27.78696
         ]
        },
        {
         "hoverinfo": "text",
         "marker": {
          "color": "rgba(0,0,0,0)",
          "size": 5
         },
         "mode": "markers",
         "showlegend": false,
         "text": "Pitch #104<br>Called: StrikeCalled<br>Batter: Left<br>X: 1.14\"<br>Y: 21.79\"",
         "type": "scatter",
         "x": [
          1.14072
         ],
         "y": [
          21.79044
         ]
        },
        {
         "hoverinfo": "text",
         "marker": {
          "color": "rgba(0,0,0,0)",
          "size": 5
         },
         "mode": "markers",
         "showlegend": false,
         "text": "Pitch #112<br>Called: StrikeCalled<br>Batter: Right<br>X: -9.41\"<br>Y: 42.47\"",
         "type": "scatter",
         "x": [
          -9.41208
         ],
         "y": [
          42.46692
         ]
        },
        {
         "hoverinfo": "text",
         "marker": {
          "color": "rgba(0,0,0,0)",
          "size": 5
         },
         "mode": "markers",
         "showlegend": false,
         "text": "Pitch #132<br>Called: StrikeCalled<br>Batter: Right<br>X: -13.72\"<br>Y: 36.99\"",
         "type": "scatter",
         "x": [
          -13.719360000000002
         ],
         "y": [
          36.993719999999996
         ]
        },
        {
         "hoverinfo": "text",
         "marker": {
          "color": "rgba(0,0,0,0)",
          "size": 5
         },
         "mode": "markers",
         "showlegend": false,
         "text": "Pitch #135<br>Called: StrikeCalled<br>Batter: Right<br>X: -11.74\"<br>Y: 39.87\"",
         "type": "scatter",
         "x": [
          -11.74248
         ],
         "y": [
          39.86652
         ]
        },
        {
         "hoverinfo": "text",
         "marker": {
          "color": "rgba(0,0,0,0)",
          "size": 5
         },
         "mode": "markers",
         "showlegend": false,
         "text": "Pitch #142<br>Called: StrikeCalled<br>Batter: Right<br>X: -8.47\"<br>Y: 33.76\"",
         "type": "scatter",
         "x": [
          -8.47116
         ],
         "y": [
          33.75888
         ]
        },
        {
         "hoverinfo": "text",
         "marker": {
          "color": "rgba(0,0,0,0)",
          "size": 5
         },
         "mode": "markers",
         "showlegend": false,
         "text": "Pitch #149<br>Called: StrikeCalled<br>Batter: Right<br>X: 6.12\"<br>Y: 37.98\"",
         "type": "scatter",
         "x": [
          6.12468
         ],
         "y": [
          37.98456
         ]
        },
        {
         "hoverinfo": "text",
         "marker": {
          "color": "rgba(0,0,0,0)",
          "size": 5
         },
         "mode": "markers",
         "showlegend": false,
         "text": "Pitch #154<br>Called: StrikeCalled<br>Batter: Left<br>X: -4.50\"<br>Y: 34.57\"",
         "type": "scatter",
         "x": [
          -4.50024
         ],
         "y": [
          34.57416
         ]
        },
        {
         "hoverinfo": "text",
         "marker": {
          "color": "rgba(0,0,0,0)",
          "size": 5
         },
         "mode": "markers",
         "showlegend": false,
         "text": "Pitch #158<br>Called: StrikeCalled<br>Batter: Right<br>X: 6.89\"<br>Y: 30.24\"",
         "type": "scatter",
         "x": [
          6.891360000000001
         ],
         "y": [
          30.235440000000004
         ]
        },
        {
         "hoverinfo": "text",
         "marker": {
          "color": "rgba(0,0,0,0)",
          "size": 5
         },
         "mode": "markers",
         "showlegend": false,
         "text": "Pitch #166<br>Called: StrikeCalled<br>Batter: Left<br>X: 12.64\"<br>Y: 34.21\"",
         "type": "scatter",
         "x": [
          12.64356
         ],
         "y": [
          34.21452
         ]
        },
        {
         "hoverinfo": "text",
         "marker": {
          "color": "rgba(0,0,0,0)",
          "size": 5
         },
         "mode": "markers",
         "showlegend": false,
         "text": "Pitch #179<br>Called: StrikeCalled<br>Batter: Left<br>X: 8.58\"<br>Y: 38.55\"",
         "type": "scatter",
         "x": [
          8.575800000000001
         ],
         "y": [
          38.5476
         ]
        },
        {
         "hoverinfo": "text",
         "marker": {
          "color": "rgba(0,0,0,0)",
          "size": 5
         },
         "mode": "markers",
         "showlegend": false,
         "text": "Pitch #184<br>Called: StrikeCalled<br>Batter: Left<br>X: 6.82\"<br>Y: 37.50\"",
         "type": "scatter",
         "x": [
          6.82164
         ],
         "y": [
          37.50036
         ]
        },
        {
         "hoverinfo": "text",
         "marker": {
          "color": "rgba(0,0,0,0)",
          "size": 5
         },
         "mode": "markers",
         "showlegend": false,
         "text": "Pitch #190<br>Called: StrikeCalled<br>Batter: Right<br>X: -2.82\"<br>Y: 33.20\"",
         "type": "scatter",
         "x": [
          -2.82132
         ],
         "y": [
          33.19524
         ]
        },
        {
         "hoverinfo": "text",
         "marker": {
          "color": "rgba(0,0,0,0)",
          "size": 5
         },
         "mode": "markers",
         "showlegend": false,
         "text": "Pitch #199<br>Called: StrikeCalled<br>Batter: Right<br>X: -6.73\"<br>Y: 42.19\"",
         "type": "scatter",
         "x": [
          -6.727320000000001
         ],
         "y": [
          42.186
         ]
        },
        {
         "hoverinfo": "text",
         "marker": {
          "color": "rgba(0,0,0,0)",
          "size": 5
         },
         "mode": "markers",
         "showlegend": false,
         "text": "Pitch #206<br>Called: StrikeCalled - Strikeout<br>Batter: Right<br>X: 11.98\"<br>Y: 30.38\"",
         "type": "scatter",
         "x": [
          11.97636
         ],
         "y": [
          30.38292
         ]
        },
        {
         "hoverinfo": "text",
         "marker": {
          "color": "rgba(0,0,0,0)",
          "size": 5
         },
         "mode": "markers",
         "showlegend": false,
         "text": "Pitch #213<br>Called: StrikeCalled<br>Batter: Right<br>X: -0.25\"<br>Y: 27.86\"",
         "type": "scatter",
         "x": [
          -0.25308
         ],
         "y": [
          27.86292
         ]
        },
        {
         "hoverinfo": "text",
         "marker": {
          "color": "rgba(0,0,0,0)",
          "size": 5
         },
         "mode": "markers",
         "showlegend": false,
         "text": "Pitch #224<br>Called: StrikeCalled<br>Batter: Left<br>X: -6.64\"<br>Y: 36.47\"",
         "type": "scatter",
         "x": [
          -6.6432
         ],
         "y": [
          36.465959999999995
         ]
        },
        {
         "hoverinfo": "text",
         "marker": {
          "color": "rgba(0,0,0,0)",
          "size": 5
         },
         "mode": "markers",
         "showlegend": false,
         "text": "Pitch #227<br>Called: StrikeCalled<br>Batter: Right<br>X: 8.85\"<br>Y: 23.43\"",
         "type": "scatter",
         "x": [
          8.853
         ],
         "y": [
          23.42976
         ]
        },
        {
         "hoverinfo": "text",
         "marker": {
          "color": "rgba(0,0,0,0)",
          "size": 5
         },
         "mode": "markers",
         "showlegend": false,
         "text": "Pitch #228<br>Called: StrikeCalled<br>Batter: Right<br>X: 7.70\"<br>Y: 37.85\"",
         "type": "scatter",
         "x": [
          7.69764
         ],
         "y": [
          37.845479999999995
         ]
        },
        {
         "hoverinfo": "text",
         "marker": {
          "color": "rgba(0,0,0,0)",
          "size": 5
         },
         "mode": "markers",
         "showlegend": false,
         "text": "Pitch #231<br>Called: StrikeCalled<br>Batter: Right<br>X: 6.22\"<br>Y: 37.78\"",
         "type": "scatter",
         "x": [
          6.2218800000000005
         ],
         "y": [
          37.77816
         ]
        },
        {
         "hoverinfo": "text",
         "marker": {
          "color": "rgba(0,0,0,0)",
          "size": 5
         },
         "mode": "markers",
         "showlegend": false,
         "text": "Pitch #234<br>Called: StrikeCalled<br>Batter: Right<br>X: -1.91\"<br>Y: 36.54\"",
         "type": "scatter",
         "x": [
          -1.91052
         ],
         "y": [
          36.5388
         ]
        },
        {
         "hoverinfo": "text",
         "marker": {
          "color": "rgba(0,0,0,0)",
          "size": 5
         },
         "mode": "markers",
         "showlegend": false,
         "text": "Pitch #244<br>Called: StrikeCalled<br>Batter: Right<br>X: -9.11\"<br>Y: 29.70\"",
         "type": "scatter",
         "x": [
          -9.1092
         ],
         "y": [
          29.69952
         ]
        },
        {
         "hoverinfo": "text",
         "marker": {
          "color": "rgba(0,0,0,0)",
          "size": 5
         },
         "mode": "markers",
         "showlegend": false,
         "text": "Pitch #248<br>Called: StrikeCalled<br>Batter: Right<br>X: -5.41\"<br>Y: 32.05\"",
         "type": "scatter",
         "x": [
          -5.41152
         ],
         "y": [
          32.051880000000004
         ]
        },
        {
         "hoverinfo": "text",
         "marker": {
          "color": "rgba(0,0,0,0)",
          "size": 5
         },
         "mode": "markers",
         "showlegend": false,
         "text": "Pitch #253<br>Called: StrikeCalled<br>Batter: Right<br>X: 5.65\"<br>Y: 30.92\"",
         "type": "scatter",
         "x": [
          5.6506799999999995
         ],
         "y": [
          30.923640000000002
         ]
        },
        {
         "hoverinfo": "text",
         "marker": {
          "color": "rgba(0,0,0,0)",
          "size": 5
         },
         "mode": "markers",
         "showlegend": false,
         "text": "Pitch #259<br>Called: StrikeCalled<br>Batter: Right<br>X: -8.34\"<br>Y: 26.86\"",
         "type": "scatter",
         "x": [
          -8.34252
         ],
         "y": [
          26.864400000000003
         ]
        },
        {
         "hoverinfo": "text",
         "marker": {
          "color": "rgba(0,0,0,0)",
          "size": 5
         },
         "mode": "markers",
         "showlegend": false,
         "text": "Pitch #283<br>Called: StrikeCalled<br>Batter: Right<br>X: 3.54\"<br>Y: 23.06\"",
         "type": "scatter",
         "x": [
          3.54312
         ],
         "y": [
          23.05872
         ]
        },
        {
         "hoverinfo": "text",
         "marker": {
          "color": "rgba(0,0,0,0)",
          "size": 5
         },
         "mode": "markers",
         "showlegend": false,
         "text": "Pitch #295<br>Called: StrikeCalled<br>Batter: Right<br>X: -6.74\"<br>Y: 22.50\"",
         "type": "scatter",
         "x": [
          -6.73824
         ],
         "y": [
          22.50264
         ]
        },
        {
         "hoverinfo": "text",
         "marker": {
          "color": "rgba(0,0,0,0)",
          "size": 5
         },
         "mode": "markers",
         "showlegend": false,
         "text": "Pitch #303<br>Called: StrikeCalled<br>Batter: Right<br>X: -10.77\"<br>Y: 40.84\"",
         "type": "scatter",
         "x": [
          -10.77312
         ],
         "y": [
          40.83528
         ]
        },
        {
         "hoverinfo": "text",
         "marker": {
          "color": "rgba(0,0,0,0)",
          "size": 5
         },
         "mode": "markers",
         "showlegend": false,
         "text": "Pitch #305<br>Called: StrikeCalled<br>Batter: Right<br>X: -0.74\"<br>Y: 30.98\"",
         "type": "scatter",
         "x": [
          -0.7389600000000001
         ],
         "y": [
          30.98388
         ]
        },
        {
         "hoverinfo": "text",
         "marker": {
          "color": "rgba(0,0,0,0)",
          "size": 5
         },
         "mode": "markers",
         "showlegend": false,
         "text": "Pitch #306<br>Called: StrikeCalled - Strikeout<br>Batter: Right<br>X: -13.01\"<br>Y: 29.68\"",
         "type": "scatter",
         "x": [
          -13.009920000000001
         ],
         "y": [
          29.6796
         ]
        },
        {
         "hoverinfo": "text",
         "marker": {
          "color": "rgba(0,0,0,0)",
          "size": 5
         },
         "mode": "markers",
         "showlegend": false,
         "text": "Pitch #6<br>Called: StrikeCalled<br>Batter: Left<br>X: 8.60\"<br>Y: 28.36\"",
         "type": "scatter",
         "x": [
          8.595600000000001
         ],
         "y": [
          28.359360000000002
         ]
        },
        {
         "hoverinfo": "text",
         "marker": {
          "color": "rgba(0,0,0,0)",
          "size": 5
         },
         "mode": "markers",
         "showlegend": false,
         "text": "Pitch #9<br>Called: StrikeCalled - Strikeout<br>Batter: Left<br>X: 8.48\"<br>Y: 34.47\"",
         "type": "scatter",
         "x": [
          8.48424
         ],
         "y": [
          34.46796
         ]
        },
        {
         "hoverinfo": "text",
         "marker": {
          "color": "rgba(0,0,0,0)",
          "size": 5
         },
         "mode": "markers",
         "showlegend": false,
         "text": "Pitch #15<br>Called: StrikeCalled<br>Batter: Left<br>X: 8.82\"<br>Y: 33.31\"",
         "type": "scatter",
         "x": [
          8.82384
         ],
         "y": [
          33.31164
         ]
        },
        {
         "hoverinfo": "text",
         "marker": {
          "color": "rgba(0,0,0,0)",
          "size": 5
         },
         "mode": "markers",
         "showlegend": false,
         "text": "Pitch #20<br>Called: StrikeCalled - Strikeout<br>Batter: Left<br>X: 4.34\"<br>Y: 25.72\"",
         "type": "scatter",
         "x": [
          4.34244
         ],
         "y": [
          25.71696
         ]
        },
        {
         "hoverinfo": "text",
         "marker": {
          "color": "rgba(0,0,0,0)",
          "size": 5
         },
         "mode": "markers",
         "showlegend": false,
         "text": "Pitch #28<br>Called: StrikeCalled<br>Batter: Left<br>X: 2.79\"<br>Y: 20.33\"",
         "type": "scatter",
         "x": [
          2.78832
         ],
         "y": [
          20.33196
         ]
        },
        {
         "hoverinfo": "text",
         "marker": {
          "color": "rgba(0,0,0,0)",
          "size": 5
         },
         "mode": "markers",
         "showlegend": false,
         "text": "Pitch #48<br>Called: StrikeCalled<br>Batter: Right<br>X: -0.28\"<br>Y: 20.05\"",
         "type": "scatter",
         "x": [
          -0.27588
         ],
         "y": [
          20.051759999999998
         ]
        },
        {
         "hoverinfo": "text",
         "marker": {
          "color": "rgba(0,0,0,0)",
          "size": 5
         },
         "mode": "markers",
         "showlegend": false,
         "text": "Pitch #58<br>Called: StrikeCalled<br>Batter: Left<br>X: 9.35\"<br>Y: 35.65\"",
         "type": "scatter",
         "x": [
          9.3474
         ],
         "y": [
          35.6454
         ]
        },
        {
         "hoverinfo": "text",
         "marker": {
          "color": "rgba(0,0,0,0)",
          "size": 5
         },
         "mode": "markers",
         "showlegend": false,
         "text": "Pitch #60<br>Called: StrikeCalled<br>Batter: Right<br>X: -0.80\"<br>Y: 32.34\"",
         "type": "scatter",
         "x": [
          -0.8007599999999999
         ],
         "y": [
          32.34312
         ]
        },
        {
         "hoverinfo": "text",
         "marker": {
          "color": "rgba(0,0,0,0)",
          "size": 5
         },
         "mode": "markers",
         "showlegend": false,
         "text": "Pitch #79<br>Called: StrikeCalled<br>Batter: Right<br>X: -10.91\"<br>Y: 27.74\"",
         "type": "scatter",
         "x": [
          -10.90596
         ],
         "y": [
          27.73632
         ]
        },
        {
         "hoverinfo": "text",
         "marker": {
          "color": "rgba(0,0,0,0)",
          "size": 5
         },
         "mode": "markers",
         "showlegend": false,
         "text": "Pitch #86<br>Called: StrikeCalled<br>Batter: Left<br>X: -1.11\"<br>Y: 28.96\"",
         "type": "scatter",
         "x": [
          -1.10772
         ],
         "y": [
          28.955640000000002
         ]
        },
        {
         "hoverinfo": "text",
         "marker": {
          "color": "rgba(0,0,0,0)",
          "size": 5
         },
         "mode": "markers",
         "showlegend": false,
         "text": "Pitch #102<br>Called: StrikeCalled<br>Batter: Right<br>X: -6.91\"<br>Y: 27.91\"",
         "type": "scatter",
         "x": [
          -6.91128
         ],
         "y": [
          27.905879999999996
         ]
        },
        {
         "hoverinfo": "text",
         "marker": {
          "color": "rgba(0,0,0,0)",
          "size": 5
         },
         "mode": "markers",
         "showlegend": false,
         "text": "Pitch #125<br>Called: StrikeCalled<br>Batter: Right<br>X: -6.47\"<br>Y: 33.44\"",
         "type": "scatter",
         "x": [
          -6.473280000000001
         ],
         "y": [
          33.43752
         ]
        },
        {
         "hoverinfo": "text",
         "marker": {
          "color": "rgba(0,0,0,0)",
          "size": 5
         },
         "mode": "markers",
         "showlegend": false,
         "text": "Pitch #131<br>Called: StrikeCalled<br>Batter: Left<br>X: -7.71\"<br>Y: 28.80\"",
         "type": "scatter",
         "x": [
          -7.713239999999999
         ],
         "y": [
          28.802279999999996
         ]
        },
        {
         "hoverinfo": "text",
         "marker": {
          "color": "rgba(0,0,0,0)",
          "size": 5
         },
         "mode": "markers",
         "showlegend": false,
         "text": "Pitch #133<br>Called: StrikeCalled<br>Batter: Right<br>X: -4.39\"<br>Y: 23.60\"",
         "type": "scatter",
         "x": [
          -4.3944
         ],
         "y": [
          23.6016
         ]
        },
        {
         "hoverinfo": "text",
         "marker": {
          "color": "rgba(0,0,0,0)",
          "size": 5
         },
         "mode": "markers",
         "showlegend": false,
         "text": "Pitch #138<br>Called: StrikeCalled<br>Batter: Right<br>X: 3.69\"<br>Y: 21.47\"",
         "type": "scatter",
         "x": [
          3.69288
         ],
         "y": [
          21.47352
         ]
        },
        {
         "hoverinfo": "text",
         "marker": {
          "color": "rgba(0,0,0,0)",
          "size": 5
         },
         "mode": "markers",
         "showlegend": false,
         "text": "Pitch #144<br>Called: StrikeCalled<br>Batter: Right<br>X: -7.48\"<br>Y: 21.88\"",
         "type": "scatter",
         "x": [
          -7.48188
         ],
         "y": [
          21.88296
         ]
        },
        {
         "hoverinfo": "text",
         "marker": {
          "color": "rgba(0,0,0,0)",
          "size": 5
         },
         "mode": "markers",
         "showlegend": false,
         "text": "Pitch #153<br>Called: StrikeCalled<br>Batter: Left<br>X: -3.70\"<br>Y: 29.02\"",
         "type": "scatter",
         "x": [
          -3.7037999999999998
         ],
         "y": [
          29.02248
         ]
        },
        {
         "hoverinfo": "text",
         "marker": {
          "color": "rgba(0,0,0,0)",
          "size": 5
         },
         "mode": "markers",
         "showlegend": false,
         "text": "Pitch #156<br>Called: StrikeCalled - Strikeout<br>Batter: Left<br>X: 2.98\"<br>Y: 12.52\"",
         "type": "scatter",
         "x": [
          2.97576
         ],
         "y": [
          12.52344
         ]
        },
        {
         "hoverinfo": "text",
         "marker": {
          "color": "rgba(0,0,0,0)",
          "size": 5
         },
         "mode": "markers",
         "showlegend": false,
         "text": "Pitch #170<br>Called: StrikeCalled<br>Batter: Left<br>X: -7.07\"<br>Y: 28.73\"",
         "type": "scatter",
         "x": [
          -7.06608
         ],
         "y": [
          28.73028
         ]
        },
        {
         "hoverinfo": "text",
         "marker": {
          "color": "rgba(0,0,0,0)",
          "size": 5
         },
         "mode": "markers",
         "showlegend": false,
         "text": "Pitch #173<br>Called: StrikeCalled - Strikeout<br>Batter: Left<br>X: -2.59\"<br>Y: 34.04\"",
         "type": "scatter",
         "x": [
          -2.59248
         ],
         "y": [
          34.03632
         ]
        },
        {
         "hoverinfo": "text",
         "marker": {
          "color": "rgba(0,0,0,0)",
          "size": 5
         },
         "mode": "markers",
         "showlegend": false,
         "text": "Pitch #180<br>Called: StrikeCalled<br>Batter: Right<br>X: -7.12\"<br>Y: 19.90\"",
         "type": "scatter",
         "x": [
          -7.11768
         ],
         "y": [
          19.898760000000003
         ]
        },
        {
         "hoverinfo": "text",
         "marker": {
          "color": "rgba(0,0,0,0)",
          "size": 5
         },
         "mode": "markers",
         "showlegend": false,
         "text": "Pitch #186<br>Called: StrikeCalled<br>Batter: Right<br>X: 2.59\"<br>Y: 18.46\"",
         "type": "scatter",
         "x": [
          2.59068
         ],
         "y": [
          18.45996
         ]
        },
        {
         "hoverinfo": "text",
         "marker": {
          "color": "rgba(0,0,0,0)",
          "size": 5
         },
         "mode": "markers",
         "showlegend": false,
         "text": "Pitch #192<br>Called: StrikeCalled<br>Batter: Left<br>X: -2.40\"<br>Y: 22.06\"",
         "type": "scatter",
         "x": [
          -2.4012000000000002
         ],
         "y": [
          22.0614
         ]
        },
        {
         "hoverinfo": "text",
         "marker": {
          "color": "rgba(0,0,0,0)",
          "size": 5
         },
         "mode": "markers",
         "showlegend": false,
         "text": "Pitch #201<br>Called: StrikeCalled<br>Batter: Left<br>X: -5.30\"<br>Y: 31.25\"",
         "type": "scatter",
         "x": [
          -5.29776
         ],
         "y": [
          31.245959999999997
         ]
        },
        {
         "hoverinfo": "text",
         "marker": {
          "color": "rgba(0,0,0,0)",
          "size": 5
         },
         "mode": "markers",
         "showlegend": false,
         "text": "Pitch #206<br>Called: StrikeCalled<br>Batter: Left<br>X: 7.57\"<br>Y: 16.59\"",
         "type": "scatter",
         "x": [
          7.569000000000001
         ],
         "y": [
          16.59396
         ]
        },
        {
         "hoverinfo": "text",
         "marker": {
          "color": "rgba(0,0,0,0)",
          "size": 5
         },
         "mode": "markers",
         "showlegend": false,
         "text": "Pitch #210<br>Called: StrikeCalled<br>Batter: Right<br>X: 0.63\"<br>Y: 22.15\"",
         "type": "scatter",
         "x": [
          0.63156
         ],
         "y": [
          22.145400000000002
         ]
        },
        {
         "hoverinfo": "text",
         "marker": {
          "color": "rgba(0,0,0,0)",
          "size": 5
         },
         "mode": "markers",
         "showlegend": false,
         "text": "Pitch #215<br>Called: StrikeCalled<br>Batter: Right<br>X: -0.96\"<br>Y: 29.47\"",
         "type": "scatter",
         "x": [
          -0.95892
         ],
         "y": [
          29.47212
         ]
        },
        {
         "hoverinfo": "text",
         "marker": {
          "color": "rgba(0,0,0,0)",
          "size": 5
         },
         "mode": "markers",
         "showlegend": false,
         "text": "Pitch #230<br>Called: StrikeCalled<br>Batter: Right<br>X: 6.95\"<br>Y: 32.70\"",
         "type": "scatter",
         "x": [
          6.9546
         ],
         "y": [
          32.70192
         ]
        },
        {
         "hoverinfo": "text",
         "marker": {
          "color": "rgba(0,0,0,0)",
          "size": 5
         },
         "mode": "markers",
         "showlegend": false,
         "text": "Pitch #232<br>Called: StrikeCalled<br>Batter: Right<br>X: 5.80\"<br>Y: 20.81\"",
         "type": "scatter",
         "x": [
          5.7954
         ],
         "y": [
          20.81208
         ]
        },
        {
         "hoverinfo": "text",
         "marker": {
          "color": "rgba(0,0,0,0)",
          "size": 5
         },
         "mode": "markers",
         "showlegend": false,
         "text": "Pitch #242<br>Called: StrikeCalled<br>Batter: Left<br>X: -0.74\"<br>Y: 27.66\"",
         "type": "scatter",
         "x": [
          -0.73704
         ],
         "y": [
          27.664920000000002
         ]
        },
        {
         "hoverinfo": "text",
         "marker": {
          "color": "rgba(0,0,0,0)",
          "size": 5
         },
         "mode": "markers",
         "showlegend": false,
         "text": "Pitch #254<br>Called: StrikeCalled<br>Batter: Left<br>X: 5.98\"<br>Y: 27.25\"",
         "type": "scatter",
         "x": [
          5.97732
         ],
         "y": [
          27.252360000000003
         ]
        },
        {
         "hoverinfo": "text",
         "marker": {
          "color": "rgba(0,0,0,0)",
          "size": 5
         },
         "mode": "markers",
         "showlegend": false,
         "text": "Pitch #256<br>Called: StrikeCalled<br>Batter: Right<br>X: 7.63\"<br>Y: 32.93\"",
         "type": "scatter",
         "x": [
          7.62768
         ],
         "y": [
          32.93316
         ]
        }
       ],
       "layout": {
        "height": 900,
        "images": [
         {
          "layer": "below",
          "sizex": 6,
          "sizey": 30,
          "source": "C:/Users/hudos/Downloads/lefty-batter.png",
          "x": -13,
          "xanchor": "center",
          "xref": "x",
          "y": 45,
          "yanchor": "top",
          "yref": "y"
         },
         {
          "layer": "below",
          "sizex": 6,
          "sizey": 30,
          "source": "C:/Users/hudos/Downloads/lefty-batter.png",
          "x": 13,
          "xanchor": "center",
          "xref": "x",
          "y": 45,
          "yanchor": "top",
          "yref": "y"
         }
        ],
        "shapes": [
         {
          "line": {
           "color": "black",
           "width": 2
          },
          "name": "Strike Zone",
          "type": "rect",
          "x0": -8.5,
          "x1": 8.5,
          "y0": 19.47,
          "y1": 40.53
         },
         {
          "line": {
           "color": "gray",
           "dash": "dash"
          },
          "name": "Buffer Zone",
          "type": "rect",
          "x0": -10.5,
          "x1": 10.5,
          "y0": 17.47,
          "y1": 42.53
         },
         {
          "fillcolor": "red",
          "line": {
           "color": "red"
          },
          "opacity": 0.7,
          "type": "circle",
          "x0": -13.26036,
          "x1": -10.320359999999999,
          "xref": "x",
          "y0": 16.39584,
          "y1": 19.335839999999997,
          "yref": "y"
         },
         {
          "fillcolor": "red",
          "line": {
           "color": "red"
          },
          "opacity": 0.7,
          "type": "circle",
          "x0": -11.17032,
          "x1": -8.230319999999999,
          "xref": "x",
          "y0": 33.40932,
          "y1": 36.34932,
          "yref": "y"
         },
         {
          "fillcolor": "red",
          "line": {
           "color": "red"
          },
          "opacity": 0.7,
          "type": "circle",
          "x0": 0.5344800000000001,
          "x1": 3.47448,
          "xref": "x",
          "y0": 39.356880000000004,
          "y1": 42.29688,
          "yref": "y"
         },
         {
          "fillcolor": "red",
          "line": {
           "color": "red"
          },
          "opacity": 0.7,
          "type": "circle",
          "x0": -5.93124,
          "x1": -2.9912400000000003,
          "xref": "x",
          "y0": 25.90056,
          "y1": 28.840559999999996,
          "yref": "y"
         },
         {
          "fillcolor": "red",
          "line": {
           "color": "red"
          },
          "opacity": 0.7,
          "type": "circle",
          "x0": -7.4086799999999995,
          "x1": -4.46868,
          "xref": "x",
          "y0": 35.76084,
          "y1": 38.70084,
          "yref": "y"
         },
         {
          "fillcolor": "red",
          "line": {
           "color": "red"
          },
          "opacity": 0.7,
          "type": "circle",
          "x0": -8.379,
          "x1": -5.439,
          "xref": "x",
          "y0": 14.552280000000001,
          "y1": 17.49228,
          "yref": "y"
         },
         {
          "fillcolor": "red",
          "line": {
           "color": "red"
          },
          "opacity": 0.7,
          "type": "circle",
          "x0": 9.146519999999999,
          "x1": 12.08652,
          "xref": "x",
          "y0": 30.566280000000006,
          "y1": 33.506280000000004,
          "yref": "y"
         },
         {
          "fillcolor": "red",
          "line": {
           "color": "red"
          },
          "opacity": 0.7,
          "type": "circle",
          "x0": -14.034600000000001,
          "x1": -11.0946,
          "xref": "x",
          "y0": 24.78204,
          "y1": 27.722039999999996,
          "yref": "y"
         },
         {
          "fillcolor": "red",
          "line": {
           "color": "red"
          },
          "opacity": 0.7,
          "type": "circle",
          "x0": -2.6205600000000002,
          "x1": 0.31943999999999995,
          "xref": "x",
          "y0": 37.872,
          "y1": 40.812,
          "yref": "y"
         },
         {
          "fillcolor": "red",
          "line": {
           "color": "red"
          },
          "opacity": 0.7,
          "type": "circle",
          "x0": -12.36876,
          "x1": -9.428759999999999,
          "xref": "x",
          "y0": 21.421680000000002,
          "y1": 24.36168,
          "yref": "y"
         },
         {
          "fillcolor": "red",
          "line": {
           "color": "red"
          },
          "opacity": 0.7,
          "type": "circle",
          "x0": -15.3108,
          "x1": -12.3708,
          "xref": "x",
          "y0": 29.40576,
          "y1": 32.34576,
          "yref": "y"
         },
         {
          "fillcolor": "red",
          "line": {
           "color": "red"
          },
          "opacity": 0.7,
          "type": "circle",
          "x0": 1.9777200000000004,
          "x1": 4.91772,
          "xref": "x",
          "y0": 20.72976,
          "y1": 23.669759999999997,
          "yref": "y"
         },
         {
          "fillcolor": "red",
          "line": {
           "color": "red"
          },
          "opacity": 0.7,
          "type": "circle",
          "x0": 4.62924,
          "x1": 7.56924,
          "xref": "x",
          "y0": 20.06568,
          "y1": 23.005679999999998,
          "yref": "y"
         },
         {
          "fillcolor": "red",
          "line": {
           "color": "red"
          },
          "opacity": 0.7,
          "type": "circle",
          "x0": 1.40256,
          "x1": 4.34256,
          "xref": "x",
          "y0": 17.97756,
          "y1": 20.917559999999998,
          "yref": "y"
         },
         {
          "fillcolor": "red",
          "line": {
           "color": "red"
          },
          "opacity": 0.7,
          "type": "circle",
          "x0": -13.72104,
          "x1": -10.781039999999999,
          "xref": "x",
          "y0": 23.7132,
          "y1": 26.6532,
          "yref": "y"
         },
         {
          "fillcolor": "red",
          "line": {
           "color": "red"
          },
          "opacity": 0.7,
          "type": "circle",
          "x0": -14.03232,
          "x1": -11.092319999999999,
          "xref": "x",
          "y0": 37.731359999999995,
          "y1": 40.67135999999999,
          "yref": "y"
         },
         {
          "fillcolor": "red",
          "line": {
           "color": "red"
          },
          "opacity": 0.7,
          "type": "circle",
          "x0": -12.2664,
          "x1": -9.3264,
          "xref": "x",
          "y0": 16.937640000000002,
          "y1": 19.87764,
          "yref": "y"
         },
         {
          "fillcolor": "red",
          "line": {
           "color": "red"
          },
          "opacity": 0.7,
          "type": "circle",
          "x0": 6.3858,
          "x1": 9.3258,
          "xref": "x",
          "y0": 38.3436,
          "y1": 41.2836,
          "yref": "y"
         },
         {
          "fillcolor": "red",
          "line": {
           "color": "red"
          },
          "opacity": 0.7,
          "type": "circle",
          "x0": -6.6575999999999995,
          "x1": -3.7176,
          "xref": "x",
          "y0": 18.807720000000003,
          "y1": 21.74772,
          "yref": "y"
         },
         {
          "fillcolor": "red",
          "line": {
           "color": "red"
          },
          "opacity": 0.7,
          "type": "circle",
          "x0": 11.88852,
          "x1": 14.828520000000001,
          "xref": "x",
          "y0": 37.0146,
          "y1": 39.9546,
          "yref": "y"
         },
         {
          "fillcolor": "red",
          "line": {
           "color": "red"
          },
          "opacity": 0.7,
          "type": "circle",
          "x0": -1.35456,
          "x1": 1.58544,
          "xref": "x",
          "y0": 22.26576,
          "y1": 25.205759999999998,
          "yref": "y"
         },
         {
          "fillcolor": "red",
          "line": {
           "color": "red"
          },
          "opacity": 0.7,
          "type": "circle",
          "x0": -16.69932,
          "x1": -13.759319999999999,
          "xref": "x",
          "y0": 29.80596,
          "y1": 32.74596,
          "yref": "y"
         },
         {
          "fillcolor": "red",
          "line": {
           "color": "red"
          },
          "opacity": 0.7,
          "type": "circle",
          "x0": -0.9624,
          "x1": 1.9775999999999998,
          "xref": "x",
          "y0": 28.56984,
          "y1": 31.509839999999997,
          "yref": "y"
         },
         {
          "fillcolor": "red",
          "line": {
           "color": "red"
          },
          "opacity": 0.7,
          "type": "circle",
          "x0": 2.914320000000001,
          "x1": 5.85432,
          "xref": "x",
          "y0": 21.606,
          "y1": 24.546,
          "yref": "y"
         },
         {
          "fillcolor": "red",
          "line": {
           "color": "red"
          },
          "opacity": 0.7,
          "type": "circle",
          "x0": 9.397319999999999,
          "x1": 12.33732,
          "xref": "x",
          "y0": 24.754080000000002,
          "y1": 27.69408,
          "yref": "y"
         },
         {
          "fillcolor": "red",
          "line": {
           "color": "red"
          },
          "opacity": 0.7,
          "type": "circle",
          "x0": 9.54924,
          "x1": 12.48924,
          "xref": "x",
          "y0": 30.937800000000003,
          "y1": 33.8778,
          "yref": "y"
         },
         {
          "fillcolor": "red",
          "line": {
           "color": "red"
          },
          "opacity": 0.7,
          "type": "circle",
          "x0": -0.9446399999999999,
          "x1": 1.99536,
          "xref": "x",
          "y0": 18.15672,
          "y1": 21.096719999999998,
          "yref": "y"
         },
         {
          "fillcolor": "red",
          "line": {
           "color": "red"
          },
          "opacity": 0.7,
          "type": "circle",
          "x0": -8.73024,
          "x1": -5.79024,
          "xref": "x",
          "y0": 23.920560000000002,
          "y1": 26.86056,
          "yref": "y"
         },
         {
          "fillcolor": "red",
          "line": {
           "color": "red"
          },
          "opacity": 0.7,
          "type": "circle",
          "x0": -12.281160000000002,
          "x1": -9.34116,
          "xref": "x",
          "y0": 26.825760000000002,
          "y1": 29.76576,
          "yref": "y"
         },
         {
          "fillcolor": "red",
          "line": {
           "color": "red"
          },
          "opacity": 0.7,
          "type": "circle",
          "x0": -0.52884,
          "x1": 2.4111599999999997,
          "xref": "x",
          "y0": 27.200160000000004,
          "y1": 30.14016,
          "yref": "y"
         },
         {
          "fillcolor": "red",
          "line": {
           "color": "red"
          },
          "opacity": 0.7,
          "type": "circle",
          "x0": -6.56424,
          "x1": -3.6242400000000004,
          "xref": "x",
          "y0": 20.736240000000002,
          "y1": 23.67624,
          "yref": "y"
         },
         {
          "fillcolor": "red",
          "line": {
           "color": "red"
          },
          "opacity": 0.7,
          "type": "circle",
          "x0": -0.30552,
          "x1": 2.63448,
          "xref": "x",
          "y0": 30.663600000000002,
          "y1": 33.6036,
          "yref": "y"
         },
         {
          "fillcolor": "red",
          "line": {
           "color": "red"
          },
          "opacity": 0.7,
          "type": "circle",
          "x0": 1.82868,
          "x1": 4.76868,
          "xref": "x",
          "y0": 32.88264,
          "y1": 35.82264,
          "yref": "y"
         },
         {
          "fillcolor": "red",
          "line": {
           "color": "red"
          },
          "opacity": 0.7,
          "type": "circle",
          "x0": 9.79716,
          "x1": 12.737160000000001,
          "xref": "x",
          "y0": 29.02944,
          "y1": 31.96944,
          "yref": "y"
         },
         {
          "fillcolor": "red",
          "line": {
           "color": "red"
          },
          "opacity": 0.7,
          "type": "circle",
          "x0": 3.4338000000000006,
          "x1": 6.3738,
          "xref": "x",
          "y0": 33.27084,
          "y1": 36.21084,
          "yref": "y"
         },
         {
          "fillcolor": "red",
          "line": {
           "color": "red"
          },
          "opacity": 0.7,
          "type": "circle",
          "x0": -5.63364,
          "x1": -2.6936400000000003,
          "xref": "x",
          "y0": 37.948440000000005,
          "y1": 40.88844,
          "yref": "y"
         },
         {
          "fillcolor": "red",
          "line": {
           "color": "red"
          },
          "opacity": 0.7,
          "type": "circle",
          "x0": 10.60404,
          "x1": 13.54404,
          "xref": "x",
          "y0": 36.4446,
          "y1": 39.3846,
          "yref": "y"
         },
         {
          "fillcolor": "red",
          "line": {
           "color": "red"
          },
          "opacity": 0.7,
          "type": "circle",
          "x0": -0.8076,
          "x1": 2.1324,
          "xref": "x",
          "y0": 8.75052,
          "y1": 11.690520000000001,
          "yref": "y"
         },
         {
          "fillcolor": "red",
          "line": {
           "color": "red"
          },
          "opacity": 0.7,
          "type": "circle",
          "x0": -3.93792,
          "x1": -0.9979200000000004,
          "xref": "x",
          "y0": 31.03608,
          "y1": 33.976079999999996,
          "yref": "y"
         },
         {
          "fillcolor": "red",
          "line": {
           "color": "red"
          },
          "opacity": 0.7,
          "type": "circle",
          "x0": -3.4878,
          "x1": -0.5477999999999998,
          "xref": "x",
          "y0": 34.41588,
          "y1": 37.35588,
          "yref": "y"
         },
         {
          "fillcolor": "red",
          "line": {
           "color": "red"
          },
          "opacity": 0.7,
          "type": "circle",
          "x0": -12.29904,
          "x1": -9.359039999999998,
          "xref": "x",
          "y0": 22.87488,
          "y1": 25.81488,
          "yref": "y"
         },
         {
          "fillcolor": "red",
          "line": {
           "color": "red"
          },
          "opacity": 0.7,
          "type": "circle",
          "x0": -10.28952,
          "x1": -7.349519999999999,
          "xref": "x",
          "y0": 24.121320000000004,
          "y1": 27.061320000000002,
          "yref": "y"
         },
         {
          "fillcolor": "red",
          "line": {
           "color": "red"
          },
          "opacity": 0.7,
          "type": "circle",
          "x0": -7.63716,
          "x1": -4.69716,
          "xref": "x",
          "y0": 16.08672,
          "y1": 19.026719999999997,
          "yref": "y"
         },
         {
          "fillcolor": "red",
          "line": {
           "color": "red"
          },
          "opacity": 0.7,
          "type": "circle",
          "x0": 4.4556000000000004,
          "x1": 7.3956,
          "xref": "x",
          "y0": 19.194000000000003,
          "y1": 22.134,
          "yref": "y"
         },
         {
          "fillcolor": "red",
          "line": {
           "color": "red"
          },
          "opacity": 0.7,
          "type": "circle",
          "x0": 5.2962,
          "x1": 8.2362,
          "xref": "x",
          "y0": 27.06816,
          "y1": 30.008159999999997,
          "yref": "y"
         },
         {
          "fillcolor": "red",
          "line": {
           "color": "red"
          },
          "opacity": 0.7,
          "type": "circle",
          "x0": 6.864119999999999,
          "x1": 9.80412,
          "xref": "x",
          "y0": 32.26284,
          "y1": 35.202839999999995,
          "yref": "y"
         },
         {
          "fillcolor": "red",
          "line": {
           "color": "red"
          },
          "opacity": 0.7,
          "type": "circle",
          "x0": -13.772760000000002,
          "x1": -10.83276,
          "xref": "x",
          "y0": 36.64692,
          "y1": 39.58692,
          "yref": "y"
         },
         {
          "fillcolor": "red",
          "line": {
           "color": "red"
          },
          "opacity": 0.7,
          "type": "circle",
          "x0": -2.49132,
          "x1": 0.44867999999999997,
          "xref": "x",
          "y0": 19.65072,
          "y1": 22.590719999999997,
          "yref": "y"
         },
         {
          "fillcolor": "red",
          "line": {
           "color": "red"
          },
          "opacity": 0.7,
          "type": "circle",
          "x0": -19.811999999999998,
          "x1": -16.872,
          "xref": "x",
          "y0": 34.81644,
          "y1": 37.75644,
          "yref": "y"
         },
         {
          "fillcolor": "red",
          "line": {
           "color": "red"
          },
          "opacity": 0.7,
          "type": "circle",
          "x0": -7.23252,
          "x1": -4.292520000000001,
          "xref": "x",
          "y0": 22.66152,
          "y1": 25.601519999999997,
          "yref": "y"
         },
         {
          "fillcolor": "red",
          "line": {
           "color": "red"
          },
          "opacity": 0.7,
          "type": "circle",
          "x0": -8.23644,
          "x1": -5.29644,
          "xref": "x",
          "y0": 40.74432,
          "y1": 43.68432,
          "yref": "y"
         },
         {
          "fillcolor": "red",
          "line": {
           "color": "red"
          },
          "opacity": 0.7,
          "type": "circle",
          "x0": -14.406480000000002,
          "x1": -11.46648,
          "xref": "x",
          "y0": 31.8654,
          "y1": 34.8054,
          "yref": "y"
         },
         {
          "fillcolor": "red",
          "line": {
           "color": "red"
          },
          "opacity": 0.7,
          "type": "circle",
          "x0": -6.85728,
          "x1": -3.9172800000000008,
          "xref": "x",
          "y0": 35.2494,
          "y1": 38.1894,
          "yref": "y"
         },
         {
          "fillcolor": "red",
          "line": {
           "color": "red"
          },
          "opacity": 0.7,
          "type": "circle",
          "x0": 3.20448,
          "x1": 6.14448,
          "xref": "x",
          "y0": 33.50688,
          "y1": 36.44688,
          "yref": "y"
         },
         {
          "fillcolor": "red",
          "line": {
           "color": "red"
          },
          "opacity": 0.7,
          "type": "circle",
          "x0": -3.2136000000000005,
          "x1": -0.2736000000000003,
          "xref": "x",
          "y0": 37.50804,
          "y1": 40.44804,
          "yref": "y"
         },
         {
          "fillcolor": "red",
          "line": {
           "color": "red"
          },
          "opacity": 0.7,
          "type": "circle",
          "x0": -8.82132,
          "x1": -5.88132,
          "xref": "x",
          "y0": 29.662560000000003,
          "y1": 32.602560000000004,
          "yref": "y"
         },
         {
          "fillcolor": "red",
          "line": {
           "color": "red"
          },
          "opacity": 0.7,
          "type": "circle",
          "x0": -4.17228,
          "x1": -1.23228,
          "xref": "x",
          "y0": 21.385440000000003,
          "y1": 24.32544,
          "yref": "y"
         },
         {
          "fillcolor": "red",
          "line": {
           "color": "red"
          },
          "opacity": 0.7,
          "type": "circle",
          "x0": -9.72444,
          "x1": -6.784439999999999,
          "xref": "x",
          "y0": 18.47124,
          "y1": 21.41124,
          "yref": "y"
         },
         {
          "fillcolor": "red",
          "line": {
           "color": "red"
          },
          "opacity": 0.7,
          "type": "circle",
          "x0": -6.04512,
          "x1": -3.1051200000000003,
          "xref": "x",
          "y0": 17.364720000000002,
          "y1": 20.30472,
          "yref": "y"
         },
         {
          "fillcolor": "red",
          "line": {
           "color": "red"
          },
          "opacity": 0.7,
          "type": "circle",
          "x0": 9.4062,
          "x1": 12.346200000000001,
          "xref": "x",
          "y0": 36.76416,
          "y1": 39.704159999999995,
          "yref": "y"
         },
         {
          "fillcolor": "red",
          "line": {
           "color": "red"
          },
          "opacity": 0.7,
          "type": "circle",
          "x0": 6.033720000000001,
          "x1": 8.97372,
          "xref": "x",
          "y0": 38.04744,
          "y1": 40.98744,
          "yref": "y"
         },
         {
          "fillcolor": "red",
          "line": {
           "color": "red"
          },
          "opacity": 0.7,
          "type": "circle",
          "x0": 6.339000000000001,
          "x1": 9.279000000000002,
          "xref": "x",
          "y0": 34.54728,
          "y1": 37.48728,
          "yref": "y"
         },
         {
          "fillcolor": "red",
          "line": {
           "color": "red"
          },
          "opacity": 0.7,
          "type": "circle",
          "x0": 8.611199999999998,
          "x1": 11.5512,
          "xref": "x",
          "y0": 29.80176,
          "y1": 32.74176,
          "yref": "y"
         },
         {
          "fillcolor": "red",
          "line": {
           "color": "red"
          },
          "opacity": 0.7,
          "type": "circle",
          "x0": -14.30916,
          "x1": -11.369159999999999,
          "xref": "x",
          "y0": 23.40732,
          "y1": 26.347319999999996,
          "yref": "y"
         },
         {
          "fillcolor": "red",
          "line": {
           "color": "red"
          },
          "opacity": 0.7,
          "type": "circle",
          "x0": 10.50456,
          "x1": 13.444560000000001,
          "xref": "x",
          "y0": 20.99004,
          "y1": 23.930039999999998,
          "yref": "y"
         },
         {
          "fillcolor": "red",
          "line": {
           "color": "red"
          },
          "opacity": 0.7,
          "type": "circle",
          "x0": -11.214120000000001,
          "x1": -8.27412,
          "xref": "x",
          "y0": 33.95004,
          "y1": 36.89004,
          "yref": "y"
         },
         {
          "fillcolor": "red",
          "line": {
           "color": "red"
          },
          "opacity": 0.7,
          "type": "circle",
          "x0": -4.8444,
          "x1": -1.9044,
          "xref": "x",
          "y0": 37.07484,
          "y1": 40.01484,
          "yref": "y"
         },
         {
          "fillcolor": "red",
          "line": {
           "color": "red"
          },
          "opacity": 0.7,
          "type": "circle",
          "x0": -0.15252,
          "x1": 2.78748,
          "xref": "x",
          "y0": 20.55516,
          "y1": 23.49516,
          "yref": "y"
         },
         {
          "fillcolor": "red",
          "line": {
           "color": "red"
          },
          "opacity": 0.7,
          "type": "circle",
          "x0": -10.25376,
          "x1": -7.313759999999999,
          "xref": "x",
          "y0": 33.92076,
          "y1": 36.86076,
          "yref": "y"
         },
         {
          "fillcolor": "red",
          "line": {
           "color": "red"
          },
          "opacity": 0.7,
          "type": "circle",
          "x0": 4.3688400000000005,
          "x1": 7.30884,
          "xref": "x",
          "y0": 23.35296,
          "y1": 26.292959999999997,
          "yref": "y"
         },
         {
          "fillcolor": "red",
          "line": {
           "color": "red"
          },
          "opacity": 0.7,
          "type": "circle",
          "x0": -4.29984,
          "x1": -1.35984,
          "xref": "x",
          "y0": 28.011000000000003,
          "y1": 30.951,
          "yref": "y"
         },
         {
          "fillcolor": "red",
          "line": {
           "color": "red"
          },
          "opacity": 0.7,
          "type": "circle",
          "x0": 4.905119999999999,
          "x1": 7.845119999999999,
          "xref": "x",
          "y0": 30.463080000000005,
          "y1": 33.40308,
          "yref": "y"
         },
         {
          "fillcolor": "red",
          "line": {
           "color": "red"
          },
          "opacity": 0.7,
          "type": "circle",
          "x0": 0.09420000000000006,
          "x1": 3.0342000000000002,
          "xref": "x",
          "y0": 30.44556,
          "y1": 33.38556,
          "yref": "y"
         },
         {
          "fillcolor": "red",
          "line": {
           "color": "red"
          },
          "opacity": 0.7,
          "type": "circle",
          "x0": -5.5362,
          "x1": -2.5962000000000005,
          "xref": "x",
          "y0": 29.686200000000003,
          "y1": 32.626200000000004,
          "yref": "y"
         },
         {
          "fillcolor": "red",
          "line": {
           "color": "red"
          },
          "opacity": 0.7,
          "type": "circle",
          "x0": -14.416560000000002,
          "x1": -11.476560000000001,
          "xref": "x",
          "y0": 28.700280000000003,
          "y1": 31.64028,
          "yref": "y"
         },
         {
          "fillcolor": "red",
          "line": {
           "color": "red"
          },
          "opacity": 0.7,
          "type": "circle",
          "x0": -9.044640000000001,
          "x1": -6.104640000000001,
          "xref": "x",
          "y0": 30.47316,
          "y1": 33.41316,
          "yref": "y"
         },
         {
          "fillcolor": "red",
          "line": {
           "color": "red"
          },
          "opacity": 0.7,
          "type": "circle",
          "x0": 1.5021600000000002,
          "x1": 4.44216,
          "xref": "x",
          "y0": 40.81056,
          "y1": 43.75056,
          "yref": "y"
         },
         {
          "fillcolor": "red",
          "line": {
           "color": "red"
          },
          "opacity": 0.7,
          "type": "circle",
          "x0": 1.3062000000000002,
          "x1": 4.2462,
          "xref": "x",
          "y0": 23.889,
          "y1": 26.828999999999997,
          "yref": "y"
         },
         {
          "fillcolor": "red",
          "line": {
           "color": "red"
          },
          "opacity": 0.7,
          "type": "circle",
          "x0": -8.53248,
          "x1": -5.592479999999999,
          "xref": "x",
          "y0": 39.820800000000006,
          "y1": 42.7608,
          "yref": "y"
         },
         {
          "fillcolor": "red",
          "line": {
           "color": "red"
          },
          "opacity": 0.7,
          "type": "circle",
          "x0": -0.3604799999999999,
          "x1": 2.57952,
          "xref": "x",
          "y0": 33.77304,
          "y1": 36.71304,
          "yref": "y"
         },
         {
          "fillcolor": "red",
          "line": {
           "color": "red"
          },
          "opacity": 0.7,
          "type": "circle",
          "x0": -1.74072,
          "x1": 1.19928,
          "xref": "x",
          "y0": 37.0188,
          "y1": 39.9588,
          "yref": "y"
         },
         {
          "fillcolor": "red",
          "line": {
           "color": "red"
          },
          "opacity": 0.7,
          "type": "circle",
          "x0": -0.98988,
          "x1": 1.95012,
          "xref": "x",
          "y0": 37.7742,
          "y1": 40.7142,
          "yref": "y"
         },
         {
          "fillcolor": "red",
          "line": {
           "color": "red"
          },
          "opacity": 0.7,
          "type": "circle",
          "x0": 4.20468,
          "x1": 7.144679999999999,
          "xref": "x",
          "y0": 38.12448,
          "y1": 41.064479999999996,
          "yref": "y"
         },
         {
          "fillcolor": "red",
          "line": {
           "color": "red"
          },
          "opacity": 0.7,
          "type": "circle",
          "x0": -5.39436,
          "x1": -2.4543600000000003,
          "xref": "x",
          "y0": 24.820080000000004,
          "y1": 27.760080000000002,
          "yref": "y"
         },
         {
          "fillcolor": "red",
          "line": {
           "color": "red"
          },
          "opacity": 0.7,
          "type": "circle",
          "x0": 0.18996000000000013,
          "x1": 3.12996,
          "xref": "x",
          "y0": 25.5696,
          "y1": 28.5096,
          "yref": "y"
         },
         {
          "fillcolor": "red",
          "line": {
           "color": "red"
          },
          "opacity": 0.7,
          "type": "circle",
          "x0": -7.120679999999999,
          "x1": -4.18068,
          "xref": "x",
          "y0": 37.36932,
          "y1": 40.30932,
          "yref": "y"
         },
         {
          "fillcolor": "red",
          "line": {
           "color": "red"
          },
          "opacity": 0.7,
          "type": "circle",
          "x0": -4.68396,
          "x1": -1.7439600000000002,
          "xref": "x",
          "y0": 37.1376,
          "y1": 40.0776,
          "yref": "y"
         },
         {
          "fillcolor": "red",
          "line": {
           "color": "red"
          },
          "opacity": 0.7,
          "type": "circle",
          "x0": -4.2168,
          "x1": -1.2768,
          "xref": "x",
          "y0": 24.545280000000005,
          "y1": 27.485280000000003,
          "yref": "y"
         },
         {
          "fillcolor": "red",
          "line": {
           "color": "red"
          },
          "opacity": 0.7,
          "type": "circle",
          "x0": -5.22324,
          "x1": -2.28324,
          "xref": "x",
          "y0": 27.624720000000003,
          "y1": 30.56472,
          "yref": "y"
         },
         {
          "fillcolor": "red",
          "line": {
           "color": "red"
          },
          "opacity": 0.7,
          "type": "circle",
          "x0": -6.294239999999999,
          "x1": -3.35424,
          "xref": "x",
          "y0": 20.62488,
          "y1": 23.56488,
          "yref": "y"
         },
         {
          "fillcolor": "red",
          "line": {
           "color": "red"
          },
          "opacity": 0.7,
          "type": "circle",
          "x0": -12.48936,
          "x1": -9.549359999999998,
          "xref": "x",
          "y0": 37.17588,
          "y1": 40.11588,
          "yref": "y"
         },
         {
          "fillcolor": "red",
          "line": {
           "color": "red"
          },
          "opacity": 0.7,
          "type": "circle",
          "x0": -1.73628,
          "x1": 1.20372,
          "xref": "x",
          "y0": 42.57624,
          "y1": 45.516239999999996,
          "yref": "y"
         },
         {
          "fillcolor": "red",
          "line": {
           "color": "red"
          },
          "opacity": 0.7,
          "type": "circle",
          "x0": 8.800799999999999,
          "x1": 11.7408,
          "xref": "x",
          "y0": 38.7558,
          "y1": 41.6958,
          "yref": "y"
         },
         {
          "fillcolor": "red",
          "line": {
           "color": "red"
          },
          "opacity": 0.7,
          "type": "circle",
          "x0": -12.319560000000001,
          "x1": -9.37956,
          "xref": "x",
          "y0": 41.680440000000004,
          "y1": 44.62044,
          "yref": "y"
         },
         {
          "fillcolor": "red",
          "line": {
           "color": "red"
          },
          "opacity": 0.7,
          "type": "circle",
          "x0": 3.1634400000000005,
          "x1": 6.10344,
          "xref": "x",
          "y0": 25.677,
          "y1": 28.616999999999997,
          "yref": "y"
         },
         {
          "fillcolor": "red",
          "line": {
           "color": "red"
          },
          "opacity": 0.7,
          "type": "circle",
          "x0": -7.20516,
          "x1": -4.265160000000001,
          "xref": "x",
          "y0": 36.382560000000005,
          "y1": 39.32256,
          "yref": "y"
         },
         {
          "fillcolor": "red",
          "line": {
           "color": "red"
          },
          "opacity": 0.7,
          "type": "circle",
          "x0": -13.605960000000001,
          "x1": -10.66596,
          "xref": "x",
          "y0": 32.135400000000004,
          "y1": 35.0754,
          "yref": "y"
         },
         {
          "fillcolor": "red",
          "line": {
           "color": "red"
          },
          "opacity": 0.7,
          "type": "circle",
          "x0": -4.04496,
          "x1": -1.10496,
          "xref": "x",
          "y0": 26.629559999999998,
          "y1": 29.569559999999996,
          "yref": "y"
         },
         {
          "fillcolor": "red",
          "line": {
           "color": "red"
          },
          "opacity": 0.7,
          "type": "circle",
          "x0": -8.22204,
          "x1": -5.28204,
          "xref": "x",
          "y0": 34.77168,
          "y1": 37.71168,
          "yref": "y"
         },
         {
          "fillcolor": "red",
          "line": {
           "color": "red"
          },
          "opacity": 0.7,
          "type": "circle",
          "x0": -0.5649599999999999,
          "x1": 2.3750400000000003,
          "xref": "x",
          "y0": 15.941160000000002,
          "y1": 18.88116,
          "yref": "y"
         },
         {
          "fillcolor": "red",
          "line": {
           "color": "red"
          },
          "opacity": 0.7,
          "type": "circle",
          "x0": 13.69524,
          "x1": 16.63524,
          "xref": "x",
          "y0": 39.29748,
          "y1": 42.23748,
          "yref": "y"
         },
         {
          "fillcolor": "red",
          "line": {
           "color": "red"
          },
          "opacity": 0.7,
          "type": "circle",
          "x0": -6.1405199999999995,
          "x1": -3.20052,
          "xref": "x",
          "y0": 31.321559999999998,
          "y1": 34.261559999999996,
          "yref": "y"
         },
         {
          "fillcolor": "red",
          "line": {
           "color": "red"
          },
          "opacity": 0.7,
          "type": "circle",
          "x0": -2.5462800000000003,
          "x1": 0.39371999999999985,
          "xref": "x",
          "y0": 24.783480000000004,
          "y1": 27.723480000000002,
          "yref": "y"
         },
         {
          "fillcolor": "red",
          "line": {
           "color": "red"
          },
          "opacity": 0.7,
          "type": "circle",
          "x0": 12.53028,
          "x1": 15.47028,
          "xref": "x",
          "y0": 38.25636,
          "y1": 41.19636,
          "yref": "y"
         },
         {
          "fillcolor": "red",
          "line": {
           "color": "red"
          },
          "opacity": 0.7,
          "type": "circle",
          "x0": -1.83792,
          "x1": 1.10208,
          "xref": "x",
          "y0": 23.906280000000002,
          "y1": 26.84628,
          "yref": "y"
         },
         {
          "fillcolor": "red",
          "line": {
           "color": "red"
          },
          "opacity": 0.7,
          "type": "circle",
          "x0": 6.469080000000001,
          "x1": 9.409080000000001,
          "xref": "x",
          "y0": 32.66364,
          "y1": 35.60364,
          "yref": "y"
         },
         {
          "fillcolor": "red",
          "line": {
           "color": "red"
          },
          "opacity": 0.7,
          "type": "circle",
          "x0": -7.19832,
          "x1": -4.25832,
          "xref": "x",
          "y0": 36.3132,
          "y1": 39.2532,
          "yref": "y"
         },
         {
          "fillcolor": "red",
          "line": {
           "color": "red"
          },
          "opacity": 0.7,
          "type": "circle",
          "x0": 5.243280000000001,
          "x1": 8.183280000000002,
          "xref": "x",
          "y0": 39.17148,
          "y1": 42.11148,
          "yref": "y"
         },
         {
          "fillcolor": "red",
          "line": {
           "color": "red"
          },
          "opacity": 0.7,
          "type": "circle",
          "x0": 6.5362800000000005,
          "x1": 9.476280000000001,
          "xref": "x",
          "y0": 29.75328,
          "y1": 32.69328,
          "yref": "y"
         },
         {
          "fillcolor": "red",
          "line": {
           "color": "red"
          },
          "opacity": 0.7,
          "type": "circle",
          "x0": -2.22792,
          "x1": 0.71208,
          "xref": "x",
          "y0": 22.060560000000002,
          "y1": 25.00056,
          "yref": "y"
         },
         {
          "fillcolor": "red",
          "line": {
           "color": "red"
          },
          "opacity": 0.7,
          "type": "circle",
          "x0": -11.438640000000001,
          "x1": -8.49864,
          "xref": "x",
          "y0": 31.133519999999997,
          "y1": 34.073519999999995,
          "yref": "y"
         },
         {
          "fillcolor": "red",
          "line": {
           "color": "red"
          },
          "opacity": 0.7,
          "type": "circle",
          "x0": -5.91948,
          "x1": -2.9794800000000006,
          "xref": "x",
          "y0": 29.54076,
          "y1": 32.48076,
          "yref": "y"
         },
         {
          "fillcolor": "red",
          "line": {
           "color": "red"
          },
          "opacity": 0.7,
          "type": "circle",
          "x0": -2.4246,
          "x1": 0.5154000000000001,
          "xref": "x",
          "y0": 38.16216,
          "y1": 41.10216,
          "yref": "y"
         },
         {
          "fillcolor": "red",
          "line": {
           "color": "red"
          },
          "opacity": 0.7,
          "type": "circle",
          "x0": 3.6504000000000003,
          "x1": 6.5904,
          "xref": "x",
          "y0": 34.802760000000006,
          "y1": 37.742760000000004,
          "yref": "y"
         },
         {
          "fillcolor": "red",
          "line": {
           "color": "red"
          },
          "opacity": 0.7,
          "type": "circle",
          "x0": 1.9240799999999998,
          "x1": 4.8640799999999995,
          "xref": "x",
          "y0": 37.12836,
          "y1": 40.06836,
          "yref": "y"
         },
         {
          "fillcolor": "red",
          "line": {
           "color": "red"
          },
          "opacity": 0.7,
          "type": "circle",
          "x0": -4.611599999999999,
          "x1": -1.6715999999999995,
          "xref": "x",
          "y0": 28.303440000000002,
          "y1": 31.24344,
          "yref": "y"
         },
         {
          "fillcolor": "red",
          "line": {
           "color": "red"
          },
          "opacity": 0.7,
          "type": "circle",
          "x0": 1.2094799999999999,
          "x1": 4.14948,
          "xref": "x",
          "y0": 25.974360000000004,
          "y1": 28.914360000000002,
          "yref": "y"
         },
         {
          "fillcolor": "red",
          "line": {
           "color": "red"
          },
          "opacity": 0.7,
          "type": "circle",
          "x0": -2.91036,
          "x1": 0.02963999999999989,
          "xref": "x",
          "y0": 20.29344,
          "y1": 23.233439999999998,
          "yref": "y"
         },
         {
          "fillcolor": "red",
          "line": {
           "color": "red"
          },
          "opacity": 0.7,
          "type": "circle",
          "x0": 4.975440000000001,
          "x1": 7.91544,
          "xref": "x",
          "y0": 21.42,
          "y1": 24.36,
          "yref": "y"
         },
         {
          "fillcolor": "red",
          "line": {
           "color": "red"
          },
          "opacity": 0.7,
          "type": "circle",
          "x0": 7.5828,
          "x1": 10.5228,
          "xref": "x",
          "y0": 29.70492,
          "y1": 32.64492,
          "yref": "y"
         },
         {
          "fillcolor": "red",
          "line": {
           "color": "red"
          },
          "opacity": 0.7,
          "type": "circle",
          "x0": -7.20852,
          "x1": -4.2685200000000005,
          "xref": "x",
          "y0": 10.22376,
          "y1": 13.163760000000002,
          "yref": "y"
         },
         {
          "fillcolor": "red",
          "line": {
           "color": "red"
          },
          "opacity": 0.7,
          "type": "circle",
          "x0": -8.191320000000001,
          "x1": -5.251320000000001,
          "xref": "x",
          "y0": 35.55984,
          "y1": 38.49984,
          "yref": "y"
         },
         {
          "fillcolor": "red",
          "line": {
           "color": "red"
          },
          "opacity": 0.7,
          "type": "circle",
          "x0": -2.1677999999999997,
          "x1": 0.7722,
          "xref": "x",
          "y0": 29.196600000000004,
          "y1": 32.1366,
          "yref": "y"
         },
         {
          "fillcolor": "red",
          "line": {
           "color": "red"
          },
          "opacity": 0.7,
          "type": "circle",
          "x0": 6.304800000000001,
          "x1": 9.244800000000001,
          "xref": "x",
          "y0": 37.69884,
          "y1": 40.638839999999995,
          "yref": "y"
         },
         {
          "fillcolor": "red",
          "line": {
           "color": "red"
          },
          "opacity": 0.7,
          "type": "circle",
          "x0": -8.1552,
          "x1": -5.2152,
          "xref": "x",
          "y0": 35.34216000000001,
          "y1": 38.282160000000005,
          "yref": "y"
         },
         {
          "fillcolor": "red",
          "line": {
           "color": "red"
          },
          "opacity": 0.7,
          "type": "circle",
          "x0": 6.34416,
          "x1": 9.28416,
          "xref": "x",
          "y0": 39.50748,
          "y1": 42.44748,
          "yref": "y"
         },
         {
          "fillcolor": "red",
          "line": {
           "color": "red"
          },
          "opacity": 0.7,
          "type": "circle",
          "x0": -7.968959999999999,
          "x1": -5.02896,
          "xref": "x",
          "y0": 29.678880000000003,
          "y1": 32.618880000000004,
          "yref": "y"
         },
         {
          "fillcolor": "red",
          "line": {
           "color": "red"
          },
          "opacity": 0.7,
          "type": "circle",
          "x0": -11.8998,
          "x1": -8.9598,
          "xref": "x",
          "y0": 26.31696,
          "y1": 29.25696,
          "yref": "y"
         },
         {
          "fillcolor": "red",
          "line": {
           "color": "red"
          },
          "opacity": 0.7,
          "type": "circle",
          "x0": -0.32928,
          "x1": 2.6107199999999997,
          "xref": "x",
          "y0": 20.32044,
          "y1": 23.26044,
          "yref": "y"
         },
         {
          "fillcolor": "red",
          "line": {
           "color": "red"
          },
          "opacity": 0.7,
          "type": "circle",
          "x0": -10.88208,
          "x1": -7.94208,
          "xref": "x",
          "y0": 40.99692,
          "y1": 43.93692,
          "yref": "y"
         },
         {
          "fillcolor": "red",
          "line": {
           "color": "red"
          },
          "opacity": 0.7,
          "type": "circle",
          "x0": -15.189360000000002,
          "x1": -12.249360000000001,
          "xref": "x",
          "y0": 35.52372,
          "y1": 38.463719999999995,
          "yref": "y"
         },
         {
          "fillcolor": "red",
          "line": {
           "color": "red"
          },
          "opacity": 0.7,
          "type": "circle",
          "x0": -13.212480000000001,
          "x1": -10.27248,
          "xref": "x",
          "y0": 38.39652,
          "y1": 41.33652,
          "yref": "y"
         },
         {
          "fillcolor": "red",
          "line": {
           "color": "red"
          },
          "opacity": 0.7,
          "type": "circle",
          "x0": -9.94116,
          "x1": -7.00116,
          "xref": "x",
          "y0": 32.28888,
          "y1": 35.22888,
          "yref": "y"
         },
         {
          "fillcolor": "red",
          "line": {
           "color": "red"
          },
          "opacity": 0.7,
          "type": "circle",
          "x0": 4.65468,
          "x1": 7.594679999999999,
          "xref": "x",
          "y0": 36.51456,
          "y1": 39.45456,
          "yref": "y"
         },
         {
          "fillcolor": "red",
          "line": {
           "color": "red"
          },
          "opacity": 0.7,
          "type": "circle",
          "x0": -5.9702399999999995,
          "x1": -3.03024,
          "xref": "x",
          "y0": 33.10416,
          "y1": 36.04416,
          "yref": "y"
         },
         {
          "fillcolor": "red",
          "line": {
           "color": "red"
          },
          "opacity": 0.7,
          "type": "circle",
          "x0": 5.421360000000001,
          "x1": 8.361360000000001,
          "xref": "x",
          "y0": 28.765440000000005,
          "y1": 31.705440000000003,
          "yref": "y"
         },
         {
          "fillcolor": "red",
          "line": {
           "color": "red"
          },
          "opacity": 0.7,
          "type": "circle",
          "x0": 11.17356,
          "x1": 14.113560000000001,
          "xref": "x",
          "y0": 32.74452,
          "y1": 35.68452,
          "yref": "y"
         },
         {
          "fillcolor": "red",
          "line": {
           "color": "red"
          },
          "opacity": 0.7,
          "type": "circle",
          "x0": 7.105800000000001,
          "x1": 10.045800000000002,
          "xref": "x",
          "y0": 37.077600000000004,
          "y1": 40.0176,
          "yref": "y"
         },
         {
          "fillcolor": "red",
          "line": {
           "color": "red"
          },
          "opacity": 0.7,
          "type": "circle",
          "x0": 5.351640000000001,
          "x1": 8.291640000000001,
          "xref": "x",
          "y0": 36.03036,
          "y1": 38.97036,
          "yref": "y"
         },
         {
          "fillcolor": "red",
          "line": {
           "color": "red"
          },
          "opacity": 0.7,
          "type": "circle",
          "x0": -4.29132,
          "x1": -1.35132,
          "xref": "x",
          "y0": 31.72524,
          "y1": 34.66524,
          "yref": "y"
         },
         {
          "fillcolor": "red",
          "line": {
           "color": "red"
          },
          "opacity": 0.7,
          "type": "circle",
          "x0": -8.197320000000001,
          "x1": -5.257320000000001,
          "xref": "x",
          "y0": 40.716,
          "y1": 43.656,
          "yref": "y"
         },
         {
          "fillcolor": "red",
          "line": {
           "color": "red"
          },
          "opacity": 0.7,
          "type": "circle",
          "x0": 10.506359999999999,
          "x1": 13.44636,
          "xref": "x",
          "y0": 28.91292,
          "y1": 31.852919999999997,
          "yref": "y"
         },
         {
          "fillcolor": "red",
          "line": {
           "color": "red"
          },
          "opacity": 0.7,
          "type": "circle",
          "x0": -1.72308,
          "x1": 1.21692,
          "xref": "x",
          "y0": 26.39292,
          "y1": 29.332919999999998,
          "yref": "y"
         },
         {
          "fillcolor": "red",
          "line": {
           "color": "red"
          },
          "opacity": 0.7,
          "type": "circle",
          "x0": -8.1132,
          "x1": -5.1732000000000005,
          "xref": "x",
          "y0": 34.99596,
          "y1": 37.935959999999994,
          "yref": "y"
         },
         {
          "fillcolor": "red",
          "line": {
           "color": "red"
          },
          "opacity": 0.7,
          "type": "circle",
          "x0": 7.383,
          "x1": 10.323,
          "xref": "x",
          "y0": 21.959760000000003,
          "y1": 24.89976,
          "yref": "y"
         },
         {
          "fillcolor": "red",
          "line": {
           "color": "red"
          },
          "opacity": 0.7,
          "type": "circle",
          "x0": 6.22764,
          "x1": 9.16764,
          "xref": "x",
          "y0": 36.375479999999996,
          "y1": 39.315479999999994,
          "yref": "y"
         },
         {
          "fillcolor": "red",
          "line": {
           "color": "red"
          },
          "opacity": 0.7,
          "type": "circle",
          "x0": 4.751880000000001,
          "x1": 7.69188,
          "xref": "x",
          "y0": 36.30816,
          "y1": 39.24816,
          "yref": "y"
         },
         {
          "fillcolor": "red",
          "line": {
           "color": "red"
          },
          "opacity": 0.7,
          "type": "circle",
          "x0": -3.3805199999999997,
          "x1": -0.44052,
          "xref": "x",
          "y0": 35.0688,
          "y1": 38.0088,
          "yref": "y"
         },
         {
          "fillcolor": "red",
          "line": {
           "color": "red"
          },
          "opacity": 0.7,
          "type": "circle",
          "x0": -10.5792,
          "x1": -7.6392,
          "xref": "x",
          "y0": 28.22952,
          "y1": 31.16952,
          "yref": "y"
         },
         {
          "fillcolor": "red",
          "line": {
           "color": "red"
          },
          "opacity": 0.7,
          "type": "circle",
          "x0": -6.88152,
          "x1": -3.9415200000000006,
          "xref": "x",
          "y0": 30.581880000000005,
          "y1": 33.52188,
          "yref": "y"
         },
         {
          "fillcolor": "red",
          "line": {
           "color": "red"
          },
          "opacity": 0.7,
          "type": "circle",
          "x0": 4.18068,
          "x1": 7.120679999999999,
          "xref": "x",
          "y0": 29.453640000000004,
          "y1": 32.393640000000005,
          "yref": "y"
         },
         {
          "fillcolor": "red",
          "line": {
           "color": "red"
          },
          "opacity": 0.7,
          "type": "circle",
          "x0": -9.812520000000001,
          "x1": -6.872520000000001,
          "xref": "x",
          "y0": 25.394400000000005,
          "y1": 28.334400000000002,
          "yref": "y"
         },
         {
          "fillcolor": "red",
          "line": {
           "color": "red"
          },
          "opacity": 0.7,
          "type": "circle",
          "x0": 2.0731200000000003,
          "x1": 5.01312,
          "xref": "x",
          "y0": 21.588720000000002,
          "y1": 24.52872,
          "yref": "y"
         },
         {
          "fillcolor": "red",
          "line": {
           "color": "red"
          },
          "opacity": 0.7,
          "type": "circle",
          "x0": -8.20824,
          "x1": -5.2682400000000005,
          "xref": "x",
          "y0": 21.03264,
          "y1": 23.97264,
          "yref": "y"
         },
         {
          "fillcolor": "red",
          "line": {
           "color": "red"
          },
          "opacity": 0.7,
          "type": "circle",
          "x0": -12.243120000000001,
          "x1": -9.30312,
          "xref": "x",
          "y0": 39.36528,
          "y1": 42.305279999999996,
          "yref": "y"
         },
         {
          "fillcolor": "red",
          "line": {
           "color": "red"
          },
          "opacity": 0.7,
          "type": "circle",
          "x0": -2.2089600000000003,
          "x1": 0.7310399999999999,
          "xref": "x",
          "y0": 29.51388,
          "y1": 32.45388,
          "yref": "y"
         },
         {
          "fillcolor": "red",
          "line": {
           "color": "red"
          },
          "opacity": 0.7,
          "type": "circle",
          "x0": -14.479920000000002,
          "x1": -11.53992,
          "xref": "x",
          "y0": 28.209600000000002,
          "y1": 31.1496,
          "yref": "y"
         },
         {
          "fillcolor": "red",
          "line": {
           "color": "red"
          },
          "opacity": 0.7,
          "type": "circle",
          "x0": 7.125600000000001,
          "x1": 10.065600000000002,
          "xref": "x",
          "y0": 26.889360000000003,
          "y1": 29.82936,
          "yref": "y"
         },
         {
          "fillcolor": "red",
          "line": {
           "color": "red"
          },
          "opacity": 0.7,
          "type": "circle",
          "x0": 7.01424,
          "x1": 9.95424,
          "xref": "x",
          "y0": 32.99796,
          "y1": 35.93796,
          "yref": "y"
         },
         {
          "fillcolor": "red",
          "line": {
           "color": "red"
          },
          "opacity": 0.7,
          "type": "circle",
          "x0": 7.353840000000001,
          "x1": 10.293840000000001,
          "xref": "x",
          "y0": 31.841639999999998,
          "y1": 34.781639999999996,
          "yref": "y"
         },
         {
          "fillcolor": "red",
          "line": {
           "color": "red"
          },
          "opacity": 0.7,
          "type": "circle",
          "x0": 2.87244,
          "x1": 5.81244,
          "xref": "x",
          "y0": 24.24696,
          "y1": 27.18696,
          "yref": "y"
         },
         {
          "fillcolor": "red",
          "line": {
           "color": "red"
          },
          "opacity": 0.7,
          "type": "circle",
          "x0": 1.3183200000000002,
          "x1": 4.25832,
          "xref": "x",
          "y0": 18.86196,
          "y1": 21.801959999999998,
          "yref": "y"
         },
         {
          "fillcolor": "red",
          "line": {
           "color": "red"
          },
          "opacity": 0.7,
          "type": "circle",
          "x0": -1.74588,
          "x1": 1.1941199999999998,
          "xref": "x",
          "y0": 18.58176,
          "y1": 21.521759999999997,
          "yref": "y"
         },
         {
          "fillcolor": "red",
          "line": {
           "color": "red"
          },
          "opacity": 0.7,
          "type": "circle",
          "x0": 7.877400000000001,
          "x1": 10.817400000000001,
          "xref": "x",
          "y0": 34.1754,
          "y1": 37.1154,
          "yref": "y"
         },
         {
          "fillcolor": "red",
          "line": {
           "color": "red"
          },
          "opacity": 0.7,
          "type": "circle",
          "x0": -2.27076,
          "x1": 0.6692400000000001,
          "xref": "x",
          "y0": 30.87312,
          "y1": 33.81312,
          "yref": "y"
         },
         {
          "fillcolor": "red",
          "line": {
           "color": "red"
          },
          "opacity": 0.7,
          "type": "circle",
          "x0": -12.375960000000001,
          "x1": -9.43596,
          "xref": "x",
          "y0": 26.26632,
          "y1": 29.206319999999998,
          "yref": "y"
         },
         {
          "fillcolor": "red",
          "line": {
           "color": "red"
          },
          "opacity": 0.7,
          "type": "circle",
          "x0": -2.5777200000000002,
          "x1": 0.36227999999999994,
          "xref": "x",
          "y0": 27.485640000000004,
          "y1": 30.42564,
          "yref": "y"
         },
         {
          "fillcolor": "red",
          "line": {
           "color": "red"
          },
          "opacity": 0.7,
          "type": "circle",
          "x0": -8.38128,
          "x1": -5.44128,
          "xref": "x",
          "y0": 26.435879999999997,
          "y1": 29.375879999999995,
          "yref": "y"
         },
         {
          "fillcolor": "red",
          "line": {
           "color": "red"
          },
          "opacity": 0.7,
          "type": "circle",
          "x0": -7.943280000000001,
          "x1": -5.003280000000001,
          "xref": "x",
          "y0": 31.96752,
          "y1": 34.90752,
          "yref": "y"
         },
         {
          "fillcolor": "red",
          "line": {
           "color": "red"
          },
          "opacity": 0.7,
          "type": "circle",
          "x0": -9.18324,
          "x1": -6.243239999999999,
          "xref": "x",
          "y0": 27.332279999999997,
          "y1": 30.272279999999995,
          "yref": "y"
         },
         {
          "fillcolor": "red",
          "line": {
           "color": "red"
          },
          "opacity": 0.7,
          "type": "circle",
          "x0": -5.8644,
          "x1": -2.9244000000000003,
          "xref": "x",
          "y0": 22.131600000000002,
          "y1": 25.0716,
          "yref": "y"
         },
         {
          "fillcolor": "red",
          "line": {
           "color": "red"
          },
          "opacity": 0.7,
          "type": "circle",
          "x0": 2.22288,
          "x1": 5.16288,
          "xref": "x",
          "y0": 20.00352,
          "y1": 22.94352,
          "yref": "y"
         },
         {
          "fillcolor": "red",
          "line": {
           "color": "red"
          },
          "opacity": 0.7,
          "type": "circle",
          "x0": -8.951880000000001,
          "x1": -6.011880000000001,
          "xref": "x",
          "y0": 20.41296,
          "y1": 23.35296,
          "yref": "y"
         },
         {
          "fillcolor": "red",
          "line": {
           "color": "red"
          },
          "opacity": 0.7,
          "type": "circle",
          "x0": -5.1738,
          "x1": -2.2337999999999996,
          "xref": "x",
          "y0": 27.552480000000003,
          "y1": 30.49248,
          "yref": "y"
         },
         {
          "fillcolor": "red",
          "line": {
           "color": "red"
          },
          "opacity": 0.7,
          "type": "circle",
          "x0": 1.5057600000000002,
          "x1": 4.44576,
          "xref": "x",
          "y0": 11.05344,
          "y1": 13.993440000000001,
          "yref": "y"
         },
         {
          "fillcolor": "red",
          "line": {
           "color": "red"
          },
          "opacity": 0.7,
          "type": "circle",
          "x0": -8.53608,
          "x1": -5.596080000000001,
          "xref": "x",
          "y0": 27.26028,
          "y1": 30.20028,
          "yref": "y"
         },
         {
          "fillcolor": "red",
          "line": {
           "color": "red"
          },
          "opacity": 0.7,
          "type": "circle",
          "x0": -4.06248,
          "x1": -1.1224800000000001,
          "xref": "x",
          "y0": 32.566320000000005,
          "y1": 35.50632,
          "yref": "y"
         },
         {
          "fillcolor": "red",
          "line": {
           "color": "red"
          },
          "opacity": 0.7,
          "type": "circle",
          "x0": -8.58768,
          "x1": -5.64768,
          "xref": "x",
          "y0": 18.428760000000004,
          "y1": 21.36876,
          "yref": "y"
         },
         {
          "fillcolor": "red",
          "line": {
           "color": "red"
          },
          "opacity": 0.7,
          "type": "circle",
          "x0": 1.12068,
          "x1": 4.06068,
          "xref": "x",
          "y0": 16.98996,
          "y1": 19.929959999999998,
          "yref": "y"
         },
         {
          "fillcolor": "red",
          "line": {
           "color": "red"
          },
          "opacity": 0.7,
          "type": "circle",
          "x0": -3.8712,
          "x1": -0.9312000000000002,
          "xref": "x",
          "y0": 20.5914,
          "y1": 23.531399999999998,
          "yref": "y"
         },
         {
          "fillcolor": "red",
          "line": {
           "color": "red"
          },
          "opacity": 0.7,
          "type": "circle",
          "x0": -6.76776,
          "x1": -3.8277600000000005,
          "xref": "x",
          "y0": 29.775959999999998,
          "y1": 32.715959999999995,
          "yref": "y"
         },
         {
          "fillcolor": "red",
          "line": {
           "color": "red"
          },
          "opacity": 0.7,
          "type": "circle",
          "x0": 6.099000000000001,
          "x1": 9.039000000000001,
          "xref": "x",
          "y0": 15.123959999999999,
          "y1": 18.063959999999998,
          "yref": "y"
         },
         {
          "fillcolor": "red",
          "line": {
           "color": "red"
          },
          "opacity": 0.7,
          "type": "circle",
          "x0": -0.83844,
          "x1": 2.10156,
          "xref": "x",
          "y0": 20.675400000000003,
          "y1": 23.6154,
          "yref": "y"
         },
         {
          "fillcolor": "red",
          "line": {
           "color": "red"
          },
          "opacity": 0.7,
          "type": "circle",
          "x0": -2.4289199999999997,
          "x1": 0.51108,
          "xref": "x",
          "y0": 28.00212,
          "y1": 30.94212,
          "yref": "y"
         },
         {
          "fillcolor": "red",
          "line": {
           "color": "red"
          },
          "opacity": 0.7,
          "type": "circle",
          "x0": 5.4846,
          "x1": 8.4246,
          "xref": "x",
          "y0": 31.231920000000002,
          "y1": 34.17192,
          "yref": "y"
         },
         {
          "fillcolor": "red",
          "line": {
           "color": "red"
          },
          "opacity": 0.7,
          "type": "circle",
          "x0": 4.3254,
          "x1": 7.2654,
          "xref": "x",
          "y0": 19.342080000000003,
          "y1": 22.28208,
          "yref": "y"
         },
         {
          "fillcolor": "red",
          "line": {
           "color": "red"
          },
          "opacity": 0.7,
          "type": "circle",
          "x0": -2.20704,
          "x1": 0.73296,
          "xref": "x",
          "y0": 26.194920000000003,
          "y1": 29.13492,
          "yref": "y"
         },
         {
          "fillcolor": "red",
          "line": {
           "color": "red"
          },
          "opacity": 0.7,
          "type": "circle",
          "x0": 4.50732,
          "x1": 7.4473199999999995,
          "xref": "x",
          "y0": 25.782360000000004,
          "y1": 28.722360000000002,
          "yref": "y"
         },
         {
          "fillcolor": "red",
          "line": {
           "color": "red"
          },
          "opacity": 0.7,
          "type": "circle",
          "x0": 6.15768,
          "x1": 9.09768,
          "xref": "x",
          "y0": 31.463160000000002,
          "y1": 34.40316,
          "yref": "y"
         }
        ],
        "template": {
         "data": {
          "bar": [
           {
            "error_x": {
             "color": "#2a3f5f"
            },
            "error_y": {
             "color": "#2a3f5f"
            },
            "marker": {
             "line": {
              "color": "#E5ECF6",
              "width": 0.5
             },
             "pattern": {
              "fillmode": "overlay",
              "size": 10,
              "solidity": 0.2
             }
            },
            "type": "bar"
           }
          ],
          "barpolar": [
           {
            "marker": {
             "line": {
              "color": "#E5ECF6",
              "width": 0.5
             },
             "pattern": {
              "fillmode": "overlay",
              "size": 10,
              "solidity": 0.2
             }
            },
            "type": "barpolar"
           }
          ],
          "carpet": [
           {
            "aaxis": {
             "endlinecolor": "#2a3f5f",
             "gridcolor": "white",
             "linecolor": "white",
             "minorgridcolor": "white",
             "startlinecolor": "#2a3f5f"
            },
            "baxis": {
             "endlinecolor": "#2a3f5f",
             "gridcolor": "white",
             "linecolor": "white",
             "minorgridcolor": "white",
             "startlinecolor": "#2a3f5f"
            },
            "type": "carpet"
           }
          ],
          "choropleth": [
           {
            "colorbar": {
             "outlinewidth": 0,
             "ticks": ""
            },
            "type": "choropleth"
           }
          ],
          "contour": [
           {
            "colorbar": {
             "outlinewidth": 0,
             "ticks": ""
            },
            "colorscale": [
             [
              0,
              "#0d0887"
             ],
             [
              0.1111111111111111,
              "#46039f"
             ],
             [
              0.2222222222222222,
              "#7201a8"
             ],
             [
              0.3333333333333333,
              "#9c179e"
             ],
             [
              0.4444444444444444,
              "#bd3786"
             ],
             [
              0.5555555555555556,
              "#d8576b"
             ],
             [
              0.6666666666666666,
              "#ed7953"
             ],
             [
              0.7777777777777778,
              "#fb9f3a"
             ],
             [
              0.8888888888888888,
              "#fdca26"
             ],
             [
              1,
              "#f0f921"
             ]
            ],
            "type": "contour"
           }
          ],
          "contourcarpet": [
           {
            "colorbar": {
             "outlinewidth": 0,
             "ticks": ""
            },
            "type": "contourcarpet"
           }
          ],
          "heatmap": [
           {
            "colorbar": {
             "outlinewidth": 0,
             "ticks": ""
            },
            "colorscale": [
             [
              0,
              "#0d0887"
             ],
             [
              0.1111111111111111,
              "#46039f"
             ],
             [
              0.2222222222222222,
              "#7201a8"
             ],
             [
              0.3333333333333333,
              "#9c179e"
             ],
             [
              0.4444444444444444,
              "#bd3786"
             ],
             [
              0.5555555555555556,
              "#d8576b"
             ],
             [
              0.6666666666666666,
              "#ed7953"
             ],
             [
              0.7777777777777778,
              "#fb9f3a"
             ],
             [
              0.8888888888888888,
              "#fdca26"
             ],
             [
              1,
              "#f0f921"
             ]
            ],
            "type": "heatmap"
           }
          ],
          "histogram": [
           {
            "marker": {
             "pattern": {
              "fillmode": "overlay",
              "size": 10,
              "solidity": 0.2
             }
            },
            "type": "histogram"
           }
          ],
          "histogram2d": [
           {
            "colorbar": {
             "outlinewidth": 0,
             "ticks": ""
            },
            "colorscale": [
             [
              0,
              "#0d0887"
             ],
             [
              0.1111111111111111,
              "#46039f"
             ],
             [
              0.2222222222222222,
              "#7201a8"
             ],
             [
              0.3333333333333333,
              "#9c179e"
             ],
             [
              0.4444444444444444,
              "#bd3786"
             ],
             [
              0.5555555555555556,
              "#d8576b"
             ],
             [
              0.6666666666666666,
              "#ed7953"
             ],
             [
              0.7777777777777778,
              "#fb9f3a"
             ],
             [
              0.8888888888888888,
              "#fdca26"
             ],
             [
              1,
              "#f0f921"
             ]
            ],
            "type": "histogram2d"
           }
          ],
          "histogram2dcontour": [
           {
            "colorbar": {
             "outlinewidth": 0,
             "ticks": ""
            },
            "colorscale": [
             [
              0,
              "#0d0887"
             ],
             [
              0.1111111111111111,
              "#46039f"
             ],
             [
              0.2222222222222222,
              "#7201a8"
             ],
             [
              0.3333333333333333,
              "#9c179e"
             ],
             [
              0.4444444444444444,
              "#bd3786"
             ],
             [
              0.5555555555555556,
              "#d8576b"
             ],
             [
              0.6666666666666666,
              "#ed7953"
             ],
             [
              0.7777777777777778,
              "#fb9f3a"
             ],
             [
              0.8888888888888888,
              "#fdca26"
             ],
             [
              1,
              "#f0f921"
             ]
            ],
            "type": "histogram2dcontour"
           }
          ],
          "mesh3d": [
           {
            "colorbar": {
             "outlinewidth": 0,
             "ticks": ""
            },
            "type": "mesh3d"
           }
          ],
          "parcoords": [
           {
            "line": {
             "colorbar": {
              "outlinewidth": 0,
              "ticks": ""
             }
            },
            "type": "parcoords"
           }
          ],
          "pie": [
           {
            "automargin": true,
            "type": "pie"
           }
          ],
          "scatter": [
           {
            "fillpattern": {
             "fillmode": "overlay",
             "size": 10,
             "solidity": 0.2
            },
            "type": "scatter"
           }
          ],
          "scatter3d": [
           {
            "line": {
             "colorbar": {
              "outlinewidth": 0,
              "ticks": ""
             }
            },
            "marker": {
             "colorbar": {
              "outlinewidth": 0,
              "ticks": ""
             }
            },
            "type": "scatter3d"
           }
          ],
          "scattercarpet": [
           {
            "marker": {
             "colorbar": {
              "outlinewidth": 0,
              "ticks": ""
             }
            },
            "type": "scattercarpet"
           }
          ],
          "scattergeo": [
           {
            "marker": {
             "colorbar": {
              "outlinewidth": 0,
              "ticks": ""
             }
            },
            "type": "scattergeo"
           }
          ],
          "scattergl": [
           {
            "marker": {
             "colorbar": {
              "outlinewidth": 0,
              "ticks": ""
             }
            },
            "type": "scattergl"
           }
          ],
          "scattermap": [
           {
            "marker": {
             "colorbar": {
              "outlinewidth": 0,
              "ticks": ""
             }
            },
            "type": "scattermap"
           }
          ],
          "scattermapbox": [
           {
            "marker": {
             "colorbar": {
              "outlinewidth": 0,
              "ticks": ""
             }
            },
            "type": "scattermapbox"
           }
          ],
          "scatterpolar": [
           {
            "marker": {
             "colorbar": {
              "outlinewidth": 0,
              "ticks": ""
             }
            },
            "type": "scatterpolar"
           }
          ],
          "scatterpolargl": [
           {
            "marker": {
             "colorbar": {
              "outlinewidth": 0,
              "ticks": ""
             }
            },
            "type": "scatterpolargl"
           }
          ],
          "scatterternary": [
           {
            "marker": {
             "colorbar": {
              "outlinewidth": 0,
              "ticks": ""
             }
            },
            "type": "scatterternary"
           }
          ],
          "surface": [
           {
            "colorbar": {
             "outlinewidth": 0,
             "ticks": ""
            },
            "colorscale": [
             [
              0,
              "#0d0887"
             ],
             [
              0.1111111111111111,
              "#46039f"
             ],
             [
              0.2222222222222222,
              "#7201a8"
             ],
             [
              0.3333333333333333,
              "#9c179e"
             ],
             [
              0.4444444444444444,
              "#bd3786"
             ],
             [
              0.5555555555555556,
              "#d8576b"
             ],
             [
              0.6666666666666666,
              "#ed7953"
             ],
             [
              0.7777777777777778,
              "#fb9f3a"
             ],
             [
              0.8888888888888888,
              "#fdca26"
             ],
             [
              1,
              "#f0f921"
             ]
            ],
            "type": "surface"
           }
          ],
          "table": [
           {
            "cells": {
             "fill": {
              "color": "#EBF0F8"
             },
             "line": {
              "color": "white"
             }
            },
            "header": {
             "fill": {
              "color": "#C8D4E3"
             },
             "line": {
              "color": "white"
             }
            },
            "type": "table"
           }
          ]
         },
         "layout": {
          "annotationdefaults": {
           "arrowcolor": "#2a3f5f",
           "arrowhead": 0,
           "arrowwidth": 1
          },
          "autotypenumbers": "strict",
          "coloraxis": {
           "colorbar": {
            "outlinewidth": 0,
            "ticks": ""
           }
          },
          "colorscale": {
           "diverging": [
            [
             0,
             "#8e0152"
            ],
            [
             0.1,
             "#c51b7d"
            ],
            [
             0.2,
             "#de77ae"
            ],
            [
             0.3,
             "#f1b6da"
            ],
            [
             0.4,
             "#fde0ef"
            ],
            [
             0.5,
             "#f7f7f7"
            ],
            [
             0.6,
             "#e6f5d0"
            ],
            [
             0.7,
             "#b8e186"
            ],
            [
             0.8,
             "#7fbc41"
            ],
            [
             0.9,
             "#4d9221"
            ],
            [
             1,
             "#276419"
            ]
           ],
           "sequential": [
            [
             0,
             "#0d0887"
            ],
            [
             0.1111111111111111,
             "#46039f"
            ],
            [
             0.2222222222222222,
             "#7201a8"
            ],
            [
             0.3333333333333333,
             "#9c179e"
            ],
            [
             0.4444444444444444,
             "#bd3786"
            ],
            [
             0.5555555555555556,
             "#d8576b"
            ],
            [
             0.6666666666666666,
             "#ed7953"
            ],
            [
             0.7777777777777778,
             "#fb9f3a"
            ],
            [
             0.8888888888888888,
             "#fdca26"
            ],
            [
             1,
             "#f0f921"
            ]
           ],
           "sequentialminus": [
            [
             0,
             "#0d0887"
            ],
            [
             0.1111111111111111,
             "#46039f"
            ],
            [
             0.2222222222222222,
             "#7201a8"
            ],
            [
             0.3333333333333333,
             "#9c179e"
            ],
            [
             0.4444444444444444,
             "#bd3786"
            ],
            [
             0.5555555555555556,
             "#d8576b"
            ],
            [
             0.6666666666666666,
             "#ed7953"
            ],
            [
             0.7777777777777778,
             "#fb9f3a"
            ],
            [
             0.8888888888888888,
             "#fdca26"
            ],
            [
             1,
             "#f0f921"
            ]
           ]
          },
          "colorway": [
           "#636efa",
           "#EF553B",
           "#00cc96",
           "#ab63fa",
           "#FFA15A",
           "#19d3f3",
           "#FF6692",
           "#B6E880",
           "#FF97FF",
           "#FECB52"
          ],
          "font": {
           "color": "#2a3f5f"
          },
          "geo": {
           "bgcolor": "white",
           "lakecolor": "white",
           "landcolor": "#E5ECF6",
           "showlakes": true,
           "showland": true,
           "subunitcolor": "white"
          },
          "hoverlabel": {
           "align": "left"
          },
          "hovermode": "closest",
          "mapbox": {
           "style": "light"
          },
          "paper_bgcolor": "white",
          "plot_bgcolor": "#E5ECF6",
          "polar": {
           "angularaxis": {
            "gridcolor": "white",
            "linecolor": "white",
            "ticks": ""
           },
           "bgcolor": "#E5ECF6",
           "radialaxis": {
            "gridcolor": "white",
            "linecolor": "white",
            "ticks": ""
           }
          },
          "scene": {
           "xaxis": {
            "backgroundcolor": "#E5ECF6",
            "gridcolor": "white",
            "gridwidth": 2,
            "linecolor": "white",
            "showbackground": true,
            "ticks": "",
            "zerolinecolor": "white"
           },
           "yaxis": {
            "backgroundcolor": "#E5ECF6",
            "gridcolor": "white",
            "gridwidth": 2,
            "linecolor": "white",
            "showbackground": true,
            "ticks": "",
            "zerolinecolor": "white"
           },
           "zaxis": {
            "backgroundcolor": "#E5ECF6",
            "gridcolor": "white",
            "gridwidth": 2,
            "linecolor": "white",
            "showbackground": true,
            "ticks": "",
            "zerolinecolor": "white"
           }
          },
          "shapedefaults": {
           "line": {
            "color": "#2a3f5f"
           }
          },
          "ternary": {
           "aaxis": {
            "gridcolor": "white",
            "linecolor": "white",
            "ticks": ""
           },
           "baxis": {
            "gridcolor": "white",
            "linecolor": "white",
            "ticks": ""
           },
           "bgcolor": "#E5ECF6",
           "caxis": {
            "gridcolor": "white",
            "linecolor": "white",
            "ticks": ""
           }
          },
          "title": {
           "x": 0.05
          },
          "xaxis": {
           "automargin": true,
           "gridcolor": "white",
           "linecolor": "white",
           "ticks": "",
           "title": {
            "standoff": 15
           },
           "zerolinecolor": "white",
           "zerolinewidth": 2
          },
          "yaxis": {
           "automargin": true,
           "gridcolor": "white",
           "linecolor": "white",
           "ticks": "",
           "title": {
            "standoff": 15
           },
           "zerolinecolor": "white",
           "zerolinewidth": 2
          }
         }
        },
        "title": {
         "text": "Trackman Interactive Strike Zone"
        },
        "width": 700,
        "xaxis": {
         "range": [
          -15,
          15
         ],
         "title": {
          "text": "Horizontal Position (inches)"
         }
        },
        "yaxis": {
         "range": [
          10,
          50
         ],
         "title": {
          "text": "Vertical Position (inches)"
         }
        }
       }
      }
     },
     "metadata": {},
     "output_type": "display_data"
    }
   ],
   "source": [
    "plot_strike_zone_interactive(called_strikes)"
   ]
  },
  {
   "cell_type": "code",
   "execution_count": null,
   "id": "4bbedb13",
   "metadata": {},
   "outputs": [],
   "source": []
  }
 ],
 "metadata": {
  "kernelspec": {
   "display_name": "Python 3",
   "language": "python",
   "name": "python3"
  },
  "language_info": {
   "codemirror_mode": {
    "name": "ipython",
    "version": 3
   },
   "file_extension": ".py",
   "mimetype": "text/x-python",
   "name": "python",
   "nbconvert_exporter": "python",
   "pygments_lexer": "ipython3",
   "version": "3.13.5"
  }
 },
 "nbformat": 4,
 "nbformat_minor": 5
}
